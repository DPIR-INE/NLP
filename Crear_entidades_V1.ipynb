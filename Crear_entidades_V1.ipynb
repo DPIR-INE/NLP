{
 "cells": [
  {
   "cell_type": "code",
   "execution_count": 1,
   "metadata": {},
   "outputs": [],
   "source": [
    "#pip install spacy"
   ]
  },
  {
   "cell_type": "code",
   "execution_count": 2,
   "metadata": {},
   "outputs": [
    {
     "data": {
      "text/html": [
       "<div>\n",
       "<style scoped>\n",
       "    .dataframe tbody tr th:only-of-type {\n",
       "        vertical-align: middle;\n",
       "    }\n",
       "\n",
       "    .dataframe tbody tr th {\n",
       "        vertical-align: top;\n",
       "    }\n",
       "\n",
       "    .dataframe thead th {\n",
       "        text-align: right;\n",
       "    }\n",
       "</style>\n",
       "<table border=\"1\" class=\"dataframe\">\n",
       "  <thead>\n",
       "    <tr style=\"text-align: right;\">\n",
       "      <th></th>\n",
       "      <th>Responsable</th>\n",
       "      <th>Renglón</th>\n",
       "      <th>Cód-INE</th>\n",
       "      <th>NOMBRE</th>\n",
       "      <th>CARACTERÍSTICAS SOLICITADAS</th>\n",
       "      <th>Presentación</th>\n",
       "      <th>CANTIDAD ESTIMADA 24 MESES MSPAS</th>\n",
       "      <th>VIA DE ADMINISTRACIÓN</th>\n",
       "      <th>UNIDAD DE MEDIDA</th>\n",
       "      <th>RENGLÓN</th>\n",
       "      <th>AREA</th>\n",
       "      <th>CORRELATIVO</th>\n",
       "      <th>RUBRO</th>\n",
       "      <th>REQUIERE REGISTRA SANITARIO</th>\n",
       "      <th>Observaciones</th>\n",
       "    </tr>\n",
       "  </thead>\n",
       "  <tbody>\n",
       "    <tr>\n",
       "      <th>0</th>\n",
       "      <td>dANY</td>\n",
       "      <td>1</td>\n",
       "      <td>475-016</td>\n",
       "      <td>Sevoflurano 100%</td>\n",
       "      <td>100%. Solución para inhalación. Frasco 250 ml....</td>\n",
       "      <td>Frasco</td>\n",
       "      <td>13400</td>\n",
       "      <td>INHALATORIA</td>\n",
       "      <td>Unidad</td>\n",
       "      <td>266</td>\n",
       "      <td>4</td>\n",
       "      <td>41</td>\n",
       "      <td>ANESTESICOS GENERALES Y/O INDUCTORES</td>\n",
       "      <td>SI</td>\n",
       "      <td>NaN</td>\n",
       "    </tr>\n",
       "    <tr>\n",
       "      <th>1</th>\n",
       "      <td>dANY</td>\n",
       "      <td>2</td>\n",
       "      <td>476-028</td>\n",
       "      <td>Isoflurano 100%</td>\n",
       "      <td>100%. Solución para inhalación. Frasco 100-250...</td>\n",
       "      <td>Frasco</td>\n",
       "      <td>700000</td>\n",
       "      <td>INHALATORIA</td>\n",
       "      <td>Mililitro</td>\n",
       "      <td>266</td>\n",
       "      <td>4</td>\n",
       "      <td>81</td>\n",
       "      <td>ANESTESICOS GENERALES Y/O INDUCTORES</td>\n",
       "      <td>SI</td>\n",
       "      <td>NaN</td>\n",
       "    </tr>\n",
       "    <tr>\n",
       "      <th>2</th>\n",
       "      <td>dANY</td>\n",
       "      <td>3</td>\n",
       "      <td>477-016</td>\n",
       "      <td>Desflurano 100%</td>\n",
       "      <td>100%. Solución para inhalación. Frasco 240 ml....</td>\n",
       "      <td>Frasco</td>\n",
       "      <td>1100</td>\n",
       "      <td>INHALATORIA</td>\n",
       "      <td>Unidad</td>\n",
       "      <td>266</td>\n",
       "      <td>4</td>\n",
       "      <td>221</td>\n",
       "      <td>ANESTESICOS GENERALES Y/O INDUCTORES</td>\n",
       "      <td>SI</td>\n",
       "      <td>NaN</td>\n",
       "    </tr>\n",
       "  </tbody>\n",
       "</table>\n",
       "</div>"
      ],
      "text/plain": [
       "  Responsable  Renglón  Cód-INE            NOMBRE  \\\n",
       "0        dANY        1  475-016  Sevoflurano 100%   \n",
       "1        dANY        2  476-028   Isoflurano 100%   \n",
       "2        dANY        3  477-016   Desflurano 100%   \n",
       "\n",
       "                         CARACTERÍSTICAS SOLICITADAS Presentación  \\\n",
       "0  100%. Solución para inhalación. Frasco 250 ml....       Frasco   \n",
       "1  100%. Solución para inhalación. Frasco 100-250...       Frasco   \n",
       "2  100%. Solución para inhalación. Frasco 240 ml....       Frasco   \n",
       "\n",
       "  CANTIDAD ESTIMADA 24 MESES MSPAS VIA DE ADMINISTRACIÓN UNIDAD DE MEDIDA  \\\n",
       "0                            13400           INHALATORIA           Unidad   \n",
       "1                           700000           INHALATORIA        Mililitro   \n",
       "2                             1100           INHALATORIA           Unidad   \n",
       "\n",
       "   RENGLÓN  AREA  CORRELATIVO                                 RUBRO  \\\n",
       "0      266     4           41  ANESTESICOS GENERALES Y/O INDUCTORES   \n",
       "1      266     4           81  ANESTESICOS GENERALES Y/O INDUCTORES   \n",
       "2      266     4          221  ANESTESICOS GENERALES Y/O INDUCTORES   \n",
       "\n",
       "  REQUIERE REGISTRA SANITARIO Observaciones  \n",
       "0                          SI           NaN  \n",
       "1                          SI           NaN  \n",
       "2                          SI           NaN  "
      ]
     },
     "execution_count": 2,
     "metadata": {},
     "output_type": "execute_result"
    }
   ],
   "source": [
    "import numpy as np\n",
    "import pandas as pd\n",
    "import spacy\n",
    "from spacy.tokens import Doc, Span\n",
    "\n",
    "archivo = pd.read_excel(\"listado de especificaciones para proyecto.xlsx\", sheet_name= \"Especificaciones sin código ine\")\n",
    "medicamentos = archivo\n",
    "medicamentos.head(3)\n"
   ]
  },
  {
   "cell_type": "code",
   "execution_count": 3,
   "metadata": {},
   "outputs": [],
   "source": [
    "lista_medicamentos = medicamentos[\"CARACTERÍSTICAS SOLICITADAS\"].tolist()"
   ]
  },
  {
   "cell_type": "code",
   "execution_count": 4,
   "metadata": {},
   "outputs": [],
   "source": [
    "nombre_medicamentos = medicamentos[\"NOMBRE\"].tolist()"
   ]
  },
  {
   "cell_type": "code",
   "execution_count": 5,
   "metadata": {},
   "outputs": [
    {
     "name": "stdout",
     "output_type": "stream",
     "text": [
      "<class 'list'>\n"
     ]
    }
   ],
   "source": [
    "print(type(nombre_medicamentos))"
   ]
  },
  {
   "cell_type": "code",
   "execution_count": 6,
   "metadata": {},
   "outputs": [],
   "source": [
    "import re\n",
    "\n",
    "def clean_medicamento(nombre):\n",
    "    nombre_limpio = re.sub(r'\\d+', '', nombre)  # Elimina números\n",
    "    nombre_limpio = re.sub(r'\\s+', ' ', nombre_limpio)  # Elimina espacios en exceso\n",
    "    nombre_limpio = re.sub(r'%|/|mg|ml|mL|\\:|\\(|\\)|\\.|,|\\.\\s|,\\s|\\s\\+|\\s*,|\\s+mI', '', nombre_limpio, flags=re.IGNORECASE)# Elimina %, /, mg y ml\n",
    "\n",
    "    return nombre_limpio.strip().lower()"
   ]
  },
  {
   "cell_type": "code",
   "execution_count": 7,
   "metadata": {},
   "outputs": [],
   "source": [
    "medicamentos_limpio = [clean_medicamento(med) for med in nombre_medicamentos]"
   ]
  },
  {
   "cell_type": "code",
   "execution_count": 8,
   "metadata": {},
   "outputs": [],
   "source": [
    "#spacy.cli.download(\"es_core_news_lg\")"
   ]
  },
  {
   "cell_type": "code",
   "execution_count": 9,
   "metadata": {},
   "outputs": [],
   "source": [
    "nlp = spacy.load(\"es_core_news_lg\")"
   ]
  },
  {
   "cell_type": "code",
   "execution_count": 10,
   "metadata": {},
   "outputs": [],
   "source": [
    "#medicamento_patterns =  [{\"label\": \"MEDICAMENTO\", \"pattern\": [{\"lower\": {\"in\": medicamentos_limpio}}]}]\n",
    "medicamento_patterns = [{\"label\": \"MEDICAMENTO\", \"pattern\": [{\"lower\": {\"in\": [med.lower() for med in medicamentos_limpio]}}]}]"
   ]
  },
  {
   "cell_type": "code",
   "execution_count": 11,
   "metadata": {},
   "outputs": [],
   "source": [
    "ruler = nlp.add_pipe(\"entity_ruler\")"
   ]
  },
  {
   "cell_type": "code",
   "execution_count": 12,
   "metadata": {},
   "outputs": [],
   "source": [
    "#ruler = nlp.get_pipe(\"entity_ruler\")\n",
    "ruler.add_patterns(medicamento_patterns)"
   ]
  },
  {
   "cell_type": "code",
   "execution_count": 13,
   "metadata": {},
   "outputs": [],
   "source": [
    "texto = \" \".join(medicamentos_limpio)"
   ]
  },
  {
   "cell_type": "code",
   "execution_count": 14,
   "metadata": {},
   "outputs": [],
   "source": [
    "doc = nlp(texto)"
   ]
  },
  {
   "cell_type": "code",
   "execution_count": 15,
   "metadata": {},
   "outputs": [
    {
     "name": "stdout",
     "output_type": "stream",
     "text": [
      "<class 'list'>\n",
      "1\n",
      "***********\n",
      "<class 'list'>\n",
      "94\n"
     ]
    }
   ],
   "source": [
    "print(type(medicamento_patterns))\n",
    "print(len(medicamento_patterns))\n",
    "print(\"***********\")\n",
    "print(type(medicamentos_limpio))\n",
    "print(len(medicamentos_limpio))"
   ]
  },
  {
   "cell_type": "code",
   "execution_count": 18,
   "metadata": {},
   "outputs": [
    {
     "data": {
      "text/plain": [
       "sevoflurano isoflurano desflurano ketamina propofol propofol bupivacaina clorhidrato sin epinefrina sin preservantes bupivacaina pesada hiperbárica lidocaina clorhidrato con epinefrina sin preservante  y   y lidocaina clorhidrato sin epinefrina con preservante simple lidocaina dental sin epinefrina lidocaina dental con epinefrina  y lidocaina clorhidrato sin epinefrina sin preservante simple carbamazepina carbamazepina fenitoina sódica difenilhidantoína sódica fenitoina sódica difenilhidantoína sódica ácido valproico ácido valproico valproato sódico mi ácido valproico valproato sódico fenobarbital fenobarbital gabapentina lamotrigina carbonato de litio sertralina hidrocloruro naloxona flumazenil deferasirox biperideno clorhidrato agua estéril para inyección agua tridestilada agua estéril para inyección agua tridestilada cloruro de sodio cloruro de sodio cloruro de sodio aminoácidos sin electrolitos pediátricos aminoácidos para paciente hepático aminoácidos con electrolitos aminoácidos sin electrolitos sin ácido glutámico para paciente pediátrico neonato magnesio sulfato calcio gluconato dextrosa dextrosa dextrosa dextrosa dextrosa dextrosa dextrosa dextrosa lípidos lipidos mctictomega aceite de oliva para paciente adulto niño y prematuro de bajo peso al nacer oligoelementos cloruro de potasio - bicarbonato de sodio cloruro de sodio cloruro de sodio cloruro de sodio solución no dextrosa cloruro de sodio solución no dextrosa cloruro de sodio solución no dextrosa cloruro de sodio solución no dextrosa cloruro de sodio poligelina con electrolitos gelatina calcio cloro potasio y sodio emulsión inyectable para infusión o perfusión bolsa con compartimientos glucosa lipidos aminoácidos de a emulsión inyectable para infusión o perfusión bolsa con compartimientos glucosa lipidos aminoácidos de a cloruro de sodio cloruro de sodio dextrosa soluciónxta cloruro de sodio dextrosa soluciónxta gelatina succinilada  con electrolitos hidroxietil almidón magnesio sulfato sales de rehidratación oral cloruro de sodio citrato trisódico cloruro de potasio glucosa anhidra eritropoyetina humana recombinante ui cadena de frio eritropoyetina humana recombinante ui  sin cadena de frio bromhexina carboximetilcisteina guayacolato de glicerilo ambroxol ergonovina maleato oxitocina sintética ui carbetocina mcgmi clorpromazina haloperidol haloperidol clozapina risperidona olanzapina quetiapina alprazolam clonazepam diazepam lorazepam mi surfactante pulmonar natural surfactante pulmonar natural ritodrina"
      ]
     },
     "execution_count": 18,
     "metadata": {},
     "output_type": "execute_result"
    }
   ],
   "source": [
    "doc"
   ]
  },
  {
   "cell_type": "code",
   "execution_count": 19,
   "metadata": {},
   "outputs": [],
   "source": [
    "indice = 1"
   ]
  },
  {
   "cell_type": "code",
   "execution_count": 20,
   "metadata": {},
   "outputs": [
    {
     "name": "stdout",
     "output_type": "stream",
     "text": [
      "ID: 1 - Texto: sevoflurano isoflurano desflurano ---> Etiqueta: PER\n",
      "ID: 2 - Texto: ketamina ---> Etiqueta: MEDICAMENTO\n",
      "ID: 3 - Texto: propofol ---> Etiqueta: MEDICAMENTO\n",
      "ID: 4 - Texto: propofol ---> Etiqueta: MEDICAMENTO\n",
      "ID: 5 - Texto: carbamazepina ---> Etiqueta: MEDICAMENTO\n",
      "ID: 6 - Texto: carbamazepina ---> Etiqueta: MEDICAMENTO\n",
      "ID: 7 - Texto: fenobarbital ---> Etiqueta: MEDICAMENTO\n",
      "ID: 8 - Texto: fenobarbital ---> Etiqueta: MEDICAMENTO\n",
      "ID: 9 - Texto: gabapentina ---> Etiqueta: MEDICAMENTO\n",
      "ID: 10 - Texto: lamotrigina ---> Etiqueta: MEDICAMENTO\n",
      "ID: 11 - Texto: naloxona ---> Etiqueta: MEDICAMENTO\n",
      "ID: 12 - Texto: flumazenil ---> Etiqueta: MEDICAMENTO\n",
      "ID: 13 - Texto: deferasirox biperideno ---> Etiqueta: PER\n",
      "ID: 14 - Texto: dextrosa ---> Etiqueta: MEDICAMENTO\n",
      "ID: 15 - Texto: dextrosa ---> Etiqueta: MEDICAMENTO\n",
      "ID: 16 - Texto: dextrosa ---> Etiqueta: MEDICAMENTO\n",
      "ID: 17 - Texto: dextrosa ---> Etiqueta: MEDICAMENTO\n",
      "ID: 18 - Texto: dextrosa ---> Etiqueta: MEDICAMENTO\n",
      "ID: 19 - Texto: dextrosa ---> Etiqueta: MEDICAMENTO\n",
      "ID: 20 - Texto: dextrosa ---> Etiqueta: MEDICAMENTO\n",
      "ID: 21 - Texto: dextrosa ---> Etiqueta: MEDICAMENTO\n",
      "ID: 22 - Texto: lípidos ---> Etiqueta: MEDICAMENTO\n",
      "ID: 23 - Texto: oligoelementos ---> Etiqueta: MEDICAMENTO\n",
      "ID: 24 - Texto: dextrosa ---> Etiqueta: MEDICAMENTO\n",
      "ID: 25 - Texto: dextrosa ---> Etiqueta: MEDICAMENTO\n",
      "ID: 26 - Texto: dextrosa ---> Etiqueta: MEDICAMENTO\n",
      "ID: 27 - Texto: dextrosa ---> Etiqueta: MEDICAMENTO\n",
      "ID: 28 - Texto: dextrosa ---> Etiqueta: MEDICAMENTO\n",
      "ID: 29 - Texto: dextrosa ---> Etiqueta: MEDICAMENTO\n",
      "ID: 30 - Texto: bromhexina ---> Etiqueta: MEDICAMENTO\n",
      "ID: 31 - Texto: carboximetilcisteina ---> Etiqueta: MEDICAMENTO\n",
      "ID: 32 - Texto: glicerilo ambroxol ---> Etiqueta: PER\n",
      "ID: 33 - Texto: mcgmi ---> Etiqueta: PER\n",
      "ID: 34 - Texto: clorpromazina ---> Etiqueta: MEDICAMENTO\n",
      "ID: 35 - Texto: haloperidol ---> Etiqueta: MEDICAMENTO\n",
      "ID: 36 - Texto: haloperidol ---> Etiqueta: MEDICAMENTO\n",
      "ID: 37 - Texto: clozapina ---> Etiqueta: MEDICAMENTO\n",
      "ID: 38 - Texto: risperidona ---> Etiqueta: MEDICAMENTO\n",
      "ID: 39 - Texto: olanzapina ---> Etiqueta: MEDICAMENTO\n",
      "ID: 40 - Texto: quetiapina ---> Etiqueta: MEDICAMENTO\n",
      "ID: 41 - Texto: alprazolam ---> Etiqueta: MEDICAMENTO\n",
      "ID: 42 - Texto: clonazepam ---> Etiqueta: MEDICAMENTO\n",
      "ID: 43 - Texto: diazepam ---> Etiqueta: MEDICAMENTO\n",
      "ID: 44 - Texto: ritodrina ---> Etiqueta: MEDICAMENTO\n"
     ]
    }
   ],
   "source": [
    "for ent in doc.ents:\n",
    "    print(f\"ID: {indice} - Texto: {ent.text} ---> Etiqueta: {ent.label_}\")\n",
    "    indice += 1"
   ]
  },
  {
   "cell_type": "code",
   "execution_count": 21,
   "metadata": {},
   "outputs": [],
   "source": [
    "#for ent in doc.ents:\n",
    "#    print(ent.text ,\"--->\", ent.label_)"
   ]
  },
  {
   "cell_type": "code",
   "execution_count": 17,
   "metadata": {},
   "outputs": [
    {
     "data": {
      "text/plain": [
       "317"
      ]
     },
     "execution_count": 17,
     "metadata": {},
     "output_type": "execute_result"
    }
   ],
   "source": [
    "len(doc)"
   ]
  }
 ],
 "metadata": {
  "kernelspec": {
   "display_name": "Python 3",
   "language": "python",
   "name": "python3"
  },
  "language_info": {
   "codemirror_mode": {
    "name": "ipython",
    "version": 3
   },
   "file_extension": ".py",
   "mimetype": "text/x-python",
   "name": "python",
   "nbconvert_exporter": "python",
   "pygments_lexer": "ipython3",
   "version": "3.10.6"
  },
  "orig_nbformat": 4
 },
 "nbformat": 4,
 "nbformat_minor": 2
}
