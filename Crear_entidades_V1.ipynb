{
 "cells": [
  {
   "cell_type": "code",
   "execution_count": null,
   "metadata": {},
   "outputs": [],
   "source": [
    "#pip install spacy"
   ]
  },
  {
   "cell_type": "code",
   "execution_count": 95,
   "metadata": {},
   "outputs": [
    {
     "data": {
      "text/html": [
       "<div>\n",
       "<style scoped>\n",
       "    .dataframe tbody tr th:only-of-type {\n",
       "        vertical-align: middle;\n",
       "    }\n",
       "\n",
       "    .dataframe tbody tr th {\n",
       "        vertical-align: top;\n",
       "    }\n",
       "\n",
       "    .dataframe thead th {\n",
       "        text-align: right;\n",
       "    }\n",
       "</style>\n",
       "<table border=\"1\" class=\"dataframe\">\n",
       "  <thead>\n",
       "    <tr style=\"text-align: right;\">\n",
       "      <th></th>\n",
       "      <th>Responsable</th>\n",
       "      <th>Renglón</th>\n",
       "      <th>Cód-INE</th>\n",
       "      <th>NOMBRE</th>\n",
       "      <th>CARACTERÍSTICAS SOLICITADAS</th>\n",
       "      <th>Presentación</th>\n",
       "      <th>CANTIDAD ESTIMADA 24 MESES MSPAS</th>\n",
       "      <th>VIA DE ADMINISTRACIÓN</th>\n",
       "      <th>UNIDAD DE MEDIDA</th>\n",
       "      <th>RENGLÓN</th>\n",
       "      <th>AREA</th>\n",
       "      <th>CORRELATIVO</th>\n",
       "      <th>RUBRO</th>\n",
       "      <th>REQUIERE REGISTRA SANITARIO</th>\n",
       "      <th>Observaciones</th>\n",
       "    </tr>\n",
       "  </thead>\n",
       "  <tbody>\n",
       "    <tr>\n",
       "      <th>0</th>\n",
       "      <td>dANY</td>\n",
       "      <td>1</td>\n",
       "      <td>475-016</td>\n",
       "      <td>Sevoflurano 100%</td>\n",
       "      <td>100%. Solución para inhalación. Frasco 250 ml....</td>\n",
       "      <td>Frasco</td>\n",
       "      <td>13400</td>\n",
       "      <td>INHALATORIA</td>\n",
       "      <td>Unidad</td>\n",
       "      <td>266</td>\n",
       "      <td>4</td>\n",
       "      <td>41</td>\n",
       "      <td>ANESTESICOS GENERALES Y/O INDUCTORES</td>\n",
       "      <td>SI</td>\n",
       "      <td>NaN</td>\n",
       "    </tr>\n",
       "    <tr>\n",
       "      <th>1</th>\n",
       "      <td>dANY</td>\n",
       "      <td>2</td>\n",
       "      <td>476-028</td>\n",
       "      <td>Isoflurano 100%</td>\n",
       "      <td>100%. Solución para inhalación. Frasco 100-250...</td>\n",
       "      <td>Frasco</td>\n",
       "      <td>700000</td>\n",
       "      <td>INHALATORIA</td>\n",
       "      <td>Mililitro</td>\n",
       "      <td>266</td>\n",
       "      <td>4</td>\n",
       "      <td>81</td>\n",
       "      <td>ANESTESICOS GENERALES Y/O INDUCTORES</td>\n",
       "      <td>SI</td>\n",
       "      <td>NaN</td>\n",
       "    </tr>\n",
       "    <tr>\n",
       "      <th>2</th>\n",
       "      <td>dANY</td>\n",
       "      <td>3</td>\n",
       "      <td>477-016</td>\n",
       "      <td>Desflurano 100%</td>\n",
       "      <td>100%. Solución para inhalación. Frasco 240 ml....</td>\n",
       "      <td>Frasco</td>\n",
       "      <td>1100</td>\n",
       "      <td>INHALATORIA</td>\n",
       "      <td>Unidad</td>\n",
       "      <td>266</td>\n",
       "      <td>4</td>\n",
       "      <td>221</td>\n",
       "      <td>ANESTESICOS GENERALES Y/O INDUCTORES</td>\n",
       "      <td>SI</td>\n",
       "      <td>NaN</td>\n",
       "    </tr>\n",
       "  </tbody>\n",
       "</table>\n",
       "</div>"
      ],
      "text/plain": [
       "  Responsable  Renglón  Cód-INE            NOMBRE  \\\n",
       "0        dANY        1  475-016  Sevoflurano 100%   \n",
       "1        dANY        2  476-028   Isoflurano 100%   \n",
       "2        dANY        3  477-016   Desflurano 100%   \n",
       "\n",
       "                         CARACTERÍSTICAS SOLICITADAS Presentación  \\\n",
       "0  100%. Solución para inhalación. Frasco 250 ml....       Frasco   \n",
       "1  100%. Solución para inhalación. Frasco 100-250...       Frasco   \n",
       "2  100%. Solución para inhalación. Frasco 240 ml....       Frasco   \n",
       "\n",
       "  CANTIDAD ESTIMADA 24 MESES MSPAS VIA DE ADMINISTRACIÓN UNIDAD DE MEDIDA  \\\n",
       "0                            13400           INHALATORIA           Unidad   \n",
       "1                           700000           INHALATORIA        Mililitro   \n",
       "2                             1100           INHALATORIA           Unidad   \n",
       "\n",
       "   RENGLÓN  AREA  CORRELATIVO                                 RUBRO  \\\n",
       "0      266     4           41  ANESTESICOS GENERALES Y/O INDUCTORES   \n",
       "1      266     4           81  ANESTESICOS GENERALES Y/O INDUCTORES   \n",
       "2      266     4          221  ANESTESICOS GENERALES Y/O INDUCTORES   \n",
       "\n",
       "  REQUIERE REGISTRA SANITARIO Observaciones  \n",
       "0                          SI           NaN  \n",
       "1                          SI           NaN  \n",
       "2                          SI           NaN  "
      ]
     },
     "execution_count": 95,
     "metadata": {},
     "output_type": "execute_result"
    }
   ],
   "source": [
    "import numpy as np\n",
    "import pandas as pd\n",
    "import spacy\n",
    "from spacy.tokens import Doc, Span\n",
    "\n",
    "archivo = pd.read_excel(\"listado de especificaciones para proyecto.xlsx\", sheet_name= \"Especificaciones sin código ine\")\n",
    "medicamentos = archivo\n",
    "medicamentos.head(3)\n"
   ]
  },
  {
   "cell_type": "code",
   "execution_count": 96,
   "metadata": {},
   "outputs": [],
   "source": [
    "lista_medicamentos = medicamentos[\"CARACTERÍSTICAS SOLICITADAS\"].tolist()"
   ]
  },
  {
   "cell_type": "code",
   "execution_count": 97,
   "metadata": {},
   "outputs": [],
   "source": [
    "nombre_medicamentos = medicamentos[\"NOMBRE\"].tolist()"
   ]
  },
  {
   "cell_type": "code",
   "execution_count": 98,
   "metadata": {},
   "outputs": [
    {
     "name": "stdout",
     "output_type": "stream",
     "text": [
      "<class 'list'>\n"
     ]
    }
   ],
   "source": [
    "print(type(nombre_medicamentos))"
   ]
  },
  {
   "cell_type": "code",
   "execution_count": 59,
   "metadata": {},
   "outputs": [],
   "source": [
    "#pip install unidecode"
   ]
  },
  {
   "cell_type": "code",
   "execution_count": 99,
   "metadata": {},
   "outputs": [],
   "source": [
    "import re\n",
    "from unidecode import unidecode  # Importa la función unidecode\n",
    "\n",
    "def clean_medicamento(nombre):\n",
    "    nombre = unidecode(nombre)  # Elimina las tildes\n",
    "    nombre_limpio = re.sub(r'\\d+', '', nombre)  # Elimina números\n",
    "    nombre_limpio = re.sub(r'\\s+', ' ', nombre_limpio)  # Elimina espacios en exceso\n",
    "    nombre_limpio = re.sub(r'%|/|mg|ml|mL|\\:|\\(|\\)|\\.|,|\\.\\s|,\\s|\\s\\+|\\s*,|\\s+mI', '', nombre_limpio, flags=re.IGNORECASE)# Elimina %, /, mg y ml\n",
    "    #nombre_limpio = re.sub(r'_+$', '', nombre_limpio)\n",
    "\n",
    "    return nombre_limpio.strip().lower()"
   ]
  },
  {
   "cell_type": "code",
   "execution_count": 100,
   "metadata": {},
   "outputs": [],
   "source": [
    "medicamentos_limpio = [clean_medicamento(med) for med in nombre_medicamentos]"
   ]
  },
  {
   "cell_type": "code",
   "execution_count": 101,
   "metadata": {},
   "outputs": [
    {
     "data": {
      "text/plain": [
       "['sevoflurano',\n",
       " 'isoflurano',\n",
       " 'desflurano',\n",
       " 'ketamina',\n",
       " 'propofol',\n",
       " 'propofol',\n",
       " 'bupivacaina clorhidrato sin epinefrina sin preservantes',\n",
       " 'bupivacaina pesada hiperbarica',\n",
       " 'lidocaina clorhidrato con epinefrina sin preservante  y   y',\n",
       " 'lidocaina clorhidrato sin epinefrina con preservante simple',\n",
       " 'lidocaina dental sin epinefrina',\n",
       " 'lidocaina dental con epinefrina  y',\n",
       " 'lidocaina clorhidrato sin epinefrina sin preservante simple',\n",
       " 'carbamazepina',\n",
       " 'carbamazepina',\n",
       " 'fenitoina sodica difenilhidantoina sodica',\n",
       " 'fenitoina sodica difenilhidantoina sodica',\n",
       " 'acido valproico',\n",
       " 'acido valproico valproato sodico mi',\n",
       " 'acido valproico valproato sodico',\n",
       " 'fenobarbital',\n",
       " 'fenobarbital',\n",
       " 'gabapentina',\n",
       " 'lamotrigina',\n",
       " 'carbonato de litio',\n",
       " 'sertralina hidrocloruro',\n",
       " 'naloxona',\n",
       " 'flumazenil',\n",
       " 'deferasirox',\n",
       " 'biperideno clorhidrato',\n",
       " 'agua esteril para inyeccion agua tridestilada',\n",
       " 'agua esteril para inyeccion agua tridestilada',\n",
       " 'cloruro de sodio',\n",
       " 'cloruro de sodio',\n",
       " 'cloruro de sodio',\n",
       " 'aminoacidos sin electrolitos pediatricos',\n",
       " 'aminoacidos para paciente hepatico',\n",
       " 'aminoacidos con electrolitos',\n",
       " 'aminoacidos sin electrolitos sin acido glutamico para paciente pediatrico neonato',\n",
       " 'magnesio sulfato',\n",
       " 'calcio gluconato',\n",
       " 'dextrosa',\n",
       " 'dextrosa',\n",
       " 'dextrosa',\n",
       " 'dextrosa',\n",
       " 'dextrosa',\n",
       " 'dextrosa',\n",
       " 'dextrosa',\n",
       " 'dextrosa',\n",
       " 'lipidos',\n",
       " 'lipidos mctictomega aceite de oliva para paciente adulto nino y prematuro de bajo peso al nacer',\n",
       " 'oligoelementos',\n",
       " 'cloruro de potasio -',\n",
       " 'bicarbonato de sodio',\n",
       " 'cloruro de sodio',\n",
       " 'cloruro de sodio',\n",
       " 'cloruro de sodio',\n",
       " 'solucion no dextrosa cloruro de sodio',\n",
       " 'solucion no dextrosa cloruro de sodio',\n",
       " 'solucion no dextrosa cloruro de sodio',\n",
       " 'solucion no dextrosa cloruro de sodio',\n",
       " 'poligelina con electrolitos gelatina calcio cloro potasio y sodio',\n",
       " 'emulsion inyectable para infusion o perfusion bolsa con compartimientos glucosa lipidos aminoacidos de a',\n",
       " 'emulsion inyectable para infusion o perfusion bolsa con compartimientos glucosa lipidos aminoacidos de a',\n",
       " 'cloruro de sodio',\n",
       " 'cloruro de sodio dextrosa solucionxta',\n",
       " 'cloruro de sodio dextrosa solucionxta',\n",
       " 'gelatina succinilada  con electrolitos',\n",
       " 'hidroxietil almidon',\n",
       " 'magnesio sulfato',\n",
       " 'sales de rehidratacion oral cloruro de sodio citrato trisodico cloruro de potasio glucosa anhidra',\n",
       " 'eritropoyetina humana recombinante ui cadena de frio',\n",
       " 'eritropoyetina humana recombinante ui  sin cadena de frio',\n",
       " 'bromhexina',\n",
       " 'carboximetilcisteina',\n",
       " 'guayacolato de glicerilo',\n",
       " 'ambroxol',\n",
       " 'ergonovina maleato',\n",
       " 'oxitocina sintetica ui',\n",
       " 'carbetocina mcgmi',\n",
       " 'clorpromazina',\n",
       " 'haloperidol',\n",
       " 'haloperidol',\n",
       " 'clozapina',\n",
       " 'risperidona',\n",
       " 'olanzapina',\n",
       " 'quetiapina',\n",
       " 'alprazolam',\n",
       " 'clonazepam',\n",
       " 'diazepam',\n",
       " 'lorazepam mi',\n",
       " 'surfactante pulmonar natural',\n",
       " 'surfactante pulmonar natural',\n",
       " 'ritodrina']"
      ]
     },
     "execution_count": 101,
     "metadata": {},
     "output_type": "execute_result"
    }
   ],
   "source": [
    "medicamentos_limpio"
   ]
  },
  {
   "cell_type": "code",
   "execution_count": 106,
   "metadata": {},
   "outputs": [
    {
     "name": "stdout",
     "output_type": "stream",
     "text": [
      "['sevoflurano', 'isoflurano', 'desflurano', 'ketamina', 'propofol', 'propofol', 'bupivacaina', 'bupivacaina', 'lidocaina', 'lidocaina', 'lidocaina', 'lidocaina', 'lidocaina', 'carbamazepina', 'carbamazepina', 'fenitoina', 'fenitoina', 'acido', 'acido', 'acido', 'fenobarbital', 'fenobarbital', 'gabapentina', 'lamotrigina', 'carbonato', 'sertralina', 'naloxona', 'flumazenil', 'deferasirox', 'biperideno', 'agua', 'agua', 'cloruro', 'cloruro', 'cloruro', 'aminoacidos', 'aminoacidos', 'aminoacidos', 'aminoacidos', 'magnesio', 'calcio', 'dextrosa', 'dextrosa', 'dextrosa', 'dextrosa', 'dextrosa', 'dextrosa', 'dextrosa', 'dextrosa', 'lipidos', 'lipidos', 'oligoelementos', 'cloruro', 'bicarbonato', 'cloruro', 'cloruro', 'cloruro', 'solucion', 'solucion', 'solucion', 'solucion', 'poligelina', 'emulsion', 'emulsion', 'cloruro', 'cloruro', 'cloruro', 'gelatina', 'hidroxietil', 'magnesio', 'sales', 'eritropoyetina', 'eritropoyetina', 'bromhexina', 'carboximetilcisteina', 'guayacolato', 'ambroxol', 'ergonovina', 'oxitocina', 'carbetocina', 'clorpromazina', 'haloperidol', 'haloperidol', 'clozapina', 'risperidona', 'olanzapina', 'quetiapina', 'alprazolam', 'clonazepam', 'diazepam', 'lorazepam', 'surfactante', 'surfactante', 'ritodrina']\n"
     ]
    }
   ],
   "source": [
    "# Lista para almacenar las primeras palabras\n",
    "medicamento_principal = []\n",
    "\n",
    "# Itera a través de los medicamentos en la lista\n",
    "for medicamento in medicamentos_limpio:\n",
    "    med_principal = re.match(r'\\w+', medicamento).group()\n",
    "    medicamento_principal.append(med_principal)\n",
    "print(medicamento_principal)"
   ]
  },
  {
   "cell_type": "code",
   "execution_count": 115,
   "metadata": {},
   "outputs": [
    {
     "data": {
      "text/plain": [
       "94"
      ]
     },
     "execution_count": 115,
     "metadata": {},
     "output_type": "execute_result"
    }
   ],
   "source": [
    "len(medicamento_principal)"
   ]
  },
  {
   "cell_type": "code",
   "execution_count": null,
   "metadata": {},
   "outputs": [],
   "source": [
    "#spacy.cli.download(\"es_core_news_lg\")"
   ]
  },
  {
   "cell_type": "code",
   "execution_count": 112,
   "metadata": {},
   "outputs": [],
   "source": [
    "nlp = spacy.load(\"es_core_news_lg\")"
   ]
  },
  {
   "cell_type": "code",
   "execution_count": 116,
   "metadata": {},
   "outputs": [],
   "source": [
    "#medicamento_patterns =  [{\"label\": \"MEDICAMENTO\", \"pattern\": [{\"lower\": {\"in\": medicamentos_limpio}}]}]\n",
    "medicamento_patterns = [{\"label\": \"MEDICAMENTO\", \"pattern\": [{\"lower\": {\"in\": [med.lower() for med in medicamento_principal]}}]}]"
   ]
  },
  {
   "cell_type": "code",
   "execution_count": 117,
   "metadata": {},
   "outputs": [
    {
     "data": {
      "text/plain": [
       "[{'label': 'MEDICAMENTO',\n",
       "  'pattern': [{'lower': {'in': ['sevoflurano',\n",
       "      'isoflurano',\n",
       "      'desflurano',\n",
       "      'ketamina',\n",
       "      'propofol',\n",
       "      'propofol',\n",
       "      'bupivacaina',\n",
       "      'bupivacaina',\n",
       "      'lidocaina',\n",
       "      'lidocaina',\n",
       "      'lidocaina',\n",
       "      'lidocaina',\n",
       "      'lidocaina',\n",
       "      'carbamazepina',\n",
       "      'carbamazepina',\n",
       "      'fenitoina',\n",
       "      'fenitoina',\n",
       "      'acido',\n",
       "      'acido',\n",
       "      'acido',\n",
       "      'fenobarbital',\n",
       "      'fenobarbital',\n",
       "      'gabapentina',\n",
       "      'lamotrigina',\n",
       "      'carbonato',\n",
       "      'sertralina',\n",
       "      'naloxona',\n",
       "      'flumazenil',\n",
       "      'deferasirox',\n",
       "      'biperideno',\n",
       "      'agua',\n",
       "      'agua',\n",
       "      'cloruro',\n",
       "      'cloruro',\n",
       "      'cloruro',\n",
       "      'aminoacidos',\n",
       "      'aminoacidos',\n",
       "      'aminoacidos',\n",
       "      'aminoacidos',\n",
       "      'magnesio',\n",
       "      'calcio',\n",
       "      'dextrosa',\n",
       "      'dextrosa',\n",
       "      'dextrosa',\n",
       "      'dextrosa',\n",
       "      'dextrosa',\n",
       "      'dextrosa',\n",
       "      'dextrosa',\n",
       "      'dextrosa',\n",
       "      'lipidos',\n",
       "      'lipidos',\n",
       "      'oligoelementos',\n",
       "      'cloruro',\n",
       "      'bicarbonato',\n",
       "      'cloruro',\n",
       "      'cloruro',\n",
       "      'cloruro',\n",
       "      'solucion',\n",
       "      'solucion',\n",
       "      'solucion',\n",
       "      'solucion',\n",
       "      'poligelina',\n",
       "      'emulsion',\n",
       "      'emulsion',\n",
       "      'cloruro',\n",
       "      'cloruro',\n",
       "      'cloruro',\n",
       "      'gelatina',\n",
       "      'hidroxietil',\n",
       "      'magnesio',\n",
       "      'sales',\n",
       "      'eritropoyetina',\n",
       "      'eritropoyetina',\n",
       "      'bromhexina',\n",
       "      'carboximetilcisteina',\n",
       "      'guayacolato',\n",
       "      'ambroxol',\n",
       "      'ergonovina',\n",
       "      'oxitocina',\n",
       "      'carbetocina',\n",
       "      'clorpromazina',\n",
       "      'haloperidol',\n",
       "      'haloperidol',\n",
       "      'clozapina',\n",
       "      'risperidona',\n",
       "      'olanzapina',\n",
       "      'quetiapina',\n",
       "      'alprazolam',\n",
       "      'clonazepam',\n",
       "      'diazepam',\n",
       "      'lorazepam',\n",
       "      'surfactante',\n",
       "      'surfactante',\n",
       "      'ritodrina']}}]}]"
      ]
     },
     "execution_count": 117,
     "metadata": {},
     "output_type": "execute_result"
    }
   ],
   "source": [
    "medicamento_patterns"
   ]
  },
  {
   "cell_type": "code",
   "execution_count": 118,
   "metadata": {},
   "outputs": [],
   "source": [
    "ruler = nlp.add_pipe(\"entity_ruler\")"
   ]
  },
  {
   "cell_type": "code",
   "execution_count": 119,
   "metadata": {},
   "outputs": [],
   "source": [
    "#ruler = nlp.get_pipe(\"entity_ruler\")\n",
    "ruler.add_patterns(medicamento_patterns)"
   ]
  },
  {
   "cell_type": "code",
   "execution_count": 120,
   "metadata": {},
   "outputs": [],
   "source": [
    "texto = \" \".join(medicamentos_limpio)"
   ]
  },
  {
   "cell_type": "code",
   "execution_count": 121,
   "metadata": {},
   "outputs": [],
   "source": [
    "doc = nlp(texto)"
   ]
  },
  {
   "cell_type": "code",
   "execution_count": 122,
   "metadata": {},
   "outputs": [
    {
     "name": "stdout",
     "output_type": "stream",
     "text": [
      "<class 'list'>\n",
      "1\n",
      "***********\n",
      "<class 'list'>\n",
      "94\n"
     ]
    }
   ],
   "source": [
    "print(type(medicamento_patterns))\n",
    "print(len(medicamento_patterns))\n",
    "print(\"***********\")\n",
    "print(type(medicamentos_limpio))\n",
    "print(len(medicamentos_limpio))"
   ]
  },
  {
   "cell_type": "code",
   "execution_count": 123,
   "metadata": {},
   "outputs": [
    {
     "data": {
      "text/plain": [
       "sevoflurano isoflurano desflurano ketamina propofol propofol bupivacaina clorhidrato sin epinefrina sin preservantes bupivacaina pesada hiperbarica lidocaina clorhidrato con epinefrina sin preservante  y   y lidocaina clorhidrato sin epinefrina con preservante simple lidocaina dental sin epinefrina lidocaina dental con epinefrina  y lidocaina clorhidrato sin epinefrina sin preservante simple carbamazepina carbamazepina fenitoina sodica difenilhidantoina sodica fenitoina sodica difenilhidantoina sodica acido valproico acido valproico valproato sodico mi acido valproico valproato sodico fenobarbital fenobarbital gabapentina lamotrigina carbonato de litio sertralina hidrocloruro naloxona flumazenil deferasirox biperideno clorhidrato agua esteril para inyeccion agua tridestilada agua esteril para inyeccion agua tridestilada cloruro de sodio cloruro de sodio cloruro de sodio aminoacidos sin electrolitos pediatricos aminoacidos para paciente hepatico aminoacidos con electrolitos aminoacidos sin electrolitos sin acido glutamico para paciente pediatrico neonato magnesio sulfato calcio gluconato dextrosa dextrosa dextrosa dextrosa dextrosa dextrosa dextrosa dextrosa lipidos lipidos mctictomega aceite de oliva para paciente adulto nino y prematuro de bajo peso al nacer oligoelementos cloruro de potasio - bicarbonato de sodio cloruro de sodio cloruro de sodio cloruro de sodio solucion no dextrosa cloruro de sodio solucion no dextrosa cloruro de sodio solucion no dextrosa cloruro de sodio solucion no dextrosa cloruro de sodio poligelina con electrolitos gelatina calcio cloro potasio y sodio emulsion inyectable para infusion o perfusion bolsa con compartimientos glucosa lipidos aminoacidos de a emulsion inyectable para infusion o perfusion bolsa con compartimientos glucosa lipidos aminoacidos de a cloruro de sodio cloruro de sodio dextrosa solucionxta cloruro de sodio dextrosa solucionxta gelatina succinilada  con electrolitos hidroxietil almidon magnesio sulfato sales de rehidratacion oral cloruro de sodio citrato trisodico cloruro de potasio glucosa anhidra eritropoyetina humana recombinante ui cadena de frio eritropoyetina humana recombinante ui  sin cadena de frio bromhexina carboximetilcisteina guayacolato de glicerilo ambroxol ergonovina maleato oxitocina sintetica ui carbetocina mcgmi clorpromazina haloperidol haloperidol clozapina risperidona olanzapina quetiapina alprazolam clonazepam diazepam lorazepam mi surfactante pulmonar natural surfactante pulmonar natural ritodrina"
      ]
     },
     "execution_count": 123,
     "metadata": {},
     "output_type": "execute_result"
    }
   ],
   "source": [
    "doc"
   ]
  },
  {
   "cell_type": "code",
   "execution_count": 155,
   "metadata": {},
   "outputs": [
    {
     "name": "stdout",
     "output_type": "stream",
     "text": [
      "<class 'spacy.tokens.doc.Doc'>\n"
     ]
    }
   ],
   "source": [
    "print(type(doc))"
   ]
  },
  {
   "cell_type": "code",
   "execution_count": 124,
   "metadata": {},
   "outputs": [],
   "source": [
    "indice = 1"
   ]
  },
  {
   "cell_type": "code",
   "execution_count": 125,
   "metadata": {},
   "outputs": [
    {
     "name": "stdout",
     "output_type": "stream",
     "text": [
      "ID: 1 - Texto: sevoflurano isoflurano desflurano ---> Etiqueta: PER\n",
      "ID: 2 - Texto: ketamina ---> Etiqueta: MEDICAMENTO\n",
      "ID: 3 - Texto: propofol ---> Etiqueta: MEDICAMENTO\n",
      "ID: 4 - Texto: propofol ---> Etiqueta: MEDICAMENTO\n",
      "ID: 5 - Texto: bupivacaina ---> Etiqueta: MEDICAMENTO\n",
      "ID: 6 - Texto: bupivacaina ---> Etiqueta: MEDICAMENTO\n",
      "ID: 7 - Texto: lidocaina ---> Etiqueta: MEDICAMENTO\n",
      "ID: 8 - Texto: lidocaina ---> Etiqueta: MEDICAMENTO\n",
      "ID: 9 - Texto: lidocaina ---> Etiqueta: MEDICAMENTO\n",
      "ID: 10 - Texto: lidocaina ---> Etiqueta: MEDICAMENTO\n",
      "ID: 11 - Texto: lidocaina ---> Etiqueta: MEDICAMENTO\n",
      "ID: 12 - Texto: carbamazepina ---> Etiqueta: MEDICAMENTO\n",
      "ID: 13 - Texto: carbamazepina ---> Etiqueta: MEDICAMENTO\n",
      "ID: 14 - Texto: fenitoina ---> Etiqueta: MEDICAMENTO\n",
      "ID: 15 - Texto: fenitoina ---> Etiqueta: MEDICAMENTO\n",
      "ID: 16 - Texto: acido ---> Etiqueta: MEDICAMENTO\n",
      "ID: 17 - Texto: acido ---> Etiqueta: MEDICAMENTO\n",
      "ID: 18 - Texto: acido ---> Etiqueta: MEDICAMENTO\n",
      "ID: 19 - Texto: fenobarbital ---> Etiqueta: MEDICAMENTO\n",
      "ID: 20 - Texto: fenobarbital ---> Etiqueta: MEDICAMENTO\n",
      "ID: 21 - Texto: gabapentina ---> Etiqueta: MEDICAMENTO\n",
      "ID: 22 - Texto: lamotrigina ---> Etiqueta: MEDICAMENTO\n",
      "ID: 23 - Texto: carbonato ---> Etiqueta: MEDICAMENTO\n",
      "ID: 24 - Texto: sertralina ---> Etiqueta: MEDICAMENTO\n",
      "ID: 25 - Texto: naloxona ---> Etiqueta: MEDICAMENTO\n",
      "ID: 26 - Texto: flumazenil ---> Etiqueta: MEDICAMENTO\n",
      "ID: 27 - Texto: deferasirox biperideno ---> Etiqueta: PER\n",
      "ID: 28 - Texto: agua ---> Etiqueta: MEDICAMENTO\n",
      "ID: 29 - Texto: agua ---> Etiqueta: MEDICAMENTO\n",
      "ID: 30 - Texto: agua ---> Etiqueta: MEDICAMENTO\n",
      "ID: 31 - Texto: agua ---> Etiqueta: MEDICAMENTO\n",
      "ID: 32 - Texto: cloruro ---> Etiqueta: MEDICAMENTO\n",
      "ID: 33 - Texto: cloruro ---> Etiqueta: MEDICAMENTO\n",
      "ID: 34 - Texto: cloruro ---> Etiqueta: MEDICAMENTO\n",
      "ID: 35 - Texto: aminoacidos ---> Etiqueta: MEDICAMENTO\n",
      "ID: 36 - Texto: aminoacidos ---> Etiqueta: MEDICAMENTO\n",
      "ID: 37 - Texto: aminoacidos ---> Etiqueta: MEDICAMENTO\n",
      "ID: 38 - Texto: aminoacidos ---> Etiqueta: MEDICAMENTO\n",
      "ID: 39 - Texto: acido ---> Etiqueta: MEDICAMENTO\n",
      "ID: 40 - Texto: magnesio ---> Etiqueta: MEDICAMENTO\n",
      "ID: 41 - Texto: calcio ---> Etiqueta: MEDICAMENTO\n",
      "ID: 42 - Texto: dextrosa ---> Etiqueta: MEDICAMENTO\n",
      "ID: 43 - Texto: dextrosa ---> Etiqueta: MEDICAMENTO\n",
      "ID: 44 - Texto: dextrosa ---> Etiqueta: MEDICAMENTO\n",
      "ID: 45 - Texto: dextrosa ---> Etiqueta: MEDICAMENTO\n",
      "ID: 46 - Texto: dextrosa ---> Etiqueta: MEDICAMENTO\n",
      "ID: 47 - Texto: dextrosa ---> Etiqueta: MEDICAMENTO\n",
      "ID: 48 - Texto: dextrosa ---> Etiqueta: MEDICAMENTO\n",
      "ID: 49 - Texto: dextrosa ---> Etiqueta: MEDICAMENTO\n",
      "ID: 50 - Texto: lipidos ---> Etiqueta: MEDICAMENTO\n",
      "ID: 51 - Texto: lipidos ---> Etiqueta: MEDICAMENTO\n",
      "ID: 52 - Texto: oligoelementos ---> Etiqueta: MEDICAMENTO\n",
      "ID: 53 - Texto: cloruro ---> Etiqueta: MEDICAMENTO\n",
      "ID: 54 - Texto: bicarbonato ---> Etiqueta: MEDICAMENTO\n",
      "ID: 55 - Texto: cloruro ---> Etiqueta: MEDICAMENTO\n",
      "ID: 56 - Texto: cloruro ---> Etiqueta: MEDICAMENTO\n",
      "ID: 57 - Texto: cloruro ---> Etiqueta: MEDICAMENTO\n",
      "ID: 58 - Texto: solucion ---> Etiqueta: MEDICAMENTO\n",
      "ID: 59 - Texto: dextrosa ---> Etiqueta: MEDICAMENTO\n",
      "ID: 60 - Texto: cloruro ---> Etiqueta: MEDICAMENTO\n",
      "ID: 61 - Texto: solucion ---> Etiqueta: MEDICAMENTO\n",
      "ID: 62 - Texto: dextrosa ---> Etiqueta: MEDICAMENTO\n",
      "ID: 63 - Texto: cloruro ---> Etiqueta: MEDICAMENTO\n",
      "ID: 64 - Texto: solucion ---> Etiqueta: MEDICAMENTO\n",
      "ID: 65 - Texto: dextrosa ---> Etiqueta: MEDICAMENTO\n",
      "ID: 66 - Texto: cloruro ---> Etiqueta: MEDICAMENTO\n",
      "ID: 67 - Texto: solucion ---> Etiqueta: MEDICAMENTO\n",
      "ID: 68 - Texto: dextrosa ---> Etiqueta: MEDICAMENTO\n",
      "ID: 69 - Texto: cloruro ---> Etiqueta: MEDICAMENTO\n",
      "ID: 70 - Texto: poligelina ---> Etiqueta: MEDICAMENTO\n",
      "ID: 71 - Texto: gelatina ---> Etiqueta: MEDICAMENTO\n",
      "ID: 72 - Texto: calcio ---> Etiqueta: MEDICAMENTO\n",
      "ID: 73 - Texto: emulsion ---> Etiqueta: MEDICAMENTO\n",
      "ID: 74 - Texto: lipidos ---> Etiqueta: MEDICAMENTO\n",
      "ID: 75 - Texto: aminoacidos ---> Etiqueta: MEDICAMENTO\n",
      "ID: 76 - Texto: emulsion ---> Etiqueta: MEDICAMENTO\n",
      "ID: 77 - Texto: lipidos ---> Etiqueta: MEDICAMENTO\n",
      "ID: 78 - Texto: aminoacidos ---> Etiqueta: MEDICAMENTO\n",
      "ID: 79 - Texto: cloruro ---> Etiqueta: MEDICAMENTO\n",
      "ID: 80 - Texto: cloruro ---> Etiqueta: MEDICAMENTO\n",
      "ID: 81 - Texto: dextrosa ---> Etiqueta: MEDICAMENTO\n",
      "ID: 82 - Texto: cloruro ---> Etiqueta: MEDICAMENTO\n",
      "ID: 83 - Texto: dextrosa ---> Etiqueta: MEDICAMENTO\n",
      "ID: 84 - Texto: gelatina ---> Etiqueta: MEDICAMENTO\n",
      "ID: 85 - Texto: hidroxietil ---> Etiqueta: MEDICAMENTO\n",
      "ID: 86 - Texto: almidon ---> Etiqueta: PER\n",
      "ID: 87 - Texto: magnesio ---> Etiqueta: MEDICAMENTO\n",
      "ID: 88 - Texto: sales ---> Etiqueta: MEDICAMENTO\n",
      "ID: 89 - Texto: cloruro ---> Etiqueta: MEDICAMENTO\n",
      "ID: 90 - Texto: cloruro ---> Etiqueta: MEDICAMENTO\n",
      "ID: 91 - Texto: eritropoyetina ---> Etiqueta: MEDICAMENTO\n",
      "ID: 92 - Texto: eritropoyetina ---> Etiqueta: MEDICAMENTO\n",
      "ID: 93 - Texto: bromhexina ---> Etiqueta: MEDICAMENTO\n",
      "ID: 94 - Texto: carboximetilcisteina ---> Etiqueta: MEDICAMENTO\n",
      "ID: 95 - Texto: guayacolato ---> Etiqueta: MEDICAMENTO\n",
      "ID: 96 - Texto: glicerilo ambroxol ---> Etiqueta: PER\n",
      "ID: 97 - Texto: ergonovina ---> Etiqueta: MEDICAMENTO\n",
      "ID: 98 - Texto: oxitocina ---> Etiqueta: MEDICAMENTO\n",
      "ID: 99 - Texto: carbetocina ---> Etiqueta: MEDICAMENTO\n",
      "ID: 100 - Texto: mcgmi ---> Etiqueta: PER\n",
      "ID: 101 - Texto: clorpromazina ---> Etiqueta: MEDICAMENTO\n",
      "ID: 102 - Texto: haloperidol ---> Etiqueta: MEDICAMENTO\n",
      "ID: 103 - Texto: haloperidol ---> Etiqueta: MEDICAMENTO\n",
      "ID: 104 - Texto: clozapina ---> Etiqueta: MEDICAMENTO\n",
      "ID: 105 - Texto: risperidona ---> Etiqueta: MEDICAMENTO\n",
      "ID: 106 - Texto: olanzapina ---> Etiqueta: MEDICAMENTO\n",
      "ID: 107 - Texto: quetiapina ---> Etiqueta: MEDICAMENTO\n",
      "ID: 108 - Texto: alprazolam ---> Etiqueta: MEDICAMENTO\n",
      "ID: 109 - Texto: clonazepam ---> Etiqueta: MEDICAMENTO\n",
      "ID: 110 - Texto: diazepam ---> Etiqueta: MEDICAMENTO\n",
      "ID: 111 - Texto: lorazepam ---> Etiqueta: MEDICAMENTO\n",
      "ID: 112 - Texto: surfactante ---> Etiqueta: MEDICAMENTO\n",
      "ID: 113 - Texto: surfactante ---> Etiqueta: MEDICAMENTO\n",
      "ID: 114 - Texto: ritodrina ---> Etiqueta: MEDICAMENTO\n"
     ]
    }
   ],
   "source": [
    "for ent in doc.ents:\n",
    "    print(f\"ID: {indice} - Texto: {ent.text} ---> Etiqueta: {ent.label_}\")\n",
    "    indice += 1"
   ]
  },
  {
   "cell_type": "code",
   "execution_count": null,
   "metadata": {},
   "outputs": [],
   "source": [
    "#for ent in doc.ents:\n",
    "#    print(ent.text ,\"--->\", ent.label_)"
   ]
  },
  {
   "cell_type": "code",
   "execution_count": 126,
   "metadata": {},
   "outputs": [
    {
     "data": {
      "text/plain": [
       "317"
      ]
     },
     "execution_count": 126,
     "metadata": {},
     "output_type": "execute_result"
    }
   ],
   "source": [
    "len(doc)"
   ]
  },
  {
   "cell_type": "code",
   "execution_count": 127,
   "metadata": {},
   "outputs": [
    {
     "name": "stdout",
     "output_type": "stream",
     "text": [
      "ID: 1 - Token: sevoflurano - Entidad: B-PER\n",
      "ID: 2 - Token: isoflurano - Entidad: I-PER\n",
      "ID: 3 - Token: desflurano - Entidad: I-PER\n",
      "ID: 4 - Token: ketamina - Entidad: B-MEDICAMENTO\n",
      "ID: 5 - Token: propofol - Entidad: B-MEDICAMENTO\n",
      "ID: 6 - Token: propofol - Entidad: B-MEDICAMENTO\n",
      "ID: 7 - Token: bupivacaina - Entidad: B-MEDICAMENTO\n",
      "ID: 8 - Token: clorhidrato - Entidad: O\n",
      "ID: 9 - Token: sin - Entidad: O\n",
      "ID: 10 - Token: epinefrina - Entidad: O\n",
      "ID: 11 - Token: sin - Entidad: O\n",
      "ID: 12 - Token: preservantes - Entidad: O\n",
      "ID: 13 - Token: bupivacaina - Entidad: B-MEDICAMENTO\n",
      "ID: 14 - Token: pesada - Entidad: O\n",
      "ID: 15 - Token: hiperbarica - Entidad: O\n",
      "ID: 16 - Token: lidocaina - Entidad: B-MEDICAMENTO\n",
      "ID: 17 - Token: clorhidrato - Entidad: O\n",
      "ID: 18 - Token: con - Entidad: O\n",
      "ID: 19 - Token: epinefrina - Entidad: O\n",
      "ID: 20 - Token: sin - Entidad: O\n",
      "ID: 21 - Token: preservante - Entidad: O\n",
      "ID: 22 - Token:   - Entidad: O\n",
      "ID: 23 - Token: y - Entidad: O\n",
      "ID: 24 - Token:    - Entidad: O\n",
      "ID: 25 - Token: y - Entidad: O\n",
      "ID: 26 - Token: lidocaina - Entidad: B-MEDICAMENTO\n",
      "ID: 27 - Token: clorhidrato - Entidad: O\n",
      "ID: 28 - Token: sin - Entidad: O\n",
      "ID: 29 - Token: epinefrina - Entidad: O\n",
      "ID: 30 - Token: con - Entidad: O\n",
      "ID: 31 - Token: preservante - Entidad: O\n",
      "ID: 32 - Token: simple - Entidad: O\n",
      "ID: 33 - Token: lidocaina - Entidad: B-MEDICAMENTO\n",
      "ID: 34 - Token: dental - Entidad: O\n",
      "ID: 35 - Token: sin - Entidad: O\n",
      "ID: 36 - Token: epinefrina - Entidad: O\n",
      "ID: 37 - Token: lidocaina - Entidad: B-MEDICAMENTO\n",
      "ID: 38 - Token: dental - Entidad: O\n",
      "ID: 39 - Token: con - Entidad: O\n",
      "ID: 40 - Token: epinefrina - Entidad: O\n",
      "ID: 41 - Token:   - Entidad: O\n",
      "ID: 42 - Token: y - Entidad: O\n",
      "ID: 43 - Token: lidocaina - Entidad: B-MEDICAMENTO\n",
      "ID: 44 - Token: clorhidrato - Entidad: O\n",
      "ID: 45 - Token: sin - Entidad: O\n",
      "ID: 46 - Token: epinefrina - Entidad: O\n",
      "ID: 47 - Token: sin - Entidad: O\n",
      "ID: 48 - Token: preservante - Entidad: O\n",
      "ID: 49 - Token: simple - Entidad: O\n",
      "ID: 50 - Token: carbamazepina - Entidad: B-MEDICAMENTO\n",
      "ID: 51 - Token: carbamazepina - Entidad: B-MEDICAMENTO\n",
      "ID: 52 - Token: fenitoina - Entidad: B-MEDICAMENTO\n",
      "ID: 53 - Token: sodica - Entidad: O\n",
      "ID: 54 - Token: difenilhidantoina - Entidad: O\n",
      "ID: 55 - Token: sodica - Entidad: O\n",
      "ID: 56 - Token: fenitoina - Entidad: B-MEDICAMENTO\n",
      "ID: 57 - Token: sodica - Entidad: O\n",
      "ID: 58 - Token: difenilhidantoina - Entidad: O\n",
      "ID: 59 - Token: sodica - Entidad: O\n",
      "ID: 60 - Token: acido - Entidad: B-MEDICAMENTO\n",
      "ID: 61 - Token: valproico - Entidad: O\n",
      "ID: 62 - Token: acido - Entidad: B-MEDICAMENTO\n",
      "ID: 63 - Token: valproico - Entidad: O\n",
      "ID: 64 - Token: valproato - Entidad: O\n",
      "ID: 65 - Token: sodico - Entidad: O\n",
      "ID: 66 - Token: mi - Entidad: O\n",
      "ID: 67 - Token: acido - Entidad: B-MEDICAMENTO\n",
      "ID: 68 - Token: valproico - Entidad: O\n",
      "ID: 69 - Token: valproato - Entidad: O\n",
      "ID: 70 - Token: sodico - Entidad: O\n",
      "ID: 71 - Token: fenobarbital - Entidad: B-MEDICAMENTO\n",
      "ID: 72 - Token: fenobarbital - Entidad: B-MEDICAMENTO\n",
      "ID: 73 - Token: gabapentina - Entidad: B-MEDICAMENTO\n",
      "ID: 74 - Token: lamotrigina - Entidad: B-MEDICAMENTO\n",
      "ID: 75 - Token: carbonato - Entidad: B-MEDICAMENTO\n",
      "ID: 76 - Token: de - Entidad: O\n",
      "ID: 77 - Token: litio - Entidad: O\n",
      "ID: 78 - Token: sertralina - Entidad: B-MEDICAMENTO\n",
      "ID: 79 - Token: hidrocloruro - Entidad: O\n",
      "ID: 80 - Token: naloxona - Entidad: B-MEDICAMENTO\n",
      "ID: 81 - Token: flumazenil - Entidad: B-MEDICAMENTO\n",
      "ID: 82 - Token: deferasirox - Entidad: B-PER\n",
      "ID: 83 - Token: biperideno - Entidad: I-PER\n",
      "ID: 84 - Token: clorhidrato - Entidad: O\n",
      "ID: 85 - Token: agua - Entidad: B-MEDICAMENTO\n",
      "ID: 86 - Token: esteril - Entidad: O\n",
      "ID: 87 - Token: para - Entidad: O\n",
      "ID: 88 - Token: inyeccion - Entidad: O\n",
      "ID: 89 - Token: agua - Entidad: B-MEDICAMENTO\n",
      "ID: 90 - Token: tridestilada - Entidad: O\n",
      "ID: 91 - Token: agua - Entidad: B-MEDICAMENTO\n",
      "ID: 92 - Token: esteril - Entidad: O\n",
      "ID: 93 - Token: para - Entidad: O\n",
      "ID: 94 - Token: inyeccion - Entidad: O\n",
      "ID: 95 - Token: agua - Entidad: B-MEDICAMENTO\n",
      "ID: 96 - Token: tridestilada - Entidad: O\n",
      "ID: 97 - Token: cloruro - Entidad: B-MEDICAMENTO\n",
      "ID: 98 - Token: de - Entidad: O\n",
      "ID: 99 - Token: sodio - Entidad: O\n",
      "ID: 100 - Token: cloruro - Entidad: B-MEDICAMENTO\n",
      "ID: 101 - Token: de - Entidad: O\n",
      "ID: 102 - Token: sodio - Entidad: O\n",
      "ID: 103 - Token: cloruro - Entidad: B-MEDICAMENTO\n",
      "ID: 104 - Token: de - Entidad: O\n",
      "ID: 105 - Token: sodio - Entidad: O\n",
      "ID: 106 - Token: aminoacidos - Entidad: B-MEDICAMENTO\n",
      "ID: 107 - Token: sin - Entidad: O\n",
      "ID: 108 - Token: electrolitos - Entidad: O\n",
      "ID: 109 - Token: pediatricos - Entidad: O\n",
      "ID: 110 - Token: aminoacidos - Entidad: B-MEDICAMENTO\n",
      "ID: 111 - Token: para - Entidad: O\n",
      "ID: 112 - Token: paciente - Entidad: O\n",
      "ID: 113 - Token: hepatico - Entidad: O\n",
      "ID: 114 - Token: aminoacidos - Entidad: B-MEDICAMENTO\n",
      "ID: 115 - Token: con - Entidad: O\n",
      "ID: 116 - Token: electrolitos - Entidad: O\n",
      "ID: 117 - Token: aminoacidos - Entidad: B-MEDICAMENTO\n",
      "ID: 118 - Token: sin - Entidad: O\n",
      "ID: 119 - Token: electrolitos - Entidad: O\n",
      "ID: 120 - Token: sin - Entidad: O\n",
      "ID: 121 - Token: acido - Entidad: B-MEDICAMENTO\n",
      "ID: 122 - Token: glutamico - Entidad: O\n",
      "ID: 123 - Token: para - Entidad: O\n",
      "ID: 124 - Token: paciente - Entidad: O\n",
      "ID: 125 - Token: pediatrico - Entidad: O\n",
      "ID: 126 - Token: neonato - Entidad: O\n",
      "ID: 127 - Token: magnesio - Entidad: B-MEDICAMENTO\n",
      "ID: 128 - Token: sulfato - Entidad: O\n",
      "ID: 129 - Token: calcio - Entidad: B-MEDICAMENTO\n",
      "ID: 130 - Token: gluconato - Entidad: O\n",
      "ID: 131 - Token: dextrosa - Entidad: B-MEDICAMENTO\n",
      "ID: 132 - Token: dextrosa - Entidad: B-MEDICAMENTO\n",
      "ID: 133 - Token: dextrosa - Entidad: B-MEDICAMENTO\n",
      "ID: 134 - Token: dextrosa - Entidad: B-MEDICAMENTO\n",
      "ID: 135 - Token: dextrosa - Entidad: B-MEDICAMENTO\n",
      "ID: 136 - Token: dextrosa - Entidad: B-MEDICAMENTO\n",
      "ID: 137 - Token: dextrosa - Entidad: B-MEDICAMENTO\n",
      "ID: 138 - Token: dextrosa - Entidad: B-MEDICAMENTO\n",
      "ID: 139 - Token: lipidos - Entidad: B-MEDICAMENTO\n",
      "ID: 140 - Token: lipidos - Entidad: B-MEDICAMENTO\n",
      "ID: 141 - Token: mctictomega - Entidad: O\n",
      "ID: 142 - Token: aceite - Entidad: O\n",
      "ID: 143 - Token: de - Entidad: O\n",
      "ID: 144 - Token: oliva - Entidad: O\n",
      "ID: 145 - Token: para - Entidad: O\n",
      "ID: 146 - Token: paciente - Entidad: O\n",
      "ID: 147 - Token: adulto - Entidad: O\n",
      "ID: 148 - Token: nino - Entidad: O\n",
      "ID: 149 - Token: y - Entidad: O\n",
      "ID: 150 - Token: prematuro - Entidad: O\n",
      "ID: 151 - Token: de - Entidad: O\n",
      "ID: 152 - Token: bajo - Entidad: O\n",
      "ID: 153 - Token: peso - Entidad: O\n",
      "ID: 154 - Token: al - Entidad: O\n",
      "ID: 155 - Token: nacer - Entidad: O\n",
      "ID: 156 - Token: oligoelementos - Entidad: B-MEDICAMENTO\n",
      "ID: 157 - Token: cloruro - Entidad: B-MEDICAMENTO\n",
      "ID: 158 - Token: de - Entidad: O\n",
      "ID: 159 - Token: potasio - Entidad: O\n",
      "ID: 160 - Token: - - Entidad: O\n",
      "ID: 161 - Token: bicarbonato - Entidad: B-MEDICAMENTO\n",
      "ID: 162 - Token: de - Entidad: O\n",
      "ID: 163 - Token: sodio - Entidad: O\n",
      "ID: 164 - Token: cloruro - Entidad: B-MEDICAMENTO\n",
      "ID: 165 - Token: de - Entidad: O\n",
      "ID: 166 - Token: sodio - Entidad: O\n",
      "ID: 167 - Token: cloruro - Entidad: B-MEDICAMENTO\n",
      "ID: 168 - Token: de - Entidad: O\n",
      "ID: 169 - Token: sodio - Entidad: O\n",
      "ID: 170 - Token: cloruro - Entidad: B-MEDICAMENTO\n",
      "ID: 171 - Token: de - Entidad: O\n",
      "ID: 172 - Token: sodio - Entidad: O\n",
      "ID: 173 - Token: solucion - Entidad: B-MEDICAMENTO\n",
      "ID: 174 - Token: no - Entidad: O\n",
      "ID: 175 - Token: dextrosa - Entidad: B-MEDICAMENTO\n",
      "ID: 176 - Token: cloruro - Entidad: B-MEDICAMENTO\n",
      "ID: 177 - Token: de - Entidad: O\n",
      "ID: 178 - Token: sodio - Entidad: O\n",
      "ID: 179 - Token: solucion - Entidad: B-MEDICAMENTO\n",
      "ID: 180 - Token: no - Entidad: O\n",
      "ID: 181 - Token: dextrosa - Entidad: B-MEDICAMENTO\n",
      "ID: 182 - Token: cloruro - Entidad: B-MEDICAMENTO\n",
      "ID: 183 - Token: de - Entidad: O\n",
      "ID: 184 - Token: sodio - Entidad: O\n",
      "ID: 185 - Token: solucion - Entidad: B-MEDICAMENTO\n",
      "ID: 186 - Token: no - Entidad: O\n",
      "ID: 187 - Token: dextrosa - Entidad: B-MEDICAMENTO\n",
      "ID: 188 - Token: cloruro - Entidad: B-MEDICAMENTO\n",
      "ID: 189 - Token: de - Entidad: O\n",
      "ID: 190 - Token: sodio - Entidad: O\n",
      "ID: 191 - Token: solucion - Entidad: B-MEDICAMENTO\n",
      "ID: 192 - Token: no - Entidad: O\n",
      "ID: 193 - Token: dextrosa - Entidad: B-MEDICAMENTO\n",
      "ID: 194 - Token: cloruro - Entidad: B-MEDICAMENTO\n",
      "ID: 195 - Token: de - Entidad: O\n",
      "ID: 196 - Token: sodio - Entidad: O\n",
      "ID: 197 - Token: poligelina - Entidad: B-MEDICAMENTO\n",
      "ID: 198 - Token: con - Entidad: O\n",
      "ID: 199 - Token: electrolitos - Entidad: O\n",
      "ID: 200 - Token: gelatina - Entidad: B-MEDICAMENTO\n",
      "ID: 201 - Token: calcio - Entidad: B-MEDICAMENTO\n",
      "ID: 202 - Token: cloro - Entidad: O\n",
      "ID: 203 - Token: potasio - Entidad: O\n",
      "ID: 204 - Token: y - Entidad: O\n",
      "ID: 205 - Token: sodio - Entidad: O\n",
      "ID: 206 - Token: emulsion - Entidad: B-MEDICAMENTO\n",
      "ID: 207 - Token: inyectable - Entidad: O\n",
      "ID: 208 - Token: para - Entidad: O\n",
      "ID: 209 - Token: infusion - Entidad: O\n",
      "ID: 210 - Token: o - Entidad: O\n",
      "ID: 211 - Token: perfusion - Entidad: O\n",
      "ID: 212 - Token: bolsa - Entidad: O\n",
      "ID: 213 - Token: con - Entidad: O\n",
      "ID: 214 - Token: compartimientos - Entidad: O\n",
      "ID: 215 - Token: glucosa - Entidad: O\n",
      "ID: 216 - Token: lipidos - Entidad: B-MEDICAMENTO\n",
      "ID: 217 - Token: aminoacidos - Entidad: B-MEDICAMENTO\n",
      "ID: 218 - Token: de - Entidad: O\n",
      "ID: 219 - Token: a - Entidad: O\n",
      "ID: 220 - Token: emulsion - Entidad: B-MEDICAMENTO\n",
      "ID: 221 - Token: inyectable - Entidad: O\n",
      "ID: 222 - Token: para - Entidad: O\n",
      "ID: 223 - Token: infusion - Entidad: O\n",
      "ID: 224 - Token: o - Entidad: O\n",
      "ID: 225 - Token: perfusion - Entidad: O\n",
      "ID: 226 - Token: bolsa - Entidad: O\n",
      "ID: 227 - Token: con - Entidad: O\n",
      "ID: 228 - Token: compartimientos - Entidad: O\n",
      "ID: 229 - Token: glucosa - Entidad: O\n",
      "ID: 230 - Token: lipidos - Entidad: B-MEDICAMENTO\n",
      "ID: 231 - Token: aminoacidos - Entidad: B-MEDICAMENTO\n",
      "ID: 232 - Token: de - Entidad: O\n",
      "ID: 233 - Token: a - Entidad: O\n",
      "ID: 234 - Token: cloruro - Entidad: B-MEDICAMENTO\n",
      "ID: 235 - Token: de - Entidad: O\n",
      "ID: 236 - Token: sodio - Entidad: O\n",
      "ID: 237 - Token: cloruro - Entidad: B-MEDICAMENTO\n",
      "ID: 238 - Token: de - Entidad: O\n",
      "ID: 239 - Token: sodio - Entidad: O\n",
      "ID: 240 - Token: dextrosa - Entidad: B-MEDICAMENTO\n",
      "ID: 241 - Token: solucionxta - Entidad: O\n",
      "ID: 242 - Token: cloruro - Entidad: B-MEDICAMENTO\n",
      "ID: 243 - Token: de - Entidad: O\n",
      "ID: 244 - Token: sodio - Entidad: O\n",
      "ID: 245 - Token: dextrosa - Entidad: B-MEDICAMENTO\n",
      "ID: 246 - Token: solucionxta - Entidad: O\n",
      "ID: 247 - Token: gelatina - Entidad: B-MEDICAMENTO\n",
      "ID: 248 - Token: succinilada - Entidad: O\n",
      "ID: 249 - Token:   - Entidad: O\n",
      "ID: 250 - Token: con - Entidad: O\n",
      "ID: 251 - Token: electrolitos - Entidad: O\n",
      "ID: 252 - Token: hidroxietil - Entidad: B-MEDICAMENTO\n",
      "ID: 253 - Token: almidon - Entidad: B-PER\n",
      "ID: 254 - Token: magnesio - Entidad: B-MEDICAMENTO\n",
      "ID: 255 - Token: sulfato - Entidad: O\n",
      "ID: 256 - Token: sales - Entidad: B-MEDICAMENTO\n",
      "ID: 257 - Token: de - Entidad: O\n",
      "ID: 258 - Token: rehidratacion - Entidad: O\n",
      "ID: 259 - Token: oral - Entidad: O\n",
      "ID: 260 - Token: cloruro - Entidad: B-MEDICAMENTO\n",
      "ID: 261 - Token: de - Entidad: O\n",
      "ID: 262 - Token: sodio - Entidad: O\n",
      "ID: 263 - Token: citrato - Entidad: O\n",
      "ID: 264 - Token: trisodico - Entidad: O\n",
      "ID: 265 - Token: cloruro - Entidad: B-MEDICAMENTO\n",
      "ID: 266 - Token: de - Entidad: O\n",
      "ID: 267 - Token: potasio - Entidad: O\n",
      "ID: 268 - Token: glucosa - Entidad: O\n",
      "ID: 269 - Token: anhidra - Entidad: O\n",
      "ID: 270 - Token: eritropoyetina - Entidad: B-MEDICAMENTO\n",
      "ID: 271 - Token: humana - Entidad: O\n",
      "ID: 272 - Token: recombinante - Entidad: O\n",
      "ID: 273 - Token: ui - Entidad: O\n",
      "ID: 274 - Token: cadena - Entidad: O\n",
      "ID: 275 - Token: de - Entidad: O\n",
      "ID: 276 - Token: frio - Entidad: O\n",
      "ID: 277 - Token: eritropoyetina - Entidad: B-MEDICAMENTO\n",
      "ID: 278 - Token: humana - Entidad: O\n",
      "ID: 279 - Token: recombinante - Entidad: O\n",
      "ID: 280 - Token: ui - Entidad: O\n",
      "ID: 281 - Token:   - Entidad: O\n",
      "ID: 282 - Token: sin - Entidad: O\n",
      "ID: 283 - Token: cadena - Entidad: O\n",
      "ID: 284 - Token: de - Entidad: O\n",
      "ID: 285 - Token: frio - Entidad: O\n",
      "ID: 286 - Token: bromhexina - Entidad: B-MEDICAMENTO\n",
      "ID: 287 - Token: carboximetilcisteina - Entidad: B-MEDICAMENTO\n",
      "ID: 288 - Token: guayacolato - Entidad: B-MEDICAMENTO\n",
      "ID: 289 - Token: de - Entidad: O\n",
      "ID: 290 - Token: glicerilo - Entidad: B-PER\n",
      "ID: 291 - Token: ambroxol - Entidad: I-PER\n",
      "ID: 292 - Token: ergonovina - Entidad: B-MEDICAMENTO\n",
      "ID: 293 - Token: maleato - Entidad: O\n",
      "ID: 294 - Token: oxitocina - Entidad: B-MEDICAMENTO\n",
      "ID: 295 - Token: sintetica - Entidad: O\n",
      "ID: 296 - Token: ui - Entidad: O\n",
      "ID: 297 - Token: carbetocina - Entidad: B-MEDICAMENTO\n",
      "ID: 298 - Token: mcgmi - Entidad: B-PER\n",
      "ID: 299 - Token: clorpromazina - Entidad: B-MEDICAMENTO\n",
      "ID: 300 - Token: haloperidol - Entidad: B-MEDICAMENTO\n",
      "ID: 301 - Token: haloperidol - Entidad: B-MEDICAMENTO\n",
      "ID: 302 - Token: clozapina - Entidad: B-MEDICAMENTO\n",
      "ID: 303 - Token: risperidona - Entidad: B-MEDICAMENTO\n",
      "ID: 304 - Token: olanzapina - Entidad: B-MEDICAMENTO\n",
      "ID: 305 - Token: quetiapina - Entidad: B-MEDICAMENTO\n",
      "ID: 306 - Token: alprazolam - Entidad: B-MEDICAMENTO\n",
      "ID: 307 - Token: clonazepam - Entidad: B-MEDICAMENTO\n",
      "ID: 308 - Token: diazepam - Entidad: B-MEDICAMENTO\n",
      "ID: 309 - Token: lorazepam - Entidad: B-MEDICAMENTO\n",
      "ID: 310 - Token: mi - Entidad: O\n",
      "ID: 311 - Token: surfactante - Entidad: B-MEDICAMENTO\n",
      "ID: 312 - Token: pulmonar - Entidad: O\n",
      "ID: 313 - Token: natural - Entidad: O\n",
      "ID: 314 - Token: surfactante - Entidad: B-MEDICAMENTO\n",
      "ID: 315 - Token: pulmonar - Entidad: O\n",
      "ID: 316 - Token: natural - Entidad: O\n",
      "ID: 317 - Token: ritodrina - Entidad: B-MEDICAMENTO\n"
     ]
    }
   ],
   "source": [
    "id_token = 1\n",
    "\n",
    "# Iterar a través de los tokens en el documento\n",
    "for token in doc:\n",
    "    entity_info = f\"{token.ent_iob_}-{token.ent_type_}\" if token.ent_iob_ != 'O' else 'O'\n",
    "    print(f\"ID: {id_token} - Token: {token.text} - Entidad: {entity_info}\")\n",
    "    id_token += 1"
   ]
  },
  {
   "cell_type": "markdown",
   "metadata": {},
   "source": [
    "### ENTIDADES PARA PRESENTACION"
   ]
  },
  {
   "cell_type": "code",
   "execution_count": 128,
   "metadata": {},
   "outputs": [],
   "source": [
    "lista_presentacion = medicamentos[\"Presentación\"].tolist()"
   ]
  },
  {
   "cell_type": "code",
   "execution_count": 130,
   "metadata": {},
   "outputs": [
    {
     "data": {
      "text/plain": [
       "['Tableta recubierta/comprimido recubierto',\n",
       " 'Bolsa',\n",
       " 'Vial plástico',\n",
       " 'Jeringa prellenada',\n",
       " ' Tableta/Comprimido dispersable',\n",
       " 'Ampolla',\n",
       " 'Tableta/comprimido',\n",
       " 'Vial ',\n",
       " 'Sobre',\n",
       " 'Cápsula',\n",
       " 'Gramo',\n",
       " 'Ampolla plástica',\n",
       " 'Cartucho',\n",
       " 'Frasco',\n",
       " 'Vial',\n",
       " 'Tableta/Comprimido']"
      ]
     },
     "execution_count": 130,
     "metadata": {},
     "output_type": "execute_result"
    }
   ],
   "source": [
    "presentacion_unica = list(set(lista_presentacion))\n",
    "presentacion_unica"
   ]
  },
  {
   "cell_type": "code",
   "execution_count": 131,
   "metadata": {},
   "outputs": [],
   "source": [
    "presentaciones_patterns = [{\"label\": \"PRESENTACION\", \"pattern\": [{\"lower\": {\"in\": [prest.lower() for prest in presentacion_unica]}}]}]"
   ]
  },
  {
   "cell_type": "code",
   "execution_count": 132,
   "metadata": {},
   "outputs": [
    {
     "data": {
      "text/plain": [
       "[{'label': 'PRESENTACION',\n",
       "  'pattern': [{'lower': {'in': ['tableta recubierta/comprimido recubierto',\n",
       "      'bolsa',\n",
       "      'vial plástico',\n",
       "      'jeringa prellenada',\n",
       "      ' tableta/comprimido dispersable',\n",
       "      'ampolla',\n",
       "      'tableta/comprimido',\n",
       "      'vial ',\n",
       "      'sobre',\n",
       "      'cápsula',\n",
       "      'gramo',\n",
       "      'ampolla plástica',\n",
       "      'cartucho',\n",
       "      'frasco',\n",
       "      'vial',\n",
       "      'tableta/comprimido']}}]}]"
      ]
     },
     "execution_count": 132,
     "metadata": {},
     "output_type": "execute_result"
    }
   ],
   "source": [
    "presentaciones_patterns"
   ]
  },
  {
   "cell_type": "code",
   "execution_count": 136,
   "metadata": {},
   "outputs": [],
   "source": [
    "from spacy.language import Language\n",
    "\n",
    "@Language.component(\"entity_ruler_presentaciones\")\n",
    "def custom_entity_ruler(doc):\n",
    "    # Puedes personalizar el comportamiento de tu componente aquí si es necesario\n",
    "    return doc\n",
    "\n",
    "# Carga tu modelo de SpaCy\n",
    "nlp = spacy.load(\"es_core_news_lg\")\n",
    "\n",
    "# Agrega tu componente personalizado al modelo\n",
    "ruler_p = nlp.add_pipe(\"entity_ruler\")\n",
    "ruler_p.add_patterns(presentaciones_patterns)"
   ]
  },
  {
   "cell_type": "code",
   "execution_count": 154,
   "metadata": {},
   "outputs": [
    {
     "data": {
      "text/plain": [
       "[{'label': 'PRESENTACION',\n",
       "  'pattern': [{'lower': {'in': ['tableta recubierta/comprimido recubierto',\n",
       "      'bolsa',\n",
       "      'vial plástico',\n",
       "      'jeringa prellenada',\n",
       "      ' tableta/comprimido dispersable',\n",
       "      'ampolla',\n",
       "      'tableta/comprimido',\n",
       "      'vial ',\n",
       "      'sobre',\n",
       "      'cápsula',\n",
       "      'gramo',\n",
       "      'ampolla plástica',\n",
       "      'cartucho',\n",
       "      'frasco',\n",
       "      'vial',\n",
       "      'tableta/comprimido']}}]}]"
      ]
     },
     "execution_count": 154,
     "metadata": {},
     "output_type": "execute_result"
    }
   ],
   "source": [
    "presentaciones_patterns"
   ]
  },
  {
   "cell_type": "code",
   "execution_count": 138,
   "metadata": {},
   "outputs": [],
   "source": [
    "texto_p = \" \".join(presentacion_unica)"
   ]
  },
  {
   "cell_type": "code",
   "execution_count": 139,
   "metadata": {},
   "outputs": [],
   "source": [
    "doc_p = nlp(texto_p)"
   ]
  },
  {
   "cell_type": "code",
   "execution_count": 149,
   "metadata": {},
   "outputs": [],
   "source": [
    "doc_pp = nlp(\" \".join([token.text.lower() for token in doc_p]))"
   ]
  },
  {
   "cell_type": "code",
   "execution_count": 150,
   "metadata": {},
   "outputs": [
    {
     "data": {
      "text/plain": [
       "tableta recubierta / comprimido recubierto bolsa vial plástico jeringa prellenada   tableta / comprimido dispersable ampolla tableta / comprimido vial   sobre cápsula gramo ampolla plástica cartucho frasco vial tableta / comprimido"
      ]
     },
     "execution_count": 150,
     "metadata": {},
     "output_type": "execute_result"
    }
   ],
   "source": [
    "doc_pp"
   ]
  },
  {
   "cell_type": "code",
   "execution_count": 151,
   "metadata": {},
   "outputs": [
    {
     "name": "stdout",
     "output_type": "stream",
     "text": [
      "ID: 1 - Texto: bolsa ---> Etiqueta: PRESENTACION\n",
      "ID: 2 - Texto: vial ---> Etiqueta: PRESENTACION\n",
      "ID: 3 - Texto: ampolla ---> Etiqueta: PRESENTACION\n",
      "ID: 4 - Texto: vial ---> Etiqueta: PRESENTACION\n",
      "ID: 5 - Texto: sobre ---> Etiqueta: PRESENTACION\n",
      "ID: 6 - Texto: cápsula ---> Etiqueta: PRESENTACION\n",
      "ID: 7 - Texto: gramo ---> Etiqueta: PRESENTACION\n",
      "ID: 8 - Texto: ampolla ---> Etiqueta: PRESENTACION\n",
      "ID: 9 - Texto: cartucho ---> Etiqueta: PRESENTACION\n",
      "ID: 10 - Texto: frasco ---> Etiqueta: PRESENTACION\n",
      "ID: 11 - Texto: vial ---> Etiqueta: PRESENTACION\n"
     ]
    }
   ],
   "source": [
    "indice_p = 1\n",
    "for ent in doc_pp.ents:\n",
    "    print(f\"ID: {indice_p} - Texto: {ent.text} ---> Etiqueta: {ent.label_}\")\n",
    "    indice_p += 1"
   ]
  }
 ],
 "metadata": {
  "kernelspec": {
   "display_name": "Python 3",
   "language": "python",
   "name": "python3"
  },
  "language_info": {
   "codemirror_mode": {
    "name": "ipython",
    "version": 3
   },
   "file_extension": ".py",
   "mimetype": "text/x-python",
   "name": "python",
   "nbconvert_exporter": "python",
   "pygments_lexer": "ipython3",
   "version": "3.10.6"
  },
  "orig_nbformat": 4
 },
 "nbformat": 4,
 "nbformat_minor": 2
}
