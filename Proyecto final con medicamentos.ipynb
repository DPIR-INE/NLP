{
 "cells": [
  {
   "cell_type": "code",
   "execution_count": 1,
   "metadata": {},
   "outputs": [
    {
     "data": {
      "text/html": [
       "<div>\n",
       "<style scoped>\n",
       "    .dataframe tbody tr th:only-of-type {\n",
       "        vertical-align: middle;\n",
       "    }\n",
       "\n",
       "    .dataframe tbody tr th {\n",
       "        vertical-align: top;\n",
       "    }\n",
       "\n",
       "    .dataframe thead th {\n",
       "        text-align: right;\n",
       "    }\n",
       "</style>\n",
       "<table border=\"1\" class=\"dataframe\">\n",
       "  <thead>\n",
       "    <tr style=\"text-align: right;\">\n",
       "      <th></th>\n",
       "      <th>Responsable</th>\n",
       "      <th>Renglón</th>\n",
       "      <th>Cód-INE</th>\n",
       "      <th>NOMBRE</th>\n",
       "      <th>CARACTERÍSTICAS SOLICITADAS</th>\n",
       "      <th>Presentación</th>\n",
       "      <th>CANTIDAD ESTIMADA 24 MESES MSPAS</th>\n",
       "      <th>VIA DE ADMINISTRACIÓN</th>\n",
       "      <th>UNIDAD DE MEDIDA</th>\n",
       "      <th>RENGLÓN</th>\n",
       "      <th>AREA</th>\n",
       "      <th>CORRELATIVO</th>\n",
       "      <th>RUBRO</th>\n",
       "      <th>REQUIERE REGISTRA SANITARIO</th>\n",
       "      <th>Observaciones</th>\n",
       "    </tr>\n",
       "  </thead>\n",
       "  <tbody>\n",
       "    <tr>\n",
       "      <th>0</th>\n",
       "      <td>dANY</td>\n",
       "      <td>1</td>\n",
       "      <td>475-016</td>\n",
       "      <td>Sevoflurano 100%</td>\n",
       "      <td>100%. Solución para inhalación. Frasco 250 ml....</td>\n",
       "      <td>Frasco</td>\n",
       "      <td>13400</td>\n",
       "      <td>INHALATORIA</td>\n",
       "      <td>Unidad</td>\n",
       "      <td>266</td>\n",
       "      <td>4</td>\n",
       "      <td>41</td>\n",
       "      <td>ANESTESICOS GENERALES Y/O INDUCTORES</td>\n",
       "      <td>SI</td>\n",
       "      <td>NaN</td>\n",
       "    </tr>\n",
       "    <tr>\n",
       "      <th>1</th>\n",
       "      <td>dANY</td>\n",
       "      <td>2</td>\n",
       "      <td>476-028</td>\n",
       "      <td>Isoflurano 100%</td>\n",
       "      <td>100%. Solución para inhalación. Frasco 100-250...</td>\n",
       "      <td>Frasco</td>\n",
       "      <td>700000</td>\n",
       "      <td>INHALATORIA</td>\n",
       "      <td>Mililitro</td>\n",
       "      <td>266</td>\n",
       "      <td>4</td>\n",
       "      <td>81</td>\n",
       "      <td>ANESTESICOS GENERALES Y/O INDUCTORES</td>\n",
       "      <td>SI</td>\n",
       "      <td>NaN</td>\n",
       "    </tr>\n",
       "    <tr>\n",
       "      <th>2</th>\n",
       "      <td>dANY</td>\n",
       "      <td>3</td>\n",
       "      <td>477-016</td>\n",
       "      <td>Desflurano 100%</td>\n",
       "      <td>100%. Solución para inhalación. Frasco 240 ml....</td>\n",
       "      <td>Frasco</td>\n",
       "      <td>1100</td>\n",
       "      <td>INHALATORIA</td>\n",
       "      <td>Unidad</td>\n",
       "      <td>266</td>\n",
       "      <td>4</td>\n",
       "      <td>221</td>\n",
       "      <td>ANESTESICOS GENERALES Y/O INDUCTORES</td>\n",
       "      <td>SI</td>\n",
       "      <td>NaN</td>\n",
       "    </tr>\n",
       "    <tr>\n",
       "      <th>3</th>\n",
       "      <td>dANY</td>\n",
       "      <td>4</td>\n",
       "      <td>024-056</td>\n",
       "      <td>Ketamina 500mg/10ml</td>\n",
       "      <td>50 mg/ml. Solución inyectable. Vial 10 ml. Cot...</td>\n",
       "      <td>Vial</td>\n",
       "      <td>37800</td>\n",
       "      <td>INTRAVENOSA-INTRAMUSCULAR</td>\n",
       "      <td>Unidad</td>\n",
       "      <td>266</td>\n",
       "      <td>4</td>\n",
       "      <td>244</td>\n",
       "      <td>ANESTESICOS GENERALES Y/O INDUCTORES</td>\n",
       "      <td>SI</td>\n",
       "      <td>NaN</td>\n",
       "    </tr>\n",
       "    <tr>\n",
       "      <th>4</th>\n",
       "      <td>dANY</td>\n",
       "      <td>5</td>\n",
       "      <td>028-024</td>\n",
       "      <td>Propofol 500 mg/ 50 ml</td>\n",
       "      <td>10 mg/ml. Emulsión inyectable, Jeringa prellen...</td>\n",
       "      <td>Jeringa prellenada</td>\n",
       "      <td>30100</td>\n",
       "      <td>INTRAVENOSA</td>\n",
       "      <td>Unidad</td>\n",
       "      <td>266</td>\n",
       "      <td>4</td>\n",
       "      <td>252</td>\n",
       "      <td>ANESTESICOS GENERALES Y/O INDUCTORES</td>\n",
       "      <td>SI</td>\n",
       "      <td>NaN</td>\n",
       "    </tr>\n",
       "    <tr>\n",
       "      <th>5</th>\n",
       "      <td>NaN</td>\n",
       "      <td>5</td>\n",
       "      <td>266-005-056</td>\n",
       "      <td>Propofol 500 mg/ 50 ml</td>\n",
       "      <td>10 mg/ml. Emulsión inyectable, Jeringa prellen...</td>\n",
       "      <td>Vial</td>\n",
       "      <td>30100</td>\n",
       "      <td>INTRAVENOSA</td>\n",
       "      <td>Unidad</td>\n",
       "      <td>266</td>\n",
       "      <td>4</td>\n",
       "      <td>252</td>\n",
       "      <td>ANESTESICOS GENERALES Y/O INDUCTORES</td>\n",
       "      <td>SI</td>\n",
       "      <td>NaN</td>\n",
       "    </tr>\n",
       "    <tr>\n",
       "      <th>6</th>\n",
       "      <td>dANY</td>\n",
       "      <td>6</td>\n",
       "      <td>266-006-001</td>\n",
       "      <td>Bupivacaina Clorhidrato sin Epinefrina sin pre...</td>\n",
       "      <td>0.50%. Solución inyectable. Vial o ampolla 10 ...</td>\n",
       "      <td>Ampolla</td>\n",
       "      <td>52500</td>\n",
       "      <td>EPIDURAL</td>\n",
       "      <td>Unidad</td>\n",
       "      <td>266</td>\n",
       "      <td>5</td>\n",
       "      <td>21</td>\n",
       "      <td>ANASTESICOS LOCALES</td>\n",
       "      <td>SI</td>\n",
       "      <td>NaN</td>\n",
       "    </tr>\n",
       "  </tbody>\n",
       "</table>\n",
       "</div>"
      ],
      "text/plain": [
       "  Responsable  Renglón      Cód-INE   \n",
       "0        dANY        1      475-016  \\\n",
       "1        dANY        2      476-028   \n",
       "2        dANY        3      477-016   \n",
       "3        dANY        4      024-056   \n",
       "4        dANY        5      028-024   \n",
       "5         NaN        5  266-005-056   \n",
       "6        dANY        6  266-006-001   \n",
       "\n",
       "                                              NOMBRE   \n",
       "0                                   Sevoflurano 100%  \\\n",
       "1                                    Isoflurano 100%   \n",
       "2                                    Desflurano 100%   \n",
       "3                                Ketamina 500mg/10ml   \n",
       "4                             Propofol 500 mg/ 50 ml   \n",
       "5                             Propofol 500 mg/ 50 ml   \n",
       "6  Bupivacaina Clorhidrato sin Epinefrina sin pre...   \n",
       "\n",
       "                         CARACTERÍSTICAS SOLICITADAS        Presentación   \n",
       "0  100%. Solución para inhalación. Frasco 250 ml....              Frasco  \\\n",
       "1  100%. Solución para inhalación. Frasco 100-250...              Frasco   \n",
       "2  100%. Solución para inhalación. Frasco 240 ml....              Frasco   \n",
       "3  50 mg/ml. Solución inyectable. Vial 10 ml. Cot...                Vial   \n",
       "4  10 mg/ml. Emulsión inyectable, Jeringa prellen...  Jeringa prellenada   \n",
       "5  10 mg/ml. Emulsión inyectable, Jeringa prellen...                Vial   \n",
       "6  0.50%. Solución inyectable. Vial o ampolla 10 ...             Ampolla   \n",
       "\n",
       "  CANTIDAD ESTIMADA 24 MESES MSPAS      VIA DE ADMINISTRACIÓN   \n",
       "0                            13400                INHALATORIA  \\\n",
       "1                           700000                INHALATORIA   \n",
       "2                             1100                INHALATORIA   \n",
       "3                            37800  INTRAVENOSA-INTRAMUSCULAR   \n",
       "4                            30100                INTRAVENOSA   \n",
       "5                            30100                INTRAVENOSA   \n",
       "6                            52500                   EPIDURAL   \n",
       "\n",
       "  UNIDAD DE MEDIDA  RENGLÓN  AREA  CORRELATIVO   \n",
       "0           Unidad      266     4           41  \\\n",
       "1        Mililitro      266     4           81   \n",
       "2           Unidad      266     4          221   \n",
       "3           Unidad      266     4          244   \n",
       "4           Unidad      266     4          252   \n",
       "5           Unidad      266     4          252   \n",
       "6           Unidad      266     5           21   \n",
       "\n",
       "                                  RUBRO REQUIERE REGISTRA SANITARIO   \n",
       "0  ANESTESICOS GENERALES Y/O INDUCTORES                          SI  \\\n",
       "1  ANESTESICOS GENERALES Y/O INDUCTORES                          SI   \n",
       "2  ANESTESICOS GENERALES Y/O INDUCTORES                          SI   \n",
       "3  ANESTESICOS GENERALES Y/O INDUCTORES                          SI   \n",
       "4  ANESTESICOS GENERALES Y/O INDUCTORES                          SI   \n",
       "5  ANESTESICOS GENERALES Y/O INDUCTORES                          SI   \n",
       "6                   ANASTESICOS LOCALES                          SI   \n",
       "\n",
       "  Observaciones  \n",
       "0           NaN  \n",
       "1           NaN  \n",
       "2           NaN  \n",
       "3           NaN  \n",
       "4           NaN  \n",
       "5           NaN  \n",
       "6           NaN  "
      ]
     },
     "execution_count": 1,
     "metadata": {},
     "output_type": "execute_result"
    }
   ],
   "source": [
    "#Importar la informacion de listado de especificaciones técnicas\n",
    "import numpy as np\n",
    "import pandas as pd\n",
    "\n",
    "archivo = pd.read_excel(\"listado de especificaciones para proyecto.xlsx\", sheet_name= \"Especificaciones sin código ine\")\n",
    "medicamentos = archivo\n",
    "medicamentos.head(7)\n",
    "\n"
   ]
  },
  {
   "cell_type": "code",
   "execution_count": 17,
   "metadata": {},
   "outputs": [
    {
     "name": "stdout",
     "output_type": "stream",
     "text": [
      "\u001b[38;5;2m✔ Download and installation successful\u001b[0m\n",
      "You can now load the package via spacy.load('es_core_news_lg')\n"
     ]
    }
   ],
   "source": [
    "import spacy\n",
    "import spacy.cli\n",
    "spacy.cli.download(\"es_core_news_lg\")\n"
   ]
  },
  {
   "cell_type": "code",
   "execution_count": 55,
   "metadata": {},
   "outputs": [
    {
     "name": "stdout",
     "output_type": "stream",
     "text": [
      "['Jeringa Prellenada Ampolla Frasco Vial.']\n"
     ]
    }
   ],
   "source": [
    "import re\n",
    "\n",
    "texto = \"4,000 UI Solución Inyectable. (Sin Cadena de Frio) Jeringa Prellenada, Ampolla o Frasco Vial. Cotizar por Jeringa Prellenada Ampolla Frasco Vial.\"\n",
    "\n",
    "patron = re.compile(r\"Cotizar por\\s+(.*)\")\n",
    "\n",
    "resultados = patron.findall(texto)\n",
    "\n",
    "print(resultados)\n",
    "\n"
   ]
  },
  {
   "cell_type": "code",
   "execution_count": 58,
   "metadata": {},
   "outputs": [
    {
     "name": "stdout",
     "output_type": "stream",
     "text": [
      "['por', 'Jeringa', 'Prellenada', 'Ampolla', 'Frasco', 'Vial.']\n"
     ]
    }
   ],
   "source": [
    "import re\n",
    "\n",
    "texto = \"4,000 UI Solución Inyectable. (Sin Cadena de Frio) Jeringa Prellenada, Ampolla o Frasco Vial. Cotizar por Jeringa Prellenada Ampolla Frasco Vial.\"\n",
    "\n",
    "palabras = texto.split()\n",
    "\n",
    "resultados = palabras[palabras.index(\"Cotizar\") + 1:]\n",
    "\n",
    "print(resultados)\n"
   ]
  },
  {
   "cell_type": "code",
   "execution_count": 18,
   "metadata": {},
   "outputs": [],
   "source": [
    "nlp=spacy.load(\"es_core_news_lg\")"
   ]
  },
  {
   "cell_type": "code",
   "execution_count": null,
   "metadata": {},
   "outputs": [],
   "source": []
  },
  {
   "cell_type": "code",
   "execution_count": 2,
   "metadata": {},
   "outputs": [],
   "source": [
    "#Convertir características solicitadas a una lista\n",
    "lista_medicamentos = medicamentos[\"CARACTERÍSTICAS SOLICITADAS\"].tolist()"
   ]
  },
  {
   "cell_type": "code",
   "execution_count": 21,
   "metadata": {},
   "outputs": [],
   "source": [
    "corpus_caracteristicas=[]\n",
    "\n",
    "for doc in lista_medicamentos:\n",
    "    corpus_caracteristicas.append(nlp(doc))\n"
   ]
  },
  {
   "cell_type": "code",
   "execution_count": 48,
   "metadata": {},
   "outputs": [
    {
     "data": {
      "text/plain": [
       "[100%. Solución para inhalación. Frasco 250 ml. Cotizar por Frasco.,\n",
       " 100%. Solución para inhalación. Frasco 100-250 ml. Cotizar por Mililitro.,\n",
       " 100%. Solución para inhalación. Frasco 240 ml. Cotizar por Frasco.,\n",
       " 50 mg/ml. Solución inyectable. Vial 10 ml. Cotizar por vial.,\n",
       " 10 mg/ml. Emulsión inyectable, Jeringa prellenada o vial o ampolla de 50 ml. Cotizar por Jeringa Prellenada o vial o ampolla.,\n",
       " 10 mg/ml. Emulsión inyectable, Jeringa prellenada o vial o ampolla de 50 ml. Cotizar por Jeringa Prellenada o vial o ampolla.,\n",
       " 0.50%. Solución inyectable. Vial o ampolla 10 ml. Cotizar por Vial o ampolla. ,\n",
       " 0.50%. Solución inyectable. Vial o ampolla 4 ml. Cotizar por Vial o ampolla. ,\n",
       " 2% y 1:100,000 (20mg y 0.01mg/ml). Solución inyectable. Vial 50 mL. Cotizar por Vial.,\n",
       " 2%. Solución inyectable. Vial 50 mL. Cotizar por Vial.,\n",
       " 2%. Solución inyectable. Cartucho 1.8 ml. Cotizar por Cartucho.,\n",
       " 2% y 1:100,000. Solución inyectable. Cartucho 1.8 ml. Cotizar por Cartucho.,\n",
       " 2%. Solución inyectable. Ampolla o vial 10-20 ml.  Cotizar por Mililitro. ,\n",
       " 200 mg. Tableta/Comprimido o Tableta recubierta/Comprimido recubierto. Blister. Cotizar por Tableta/Comprimido o Tableta recubierta/Comprimido recubierto.,\n",
       " 400 mg. Tableta/Comprimido o Tableta recubierta/Comprimido recubierto. Blister. Cotizar por Tableta/Comprimido o Tableta recubierta/Comprimido recubierto.,\n",
       " 100 mg. Tableta/comprimido o Tableta recubierta/Comprimido recubierto o Cápsula.  Blister. Cotizar por Tableta/comprimido o Tableta recubierta/Comprimido recubierto o\n",
       " cápsula.,\n",
       " 50 mg/ml. Solución inyectable. Vial o\n",
       " Ampolla 5 ml. Cotizar por Vial o\n",
       " Ampolla.,\n",
       " 100 mg/ml. Solución Inyectable. Vial de\n",
       " 5 ml.  Cotizar por Vial.,\n",
       " 250 mg/5mI. Jarabe. Frasco 120 mL.\n",
       " Cotizar por Frasco.,\n",
       " 500 mg. Tableta/Comprimido. Blister. Cotizar por Tableta/Comprimido.,\n",
       " 100 mg/ml. Solución inyectable. Ampolla\n",
       " 2 ml. Cotizar por Ampolla.,\n",
       " 100 mg. Tableta/Comprimido. Blister. Cotizar por Tableta/Comprimido.,\n",
       " 400 mg. Tableta/Comprimido o Tableta recubierta/Comprimido recubierto o Cápsula. Blister. Cotizar por Tableta/Comprimido o Tableta recubierta/Comprimido recubierto o Cápsula.,\n",
       " 100 mg. Tableta/Comprimido o Tableta recubierta/Comprimido recubierto.\n",
       " Blister. Cotizar por Tableta/Comprimido o Tableta recubierta/Comprimido recubierto.,\n",
       " 300 mg. Tableta/Comprimido o Cápsula.\n",
       " Blister. Cotizar por\n",
       " Tableta/Comprimido o Cápsula.,\n",
       " 50 mg. Tableta/Comprimido o Tableta recubierta/Comprimido recubierto o Cápsula. Blister. Cotizar por\n",
       " Tableta/Comprimido o Tableta\n",
       " recubierta/Comprimido recubierto o Cápsula.,\n",
       " 0.4 mg/ml. Solución inyectable. Ampolla 1 ml. Cotizar por Ampolla.,\n",
       " 0.1mg/ml. Solución Inyectable. Ampolla 5ml. Cotizar por Ampolla.,\n",
       " 250 mg.  Tableta dispersable/Comprimido. Blister. Cotizar por tableta/Comprimido dispersable.,\n",
       " 2 mg. Tableta/Comprimido. Blister. Cotizar por tableta/Comprimido.,\n",
       " 10 ml. Agua estéril para uso parenteral.  Ampolla 10 ml.  Cotizar por Ampolla.,\n",
       " 1000 ml. Agua estéril para uso parenteral.  Bolsa o Frasco.  Cotizar por Bolsa o Frasco.,\n",
       " 0.9%. Solución para Inhalación.  Vial plástico o Ampolla plástica 15ml.  Cotizar por Vial plástico o Ampolla plástica.,\n",
       " 0.9%. Solución para Inhalación.  Vial plástico o Ampolla plástica 5ml.  Cotizar por Vial plástico o Ampolla plástica.,\n",
       " 0.9%. Solución inyectable.  Bolsa o frasco 50 ml. Cotizar por Bolsa o Frasco.,\n",
       " 10%, Solución inyectable, Frasco 250-500 ml.  Cotizar por Mililitro.,\n",
       " 10%, Solución inyectable, Frasco 500 ml.  Cotizar por Frasco.,\n",
       " Aminoácidos con Electrolitos 10%.  Solución inyectable.  Frasco de 500 ml.  Cotizar por Frasco.,\n",
       " 10%  Solución inyectable, Frasco 250-500 ml. Cotizar por Mililitro.,\n",
       " 50%.  Solución Inyectable.  Ampolla 10 ml.  Cotizar por Ampolla.,\n",
       " 10%. Solución inyectable.  Ampolla 10 ml. Cotizar  por Ampolla.          ,\n",
       " 5%. (Isotónica). Solución inyectable. Bolsa o Frasco 250 ml. Cotizar por Bolsa o Frasco.,\n",
       " 5%. (Isotónica).  Solución inyectable, Bolsa o frasco 500 ml. Cotizar por Bolsa o Frasco.,\n",
       " 5%. (Isotónica).  Solución inyectable, Bolsa o frasco 1000 ml. Cotizar por Bolsa o Frasco.,\n",
       " 10%. (Hipertónica). Solución inyectable. Bolsa a Frasco 500 ml. Cotizar por Bolsa o Frasco.,\n",
       " 10%. (Hipertónica). Solución inyectable. Bolsa a Frasco 1000 ml. Cotizar por Bolsa o Frasco.,\n",
       " 10%. (Hipertónica). Solución inyectable. Bolsa a Frasco 250 ml. Cotizar por Bolsa o Frasco.,\n",
       " 30%. (Hipertónica). Solución inyectable. Bolsa a Frasco 250 ml. Cotizar por Bolsa o Frasco.,\n",
       " 50%. (Hipertónica). Solución inyectable. Bolsa a Frasco 500 ml. Cotizar por Frasco o Bolsa.,\n",
       " 20 % MCT/LCT  Emulsión Frasco o Bolsa de 500 ml. Cotizar por Frasco o Bolsa.,\n",
       " 20% mct/Ict/omega 3/aceite de oliva. Emulsión Frasco de 500 ml. Cotizar por Frasco.,\n",
       " OIigoelementos.  Solución inyectable Cloruro ferroso + Cloruro de zinc + Cloruro magnésico + Cloruro cúprico + Cloruro de cromo + Dihidrato de molibdato sódico + Pentahidrato de selenita sódica + Fluoruro sódico +Yoduro potásico.  Vial o Ampolla 10 ml. Cotizar por Vial o Ampolla.,\n",
       " 1g-1.5g. Solución inyectable. Ampolla. Cotizar por Gramo.,\n",
       " 7.50% (75 mg/ml).  Solución inyectable. Vial 50 mI. Cotizar por vial.,\n",
       " 0.9%. Solución inyectable. Bolsa o Frasco 250 ml. Cotizar por Bolsa o Frasco.,\n",
       " 0.45% Solución inyectable. Bolsa o frasco 1000 ml. Cotizar por Bolsa o Frasco.,\n",
       " 0.9% Solución inyectable. Minibag plus 100 ml con adaptador para Vial. Cotizar por Minibag plus con adaptador para Vial.,\n",
       " 3.33 g + 0.3 g/100ml. Solución inyectable. Bolsa o Frasco 250 ml. Cotizar por Bolsa o Frasco ,\n",
       " 2.5g + 0.45g/100ml. Solución Parenteral. Bolsa o Frasco 250 ml. Cotizar por Bolsa o Frasco,\n",
       " 2.5g + 0.45g/100ml. Solución inyectable. Bolsa o Frasco 500 ml. Cotizar por Bolsa o Frasco,\n",
       " 3.3g + 0.3g/100ml. Solución inyectable. Bolsa o Frasco 500 ml. Cotizar por Bolsa o Frasco,\n",
       " 3.5%. Solución inyectable. Frasco o Bolsa. 500 ml. Cotizar por Frasco o Bolsa,\n",
       " Bolsa de 1,000 a 1,250 ml. Emulsión. Intravenosa Central. Cotizar por bolsa.,\n",
       " Bolsa de 1,000 a 1,440 ml. Emulsión. Intravenosa Central. Cotizar por bolsa.,\n",
       " 20% (0.2g/ml). Solución inyectable. Ampolla 10 ml. Cotizar por Ampolla.,\n",
       " 0.9% + 5%. Solución inyectable. Bolsa o Frasco 1000ml. Cotizar por Bolsa o Frasco,\n",
       " 0.9% + 5%. Solución inyectable. Bolsa o Frasco 500ml. Cotizar por Bolsa o Frasco,\n",
       " 4% Solución inyectable. Frasco o Bolsa de 500 ml. Cotizador por Frasco o Bolsa.,\n",
       " 6% Solución inyectable. Frasco o Bolsa 500ml. Cotizar por Frasco o Bolsa.,\n",
       " 50% Solución inyectable. Ampolla 2ml. Cotizar por Ampolla.,\n",
       " 3.5g + 2.9g + 1.5g + 20g. Polvo para Solución Oral. Sobre para reconstituir 1L, Cotizar por Sobre. ,\n",
       " 4,000 UI Solución Inyectable. (Cadena de Frio) Jeringa Prellenada, Ampolla o Frasco Vial. Cotizar por Jeringa Prellenada o Ampolla o Frasco Vial.,\n",
       " 4,000 UI Solución Inyectable. (Sin Cadena de Frio) Jeringa Prellenada, Ampolla o Frasco Vial. Cotizar por Jeringa Prellenada o Ampolla o Frasco Vial.,\n",
       " 4 mg/5 ml.  Solución oral o Jarabe.  Frasco 120 ml.  Cotizar por Frasco.,\n",
       " 50 mg/1 ml.  Solución Oral.  Frasco 30 ml. Cotizar por Frasco.,\n",
       " 100 mg/5 ml. Jarabe. Frasco de 120 ml. Cotizar por Frasco,\n",
       " 7.5 mg/ml. Solución inyectable. Ampolla 2 ml. Cotizar por ampolla,\n",
       " 0.2 mg/ml. Solución inyectable. Ampolla 1 ml. Cotizar por Ampolla.,\n",
       " 5 UI/ml. Solución inyectable. Ampolla 1 ml. Cotizar por Ampolla.,\n",
       " 100 mcg/ml. Solución inyectable.\n",
       " Ampolla 1 ml. Cotizar por Ampolla.,\n",
       " 100 mg. Tableta/Comprimido o Tableta recubierta/Comprimido recubierto. Blister. Cotizar por Tableta/Comprimido o Tableta recubierta/Comprimido recubierto,\n",
       " 5 mg. Tableta/Comprimido o Tableta recubierta/Comprimido recubierto. Blister. Cotizar por Tableta/Comprimido o Tableta recubierta/Comprimido recubierto.,\n",
       " 5 mg/ml. Solución Inyectable. Ampolla 1 ml. Cotizar por Ampolla.,\n",
       " 100 mg. Tableta/Comprimido. Blister. Cotizar por Tableta/Comprimido.,\n",
       " 2 mg. Tableta recubierta/Comprimido recubierto. Blister. Cotizar por Tableta recubierta/Comprimido recubierto.,\n",
       " 10 mg. Tableta recubierta/Comprimido recubierto. Blister. Cotizar por Tableta recubierta/Comprimido recubierto.,\n",
       " 300 mg. Tableta recubierta/Comprimido recubierto. Blister. Cotizar por Tableta recubierta/Comprimido recubierto.,\n",
       " 0.5 mg. Tableta/Comprimido. Blister. Cotizar por Tableta/Comprimido.,\n",
       " 2 mg. Tableta/Comprimido o Tableta recubierta/Comprimido recubierto. Blister. Cotizar por Tableta/Comprimido o Tableta recubierta/Comprimido recubierto.,\n",
       " 5 mg/ml.  Solución inyectable. Ampolla 2 ml. Cotizar por Ampolla.,\n",
       " 2 mg/ml. Solución inyectable. Ampolla de 2 ml. Cotizar por Ampolla.,\n",
       " 80 mg/1 mL. Suspensión estéril endotraqueopulmonar. Vial. Cotizar por Vial.,\n",
       " 25mg/mL. Suspensión estéril endotraqueopulmonar. Vial. Cotizar por\n",
       " Vial.,\n",
       " 10 mg/ml. Solución inyectable.  Ampolla 5 ml. Cotizar por Ampolla.]"
      ]
     },
     "execution_count": 48,
     "metadata": {},
     "output_type": "execute_result"
    }
   ],
   "source": [
    "corpus_caracteristicas"
   ]
  },
  {
   "cell_type": "code",
   "execution_count": 35,
   "metadata": {},
   "outputs": [
    {
     "data": {
      "text/plain": [
       "['100% . Solución inhalación . Frasco 250 ml . Cotizar Frasco .',\n",
       " '100% . Solución inhalación . Frasco 100-250 ml . Cotizar Mililitro .',\n",
       " '100% . Solución inhalación . Frasco 240 ml . Cotizar Frasco .',\n",
       " '50 mg / ml . Solución inyectable . Vial 10 ml . Cotizar vial .',\n",
       " '10 mg / ml . Emulsión inyectable , Jeringa prellenada vial ampolla 50 ml . Cotizar Jeringa Prellenada vial ampolla .',\n",
       " '10 mg / ml . Emulsión inyectable , Jeringa prellenada vial ampolla 50 ml . Cotizar Jeringa Prellenada vial ampolla .',\n",
       " '0.50% . Solución inyectable . Vial ampolla 10 ml . Cotizar Vial ampolla .',\n",
       " '0.50% . Solución inyectable . Vial ampolla 4 ml . Cotizar Vial ampolla .',\n",
       " '2% 1:100,000 ( 20 mg 0.01mg / ml ) . Solución inyectable . Vial 50 mL. Cotizar Vial .',\n",
       " '2% . Solución inyectable . Vial 50 mL. Cotizar Vial .',\n",
       " '2% . Solución inyectable . Cartucho 1.8 ml . Cotizar Cartucho .',\n",
       " '2% 1:100,000 . Solución inyectable . Cartucho 1.8 ml . Cotizar Cartucho .',\n",
       " '2% . Solución inyectable . Ampolla vial 10-20 ml .   Cotizar Mililitro .',\n",
       " '200 mg . Tableta / Comprimido Tableta recubierta / Comprimido recubierto . Blister . Cotizar Tableta / Comprimido Tableta recubierta / Comprimido recubierto .',\n",
       " '400 mg . Tableta / Comprimido Tableta recubierta / Comprimido recubierto . Blister . Cotizar Tableta / Comprimido Tableta recubierta / Comprimido recubierto .',\n",
       " '100 mg . Tableta / comprimido Tableta recubierta / Comprimido recubierto Cápsula .   Blister . Cotizar Tableta / comprimido Tableta recubierta / Comprimido recubierto \\n cápsula .',\n",
       " '50 mg / ml . Solución inyectable . Vial \\n Ampolla 5 ml . Cotizar Vial \\n Ampolla .',\n",
       " '100 mg / ml . Solución Inyectable . Vial \\n 5 ml .   Cotizar Vial .',\n",
       " '250 mg/5mI. Jarabe . Frasco 120 mL. \\n Cotizar Frasco .',\n",
       " '500 mg . Tableta / Comprimido . Blister . Cotizar Tableta / Comprimido .',\n",
       " '100 mg / ml . Solución inyectable . Ampolla \\n 2 ml . Cotizar Ampolla .',\n",
       " '100 mg . Tableta / Comprimido . Blister . Cotizar Tableta / Comprimido .',\n",
       " '400 mg . Tableta / Comprimido Tableta recubierta / Comprimido recubierto Cápsula . Blister . Cotizar Tableta / Comprimido Tableta recubierta / Comprimido recubierto Cápsula .',\n",
       " '100 mg . Tableta / Comprimido Tableta recubierta / Comprimido recubierto . \\n Blister . Cotizar Tableta / Comprimido Tableta recubierta / Comprimido recubierto .',\n",
       " '300 mg . Tableta / Comprimido Cápsula . \\n Blister . Cotizar \\n Tableta / Comprimido Cápsula .',\n",
       " '50 mg . Tableta / Comprimido Tableta recubierta / Comprimido recubierto Cápsula . Blister . Cotizar \\n Tableta / Comprimido Tableta \\n recubierta / Comprimido recubierto Cápsula .',\n",
       " '0.4 mg / ml . Solución inyectable . Ampolla 1 ml . Cotizar Ampolla .',\n",
       " '0.1mg / ml . Solución Inyectable . Ampolla 5ml . Cotizar Ampolla .',\n",
       " '250 mg .   Tableta dispersable / Comprimido . Blister . Cotizar tableta / Comprimido dispersable .',\n",
       " '2 mg . Tableta / Comprimido . Blister . Cotizar tableta / Comprimido .',\n",
       " '10 ml . Agua estéril parenteral .   Ampolla 10 ml .   Cotizar Ampolla .',\n",
       " '1000 ml . Agua estéril parenteral .   Bolsa Frasco .   Cotizar Bolsa Frasco .',\n",
       " '0.9% . Solución Inhalación .   Vial plástico Ampolla plástica 15ml .   Cotizar Vial plástico Ampolla plástica .',\n",
       " '0.9% . Solución Inhalación .   Vial plástico Ampolla plástica 5ml .   Cotizar Vial plástico Ampolla plástica .',\n",
       " '0.9% . Solución inyectable .   Bolsa frasco 50 ml . Cotizar Bolsa Frasco .',\n",
       " '10% , Solución inyectable , Frasco 250-500 ml .   Cotizar Mililitro .',\n",
       " '10% , Solución inyectable , Frasco 500 ml .   Cotizar Frasco .',\n",
       " 'Aminoácidos Electrolitos 10% .   Solución inyectable .   Frasco 500 ml .   Cotizar Frasco .',\n",
       " '10%   Solución inyectable , Frasco 250-500 ml . Cotizar Mililitro .',\n",
       " '50% .   Solución Inyectable .   Ampolla 10 ml .   Cotizar Ampolla .',\n",
       " '10% . Solución inyectable .   Ampolla 10 ml . \\xa0 Cotizar \\xa0  \\xa0 Ampolla .',\n",
       " '5% . ( Isotónica ) . Solución inyectable . Bolsa Frasco 250 ml . Cotizar Bolsa Frasco .',\n",
       " '5% . ( Isotónica ) .   Solución inyectable , Bolsa frasco 500 ml . Cotizar Bolsa Frasco .',\n",
       " '5% . ( Isotónica ) .   Solución inyectable , Bolsa frasco 1000 ml . Cotizar Bolsa Frasco .',\n",
       " '10% . ( Hipertónica ) . Solución inyectable . Bolsa Frasco 500 ml . Cotizar Bolsa Frasco .',\n",
       " '10% . ( Hipertónica ) . Solución inyectable . Bolsa Frasco 1000 ml . Cotizar Bolsa Frasco .',\n",
       " '10% . ( Hipertónica ) . Solución inyectable . Bolsa Frasco 250 ml . Cotizar Bolsa Frasco .',\n",
       " '30% . ( Hipertónica ) . Solución inyectable . Bolsa Frasco 250 ml . Cotizar Bolsa Frasco .',\n",
       " '50% . ( Hipertónica ) . Solución inyectable . Bolsa Frasco 500 ml . Cotizar Frasco Bolsa .',\n",
       " '20 % MCT / LCT   Emulsión Frasco Bolsa 500 ml . Cotizar Frasco Bolsa .',\n",
       " '20% mct / Ict / omega 3 / aceite oliva . Emulsión Frasco 500 ml . Cotizar Frasco .',\n",
       " 'OIigoelementos .   Solución inyectable Cloruro ferroso + Cloruro zinc + Cloruro magnésico + Cloruro cúprico + Cloruro cromo + Dihidrato molibdato sódico + Pentahidrato selenita sódica + Fluoruro sódico + Yoduro potásico .   Vial Ampolla 10 ml . Cotizar Vial Ampolla .',\n",
       " '1g-1.5 g. Solución inyectable . Ampolla . Cotizar Gramo .',\n",
       " '7.50% ( 75 mg / ml ) .   Solución inyectable . Vial 50 mI. Cotizar vial .',\n",
       " '0.9% . Solución inyectable . Bolsa Frasco 250 ml . Cotizar Bolsa Frasco .',\n",
       " '0.45% Solución inyectable . Bolsa frasco 1000 ml . Cotizar Bolsa Frasco .',\n",
       " '0.9% Solución inyectable . Minibag plus 100 ml adaptador Vial . Cotizar Minibag plus adaptador Vial .',\n",
       " '3.33 g + 0.3 g/100ml . Solución inyectable . Bolsa Frasco 250 ml . Cotizar Bolsa Frasco',\n",
       " '2.5 g + 0.45g/100ml . Solución Parenteral . Bolsa Frasco 250 ml . Cotizar Bolsa Frasco',\n",
       " '2.5 g + 0.45g/100ml . Solución inyectable . Bolsa Frasco 500 ml . Cotizar Bolsa Frasco',\n",
       " '3.3 g + 0.3g/100ml . Solución inyectable . Bolsa Frasco 500 ml . Cotizar Bolsa Frasco',\n",
       " '3.5% . Solución inyectable . Frasco Bolsa . 500 ml . Cotizar Frasco Bolsa',\n",
       " 'Bolsa 1,000 1,250 ml . Emulsión . Intravenosa Central . Cotizar bolsa .',\n",
       " 'Bolsa 1,000 1,440 ml . Emulsión . Intravenosa Central . Cotizar bolsa .',\n",
       " '20% ( 0.2g / ml ) . Solución inyectable . Ampolla 10 ml . Cotizar Ampolla .',\n",
       " '0.9% + 5% . Solución inyectable . Bolsa Frasco 1000ml . Cotizar Bolsa Frasco',\n",
       " '0.9% + 5% . Solución inyectable . Bolsa Frasco 500ml . Cotizar Bolsa Frasco',\n",
       " '4% Solución inyectable . Frasco Bolsa 500 ml . Cotizador Frasco Bolsa .',\n",
       " '6% Solución inyectable . Frasco Bolsa 500ml . Cotizar Frasco Bolsa .',\n",
       " '50% Solución inyectable . Ampolla 2ml . Cotizar Ampolla .',\n",
       " '3.5 g + 2.9 g + 1.5 g + 20 g. Polvo Solución Oral . reconstituir 1L , Cotizar .',\n",
       " '4,000 UI Solución Inyectable . ( Cadena Frio ) Jeringa Prellenada , Ampolla Frasco Vial . Cotizar Jeringa Prellenada Ampolla Frasco Vial .',\n",
       " '4,000 UI Solución Inyectable . ( Cadena Frio ) Jeringa Prellenada , Ampolla Frasco Vial . Cotizar Jeringa Prellenada Ampolla Frasco Vial .',\n",
       " '4 mg/5 ml .   Solución oral Jarabe .   Frasco 120 ml .   Cotizar Frasco .',\n",
       " '50 mg/1 ml .   Solución Oral .   Frasco 30 ml . Cotizar Frasco .',\n",
       " '100 mg/5 ml . Jarabe . Frasco 120 ml . Cotizar Frasco',\n",
       " '7.5 mg / ml . Solución inyectable . Ampolla 2 ml . Cotizar ampolla',\n",
       " '0.2 mg / ml . Solución inyectable . Ampolla 1 ml . Cotizar Ampolla .',\n",
       " '5 UI / ml . Solución inyectable . Ampolla 1 ml . Cotizar Ampolla .',\n",
       " '100 mcg / ml . Solución inyectable . \\n Ampolla 1 ml . Cotizar Ampolla .',\n",
       " '100 mg . Tableta / Comprimido Tableta recubierta / Comprimido recubierto . Blister . Cotizar Tableta / Comprimido Tableta recubierta / Comprimido recubierto',\n",
       " '5 mg . Tableta / Comprimido Tableta recubierta / Comprimido recubierto . Blister . Cotizar Tableta / Comprimido Tableta recubierta / Comprimido recubierto .',\n",
       " '5 mg / ml . Solución Inyectable . Ampolla 1 ml . Cotizar Ampolla .',\n",
       " '100 mg . Tableta / Comprimido . Blister . Cotizar Tableta / Comprimido .',\n",
       " '2 mg . Tableta recubierta / Comprimido recubierto . Blister . Cotizar Tableta recubierta / Comprimido recubierto .',\n",
       " '10 mg . Tableta recubierta / Comprimido recubierto . Blister . Cotizar Tableta recubierta / Comprimido recubierto .',\n",
       " '300 mg . Tableta recubierta / Comprimido recubierto . Blister . Cotizar Tableta recubierta / Comprimido recubierto .',\n",
       " '0.5 mg . Tableta / Comprimido . Blister . Cotizar Tableta / Comprimido .',\n",
       " '2 mg . Tableta / Comprimido Tableta recubierta / Comprimido recubierto . Blister . Cotizar Tableta / Comprimido Tableta recubierta / Comprimido recubierto .',\n",
       " '5 mg / ml .   Solución inyectable . Ampolla 2 ml . Cotizar Ampolla .',\n",
       " '2 mg / ml . Solución inyectable . Ampolla 2 ml . Cotizar Ampolla .',\n",
       " '80 mg/1 mL. Suspensión estéril endotraqueopulmonar . Vial . Cotizar Vial .',\n",
       " '25mg / mL. Suspensión estéril endotraqueopulmonar . Vial . Cotizar \\n Vial .',\n",
       " '10 mg / ml . Solución inyectable .   Ampolla 5 ml . Cotizar Ampolla .']"
      ]
     },
     "execution_count": 35,
     "metadata": {},
     "output_type": "execute_result"
    }
   ],
   "source": [
    "newCorpus = []\n",
    "for doc in corpus_caracteristicas:\n",
    "        s = ''\n",
    "        for token in doc:\n",
    "                if(token.is_stop == False):\n",
    "                    s = s + token.text + ' '\n",
    "        newCorpus.append(s.strip())\n",
    "newCorpus"
   ]
  },
  {
   "cell_type": "code",
   "execution_count": 29,
   "metadata": {},
   "outputs": [
    {
     "name": "stdout",
     "output_type": "stream",
     "text": [
      "Solución para inhalación // MISC\n",
      "Frasco 250 ml // MISC\n",
      "Cotizar por Frasco // MISC\n",
      "Solución para inhalación // MISC\n",
      "Frasco 100-250 ml // MISC\n",
      "Cotizar por Mililitro // MISC\n",
      "Solución para inhalación // MISC\n",
      "Frasco 240 ml // MISC\n",
      "Cotizar por Frasco // MISC\n",
      "Solución inyectable // MISC\n",
      "Vial 10 ml // MISC\n",
      "Cotizar por vial // MISC\n",
      "Emulsión inyectable // MISC\n",
      "Jeringa // MISC\n",
      "Cotizar por Jeringa Prellenada // MISC\n",
      "Emulsión inyectable // MISC\n",
      "Jeringa // MISC\n",
      "Cotizar por Jeringa Prellenada // MISC\n",
      "Solución inyectable // MISC\n",
      "Vial // PER\n",
      "Cotizar por Vial // MISC\n",
      "Solución inyectable // MISC\n",
      "Vial // PER\n",
      "Cotizar por Vial // MISC\n",
      "1:100,000 // MISC\n",
      "Solución inyectable // MISC\n",
      "Vial // MISC\n",
      "Cotizar por Vial // MISC\n",
      "Solución inyectable // MISC\n",
      "Vial // MISC\n",
      "Cotizar por Vial // MISC\n",
      "Solución // MISC\n",
      "Cartucho 1.8 // MISC\n",
      "Cotizar por Cartucho // MISC\n",
      "1:100,000 // MISC\n",
      "Solución // MISC\n",
      "Cartucho 1.8 // MISC\n",
      "Cotizar por Cartucho // MISC\n",
      "Solución inyectable // MISC\n",
      "Ampolla // LOC\n",
      "Cotizar // MISC\n",
      "Mililitro // PER\n",
      "Tableta/Comprimido // MISC\n",
      "Tableta recubierta/Comprimido // MISC\n",
      "Blister // MISC\n",
      "Cotizar por Tableta/Comprimido // MISC\n",
      "Tableta recubierta/Comprimido // MISC\n",
      "Tableta/Comprimido // MISC\n",
      "Tableta recubierta/Comprimido // MISC\n",
      "Blister // MISC\n",
      "Cotizar por Tableta/Comprimido // MISC\n",
      "Tableta recubierta/Comprimido // MISC\n",
      "Tableta recubierta/Comprimido // MISC\n",
      "Cápsula.   // MISC\n",
      "Blister // MISC\n",
      "Cotizar por Tableta // MISC\n",
      "Tableta recubierta/Comprimido // MISC\n",
      "Solución inyectable // MISC\n",
      "Vial // PER\n",
      "Ampolla // LOC\n",
      "Cotizar por Vial // MISC\n",
      "Ampolla // LOC\n",
      "Solución Inyectable // MISC\n",
      "Vial de\n",
      "5 ml // MISC\n",
      "Cotizar por Vial // MISC\n",
      "250 mg/5mI. Jarabe // MISC\n",
      "Frasco // MISC\n",
      "Cotizar // MISC\n",
      "Frasco // PER\n",
      "Tableta/Comprimido // MISC\n",
      "Blister // MISC\n",
      "Cotizar por Tableta/Comprimido // MISC\n",
      "Solución inyectable // MISC\n",
      "Ampolla // LOC\n",
      "Cotizar por Ampolla // MISC\n",
      "Tableta/Comprimido // MISC\n",
      "Blister // MISC\n",
      "Cotizar por Tableta/Comprimido // MISC\n",
      "Tableta/Comprimido // MISC\n",
      "Tableta recubierta/Comprimido // MISC\n",
      "Cápsula. // MISC\n",
      "Blister // MISC\n",
      "Cotizar por Tableta/Comprimido // MISC\n",
      "Tableta recubierta/Comprimido // MISC\n",
      "Cápsula // LOC\n",
      "Tableta/Comprimido // MISC\n",
      "Tableta recubierta/Comprimido // MISC\n",
      "Blister // MISC\n",
      "Cotizar por Tableta/Comprimido // MISC\n",
      "Tableta recubierta/Comprimido // MISC\n",
      "Tableta/Comprimido // MISC\n",
      "Blister // MISC\n",
      "Cotizar por\n",
      "Tableta/Comprimido o Cápsula // MISC\n",
      "Tableta/Comprimido // MISC\n",
      "Tableta recubierta/Comprimido // MISC\n",
      "Cápsula. // MISC\n",
      "Blister // MISC\n",
      "Cotizar por\n",
      "Tableta/Comprimido o Tableta\n",
      "recubierta/Comprimido recubierto // MISC\n",
      "Cápsula // LOC\n",
      "0.4 // MISC\n",
      "Solución inyectable // MISC\n",
      "Ampolla // LOC\n",
      "Cotizar // MISC\n",
      "Ampolla // LOC\n",
      "0.1mg // LOC\n",
      "Solución Inyectable // MISC\n",
      "Ampolla // MISC\n",
      "Cotizar // PER\n",
      "Ampolla // LOC\n",
      "Comprimido // MISC\n",
      "Blister // MISC\n",
      "Cotizar por tableta // MISC\n",
      "Comprimido // MISC\n",
      "Tableta/Comprimido // MISC\n",
      "Blister // MISC\n",
      "Cotizar por tableta/Comprimido // MISC\n",
      "Agua estéril // MISC\n",
      "Ampolla // LOC\n",
      "Cotizar // MISC\n",
      "Ampolla // LOC\n",
      "Agua // MISC\n",
      "Bolsa // ORG\n",
      "Frasco // PER\n",
      "Cotizar por Bolsa // MISC\n",
      "Frasco // PER\n",
      "Solución para Inhalación.   // MISC\n",
      "Ampolla // LOC\n",
      "Cotizar por Vial // MISC\n",
      "Ampolla // LOC\n",
      "Solución para Inhalación.   // MISC\n",
      "Ampolla // LOC\n",
      "Cotizar por Vial // MISC\n",
      "Ampolla // LOC\n",
      "Solución inyectable // MISC\n",
      "Bolsa // ORG\n",
      "Cotizar por Bolsa // MISC\n",
      "Frasco // PER\n",
      "Solución // MISC\n",
      "Frasco // PER\n",
      "Cotizar // MISC\n",
      "Mililitro // PER\n",
      "Solución // MISC\n",
      "Frasco 500 ml // MISC\n",
      "Cotizar // MISC\n",
      "Frasco // PER\n",
      "Electrolitos // LOC\n",
      "Solución // MISC\n",
      "Frasco // LOC\n",
      "Cotizar // MISC\n",
      "Frasco // PER\n",
      "Solución // MISC\n",
      "Frasco // PER\n",
      "Cotizar por Mililitro // MISC\n",
      "Solución Inyectable // MISC\n",
      "Ampolla // LOC\n",
      "Cotizar // MISC\n",
      "Ampolla // LOC\n",
      "Solución inyectable // MISC\n",
      "Ampolla // LOC\n",
      "Cotizar // MISC\n",
      "Ampolla // LOC\n",
      "Isotónica // LOC\n",
      "Solución inyectable // MISC\n",
      "Bolsa // ORG\n",
      "Frasco // MISC\n",
      "Cotizar por Bolsa // MISC\n",
      "Frasco // PER\n",
      "Isotónica // LOC\n",
      "Solución // MISC\n",
      "Bolsa // ORG\n",
      "Cotizar por Bolsa // MISC\n",
      "Frasco // PER\n",
      "Isotónica // LOC\n",
      "Solución // MISC\n",
      "Bolsa // ORG\n",
      "Cotizar por Bolsa // MISC\n",
      "Frasco // PER\n",
      "Hipertónica // LOC\n",
      "Solución inyectable // MISC\n",
      "Bolsa a Frasco // MISC\n",
      "Cotizar por Bolsa // MISC\n",
      "Frasco // PER\n",
      "Hipertónica // LOC\n",
      "Solución inyectable // MISC\n",
      "Bolsa a Frasco 1000 ml // MISC\n",
      "Cotizar por Bolsa // MISC\n",
      "Frasco // PER\n",
      "Hipertónica // LOC\n",
      "Solución inyectable // MISC\n",
      "Bolsa a Frasco // MISC\n",
      "Cotizar por Bolsa // MISC\n",
      "Frasco // PER\n",
      "Hipertónica // LOC\n",
      "Solución inyectable // MISC\n",
      "Bolsa a Frasco // MISC\n",
      "Cotizar por Bolsa // MISC\n",
      "Frasco // PER\n",
      "Hipertónica // LOC\n",
      "Solución inyectable // MISC\n",
      "Bolsa a Frasco // MISC\n",
      "Cotizar por Frasco // MISC\n",
      "Bolsa // ORG\n",
      "LCT  Emulsión Frasco // LOC\n",
      "Bolsa // ORG\n",
      "Cotizar por Frasco // MISC\n",
      "Bolsa // ORG\n",
      "Ict // MISC\n",
      "Emulsión Frasco // MISC\n",
      "Cotizar por Frasco // MISC\n",
      "OIigoelementos // MISC\n",
      "Solución // MISC\n",
      "Cloruro ferroso + Cloruro de zinc + Cloruro magnésico + Cloruro cúprico + Cloruro de cromo + Dihidrato // MISC\n",
      "Vial // LOC\n",
      "Ampolla // LOC\n",
      "Cotizar por Vial // MISC\n",
      "Ampolla // LOC\n",
      "Ampolla // LOC\n",
      "Cotizar // LOC\n",
      "Gramo // PER\n",
      "Solución // MISC\n",
      "Vial 50 mI. Cotizar // MISC\n",
      "Solución inyectable // MISC\n",
      "Bolsa // ORG\n",
      "Frasco // MISC\n",
      "Cotizar por Bolsa // MISC\n",
      "Frasco // PER\n",
      "Solución // MISC\n",
      "Bolsa o frasco 1000 ml // MISC\n",
      "Cotizar por Bolsa // MISC\n",
      "Frasco // PER\n",
      "Solución // MISC\n",
      "Minibag // LOC\n",
      "Vial // PER\n",
      "Cotizar // MISC\n",
      "Minibag // LOC\n",
      "Vial // PER\n",
      "Solución inyectable // MISC\n",
      "Bolsa // ORG\n",
      "Frasco // MISC\n",
      "Cotizar por Bolsa // MISC\n",
      "Frasco // PER\n",
      "Solución Parenteral // MISC\n",
      "Bolsa // ORG\n",
      "Frasco // LOC\n",
      "Cotizar por Bolsa // MISC\n",
      "Frasco // PER\n",
      "Solución inyectable // MISC\n",
      "Bolsa // ORG\n",
      "Frasco // MISC\n",
      "Cotizar por Bolsa // MISC\n",
      "Frasco // PER\n",
      "Solución inyectable // MISC\n",
      "Bolsa // ORG\n",
      "Frasco // MISC\n",
      "Cotizar por Bolsa // MISC\n",
      "Frasco // PER\n",
      "Solución // MISC\n",
      "Frasco // MISC\n",
      "Bolsa // LOC\n",
      "Cotizar por Frasco // MISC\n",
      "Bolsa // ORG\n",
      "Emulsión // MISC\n",
      "Intravenosa Central // MISC\n",
      "Cotizar por bolsa // MISC\n",
      "Emulsión // MISC\n",
      "Intravenosa Central // MISC\n",
      "Cotizar por bolsa // MISC\n",
      "Solución inyectable // MISC\n",
      "Ampolla // LOC\n",
      "Cotizar // MISC\n",
      "Ampolla // LOC\n",
      "Solución inyectable // MISC\n",
      "Bolsa // ORG\n",
      "Frasco // LOC\n",
      "Cotizar por Bolsa // MISC\n",
      "Frasco // PER\n",
      "Solución inyectable // MISC\n",
      "Bolsa // ORG\n",
      "Frasco // PER\n",
      "Cotizar por Bolsa // MISC\n",
      "Frasco // PER\n",
      "Solución // MISC\n",
      "Frasco // MISC\n",
      "Bolsa // ORG\n",
      "Cotizador por Frasco // MISC\n",
      "Bolsa // ORG\n",
      "Solución // MISC\n",
      "Frasco // MISC\n",
      "Bolsa // ORG\n",
      "Cotizar por Frasco // MISC\n",
      "Bolsa // ORG\n",
      "Solución // MISC\n",
      "Ampolla // LOC\n",
      "Cotizar // MISC\n",
      "Ampolla // LOC\n",
      "3.5g + 2.9g + 1.5g + 20g. Polvo para Solución Oral // MISC\n",
      "Cotizar por Sobre // MISC\n",
      "UI Solución Inyectable // MISC\n",
      "Cadena de Frio // LOC\n",
      "Jeringa Prellenada // LOC\n",
      "Ampolla // LOC\n",
      "Frasco Vial // LOC\n",
      "Cotizar // PER\n",
      "Jeringa Prellenada // PER\n",
      "Ampolla // LOC\n",
      "Frasco Vial // LOC\n",
      "UI Solución Inyectable // MISC\n",
      "Sin Cadena de Frio // MISC\n",
      "Jeringa Prellenada // LOC\n",
      "Ampolla // LOC\n",
      "Frasco Vial // LOC\n",
      "Cotizar // PER\n",
      "Jeringa Prellenada // PER\n",
      "Ampolla // LOC\n",
      "Frasco Vial // LOC\n",
      "Solución oral // MISC\n",
      "Jarabe // MISC\n",
      "Frasco // LOC\n",
      "Cotizar // MISC\n",
      "Frasco // PER\n",
      "Solución Oral.   // MISC\n",
      "Cotizar por Frasco // MISC\n",
      "Jarabe // MISC\n",
      "Cotizar // PER\n",
      "Frasco // PER\n",
      "Solución inyectable // MISC\n",
      "Ampolla // LOC\n",
      "Cotizar por ampolla // MISC\n",
      "0.2 // MISC\n",
      "Solución inyectable // MISC\n",
      "Ampolla // LOC\n",
      "Cotizar // MISC\n",
      "Ampolla // LOC\n",
      "UI // MISC\n",
      "Solución inyectable // MISC\n",
      "Ampolla // LOC\n",
      "Cotizar // MISC\n",
      "Ampolla // LOC\n",
      "Solución inyectable // MISC\n",
      "Ampolla // LOC\n",
      "Cotizar // MISC\n",
      "Ampolla // LOC\n",
      "Tableta/Comprimido // MISC\n",
      "Tableta recubierta/Comprimido // MISC\n",
      "Blister // MISC\n",
      "Cotizar por Tableta/Comprimido // MISC\n",
      "Tableta recubierta/Comprimido // MISC\n",
      "Tableta/Comprimido // MISC\n",
      "Tableta recubierta/Comprimido // MISC\n",
      "Blister // MISC\n",
      "Cotizar por Tableta/Comprimido // MISC\n",
      "Tableta recubierta/Comprimido // MISC\n",
      "Solución Inyectable // MISC\n",
      "Ampolla // LOC\n",
      "Cotizar // MISC\n",
      "Ampolla // LOC\n",
      "Tableta/Comprimido // MISC\n",
      "Blister // MISC\n",
      "Cotizar por Tableta/Comprimido // MISC\n",
      "Tableta recubierta // MISC\n",
      "Comprimido // MISC\n",
      "Blister // MISC\n",
      "Cotizar por Tableta recubierta // MISC\n",
      "Comprimido // MISC\n",
      "Tableta recubierta // MISC\n",
      "Comprimido // MISC\n",
      "Blister // MISC\n",
      "Cotizar por Tableta recubierta // MISC\n",
      "Comprimido // MISC\n",
      "Tableta recubierta // MISC\n",
      "Comprimido // MISC\n",
      "Blister // MISC\n",
      "Cotizar por Tableta recubierta // MISC\n",
      "Comprimido // MISC\n",
      "Tableta/Comprimido // MISC\n",
      "Blister // MISC\n",
      "Cotizar por Tableta/Comprimido // MISC\n",
      "Tableta/Comprimido // MISC\n",
      "Tableta recubierta/Comprimido // MISC\n",
      "Blister // MISC\n",
      "Cotizar por Tableta/Comprimido // MISC\n",
      "Tableta recubierta/Comprimido // MISC\n",
      "Solución // MISC\n",
      "Ampolla // LOC\n",
      "Cotizar por Ampolla // MISC\n",
      "Solución inyectable // MISC\n",
      "Ampolla // LOC\n",
      "Cotizar por Ampolla // MISC\n",
      "Suspensión // MISC\n",
      "Vial // PER\n",
      "Cotizar por Vial // MISC\n",
      "Suspensión // MISC\n",
      "Vial // PER\n",
      "Cotizar por\n",
      "Vial // MISC\n",
      "Solución inyectable // MISC\n",
      "Ampolla // LOC\n",
      "Cotizar por Ampolla // MISC\n"
     ]
    }
   ],
   "source": [
    "for corpus in corpus_caracteristicas:\n",
    "    for entity in corpus.ents:\n",
    "        print(f'{entity} // {entity.label_}')"
   ]
  },
  {
   "cell_type": "code",
   "execution_count": 30,
   "metadata": {},
   "outputs": [],
   "source": [
    "from spacy import displacy"
   ]
  },
  {
   "cell_type": "code",
   "execution_count": 39,
   "metadata": {},
   "outputs": [],
   "source": [
    "Corp=[]\n",
    "for doc in newCorpus:\n",
    "    Corp.append(nlp(doc))"
   ]
  },
  {
   "cell_type": "code",
   "execution_count": 46,
   "metadata": {},
   "outputs": [
    {
     "data": {
      "text/html": [
       "<span class=\"tex2jax_ignore\"><div class=\"entities\" style=\"line-height: 2.5; direction: ltr\">100% . \n",
       "<mark class=\"entity\" style=\"background: #ddd; padding: 0.45em 0.6em; margin: 0 0.25em; line-height: 1; border-radius: 0.35em;\">\n",
       "    Solución inhalación\n",
       "    <span style=\"font-size: 0.8em; font-weight: bold; line-height: 1; border-radius: 0.35em; vertical-align: middle; margin-left: 0.5rem\">MISC</span>\n",
       "</mark>\n",
       " . \n",
       "<mark class=\"entity\" style=\"background: #ddd; padding: 0.45em 0.6em; margin: 0 0.25em; line-height: 1; border-radius: 0.35em;\">\n",
       "    Frasco 250 ml\n",
       "    <span style=\"font-size: 0.8em; font-weight: bold; line-height: 1; border-radius: 0.35em; vertical-align: middle; margin-left: 0.5rem\">MISC</span>\n",
       "</mark>\n",
       " . \n",
       "<mark class=\"entity\" style=\"background: #ddd; padding: 0.45em 0.6em; margin: 0 0.25em; line-height: 1; border-radius: 0.35em;\">\n",
       "    Cotizar Frasco\n",
       "    <span style=\"font-size: 0.8em; font-weight: bold; line-height: 1; border-radius: 0.35em; vertical-align: middle; margin-left: 0.5rem\">MISC</span>\n",
       "</mark>\n",
       " .</div></span>"
      ],
      "text/plain": [
       "<IPython.core.display.HTML object>"
      ]
     },
     "metadata": {},
     "output_type": "display_data"
    },
    {
     "data": {
      "text/html": [
       "<span class=\"tex2jax_ignore\"><div class=\"entities\" style=\"line-height: 2.5; direction: ltr\">100% . \n",
       "<mark class=\"entity\" style=\"background: #ddd; padding: 0.45em 0.6em; margin: 0 0.25em; line-height: 1; border-radius: 0.35em;\">\n",
       "    Solución inhalación\n",
       "    <span style=\"font-size: 0.8em; font-weight: bold; line-height: 1; border-radius: 0.35em; vertical-align: middle; margin-left: 0.5rem\">MISC</span>\n",
       "</mark>\n",
       " . \n",
       "<mark class=\"entity\" style=\"background: #ddd; padding: 0.45em 0.6em; margin: 0 0.25em; line-height: 1; border-radius: 0.35em;\">\n",
       "    Frasco 100-250 ml\n",
       "    <span style=\"font-size: 0.8em; font-weight: bold; line-height: 1; border-radius: 0.35em; vertical-align: middle; margin-left: 0.5rem\">MISC</span>\n",
       "</mark>\n",
       " . \n",
       "<mark class=\"entity\" style=\"background: #ddd; padding: 0.45em 0.6em; margin: 0 0.25em; line-height: 1; border-radius: 0.35em;\">\n",
       "    Cotizar Mililitro\n",
       "    <span style=\"font-size: 0.8em; font-weight: bold; line-height: 1; border-radius: 0.35em; vertical-align: middle; margin-left: 0.5rem\">MISC</span>\n",
       "</mark>\n",
       " .</div></span>"
      ],
      "text/plain": [
       "<IPython.core.display.HTML object>"
      ]
     },
     "metadata": {},
     "output_type": "display_data"
    },
    {
     "data": {
      "text/html": [
       "<span class=\"tex2jax_ignore\"><div class=\"entities\" style=\"line-height: 2.5; direction: ltr\">100% . \n",
       "<mark class=\"entity\" style=\"background: #ddd; padding: 0.45em 0.6em; margin: 0 0.25em; line-height: 1; border-radius: 0.35em;\">\n",
       "    Solución inhalación\n",
       "    <span style=\"font-size: 0.8em; font-weight: bold; line-height: 1; border-radius: 0.35em; vertical-align: middle; margin-left: 0.5rem\">MISC</span>\n",
       "</mark>\n",
       " . \n",
       "<mark class=\"entity\" style=\"background: #ddd; padding: 0.45em 0.6em; margin: 0 0.25em; line-height: 1; border-radius: 0.35em;\">\n",
       "    Frasco 240 ml\n",
       "    <span style=\"font-size: 0.8em; font-weight: bold; line-height: 1; border-radius: 0.35em; vertical-align: middle; margin-left: 0.5rem\">MISC</span>\n",
       "</mark>\n",
       " . \n",
       "<mark class=\"entity\" style=\"background: #ddd; padding: 0.45em 0.6em; margin: 0 0.25em; line-height: 1; border-radius: 0.35em;\">\n",
       "    Cotizar Frasco\n",
       "    <span style=\"font-size: 0.8em; font-weight: bold; line-height: 1; border-radius: 0.35em; vertical-align: middle; margin-left: 0.5rem\">MISC</span>\n",
       "</mark>\n",
       " .</div></span>"
      ],
      "text/plain": [
       "<IPython.core.display.HTML object>"
      ]
     },
     "metadata": {},
     "output_type": "display_data"
    },
    {
     "data": {
      "text/html": [
       "<span class=\"tex2jax_ignore\"><div class=\"entities\" style=\"line-height: 2.5; direction: ltr\">50 mg / ml . \n",
       "<mark class=\"entity\" style=\"background: #ddd; padding: 0.45em 0.6em; margin: 0 0.25em; line-height: 1; border-radius: 0.35em;\">\n",
       "    Solución inyectable\n",
       "    <span style=\"font-size: 0.8em; font-weight: bold; line-height: 1; border-radius: 0.35em; vertical-align: middle; margin-left: 0.5rem\">MISC</span>\n",
       "</mark>\n",
       " . \n",
       "<mark class=\"entity\" style=\"background: #ddd; padding: 0.45em 0.6em; margin: 0 0.25em; line-height: 1; border-radius: 0.35em;\">\n",
       "    Vial 10 ml\n",
       "    <span style=\"font-size: 0.8em; font-weight: bold; line-height: 1; border-radius: 0.35em; vertical-align: middle; margin-left: 0.5rem\">MISC</span>\n",
       "</mark>\n",
       " . \n",
       "<mark class=\"entity\" style=\"background: #ddd; padding: 0.45em 0.6em; margin: 0 0.25em; line-height: 1; border-radius: 0.35em;\">\n",
       "    Cotizar vial\n",
       "    <span style=\"font-size: 0.8em; font-weight: bold; line-height: 1; border-radius: 0.35em; vertical-align: middle; margin-left: 0.5rem\">MISC</span>\n",
       "</mark>\n",
       " .</div></span>"
      ],
      "text/plain": [
       "<IPython.core.display.HTML object>"
      ]
     },
     "metadata": {},
     "output_type": "display_data"
    },
    {
     "data": {
      "text/html": [
       "<span class=\"tex2jax_ignore\"><div class=\"entities\" style=\"line-height: 2.5; direction: ltr\">10 mg / ml . \n",
       "<mark class=\"entity\" style=\"background: #ddd; padding: 0.45em 0.6em; margin: 0 0.25em; line-height: 1; border-radius: 0.35em;\">\n",
       "    Emulsión inyectable\n",
       "    <span style=\"font-size: 0.8em; font-weight: bold; line-height: 1; border-radius: 0.35em; vertical-align: middle; margin-left: 0.5rem\">MISC</span>\n",
       "</mark>\n",
       " , \n",
       "<mark class=\"entity\" style=\"background: #ddd; padding: 0.45em 0.6em; margin: 0 0.25em; line-height: 1; border-radius: 0.35em;\">\n",
       "    Jeringa\n",
       "    <span style=\"font-size: 0.8em; font-weight: bold; line-height: 1; border-radius: 0.35em; vertical-align: middle; margin-left: 0.5rem\">MISC</span>\n",
       "</mark>\n",
       " prellenada vial ampolla 50 ml . \n",
       "<mark class=\"entity\" style=\"background: #ddd; padding: 0.45em 0.6em; margin: 0 0.25em; line-height: 1; border-radius: 0.35em;\">\n",
       "    Cotizar Jeringa Prellenada\n",
       "    <span style=\"font-size: 0.8em; font-weight: bold; line-height: 1; border-radius: 0.35em; vertical-align: middle; margin-left: 0.5rem\">MISC</span>\n",
       "</mark>\n",
       " vial ampolla .</div></span>"
      ],
      "text/plain": [
       "<IPython.core.display.HTML object>"
      ]
     },
     "metadata": {},
     "output_type": "display_data"
    },
    {
     "data": {
      "text/html": [
       "<span class=\"tex2jax_ignore\"><div class=\"entities\" style=\"line-height: 2.5; direction: ltr\">10 mg / ml . \n",
       "<mark class=\"entity\" style=\"background: #ddd; padding: 0.45em 0.6em; margin: 0 0.25em; line-height: 1; border-radius: 0.35em;\">\n",
       "    Emulsión inyectable\n",
       "    <span style=\"font-size: 0.8em; font-weight: bold; line-height: 1; border-radius: 0.35em; vertical-align: middle; margin-left: 0.5rem\">MISC</span>\n",
       "</mark>\n",
       " , \n",
       "<mark class=\"entity\" style=\"background: #ddd; padding: 0.45em 0.6em; margin: 0 0.25em; line-height: 1; border-radius: 0.35em;\">\n",
       "    Jeringa\n",
       "    <span style=\"font-size: 0.8em; font-weight: bold; line-height: 1; border-radius: 0.35em; vertical-align: middle; margin-left: 0.5rem\">MISC</span>\n",
       "</mark>\n",
       " prellenada vial ampolla 50 ml . \n",
       "<mark class=\"entity\" style=\"background: #ddd; padding: 0.45em 0.6em; margin: 0 0.25em; line-height: 1; border-radius: 0.35em;\">\n",
       "    Cotizar Jeringa Prellenada\n",
       "    <span style=\"font-size: 0.8em; font-weight: bold; line-height: 1; border-radius: 0.35em; vertical-align: middle; margin-left: 0.5rem\">MISC</span>\n",
       "</mark>\n",
       " vial ampolla .</div></span>"
      ],
      "text/plain": [
       "<IPython.core.display.HTML object>"
      ]
     },
     "metadata": {},
     "output_type": "display_data"
    },
    {
     "data": {
      "text/html": [
       "<span class=\"tex2jax_ignore\"><div class=\"entities\" style=\"line-height: 2.5; direction: ltr\">0.50% . \n",
       "<mark class=\"entity\" style=\"background: #ddd; padding: 0.45em 0.6em; margin: 0 0.25em; line-height: 1; border-radius: 0.35em;\">\n",
       "    Solución inyectable\n",
       "    <span style=\"font-size: 0.8em; font-weight: bold; line-height: 1; border-radius: 0.35em; vertical-align: middle; margin-left: 0.5rem\">MISC</span>\n",
       "</mark>\n",
       " . \n",
       "<mark class=\"entity\" style=\"background: #ddd; padding: 0.45em 0.6em; margin: 0 0.25em; line-height: 1; border-radius: 0.35em;\">\n",
       "    Vial\n",
       "    <span style=\"font-size: 0.8em; font-weight: bold; line-height: 1; border-radius: 0.35em; vertical-align: middle; margin-left: 0.5rem\">PER</span>\n",
       "</mark>\n",
       " ampolla 10 ml . \n",
       "<mark class=\"entity\" style=\"background: #ddd; padding: 0.45em 0.6em; margin: 0 0.25em; line-height: 1; border-radius: 0.35em;\">\n",
       "    Cotizar Vial\n",
       "    <span style=\"font-size: 0.8em; font-weight: bold; line-height: 1; border-radius: 0.35em; vertical-align: middle; margin-left: 0.5rem\">MISC</span>\n",
       "</mark>\n",
       " ampolla .</div></span>"
      ],
      "text/plain": [
       "<IPython.core.display.HTML object>"
      ]
     },
     "metadata": {},
     "output_type": "display_data"
    },
    {
     "data": {
      "text/html": [
       "<span class=\"tex2jax_ignore\"><div class=\"entities\" style=\"line-height: 2.5; direction: ltr\">0.50% . \n",
       "<mark class=\"entity\" style=\"background: #ddd; padding: 0.45em 0.6em; margin: 0 0.25em; line-height: 1; border-radius: 0.35em;\">\n",
       "    Solución inyectable\n",
       "    <span style=\"font-size: 0.8em; font-weight: bold; line-height: 1; border-radius: 0.35em; vertical-align: middle; margin-left: 0.5rem\">MISC</span>\n",
       "</mark>\n",
       " . \n",
       "<mark class=\"entity\" style=\"background: #ddd; padding: 0.45em 0.6em; margin: 0 0.25em; line-height: 1; border-radius: 0.35em;\">\n",
       "    Vial\n",
       "    <span style=\"font-size: 0.8em; font-weight: bold; line-height: 1; border-radius: 0.35em; vertical-align: middle; margin-left: 0.5rem\">PER</span>\n",
       "</mark>\n",
       " ampolla 4 ml . \n",
       "<mark class=\"entity\" style=\"background: #ddd; padding: 0.45em 0.6em; margin: 0 0.25em; line-height: 1; border-radius: 0.35em;\">\n",
       "    Cotizar Vial\n",
       "    <span style=\"font-size: 0.8em; font-weight: bold; line-height: 1; border-radius: 0.35em; vertical-align: middle; margin-left: 0.5rem\">MISC</span>\n",
       "</mark>\n",
       " ampolla .</div></span>"
      ],
      "text/plain": [
       "<IPython.core.display.HTML object>"
      ]
     },
     "metadata": {},
     "output_type": "display_data"
    },
    {
     "data": {
      "text/html": [
       "<span class=\"tex2jax_ignore\"><div class=\"entities\" style=\"line-height: 2.5; direction: ltr\">2% \n",
       "<mark class=\"entity\" style=\"background: #ddd; padding: 0.45em 0.6em; margin: 0 0.25em; line-height: 1; border-radius: 0.35em;\">\n",
       "    1:100,000\n",
       "    <span style=\"font-size: 0.8em; font-weight: bold; line-height: 1; border-radius: 0.35em; vertical-align: middle; margin-left: 0.5rem\">MISC</span>\n",
       "</mark>\n",
       " ( 20 mg 0.01mg / ml ) . \n",
       "<mark class=\"entity\" style=\"background: #ddd; padding: 0.45em 0.6em; margin: 0 0.25em; line-height: 1; border-radius: 0.35em;\">\n",
       "    Solución inyectable\n",
       "    <span style=\"font-size: 0.8em; font-weight: bold; line-height: 1; border-radius: 0.35em; vertical-align: middle; margin-left: 0.5rem\">MISC</span>\n",
       "</mark>\n",
       " . \n",
       "<mark class=\"entity\" style=\"background: #ddd; padding: 0.45em 0.6em; margin: 0 0.25em; line-height: 1; border-radius: 0.35em;\">\n",
       "    Vial 50 mL. Cotizar Vial\n",
       "    <span style=\"font-size: 0.8em; font-weight: bold; line-height: 1; border-radius: 0.35em; vertical-align: middle; margin-left: 0.5rem\">MISC</span>\n",
       "</mark>\n",
       " .</div></span>"
      ],
      "text/plain": [
       "<IPython.core.display.HTML object>"
      ]
     },
     "metadata": {},
     "output_type": "display_data"
    },
    {
     "data": {
      "text/html": [
       "<span class=\"tex2jax_ignore\"><div class=\"entities\" style=\"line-height: 2.5; direction: ltr\">2% . \n",
       "<mark class=\"entity\" style=\"background: #ddd; padding: 0.45em 0.6em; margin: 0 0.25em; line-height: 1; border-radius: 0.35em;\">\n",
       "    Solución inyectable\n",
       "    <span style=\"font-size: 0.8em; font-weight: bold; line-height: 1; border-radius: 0.35em; vertical-align: middle; margin-left: 0.5rem\">MISC</span>\n",
       "</mark>\n",
       " . \n",
       "<mark class=\"entity\" style=\"background: #ddd; padding: 0.45em 0.6em; margin: 0 0.25em; line-height: 1; border-radius: 0.35em;\">\n",
       "    Vial 50 mL. Cotizar Vial\n",
       "    <span style=\"font-size: 0.8em; font-weight: bold; line-height: 1; border-radius: 0.35em; vertical-align: middle; margin-left: 0.5rem\">MISC</span>\n",
       "</mark>\n",
       " .</div></span>"
      ],
      "text/plain": [
       "<IPython.core.display.HTML object>"
      ]
     },
     "metadata": {},
     "output_type": "display_data"
    },
    {
     "data": {
      "text/html": [
       "<span class=\"tex2jax_ignore\"><div class=\"entities\" style=\"line-height: 2.5; direction: ltr\">2% . \n",
       "<mark class=\"entity\" style=\"background: #ddd; padding: 0.45em 0.6em; margin: 0 0.25em; line-height: 1; border-radius: 0.35em;\">\n",
       "    Solución\n",
       "    <span style=\"font-size: 0.8em; font-weight: bold; line-height: 1; border-radius: 0.35em; vertical-align: middle; margin-left: 0.5rem\">MISC</span>\n",
       "</mark>\n",
       " inyectable . \n",
       "<mark class=\"entity\" style=\"background: #ddd; padding: 0.45em 0.6em; margin: 0 0.25em; line-height: 1; border-radius: 0.35em;\">\n",
       "    Cartucho 1.8\n",
       "    <span style=\"font-size: 0.8em; font-weight: bold; line-height: 1; border-radius: 0.35em; vertical-align: middle; margin-left: 0.5rem\">MISC</span>\n",
       "</mark>\n",
       " ml . \n",
       "<mark class=\"entity\" style=\"background: #ddd; padding: 0.45em 0.6em; margin: 0 0.25em; line-height: 1; border-radius: 0.35em;\">\n",
       "    Cotizar Cartucho\n",
       "    <span style=\"font-size: 0.8em; font-weight: bold; line-height: 1; border-radius: 0.35em; vertical-align: middle; margin-left: 0.5rem\">MISC</span>\n",
       "</mark>\n",
       " .</div></span>"
      ],
      "text/plain": [
       "<IPython.core.display.HTML object>"
      ]
     },
     "metadata": {},
     "output_type": "display_data"
    },
    {
     "data": {
      "text/html": [
       "<span class=\"tex2jax_ignore\"><div class=\"entities\" style=\"line-height: 2.5; direction: ltr\">2% \n",
       "<mark class=\"entity\" style=\"background: #ddd; padding: 0.45em 0.6em; margin: 0 0.25em; line-height: 1; border-radius: 0.35em;\">\n",
       "    1:100,000\n",
       "    <span style=\"font-size: 0.8em; font-weight: bold; line-height: 1; border-radius: 0.35em; vertical-align: middle; margin-left: 0.5rem\">MISC</span>\n",
       "</mark>\n",
       " . \n",
       "<mark class=\"entity\" style=\"background: #ddd; padding: 0.45em 0.6em; margin: 0 0.25em; line-height: 1; border-radius: 0.35em;\">\n",
       "    Solución\n",
       "    <span style=\"font-size: 0.8em; font-weight: bold; line-height: 1; border-radius: 0.35em; vertical-align: middle; margin-left: 0.5rem\">MISC</span>\n",
       "</mark>\n",
       " inyectable . \n",
       "<mark class=\"entity\" style=\"background: #ddd; padding: 0.45em 0.6em; margin: 0 0.25em; line-height: 1; border-radius: 0.35em;\">\n",
       "    Cartucho 1.8\n",
       "    <span style=\"font-size: 0.8em; font-weight: bold; line-height: 1; border-radius: 0.35em; vertical-align: middle; margin-left: 0.5rem\">MISC</span>\n",
       "</mark>\n",
       " ml . \n",
       "<mark class=\"entity\" style=\"background: #ddd; padding: 0.45em 0.6em; margin: 0 0.25em; line-height: 1; border-radius: 0.35em;\">\n",
       "    Cotizar Cartucho\n",
       "    <span style=\"font-size: 0.8em; font-weight: bold; line-height: 1; border-radius: 0.35em; vertical-align: middle; margin-left: 0.5rem\">MISC</span>\n",
       "</mark>\n",
       " .</div></span>"
      ],
      "text/plain": [
       "<IPython.core.display.HTML object>"
      ]
     },
     "metadata": {},
     "output_type": "display_data"
    },
    {
     "data": {
      "text/html": [
       "<span class=\"tex2jax_ignore\"><div class=\"entities\" style=\"line-height: 2.5; direction: ltr\">2% . \n",
       "<mark class=\"entity\" style=\"background: #ddd; padding: 0.45em 0.6em; margin: 0 0.25em; line-height: 1; border-radius: 0.35em;\">\n",
       "    Solución inyectable\n",
       "    <span style=\"font-size: 0.8em; font-weight: bold; line-height: 1; border-radius: 0.35em; vertical-align: middle; margin-left: 0.5rem\">MISC</span>\n",
       "</mark>\n",
       " . \n",
       "<mark class=\"entity\" style=\"background: #ff9561; padding: 0.45em 0.6em; margin: 0 0.25em; line-height: 1; border-radius: 0.35em;\">\n",
       "    Ampolla\n",
       "    <span style=\"font-size: 0.8em; font-weight: bold; line-height: 1; border-radius: 0.35em; vertical-align: middle; margin-left: 0.5rem\">LOC</span>\n",
       "</mark>\n",
       " vial 10-20 ml .   \n",
       "<mark class=\"entity\" style=\"background: #ddd; padding: 0.45em 0.6em; margin: 0 0.25em; line-height: 1; border-radius: 0.35em;\">\n",
       "    Cotizar Mililitro\n",
       "    <span style=\"font-size: 0.8em; font-weight: bold; line-height: 1; border-radius: 0.35em; vertical-align: middle; margin-left: 0.5rem\">MISC</span>\n",
       "</mark>\n",
       " .</div></span>"
      ],
      "text/plain": [
       "<IPython.core.display.HTML object>"
      ]
     },
     "metadata": {},
     "output_type": "display_data"
    },
    {
     "data": {
      "text/html": [
       "<span class=\"tex2jax_ignore\"><div class=\"entities\" style=\"line-height: 2.5; direction: ltr\">200 mg . \n",
       "<mark class=\"entity\" style=\"background: #ddd; padding: 0.45em 0.6em; margin: 0 0.25em; line-height: 1; border-radius: 0.35em;\">\n",
       "    Tableta / Comprimido Tableta recubierta\n",
       "    <span style=\"font-size: 0.8em; font-weight: bold; line-height: 1; border-radius: 0.35em; vertical-align: middle; margin-left: 0.5rem\">MISC</span>\n",
       "</mark>\n",
       " / \n",
       "<mark class=\"entity\" style=\"background: #ddd; padding: 0.45em 0.6em; margin: 0 0.25em; line-height: 1; border-radius: 0.35em;\">\n",
       "    Comprimido\n",
       "    <span style=\"font-size: 0.8em; font-weight: bold; line-height: 1; border-radius: 0.35em; vertical-align: middle; margin-left: 0.5rem\">MISC</span>\n",
       "</mark>\n",
       " recubierto . \n",
       "<mark class=\"entity\" style=\"background: #ddd; padding: 0.45em 0.6em; margin: 0 0.25em; line-height: 1; border-radius: 0.35em;\">\n",
       "    Blister\n",
       "    <span style=\"font-size: 0.8em; font-weight: bold; line-height: 1; border-radius: 0.35em; vertical-align: middle; margin-left: 0.5rem\">MISC</span>\n",
       "</mark>\n",
       " . \n",
       "<mark class=\"entity\" style=\"background: #ddd; padding: 0.45em 0.6em; margin: 0 0.25em; line-height: 1; border-radius: 0.35em;\">\n",
       "    Cotizar Tableta / Comprimido Tableta recubierta\n",
       "    <span style=\"font-size: 0.8em; font-weight: bold; line-height: 1; border-radius: 0.35em; vertical-align: middle; margin-left: 0.5rem\">MISC</span>\n",
       "</mark>\n",
       " / \n",
       "<mark class=\"entity\" style=\"background: #ddd; padding: 0.45em 0.6em; margin: 0 0.25em; line-height: 1; border-radius: 0.35em;\">\n",
       "    Comprimido\n",
       "    <span style=\"font-size: 0.8em; font-weight: bold; line-height: 1; border-radius: 0.35em; vertical-align: middle; margin-left: 0.5rem\">MISC</span>\n",
       "</mark>\n",
       " recubierto .</div></span>"
      ],
      "text/plain": [
       "<IPython.core.display.HTML object>"
      ]
     },
     "metadata": {},
     "output_type": "display_data"
    },
    {
     "data": {
      "text/html": [
       "<span class=\"tex2jax_ignore\"><div class=\"entities\" style=\"line-height: 2.5; direction: ltr\">400 mg . \n",
       "<mark class=\"entity\" style=\"background: #ddd; padding: 0.45em 0.6em; margin: 0 0.25em; line-height: 1; border-radius: 0.35em;\">\n",
       "    Tableta / Comprimido Tableta recubierta\n",
       "    <span style=\"font-size: 0.8em; font-weight: bold; line-height: 1; border-radius: 0.35em; vertical-align: middle; margin-left: 0.5rem\">MISC</span>\n",
       "</mark>\n",
       " / \n",
       "<mark class=\"entity\" style=\"background: #ddd; padding: 0.45em 0.6em; margin: 0 0.25em; line-height: 1; border-radius: 0.35em;\">\n",
       "    Comprimido\n",
       "    <span style=\"font-size: 0.8em; font-weight: bold; line-height: 1; border-radius: 0.35em; vertical-align: middle; margin-left: 0.5rem\">MISC</span>\n",
       "</mark>\n",
       " recubierto . \n",
       "<mark class=\"entity\" style=\"background: #ddd; padding: 0.45em 0.6em; margin: 0 0.25em; line-height: 1; border-radius: 0.35em;\">\n",
       "    Blister\n",
       "    <span style=\"font-size: 0.8em; font-weight: bold; line-height: 1; border-radius: 0.35em; vertical-align: middle; margin-left: 0.5rem\">MISC</span>\n",
       "</mark>\n",
       " . \n",
       "<mark class=\"entity\" style=\"background: #ddd; padding: 0.45em 0.6em; margin: 0 0.25em; line-height: 1; border-radius: 0.35em;\">\n",
       "    Cotizar Tableta / Comprimido Tableta recubierta\n",
       "    <span style=\"font-size: 0.8em; font-weight: bold; line-height: 1; border-radius: 0.35em; vertical-align: middle; margin-left: 0.5rem\">MISC</span>\n",
       "</mark>\n",
       " / \n",
       "<mark class=\"entity\" style=\"background: #ddd; padding: 0.45em 0.6em; margin: 0 0.25em; line-height: 1; border-radius: 0.35em;\">\n",
       "    Comprimido\n",
       "    <span style=\"font-size: 0.8em; font-weight: bold; line-height: 1; border-radius: 0.35em; vertical-align: middle; margin-left: 0.5rem\">MISC</span>\n",
       "</mark>\n",
       " recubierto .</div></span>"
      ],
      "text/plain": [
       "<IPython.core.display.HTML object>"
      ]
     },
     "metadata": {},
     "output_type": "display_data"
    },
    {
     "data": {
      "text/html": [
       "<span class=\"tex2jax_ignore\"><div class=\"entities\" style=\"line-height: 2.5; direction: ltr\">100 mg . Tableta / comprimido \n",
       "<mark class=\"entity\" style=\"background: #ddd; padding: 0.45em 0.6em; margin: 0 0.25em; line-height: 1; border-radius: 0.35em;\">\n",
       "    Tableta recubierta /\n",
       "    <span style=\"font-size: 0.8em; font-weight: bold; line-height: 1; border-radius: 0.35em; vertical-align: middle; margin-left: 0.5rem\">MISC</span>\n",
       "</mark>\n",
       " \n",
       "<mark class=\"entity\" style=\"background: #ddd; padding: 0.45em 0.6em; margin: 0 0.25em; line-height: 1; border-radius: 0.35em;\">\n",
       "    Comprimido\n",
       "    <span style=\"font-size: 0.8em; font-weight: bold; line-height: 1; border-radius: 0.35em; vertical-align: middle; margin-left: 0.5rem\">MISC</span>\n",
       "</mark>\n",
       " recubierto Cápsula .   \n",
       "<mark class=\"entity\" style=\"background: #ddd; padding: 0.45em 0.6em; margin: 0 0.25em; line-height: 1; border-radius: 0.35em;\">\n",
       "    Blister\n",
       "    <span style=\"font-size: 0.8em; font-weight: bold; line-height: 1; border-radius: 0.35em; vertical-align: middle; margin-left: 0.5rem\">MISC</span>\n",
       "</mark>\n",
       " . \n",
       "<mark class=\"entity\" style=\"background: #ddd; padding: 0.45em 0.6em; margin: 0 0.25em; line-height: 1; border-radius: 0.35em;\">\n",
       "    Cotizar Tableta\n",
       "    <span style=\"font-size: 0.8em; font-weight: bold; line-height: 1; border-radius: 0.35em; vertical-align: middle; margin-left: 0.5rem\">MISC</span>\n",
       "</mark>\n",
       " / comprimido \n",
       "<mark class=\"entity\" style=\"background: #ddd; padding: 0.45em 0.6em; margin: 0 0.25em; line-height: 1; border-radius: 0.35em;\">\n",
       "    Tableta recubierta / Comprimido\n",
       "    <span style=\"font-size: 0.8em; font-weight: bold; line-height: 1; border-radius: 0.35em; vertical-align: middle; margin-left: 0.5rem\">MISC</span>\n",
       "</mark>\n",
       " recubierto <br> cápsula .</div></span>"
      ],
      "text/plain": [
       "<IPython.core.display.HTML object>"
      ]
     },
     "metadata": {},
     "output_type": "display_data"
    },
    {
     "data": {
      "text/html": [
       "<span class=\"tex2jax_ignore\"><div class=\"entities\" style=\"line-height: 2.5; direction: ltr\">50 mg / ml . \n",
       "<mark class=\"entity\" style=\"background: #ddd; padding: 0.45em 0.6em; margin: 0 0.25em; line-height: 1; border-radius: 0.35em;\">\n",
       "    Solución inyectable\n",
       "    <span style=\"font-size: 0.8em; font-weight: bold; line-height: 1; border-radius: 0.35em; vertical-align: middle; margin-left: 0.5rem\">MISC</span>\n",
       "</mark>\n",
       " . \n",
       "<mark class=\"entity\" style=\"background: #ddd; padding: 0.45em 0.6em; margin: 0 0.25em; line-height: 1; border-radius: 0.35em;\">\n",
       "    Vial \n",
       " Ampolla\n",
       "    <span style=\"font-size: 0.8em; font-weight: bold; line-height: 1; border-radius: 0.35em; vertical-align: middle; margin-left: 0.5rem\">MISC</span>\n",
       "</mark>\n",
       " 5 ml . \n",
       "<mark class=\"entity\" style=\"background: #ddd; padding: 0.45em 0.6em; margin: 0 0.25em; line-height: 1; border-radius: 0.35em;\">\n",
       "    Cotizar Vial \n",
       " Ampolla\n",
       "    <span style=\"font-size: 0.8em; font-weight: bold; line-height: 1; border-radius: 0.35em; vertical-align: middle; margin-left: 0.5rem\">MISC</span>\n",
       "</mark>\n",
       " .</div></span>"
      ],
      "text/plain": [
       "<IPython.core.display.HTML object>"
      ]
     },
     "metadata": {},
     "output_type": "display_data"
    },
    {
     "data": {
      "text/html": [
       "<span class=\"tex2jax_ignore\"><div class=\"entities\" style=\"line-height: 2.5; direction: ltr\">100 mg / ml . \n",
       "<mark class=\"entity\" style=\"background: #ddd; padding: 0.45em 0.6em; margin: 0 0.25em; line-height: 1; border-radius: 0.35em;\">\n",
       "    Solución Inyectable\n",
       "    <span style=\"font-size: 0.8em; font-weight: bold; line-height: 1; border-radius: 0.35em; vertical-align: middle; margin-left: 0.5rem\">MISC</span>\n",
       "</mark>\n",
       " . \n",
       "<mark class=\"entity\" style=\"background: #ddd; padding: 0.45em 0.6em; margin: 0 0.25em; line-height: 1; border-radius: 0.35em;\">\n",
       "    Vial \n",
       " 5 ml\n",
       "    <span style=\"font-size: 0.8em; font-weight: bold; line-height: 1; border-radius: 0.35em; vertical-align: middle; margin-left: 0.5rem\">MISC</span>\n",
       "</mark>\n",
       " .   \n",
       "<mark class=\"entity\" style=\"background: #ddd; padding: 0.45em 0.6em; margin: 0 0.25em; line-height: 1; border-radius: 0.35em;\">\n",
       "    Cotizar Vial\n",
       "    <span style=\"font-size: 0.8em; font-weight: bold; line-height: 1; border-radius: 0.35em; vertical-align: middle; margin-left: 0.5rem\">MISC</span>\n",
       "</mark>\n",
       " .</div></span>"
      ],
      "text/plain": [
       "<IPython.core.display.HTML object>"
      ]
     },
     "metadata": {},
     "output_type": "display_data"
    },
    {
     "data": {
      "text/html": [
       "<span class=\"tex2jax_ignore\"><div class=\"entities\" style=\"line-height: 2.5; direction: ltr\">\n",
       "<mark class=\"entity\" style=\"background: #ddd; padding: 0.45em 0.6em; margin: 0 0.25em; line-height: 1; border-radius: 0.35em;\">\n",
       "    250 mg/5mI. Jarabe\n",
       "    <span style=\"font-size: 0.8em; font-weight: bold; line-height: 1; border-radius: 0.35em; vertical-align: middle; margin-left: 0.5rem\">MISC</span>\n",
       "</mark>\n",
       " . \n",
       "<mark class=\"entity\" style=\"background: #ddd; padding: 0.45em 0.6em; margin: 0 0.25em; line-height: 1; border-radius: 0.35em;\">\n",
       "    Frasco\n",
       "    <span style=\"font-size: 0.8em; font-weight: bold; line-height: 1; border-radius: 0.35em; vertical-align: middle; margin-left: 0.5rem\">MISC</span>\n",
       "</mark>\n",
       " 120 mL. <br> \n",
       "<mark class=\"entity\" style=\"background: #ddd; padding: 0.45em 0.6em; margin: 0 0.25em; line-height: 1; border-radius: 0.35em;\">\n",
       "    Cotizar Frasco\n",
       "    <span style=\"font-size: 0.8em; font-weight: bold; line-height: 1; border-radius: 0.35em; vertical-align: middle; margin-left: 0.5rem\">MISC</span>\n",
       "</mark>\n",
       " .</div></span>"
      ],
      "text/plain": [
       "<IPython.core.display.HTML object>"
      ]
     },
     "metadata": {},
     "output_type": "display_data"
    },
    {
     "data": {
      "text/html": [
       "<span class=\"tex2jax_ignore\"><div class=\"entities\" style=\"line-height: 2.5; direction: ltr\">500 mg . \n",
       "<mark class=\"entity\" style=\"background: #ddd; padding: 0.45em 0.6em; margin: 0 0.25em; line-height: 1; border-radius: 0.35em;\">\n",
       "    Tableta / Comprimido\n",
       "    <span style=\"font-size: 0.8em; font-weight: bold; line-height: 1; border-radius: 0.35em; vertical-align: middle; margin-left: 0.5rem\">MISC</span>\n",
       "</mark>\n",
       " . \n",
       "<mark class=\"entity\" style=\"background: #ddd; padding: 0.45em 0.6em; margin: 0 0.25em; line-height: 1; border-radius: 0.35em;\">\n",
       "    Blister\n",
       "    <span style=\"font-size: 0.8em; font-weight: bold; line-height: 1; border-radius: 0.35em; vertical-align: middle; margin-left: 0.5rem\">MISC</span>\n",
       "</mark>\n",
       " . \n",
       "<mark class=\"entity\" style=\"background: #ddd; padding: 0.45em 0.6em; margin: 0 0.25em; line-height: 1; border-radius: 0.35em;\">\n",
       "    Cotizar Tableta / Comprimido\n",
       "    <span style=\"font-size: 0.8em; font-weight: bold; line-height: 1; border-radius: 0.35em; vertical-align: middle; margin-left: 0.5rem\">MISC</span>\n",
       "</mark>\n",
       " .</div></span>"
      ],
      "text/plain": [
       "<IPython.core.display.HTML object>"
      ]
     },
     "metadata": {},
     "output_type": "display_data"
    },
    {
     "data": {
      "text/html": [
       "<span class=\"tex2jax_ignore\"><div class=\"entities\" style=\"line-height: 2.5; direction: ltr\">100 mg / ml . \n",
       "<mark class=\"entity\" style=\"background: #ddd; padding: 0.45em 0.6em; margin: 0 0.25em; line-height: 1; border-radius: 0.35em;\">\n",
       "    Solución inyectable\n",
       "    <span style=\"font-size: 0.8em; font-weight: bold; line-height: 1; border-radius: 0.35em; vertical-align: middle; margin-left: 0.5rem\">MISC</span>\n",
       "</mark>\n",
       " . \n",
       "<mark class=\"entity\" style=\"background: #ff9561; padding: 0.45em 0.6em; margin: 0 0.25em; line-height: 1; border-radius: 0.35em;\">\n",
       "    Ampolla\n",
       "    <span style=\"font-size: 0.8em; font-weight: bold; line-height: 1; border-radius: 0.35em; vertical-align: middle; margin-left: 0.5rem\">LOC</span>\n",
       "</mark>\n",
       " <br> 2 ml . \n",
       "<mark class=\"entity\" style=\"background: #ddd; padding: 0.45em 0.6em; margin: 0 0.25em; line-height: 1; border-radius: 0.35em;\">\n",
       "    Cotizar Ampolla\n",
       "    <span style=\"font-size: 0.8em; font-weight: bold; line-height: 1; border-radius: 0.35em; vertical-align: middle; margin-left: 0.5rem\">MISC</span>\n",
       "</mark>\n",
       " .</div></span>"
      ],
      "text/plain": [
       "<IPython.core.display.HTML object>"
      ]
     },
     "metadata": {},
     "output_type": "display_data"
    },
    {
     "data": {
      "text/html": [
       "<span class=\"tex2jax_ignore\"><div class=\"entities\" style=\"line-height: 2.5; direction: ltr\">100 mg . \n",
       "<mark class=\"entity\" style=\"background: #ddd; padding: 0.45em 0.6em; margin: 0 0.25em; line-height: 1; border-radius: 0.35em;\">\n",
       "    Tableta / Comprimido\n",
       "    <span style=\"font-size: 0.8em; font-weight: bold; line-height: 1; border-radius: 0.35em; vertical-align: middle; margin-left: 0.5rem\">MISC</span>\n",
       "</mark>\n",
       " . \n",
       "<mark class=\"entity\" style=\"background: #ddd; padding: 0.45em 0.6em; margin: 0 0.25em; line-height: 1; border-radius: 0.35em;\">\n",
       "    Blister\n",
       "    <span style=\"font-size: 0.8em; font-weight: bold; line-height: 1; border-radius: 0.35em; vertical-align: middle; margin-left: 0.5rem\">MISC</span>\n",
       "</mark>\n",
       " . \n",
       "<mark class=\"entity\" style=\"background: #ddd; padding: 0.45em 0.6em; margin: 0 0.25em; line-height: 1; border-radius: 0.35em;\">\n",
       "    Cotizar Tableta / Comprimido\n",
       "    <span style=\"font-size: 0.8em; font-weight: bold; line-height: 1; border-radius: 0.35em; vertical-align: middle; margin-left: 0.5rem\">MISC</span>\n",
       "</mark>\n",
       " .</div></span>"
      ],
      "text/plain": [
       "<IPython.core.display.HTML object>"
      ]
     },
     "metadata": {},
     "output_type": "display_data"
    },
    {
     "data": {
      "text/html": [
       "<span class=\"tex2jax_ignore\"><div class=\"entities\" style=\"line-height: 2.5; direction: ltr\">400 mg . \n",
       "<mark class=\"entity\" style=\"background: #ddd; padding: 0.45em 0.6em; margin: 0 0.25em; line-height: 1; border-radius: 0.35em;\">\n",
       "    Tableta / Comprimido Tableta recubierta\n",
       "    <span style=\"font-size: 0.8em; font-weight: bold; line-height: 1; border-radius: 0.35em; vertical-align: middle; margin-left: 0.5rem\">MISC</span>\n",
       "</mark>\n",
       " / \n",
       "<mark class=\"entity\" style=\"background: #ddd; padding: 0.45em 0.6em; margin: 0 0.25em; line-height: 1; border-radius: 0.35em;\">\n",
       "    Comprimido\n",
       "    <span style=\"font-size: 0.8em; font-weight: bold; line-height: 1; border-radius: 0.35em; vertical-align: middle; margin-left: 0.5rem\">MISC</span>\n",
       "</mark>\n",
       " recubierto \n",
       "<mark class=\"entity\" style=\"background: #ddd; padding: 0.45em 0.6em; margin: 0 0.25em; line-height: 1; border-radius: 0.35em;\">\n",
       "    Cápsula\n",
       "    <span style=\"font-size: 0.8em; font-weight: bold; line-height: 1; border-radius: 0.35em; vertical-align: middle; margin-left: 0.5rem\">MISC</span>\n",
       "</mark>\n",
       " . \n",
       "<mark class=\"entity\" style=\"background: #ddd; padding: 0.45em 0.6em; margin: 0 0.25em; line-height: 1; border-radius: 0.35em;\">\n",
       "    Blister\n",
       "    <span style=\"font-size: 0.8em; font-weight: bold; line-height: 1; border-radius: 0.35em; vertical-align: middle; margin-left: 0.5rem\">MISC</span>\n",
       "</mark>\n",
       " . \n",
       "<mark class=\"entity\" style=\"background: #ddd; padding: 0.45em 0.6em; margin: 0 0.25em; line-height: 1; border-radius: 0.35em;\">\n",
       "    Cotizar Tableta / Comprimido Tableta recubierta\n",
       "    <span style=\"font-size: 0.8em; font-weight: bold; line-height: 1; border-radius: 0.35em; vertical-align: middle; margin-left: 0.5rem\">MISC</span>\n",
       "</mark>\n",
       " / \n",
       "<mark class=\"entity\" style=\"background: #ddd; padding: 0.45em 0.6em; margin: 0 0.25em; line-height: 1; border-radius: 0.35em;\">\n",
       "    Comprimido\n",
       "    <span style=\"font-size: 0.8em; font-weight: bold; line-height: 1; border-radius: 0.35em; vertical-align: middle; margin-left: 0.5rem\">MISC</span>\n",
       "</mark>\n",
       " recubierto \n",
       "<mark class=\"entity\" style=\"background: #ddd; padding: 0.45em 0.6em; margin: 0 0.25em; line-height: 1; border-radius: 0.35em;\">\n",
       "    Cápsula\n",
       "    <span style=\"font-size: 0.8em; font-weight: bold; line-height: 1; border-radius: 0.35em; vertical-align: middle; margin-left: 0.5rem\">MISC</span>\n",
       "</mark>\n",
       " .</div></span>"
      ],
      "text/plain": [
       "<IPython.core.display.HTML object>"
      ]
     },
     "metadata": {},
     "output_type": "display_data"
    },
    {
     "data": {
      "text/html": [
       "<span class=\"tex2jax_ignore\"><div class=\"entities\" style=\"line-height: 2.5; direction: ltr\">100 mg . \n",
       "<mark class=\"entity\" style=\"background: #ddd; padding: 0.45em 0.6em; margin: 0 0.25em; line-height: 1; border-radius: 0.35em;\">\n",
       "    Tableta / Comprimido Tableta recubierta\n",
       "    <span style=\"font-size: 0.8em; font-weight: bold; line-height: 1; border-radius: 0.35em; vertical-align: middle; margin-left: 0.5rem\">MISC</span>\n",
       "</mark>\n",
       " / \n",
       "<mark class=\"entity\" style=\"background: #ddd; padding: 0.45em 0.6em; margin: 0 0.25em; line-height: 1; border-radius: 0.35em;\">\n",
       "    Comprimido\n",
       "    <span style=\"font-size: 0.8em; font-weight: bold; line-height: 1; border-radius: 0.35em; vertical-align: middle; margin-left: 0.5rem\">MISC</span>\n",
       "</mark>\n",
       " recubierto . <br> \n",
       "<mark class=\"entity\" style=\"background: #ddd; padding: 0.45em 0.6em; margin: 0 0.25em; line-height: 1; border-radius: 0.35em;\">\n",
       "    Blister\n",
       "    <span style=\"font-size: 0.8em; font-weight: bold; line-height: 1; border-radius: 0.35em; vertical-align: middle; margin-left: 0.5rem\">MISC</span>\n",
       "</mark>\n",
       " . \n",
       "<mark class=\"entity\" style=\"background: #ddd; padding: 0.45em 0.6em; margin: 0 0.25em; line-height: 1; border-radius: 0.35em;\">\n",
       "    Cotizar Tableta / Comprimido Tableta recubierta / Comprimido\n",
       "    <span style=\"font-size: 0.8em; font-weight: bold; line-height: 1; border-radius: 0.35em; vertical-align: middle; margin-left: 0.5rem\">MISC</span>\n",
       "</mark>\n",
       " recubierto .</div></span>"
      ],
      "text/plain": [
       "<IPython.core.display.HTML object>"
      ]
     },
     "metadata": {},
     "output_type": "display_data"
    },
    {
     "data": {
      "text/html": [
       "<span class=\"tex2jax_ignore\"><div class=\"entities\" style=\"line-height: 2.5; direction: ltr\">300 mg . \n",
       "<mark class=\"entity\" style=\"background: #ddd; padding: 0.45em 0.6em; margin: 0 0.25em; line-height: 1; border-radius: 0.35em;\">\n",
       "    Tableta / Comprimido Cápsula\n",
       "    <span style=\"font-size: 0.8em; font-weight: bold; line-height: 1; border-radius: 0.35em; vertical-align: middle; margin-left: 0.5rem\">MISC</span>\n",
       "</mark>\n",
       " . <br> Blister . \n",
       "<mark class=\"entity\" style=\"background: #ddd; padding: 0.45em 0.6em; margin: 0 0.25em; line-height: 1; border-radius: 0.35em;\">\n",
       "    Cotizar \n",
       " Tableta / Comprimido Cápsula\n",
       "    <span style=\"font-size: 0.8em; font-weight: bold; line-height: 1; border-radius: 0.35em; vertical-align: middle; margin-left: 0.5rem\">MISC</span>\n",
       "</mark>\n",
       " .</div></span>"
      ],
      "text/plain": [
       "<IPython.core.display.HTML object>"
      ]
     },
     "metadata": {},
     "output_type": "display_data"
    },
    {
     "data": {
      "text/html": [
       "<span class=\"tex2jax_ignore\"><div class=\"entities\" style=\"line-height: 2.5; direction: ltr\">50 mg . \n",
       "<mark class=\"entity\" style=\"background: #ddd; padding: 0.45em 0.6em; margin: 0 0.25em; line-height: 1; border-radius: 0.35em;\">\n",
       "    Tableta / Comprimido Tableta recubierta\n",
       "    <span style=\"font-size: 0.8em; font-weight: bold; line-height: 1; border-radius: 0.35em; vertical-align: middle; margin-left: 0.5rem\">MISC</span>\n",
       "</mark>\n",
       " / \n",
       "<mark class=\"entity\" style=\"background: #ddd; padding: 0.45em 0.6em; margin: 0 0.25em; line-height: 1; border-radius: 0.35em;\">\n",
       "    Comprimido\n",
       "    <span style=\"font-size: 0.8em; font-weight: bold; line-height: 1; border-radius: 0.35em; vertical-align: middle; margin-left: 0.5rem\">MISC</span>\n",
       "</mark>\n",
       " recubierto \n",
       "<mark class=\"entity\" style=\"background: #ddd; padding: 0.45em 0.6em; margin: 0 0.25em; line-height: 1; border-radius: 0.35em;\">\n",
       "    Cápsula\n",
       "    <span style=\"font-size: 0.8em; font-weight: bold; line-height: 1; border-radius: 0.35em; vertical-align: middle; margin-left: 0.5rem\">MISC</span>\n",
       "</mark>\n",
       " . \n",
       "<mark class=\"entity\" style=\"background: #ddd; padding: 0.45em 0.6em; margin: 0 0.25em; line-height: 1; border-radius: 0.35em;\">\n",
       "    Blister\n",
       "    <span style=\"font-size: 0.8em; font-weight: bold; line-height: 1; border-radius: 0.35em; vertical-align: middle; margin-left: 0.5rem\">MISC</span>\n",
       "</mark>\n",
       " . \n",
       "<mark class=\"entity\" style=\"background: #ddd; padding: 0.45em 0.6em; margin: 0 0.25em; line-height: 1; border-radius: 0.35em;\">\n",
       "    Cotizar \n",
       " Tableta / Comprimido Tableta \n",
       " recubierta /\n",
       "    <span style=\"font-size: 0.8em; font-weight: bold; line-height: 1; border-radius: 0.35em; vertical-align: middle; margin-left: 0.5rem\">MISC</span>\n",
       "</mark>\n",
       " \n",
       "<mark class=\"entity\" style=\"background: #ddd; padding: 0.45em 0.6em; margin: 0 0.25em; line-height: 1; border-radius: 0.35em;\">\n",
       "    Comprimido\n",
       "    <span style=\"font-size: 0.8em; font-weight: bold; line-height: 1; border-radius: 0.35em; vertical-align: middle; margin-left: 0.5rem\">MISC</span>\n",
       "</mark>\n",
       " recubierto \n",
       "<mark class=\"entity\" style=\"background: #ddd; padding: 0.45em 0.6em; margin: 0 0.25em; line-height: 1; border-radius: 0.35em;\">\n",
       "    Cápsula\n",
       "    <span style=\"font-size: 0.8em; font-weight: bold; line-height: 1; border-radius: 0.35em; vertical-align: middle; margin-left: 0.5rem\">MISC</span>\n",
       "</mark>\n",
       " .</div></span>"
      ],
      "text/plain": [
       "<IPython.core.display.HTML object>"
      ]
     },
     "metadata": {},
     "output_type": "display_data"
    },
    {
     "data": {
      "text/html": [
       "<span class=\"tex2jax_ignore\"><div class=\"entities\" style=\"line-height: 2.5; direction: ltr\">\n",
       "<mark class=\"entity\" style=\"background: #ddd; padding: 0.45em 0.6em; margin: 0 0.25em; line-height: 1; border-radius: 0.35em;\">\n",
       "    0.4\n",
       "    <span style=\"font-size: 0.8em; font-weight: bold; line-height: 1; border-radius: 0.35em; vertical-align: middle; margin-left: 0.5rem\">MISC</span>\n",
       "</mark>\n",
       " mg / ml . \n",
       "<mark class=\"entity\" style=\"background: #ddd; padding: 0.45em 0.6em; margin: 0 0.25em; line-height: 1; border-radius: 0.35em;\">\n",
       "    Solución inyectable\n",
       "    <span style=\"font-size: 0.8em; font-weight: bold; line-height: 1; border-radius: 0.35em; vertical-align: middle; margin-left: 0.5rem\">MISC</span>\n",
       "</mark>\n",
       " . \n",
       "<mark class=\"entity\" style=\"background: #ff9561; padding: 0.45em 0.6em; margin: 0 0.25em; line-height: 1; border-radius: 0.35em;\">\n",
       "    Ampolla\n",
       "    <span style=\"font-size: 0.8em; font-weight: bold; line-height: 1; border-radius: 0.35em; vertical-align: middle; margin-left: 0.5rem\">LOC</span>\n",
       "</mark>\n",
       " 1 ml . \n",
       "<mark class=\"entity\" style=\"background: #ddd; padding: 0.45em 0.6em; margin: 0 0.25em; line-height: 1; border-radius: 0.35em;\">\n",
       "    Cotizar Ampolla\n",
       "    <span style=\"font-size: 0.8em; font-weight: bold; line-height: 1; border-radius: 0.35em; vertical-align: middle; margin-left: 0.5rem\">MISC</span>\n",
       "</mark>\n",
       " .</div></span>"
      ],
      "text/plain": [
       "<IPython.core.display.HTML object>"
      ]
     },
     "metadata": {},
     "output_type": "display_data"
    },
    {
     "data": {
      "text/html": [
       "<span class=\"tex2jax_ignore\"><div class=\"entities\" style=\"line-height: 2.5; direction: ltr\">0.1mg / ml . \n",
       "<mark class=\"entity\" style=\"background: #ddd; padding: 0.45em 0.6em; margin: 0 0.25em; line-height: 1; border-radius: 0.35em;\">\n",
       "    Solución Inyectable\n",
       "    <span style=\"font-size: 0.8em; font-weight: bold; line-height: 1; border-radius: 0.35em; vertical-align: middle; margin-left: 0.5rem\">MISC</span>\n",
       "</mark>\n",
       " . \n",
       "<mark class=\"entity\" style=\"background: #ddd; padding: 0.45em 0.6em; margin: 0 0.25em; line-height: 1; border-radius: 0.35em;\">\n",
       "    Ampolla\n",
       "    <span style=\"font-size: 0.8em; font-weight: bold; line-height: 1; border-radius: 0.35em; vertical-align: middle; margin-left: 0.5rem\">MISC</span>\n",
       "</mark>\n",
       " 5ml . \n",
       "<mark class=\"entity\" style=\"background: #ddd; padding: 0.45em 0.6em; margin: 0 0.25em; line-height: 1; border-radius: 0.35em;\">\n",
       "    Cotizar Ampolla\n",
       "    <span style=\"font-size: 0.8em; font-weight: bold; line-height: 1; border-radius: 0.35em; vertical-align: middle; margin-left: 0.5rem\">PER</span>\n",
       "</mark>\n",
       " .</div></span>"
      ],
      "text/plain": [
       "<IPython.core.display.HTML object>"
      ]
     },
     "metadata": {},
     "output_type": "display_data"
    },
    {
     "data": {
      "text/html": [
       "<span class=\"tex2jax_ignore\"><div class=\"entities\" style=\"line-height: 2.5; direction: ltr\">250 mg .   Tableta dispersable / \n",
       "<mark class=\"entity\" style=\"background: #ddd; padding: 0.45em 0.6em; margin: 0 0.25em; line-height: 1; border-radius: 0.35em;\">\n",
       "    Comprimido\n",
       "    <span style=\"font-size: 0.8em; font-weight: bold; line-height: 1; border-radius: 0.35em; vertical-align: middle; margin-left: 0.5rem\">MISC</span>\n",
       "</mark>\n",
       " . \n",
       "<mark class=\"entity\" style=\"background: #ddd; padding: 0.45em 0.6em; margin: 0 0.25em; line-height: 1; border-radius: 0.35em;\">\n",
       "    Blister\n",
       "    <span style=\"font-size: 0.8em; font-weight: bold; line-height: 1; border-radius: 0.35em; vertical-align: middle; margin-left: 0.5rem\">MISC</span>\n",
       "</mark>\n",
       " . \n",
       "<mark class=\"entity\" style=\"background: #ddd; padding: 0.45em 0.6em; margin: 0 0.25em; line-height: 1; border-radius: 0.35em;\">\n",
       "    Cotizar tableta / Comprimido dispersable\n",
       "    <span style=\"font-size: 0.8em; font-weight: bold; line-height: 1; border-radius: 0.35em; vertical-align: middle; margin-left: 0.5rem\">MISC</span>\n",
       "</mark>\n",
       " .</div></span>"
      ],
      "text/plain": [
       "<IPython.core.display.HTML object>"
      ]
     },
     "metadata": {},
     "output_type": "display_data"
    },
    {
     "data": {
      "text/html": [
       "<span class=\"tex2jax_ignore\"><div class=\"entities\" style=\"line-height: 2.5; direction: ltr\">2 mg . \n",
       "<mark class=\"entity\" style=\"background: #ddd; padding: 0.45em 0.6em; margin: 0 0.25em; line-height: 1; border-radius: 0.35em;\">\n",
       "    Tableta / Comprimido\n",
       "    <span style=\"font-size: 0.8em; font-weight: bold; line-height: 1; border-radius: 0.35em; vertical-align: middle; margin-left: 0.5rem\">MISC</span>\n",
       "</mark>\n",
       " . \n",
       "<mark class=\"entity\" style=\"background: #ddd; padding: 0.45em 0.6em; margin: 0 0.25em; line-height: 1; border-radius: 0.35em;\">\n",
       "    Blister\n",
       "    <span style=\"font-size: 0.8em; font-weight: bold; line-height: 1; border-radius: 0.35em; vertical-align: middle; margin-left: 0.5rem\">MISC</span>\n",
       "</mark>\n",
       " . \n",
       "<mark class=\"entity\" style=\"background: #ddd; padding: 0.45em 0.6em; margin: 0 0.25em; line-height: 1; border-radius: 0.35em;\">\n",
       "    Cotizar tableta / Comprimido\n",
       "    <span style=\"font-size: 0.8em; font-weight: bold; line-height: 1; border-radius: 0.35em; vertical-align: middle; margin-left: 0.5rem\">MISC</span>\n",
       "</mark>\n",
       " .</div></span>"
      ],
      "text/plain": [
       "<IPython.core.display.HTML object>"
      ]
     },
     "metadata": {},
     "output_type": "display_data"
    },
    {
     "data": {
      "text/html": [
       "<span class=\"tex2jax_ignore\"><div class=\"entities\" style=\"line-height: 2.5; direction: ltr\">10 ml . \n",
       "<mark class=\"entity\" style=\"background: #ddd; padding: 0.45em 0.6em; margin: 0 0.25em; line-height: 1; border-radius: 0.35em;\">\n",
       "    Agua estéril parenteral .\n",
       "    <span style=\"font-size: 0.8em; font-weight: bold; line-height: 1; border-radius: 0.35em; vertical-align: middle; margin-left: 0.5rem\">MISC</span>\n",
       "</mark>\n",
       "   \n",
       "<mark class=\"entity\" style=\"background: #ff9561; padding: 0.45em 0.6em; margin: 0 0.25em; line-height: 1; border-radius: 0.35em;\">\n",
       "    Ampolla\n",
       "    <span style=\"font-size: 0.8em; font-weight: bold; line-height: 1; border-radius: 0.35em; vertical-align: middle; margin-left: 0.5rem\">LOC</span>\n",
       "</mark>\n",
       " 10 ml .   \n",
       "<mark class=\"entity\" style=\"background: #ddd; padding: 0.45em 0.6em; margin: 0 0.25em; line-height: 1; border-radius: 0.35em;\">\n",
       "    Cotizar Ampolla\n",
       "    <span style=\"font-size: 0.8em; font-weight: bold; line-height: 1; border-radius: 0.35em; vertical-align: middle; margin-left: 0.5rem\">MISC</span>\n",
       "</mark>\n",
       " .</div></span>"
      ],
      "text/plain": [
       "<IPython.core.display.HTML object>"
      ]
     },
     "metadata": {},
     "output_type": "display_data"
    },
    {
     "data": {
      "text/html": [
       "<span class=\"tex2jax_ignore\"><div class=\"entities\" style=\"line-height: 2.5; direction: ltr\">1000 ml . \n",
       "<mark class=\"entity\" style=\"background: #ddd; padding: 0.45em 0.6em; margin: 0 0.25em; line-height: 1; border-radius: 0.35em;\">\n",
       "    Agua estéril parenteral .   \n",
       "    <span style=\"font-size: 0.8em; font-weight: bold; line-height: 1; border-radius: 0.35em; vertical-align: middle; margin-left: 0.5rem\">MISC</span>\n",
       "</mark>\n",
       "\n",
       "<mark class=\"entity\" style=\"background: #7aecec; padding: 0.45em 0.6em; margin: 0 0.25em; line-height: 1; border-radius: 0.35em;\">\n",
       "    Bolsa Frasco\n",
       "    <span style=\"font-size: 0.8em; font-weight: bold; line-height: 1; border-radius: 0.35em; vertical-align: middle; margin-left: 0.5rem\">ORG</span>\n",
       "</mark>\n",
       " .   \n",
       "<mark class=\"entity\" style=\"background: #ddd; padding: 0.45em 0.6em; margin: 0 0.25em; line-height: 1; border-radius: 0.35em;\">\n",
       "    Cotizar Bolsa Frasco\n",
       "    <span style=\"font-size: 0.8em; font-weight: bold; line-height: 1; border-radius: 0.35em; vertical-align: middle; margin-left: 0.5rem\">MISC</span>\n",
       "</mark>\n",
       " .</div></span>"
      ],
      "text/plain": [
       "<IPython.core.display.HTML object>"
      ]
     },
     "metadata": {},
     "output_type": "display_data"
    },
    {
     "data": {
      "text/html": [
       "<span class=\"tex2jax_ignore\"><div class=\"entities\" style=\"line-height: 2.5; direction: ltr\">0.9% . \n",
       "<mark class=\"entity\" style=\"background: #ddd; padding: 0.45em 0.6em; margin: 0 0.25em; line-height: 1; border-radius: 0.35em;\">\n",
       "    Solución Inhalación\n",
       "    <span style=\"font-size: 0.8em; font-weight: bold; line-height: 1; border-radius: 0.35em; vertical-align: middle; margin-left: 0.5rem\">MISC</span>\n",
       "</mark>\n",
       " .   Vial plástico \n",
       "<mark class=\"entity\" style=\"background: #ff9561; padding: 0.45em 0.6em; margin: 0 0.25em; line-height: 1; border-radius: 0.35em;\">\n",
       "    Ampolla\n",
       "    <span style=\"font-size: 0.8em; font-weight: bold; line-height: 1; border-radius: 0.35em; vertical-align: middle; margin-left: 0.5rem\">LOC</span>\n",
       "</mark>\n",
       " plástica 15ml .   \n",
       "<mark class=\"entity\" style=\"background: #ddd; padding: 0.45em 0.6em; margin: 0 0.25em; line-height: 1; border-radius: 0.35em;\">\n",
       "    Cotizar Vial\n",
       "    <span style=\"font-size: 0.8em; font-weight: bold; line-height: 1; border-radius: 0.35em; vertical-align: middle; margin-left: 0.5rem\">MISC</span>\n",
       "</mark>\n",
       " plástico \n",
       "<mark class=\"entity\" style=\"background: #ff9561; padding: 0.45em 0.6em; margin: 0 0.25em; line-height: 1; border-radius: 0.35em;\">\n",
       "    Ampolla\n",
       "    <span style=\"font-size: 0.8em; font-weight: bold; line-height: 1; border-radius: 0.35em; vertical-align: middle; margin-left: 0.5rem\">LOC</span>\n",
       "</mark>\n",
       " plástica .</div></span>"
      ],
      "text/plain": [
       "<IPython.core.display.HTML object>"
      ]
     },
     "metadata": {},
     "output_type": "display_data"
    },
    {
     "data": {
      "text/html": [
       "<span class=\"tex2jax_ignore\"><div class=\"entities\" style=\"line-height: 2.5; direction: ltr\">0.9% . \n",
       "<mark class=\"entity\" style=\"background: #ddd; padding: 0.45em 0.6em; margin: 0 0.25em; line-height: 1; border-radius: 0.35em;\">\n",
       "    Solución Inhalación\n",
       "    <span style=\"font-size: 0.8em; font-weight: bold; line-height: 1; border-radius: 0.35em; vertical-align: middle; margin-left: 0.5rem\">MISC</span>\n",
       "</mark>\n",
       " .   Vial plástico \n",
       "<mark class=\"entity\" style=\"background: #ff9561; padding: 0.45em 0.6em; margin: 0 0.25em; line-height: 1; border-radius: 0.35em;\">\n",
       "    Ampolla\n",
       "    <span style=\"font-size: 0.8em; font-weight: bold; line-height: 1; border-radius: 0.35em; vertical-align: middle; margin-left: 0.5rem\">LOC</span>\n",
       "</mark>\n",
       " plástica 5ml .   \n",
       "<mark class=\"entity\" style=\"background: #ddd; padding: 0.45em 0.6em; margin: 0 0.25em; line-height: 1; border-radius: 0.35em;\">\n",
       "    Cotizar Vial\n",
       "    <span style=\"font-size: 0.8em; font-weight: bold; line-height: 1; border-radius: 0.35em; vertical-align: middle; margin-left: 0.5rem\">MISC</span>\n",
       "</mark>\n",
       " plástico \n",
       "<mark class=\"entity\" style=\"background: #ff9561; padding: 0.45em 0.6em; margin: 0 0.25em; line-height: 1; border-radius: 0.35em;\">\n",
       "    Ampolla\n",
       "    <span style=\"font-size: 0.8em; font-weight: bold; line-height: 1; border-radius: 0.35em; vertical-align: middle; margin-left: 0.5rem\">LOC</span>\n",
       "</mark>\n",
       " plástica .</div></span>"
      ],
      "text/plain": [
       "<IPython.core.display.HTML object>"
      ]
     },
     "metadata": {},
     "output_type": "display_data"
    },
    {
     "data": {
      "text/html": [
       "<span class=\"tex2jax_ignore\"><div class=\"entities\" style=\"line-height: 2.5; direction: ltr\">0.9% . \n",
       "<mark class=\"entity\" style=\"background: #ddd; padding: 0.45em 0.6em; margin: 0 0.25em; line-height: 1; border-radius: 0.35em;\">\n",
       "    Solución inyectable\n",
       "    <span style=\"font-size: 0.8em; font-weight: bold; line-height: 1; border-radius: 0.35em; vertical-align: middle; margin-left: 0.5rem\">MISC</span>\n",
       "</mark>\n",
       " .   \n",
       "<mark class=\"entity\" style=\"background: #7aecec; padding: 0.45em 0.6em; margin: 0 0.25em; line-height: 1; border-radius: 0.35em;\">\n",
       "    Bolsa frasco 50 ml\n",
       "    <span style=\"font-size: 0.8em; font-weight: bold; line-height: 1; border-radius: 0.35em; vertical-align: middle; margin-left: 0.5rem\">ORG</span>\n",
       "</mark>\n",
       " . \n",
       "<mark class=\"entity\" style=\"background: #ddd; padding: 0.45em 0.6em; margin: 0 0.25em; line-height: 1; border-radius: 0.35em;\">\n",
       "    Cotizar Bolsa Frasco\n",
       "    <span style=\"font-size: 0.8em; font-weight: bold; line-height: 1; border-radius: 0.35em; vertical-align: middle; margin-left: 0.5rem\">MISC</span>\n",
       "</mark>\n",
       " .</div></span>"
      ],
      "text/plain": [
       "<IPython.core.display.HTML object>"
      ]
     },
     "metadata": {},
     "output_type": "display_data"
    },
    {
     "data": {
      "text/html": [
       "<span class=\"tex2jax_ignore\"><div class=\"entities\" style=\"line-height: 2.5; direction: ltr\">10% , \n",
       "<mark class=\"entity\" style=\"background: #ddd; padding: 0.45em 0.6em; margin: 0 0.25em; line-height: 1; border-radius: 0.35em;\">\n",
       "    Solución\n",
       "    <span style=\"font-size: 0.8em; font-weight: bold; line-height: 1; border-radius: 0.35em; vertical-align: middle; margin-left: 0.5rem\">MISC</span>\n",
       "</mark>\n",
       " inyectable , \n",
       "<mark class=\"entity\" style=\"background: #ddd; padding: 0.45em 0.6em; margin: 0 0.25em; line-height: 1; border-radius: 0.35em;\">\n",
       "    Frasco\n",
       "    <span style=\"font-size: 0.8em; font-weight: bold; line-height: 1; border-radius: 0.35em; vertical-align: middle; margin-left: 0.5rem\">PER</span>\n",
       "</mark>\n",
       " 250-500 ml .   \n",
       "<mark class=\"entity\" style=\"background: #ddd; padding: 0.45em 0.6em; margin: 0 0.25em; line-height: 1; border-radius: 0.35em;\">\n",
       "    Cotizar Mililitro\n",
       "    <span style=\"font-size: 0.8em; font-weight: bold; line-height: 1; border-radius: 0.35em; vertical-align: middle; margin-left: 0.5rem\">MISC</span>\n",
       "</mark>\n",
       " .</div></span>"
      ],
      "text/plain": [
       "<IPython.core.display.HTML object>"
      ]
     },
     "metadata": {},
     "output_type": "display_data"
    },
    {
     "data": {
      "text/html": [
       "<span class=\"tex2jax_ignore\"><div class=\"entities\" style=\"line-height: 2.5; direction: ltr\">10% , \n",
       "<mark class=\"entity\" style=\"background: #ddd; padding: 0.45em 0.6em; margin: 0 0.25em; line-height: 1; border-radius: 0.35em;\">\n",
       "    Solución\n",
       "    <span style=\"font-size: 0.8em; font-weight: bold; line-height: 1; border-radius: 0.35em; vertical-align: middle; margin-left: 0.5rem\">MISC</span>\n",
       "</mark>\n",
       " inyectable , \n",
       "<mark class=\"entity\" style=\"background: #ddd; padding: 0.45em 0.6em; margin: 0 0.25em; line-height: 1; border-radius: 0.35em;\">\n",
       "    Frasco 500 ml\n",
       "    <span style=\"font-size: 0.8em; font-weight: bold; line-height: 1; border-radius: 0.35em; vertical-align: middle; margin-left: 0.5rem\">MISC</span>\n",
       "</mark>\n",
       " .   \n",
       "<mark class=\"entity\" style=\"background: #ddd; padding: 0.45em 0.6em; margin: 0 0.25em; line-height: 1; border-radius: 0.35em;\">\n",
       "    Cotizar Frasco\n",
       "    <span style=\"font-size: 0.8em; font-weight: bold; line-height: 1; border-radius: 0.35em; vertical-align: middle; margin-left: 0.5rem\">MISC</span>\n",
       "</mark>\n",
       " .</div></span>"
      ],
      "text/plain": [
       "<IPython.core.display.HTML object>"
      ]
     },
     "metadata": {},
     "output_type": "display_data"
    },
    {
     "data": {
      "text/html": [
       "<span class=\"tex2jax_ignore\"><div class=\"entities\" style=\"line-height: 2.5; direction: ltr\">Aminoácidos Electrolitos 10% .   \n",
       "<mark class=\"entity\" style=\"background: #ddd; padding: 0.45em 0.6em; margin: 0 0.25em; line-height: 1; border-radius: 0.35em;\">\n",
       "    Solución\n",
       "    <span style=\"font-size: 0.8em; font-weight: bold; line-height: 1; border-radius: 0.35em; vertical-align: middle; margin-left: 0.5rem\">MISC</span>\n",
       "</mark>\n",
       " inyectable .   \n",
       "<mark class=\"entity\" style=\"background: #ddd; padding: 0.45em 0.6em; margin: 0 0.25em; line-height: 1; border-radius: 0.35em;\">\n",
       "    Frasco 500 ml\n",
       "    <span style=\"font-size: 0.8em; font-weight: bold; line-height: 1; border-radius: 0.35em; vertical-align: middle; margin-left: 0.5rem\">MISC</span>\n",
       "</mark>\n",
       " .   \n",
       "<mark class=\"entity\" style=\"background: #ddd; padding: 0.45em 0.6em; margin: 0 0.25em; line-height: 1; border-radius: 0.35em;\">\n",
       "    Cotizar Frasco\n",
       "    <span style=\"font-size: 0.8em; font-weight: bold; line-height: 1; border-radius: 0.35em; vertical-align: middle; margin-left: 0.5rem\">MISC</span>\n",
       "</mark>\n",
       " .</div></span>"
      ],
      "text/plain": [
       "<IPython.core.display.HTML object>"
      ]
     },
     "metadata": {},
     "output_type": "display_data"
    },
    {
     "data": {
      "text/html": [
       "<span class=\"tex2jax_ignore\"><div class=\"entities\" style=\"line-height: 2.5; direction: ltr\">10%   \n",
       "<mark class=\"entity\" style=\"background: #ddd; padding: 0.45em 0.6em; margin: 0 0.25em; line-height: 1; border-radius: 0.35em;\">\n",
       "    Solución\n",
       "    <span style=\"font-size: 0.8em; font-weight: bold; line-height: 1; border-radius: 0.35em; vertical-align: middle; margin-left: 0.5rem\">MISC</span>\n",
       "</mark>\n",
       " inyectable , \n",
       "<mark class=\"entity\" style=\"background: #ddd; padding: 0.45em 0.6em; margin: 0 0.25em; line-height: 1; border-radius: 0.35em;\">\n",
       "    Frasco\n",
       "    <span style=\"font-size: 0.8em; font-weight: bold; line-height: 1; border-radius: 0.35em; vertical-align: middle; margin-left: 0.5rem\">PER</span>\n",
       "</mark>\n",
       " 250-500 ml . \n",
       "<mark class=\"entity\" style=\"background: #ddd; padding: 0.45em 0.6em; margin: 0 0.25em; line-height: 1; border-radius: 0.35em;\">\n",
       "    Cotizar Mililitro\n",
       "    <span style=\"font-size: 0.8em; font-weight: bold; line-height: 1; border-radius: 0.35em; vertical-align: middle; margin-left: 0.5rem\">MISC</span>\n",
       "</mark>\n",
       " .</div></span>"
      ],
      "text/plain": [
       "<IPython.core.display.HTML object>"
      ]
     },
     "metadata": {},
     "output_type": "display_data"
    },
    {
     "data": {
      "text/html": [
       "<span class=\"tex2jax_ignore\"><div class=\"entities\" style=\"line-height: 2.5; direction: ltr\">50% .   \n",
       "<mark class=\"entity\" style=\"background: #ddd; padding: 0.45em 0.6em; margin: 0 0.25em; line-height: 1; border-radius: 0.35em;\">\n",
       "    Solución Inyectable\n",
       "    <span style=\"font-size: 0.8em; font-weight: bold; line-height: 1; border-radius: 0.35em; vertical-align: middle; margin-left: 0.5rem\">MISC</span>\n",
       "</mark>\n",
       " .   \n",
       "<mark class=\"entity\" style=\"background: #ff9561; padding: 0.45em 0.6em; margin: 0 0.25em; line-height: 1; border-radius: 0.35em;\">\n",
       "    Ampolla\n",
       "    <span style=\"font-size: 0.8em; font-weight: bold; line-height: 1; border-radius: 0.35em; vertical-align: middle; margin-left: 0.5rem\">LOC</span>\n",
       "</mark>\n",
       " 10 ml .   \n",
       "<mark class=\"entity\" style=\"background: #ddd; padding: 0.45em 0.6em; margin: 0 0.25em; line-height: 1; border-radius: 0.35em;\">\n",
       "    Cotizar Ampolla\n",
       "    <span style=\"font-size: 0.8em; font-weight: bold; line-height: 1; border-radius: 0.35em; vertical-align: middle; margin-left: 0.5rem\">MISC</span>\n",
       "</mark>\n",
       " .</div></span>"
      ],
      "text/plain": [
       "<IPython.core.display.HTML object>"
      ]
     },
     "metadata": {},
     "output_type": "display_data"
    },
    {
     "data": {
      "text/html": [
       "<span class=\"tex2jax_ignore\"><div class=\"entities\" style=\"line-height: 2.5; direction: ltr\">10% . \n",
       "<mark class=\"entity\" style=\"background: #ddd; padding: 0.45em 0.6em; margin: 0 0.25em; line-height: 1; border-radius: 0.35em;\">\n",
       "    Solución\n",
       "    <span style=\"font-size: 0.8em; font-weight: bold; line-height: 1; border-radius: 0.35em; vertical-align: middle; margin-left: 0.5rem\">MISC</span>\n",
       "</mark>\n",
       " inyectable .   \n",
       "<mark class=\"entity\" style=\"background: #ff9561; padding: 0.45em 0.6em; margin: 0 0.25em; line-height: 1; border-radius: 0.35em;\">\n",
       "    Ampolla\n",
       "    <span style=\"font-size: 0.8em; font-weight: bold; line-height: 1; border-radius: 0.35em; vertical-align: middle; margin-left: 0.5rem\">LOC</span>\n",
       "</mark>\n",
       " 10 ml .   \n",
       "<mark class=\"entity\" style=\"background: #ddd; padding: 0.45em 0.6em; margin: 0 0.25em; line-height: 1; border-radius: 0.35em;\">\n",
       "    Cotizar      Ampolla\n",
       "    <span style=\"font-size: 0.8em; font-weight: bold; line-height: 1; border-radius: 0.35em; vertical-align: middle; margin-left: 0.5rem\">MISC</span>\n",
       "</mark>\n",
       " .</div></span>"
      ],
      "text/plain": [
       "<IPython.core.display.HTML object>"
      ]
     },
     "metadata": {},
     "output_type": "display_data"
    },
    {
     "data": {
      "text/html": [
       "<span class=\"tex2jax_ignore\"><div class=\"entities\" style=\"line-height: 2.5; direction: ltr\">5% . ( \n",
       "<mark class=\"entity\" style=\"background: #ff9561; padding: 0.45em 0.6em; margin: 0 0.25em; line-height: 1; border-radius: 0.35em;\">\n",
       "    Isotónica\n",
       "    <span style=\"font-size: 0.8em; font-weight: bold; line-height: 1; border-radius: 0.35em; vertical-align: middle; margin-left: 0.5rem\">LOC</span>\n",
       "</mark>\n",
       " ) . \n",
       "<mark class=\"entity\" style=\"background: #ddd; padding: 0.45em 0.6em; margin: 0 0.25em; line-height: 1; border-radius: 0.35em;\">\n",
       "    Solución inyectable\n",
       "    <span style=\"font-size: 0.8em; font-weight: bold; line-height: 1; border-radius: 0.35em; vertical-align: middle; margin-left: 0.5rem\">MISC</span>\n",
       "</mark>\n",
       " . \n",
       "<mark class=\"entity\" style=\"background: #ddd; padding: 0.45em 0.6em; margin: 0 0.25em; line-height: 1; border-radius: 0.35em;\">\n",
       "    Bolsa Frasco 250 ml\n",
       "    <span style=\"font-size: 0.8em; font-weight: bold; line-height: 1; border-radius: 0.35em; vertical-align: middle; margin-left: 0.5rem\">MISC</span>\n",
       "</mark>\n",
       " . \n",
       "<mark class=\"entity\" style=\"background: #ddd; padding: 0.45em 0.6em; margin: 0 0.25em; line-height: 1; border-radius: 0.35em;\">\n",
       "    Cotizar Bolsa Frasco\n",
       "    <span style=\"font-size: 0.8em; font-weight: bold; line-height: 1; border-radius: 0.35em; vertical-align: middle; margin-left: 0.5rem\">MISC</span>\n",
       "</mark>\n",
       " .</div></span>"
      ],
      "text/plain": [
       "<IPython.core.display.HTML object>"
      ]
     },
     "metadata": {},
     "output_type": "display_data"
    },
    {
     "data": {
      "text/html": [
       "<span class=\"tex2jax_ignore\"><div class=\"entities\" style=\"line-height: 2.5; direction: ltr\">5% . ( \n",
       "<mark class=\"entity\" style=\"background: #ff9561; padding: 0.45em 0.6em; margin: 0 0.25em; line-height: 1; border-radius: 0.35em;\">\n",
       "    Isotónica\n",
       "    <span style=\"font-size: 0.8em; font-weight: bold; line-height: 1; border-radius: 0.35em; vertical-align: middle; margin-left: 0.5rem\">LOC</span>\n",
       "</mark>\n",
       " ) .   \n",
       "<mark class=\"entity\" style=\"background: #ddd; padding: 0.45em 0.6em; margin: 0 0.25em; line-height: 1; border-radius: 0.35em;\">\n",
       "    Solución\n",
       "    <span style=\"font-size: 0.8em; font-weight: bold; line-height: 1; border-radius: 0.35em; vertical-align: middle; margin-left: 0.5rem\">MISC</span>\n",
       "</mark>\n",
       " inyectable , \n",
       "<mark class=\"entity\" style=\"background: #ddd; padding: 0.45em 0.6em; margin: 0 0.25em; line-height: 1; border-radius: 0.35em;\">\n",
       "    Bolsa frasco 500 ml\n",
       "    <span style=\"font-size: 0.8em; font-weight: bold; line-height: 1; border-radius: 0.35em; vertical-align: middle; margin-left: 0.5rem\">MISC</span>\n",
       "</mark>\n",
       " . \n",
       "<mark class=\"entity\" style=\"background: #ddd; padding: 0.45em 0.6em; margin: 0 0.25em; line-height: 1; border-radius: 0.35em;\">\n",
       "    Cotizar Bolsa Frasco\n",
       "    <span style=\"font-size: 0.8em; font-weight: bold; line-height: 1; border-radius: 0.35em; vertical-align: middle; margin-left: 0.5rem\">MISC</span>\n",
       "</mark>\n",
       " .</div></span>"
      ],
      "text/plain": [
       "<IPython.core.display.HTML object>"
      ]
     },
     "metadata": {},
     "output_type": "display_data"
    },
    {
     "data": {
      "text/html": [
       "<span class=\"tex2jax_ignore\"><div class=\"entities\" style=\"line-height: 2.5; direction: ltr\">5% . ( \n",
       "<mark class=\"entity\" style=\"background: #ff9561; padding: 0.45em 0.6em; margin: 0 0.25em; line-height: 1; border-radius: 0.35em;\">\n",
       "    Isotónica\n",
       "    <span style=\"font-size: 0.8em; font-weight: bold; line-height: 1; border-radius: 0.35em; vertical-align: middle; margin-left: 0.5rem\">LOC</span>\n",
       "</mark>\n",
       " ) .   \n",
       "<mark class=\"entity\" style=\"background: #ddd; padding: 0.45em 0.6em; margin: 0 0.25em; line-height: 1; border-radius: 0.35em;\">\n",
       "    Solución\n",
       "    <span style=\"font-size: 0.8em; font-weight: bold; line-height: 1; border-radius: 0.35em; vertical-align: middle; margin-left: 0.5rem\">MISC</span>\n",
       "</mark>\n",
       " inyectable , \n",
       "<mark class=\"entity\" style=\"background: #ddd; padding: 0.45em 0.6em; margin: 0 0.25em; line-height: 1; border-radius: 0.35em;\">\n",
       "    Bolsa frasco 1000 ml\n",
       "    <span style=\"font-size: 0.8em; font-weight: bold; line-height: 1; border-radius: 0.35em; vertical-align: middle; margin-left: 0.5rem\">MISC</span>\n",
       "</mark>\n",
       " . \n",
       "<mark class=\"entity\" style=\"background: #ddd; padding: 0.45em 0.6em; margin: 0 0.25em; line-height: 1; border-radius: 0.35em;\">\n",
       "    Cotizar Bolsa Frasco\n",
       "    <span style=\"font-size: 0.8em; font-weight: bold; line-height: 1; border-radius: 0.35em; vertical-align: middle; margin-left: 0.5rem\">MISC</span>\n",
       "</mark>\n",
       " .</div></span>"
      ],
      "text/plain": [
       "<IPython.core.display.HTML object>"
      ]
     },
     "metadata": {},
     "output_type": "display_data"
    },
    {
     "data": {
      "text/html": [
       "<span class=\"tex2jax_ignore\"><div class=\"entities\" style=\"line-height: 2.5; direction: ltr\">10% . ( \n",
       "<mark class=\"entity\" style=\"background: #ff9561; padding: 0.45em 0.6em; margin: 0 0.25em; line-height: 1; border-radius: 0.35em;\">\n",
       "    Hipertónica\n",
       "    <span style=\"font-size: 0.8em; font-weight: bold; line-height: 1; border-radius: 0.35em; vertical-align: middle; margin-left: 0.5rem\">LOC</span>\n",
       "</mark>\n",
       " ) . \n",
       "<mark class=\"entity\" style=\"background: #ddd; padding: 0.45em 0.6em; margin: 0 0.25em; line-height: 1; border-radius: 0.35em;\">\n",
       "    Solución inyectable\n",
       "    <span style=\"font-size: 0.8em; font-weight: bold; line-height: 1; border-radius: 0.35em; vertical-align: middle; margin-left: 0.5rem\">MISC</span>\n",
       "</mark>\n",
       " . \n",
       "<mark class=\"entity\" style=\"background: #7aecec; padding: 0.45em 0.6em; margin: 0 0.25em; line-height: 1; border-radius: 0.35em;\">\n",
       "    Bolsa Frasco 500 ml\n",
       "    <span style=\"font-size: 0.8em; font-weight: bold; line-height: 1; border-radius: 0.35em; vertical-align: middle; margin-left: 0.5rem\">ORG</span>\n",
       "</mark>\n",
       " . \n",
       "<mark class=\"entity\" style=\"background: #ddd; padding: 0.45em 0.6em; margin: 0 0.25em; line-height: 1; border-radius: 0.35em;\">\n",
       "    Cotizar Bolsa Frasco\n",
       "    <span style=\"font-size: 0.8em; font-weight: bold; line-height: 1; border-radius: 0.35em; vertical-align: middle; margin-left: 0.5rem\">MISC</span>\n",
       "</mark>\n",
       " .</div></span>"
      ],
      "text/plain": [
       "<IPython.core.display.HTML object>"
      ]
     },
     "metadata": {},
     "output_type": "display_data"
    },
    {
     "data": {
      "text/html": [
       "<span class=\"tex2jax_ignore\"><div class=\"entities\" style=\"line-height: 2.5; direction: ltr\">10% . ( \n",
       "<mark class=\"entity\" style=\"background: #ff9561; padding: 0.45em 0.6em; margin: 0 0.25em; line-height: 1; border-radius: 0.35em;\">\n",
       "    Hipertónica\n",
       "    <span style=\"font-size: 0.8em; font-weight: bold; line-height: 1; border-radius: 0.35em; vertical-align: middle; margin-left: 0.5rem\">LOC</span>\n",
       "</mark>\n",
       " ) . \n",
       "<mark class=\"entity\" style=\"background: #ddd; padding: 0.45em 0.6em; margin: 0 0.25em; line-height: 1; border-radius: 0.35em;\">\n",
       "    Solución inyectable\n",
       "    <span style=\"font-size: 0.8em; font-weight: bold; line-height: 1; border-radius: 0.35em; vertical-align: middle; margin-left: 0.5rem\">MISC</span>\n",
       "</mark>\n",
       " . \n",
       "<mark class=\"entity\" style=\"background: #ddd; padding: 0.45em 0.6em; margin: 0 0.25em; line-height: 1; border-radius: 0.35em;\">\n",
       "    Bolsa Frasco 1000 ml\n",
       "    <span style=\"font-size: 0.8em; font-weight: bold; line-height: 1; border-radius: 0.35em; vertical-align: middle; margin-left: 0.5rem\">MISC</span>\n",
       "</mark>\n",
       " . \n",
       "<mark class=\"entity\" style=\"background: #ddd; padding: 0.45em 0.6em; margin: 0 0.25em; line-height: 1; border-radius: 0.35em;\">\n",
       "    Cotizar Bolsa Frasco\n",
       "    <span style=\"font-size: 0.8em; font-weight: bold; line-height: 1; border-radius: 0.35em; vertical-align: middle; margin-left: 0.5rem\">MISC</span>\n",
       "</mark>\n",
       " .</div></span>"
      ],
      "text/plain": [
       "<IPython.core.display.HTML object>"
      ]
     },
     "metadata": {},
     "output_type": "display_data"
    },
    {
     "data": {
      "text/html": [
       "<span class=\"tex2jax_ignore\"><div class=\"entities\" style=\"line-height: 2.5; direction: ltr\">10% . ( \n",
       "<mark class=\"entity\" style=\"background: #ff9561; padding: 0.45em 0.6em; margin: 0 0.25em; line-height: 1; border-radius: 0.35em;\">\n",
       "    Hipertónica\n",
       "    <span style=\"font-size: 0.8em; font-weight: bold; line-height: 1; border-radius: 0.35em; vertical-align: middle; margin-left: 0.5rem\">LOC</span>\n",
       "</mark>\n",
       " ) . \n",
       "<mark class=\"entity\" style=\"background: #ddd; padding: 0.45em 0.6em; margin: 0 0.25em; line-height: 1; border-radius: 0.35em;\">\n",
       "    Solución inyectable\n",
       "    <span style=\"font-size: 0.8em; font-weight: bold; line-height: 1; border-radius: 0.35em; vertical-align: middle; margin-left: 0.5rem\">MISC</span>\n",
       "</mark>\n",
       " . \n",
       "<mark class=\"entity\" style=\"background: #ddd; padding: 0.45em 0.6em; margin: 0 0.25em; line-height: 1; border-radius: 0.35em;\">\n",
       "    Bolsa Frasco 250 ml\n",
       "    <span style=\"font-size: 0.8em; font-weight: bold; line-height: 1; border-radius: 0.35em; vertical-align: middle; margin-left: 0.5rem\">MISC</span>\n",
       "</mark>\n",
       " . \n",
       "<mark class=\"entity\" style=\"background: #ddd; padding: 0.45em 0.6em; margin: 0 0.25em; line-height: 1; border-radius: 0.35em;\">\n",
       "    Cotizar Bolsa Frasco\n",
       "    <span style=\"font-size: 0.8em; font-weight: bold; line-height: 1; border-radius: 0.35em; vertical-align: middle; margin-left: 0.5rem\">MISC</span>\n",
       "</mark>\n",
       " .</div></span>"
      ],
      "text/plain": [
       "<IPython.core.display.HTML object>"
      ]
     },
     "metadata": {},
     "output_type": "display_data"
    },
    {
     "data": {
      "text/html": [
       "<span class=\"tex2jax_ignore\"><div class=\"entities\" style=\"line-height: 2.5; direction: ltr\">30% . ( \n",
       "<mark class=\"entity\" style=\"background: #ff9561; padding: 0.45em 0.6em; margin: 0 0.25em; line-height: 1; border-radius: 0.35em;\">\n",
       "    Hipertónica\n",
       "    <span style=\"font-size: 0.8em; font-weight: bold; line-height: 1; border-radius: 0.35em; vertical-align: middle; margin-left: 0.5rem\">LOC</span>\n",
       "</mark>\n",
       " ) . \n",
       "<mark class=\"entity\" style=\"background: #ddd; padding: 0.45em 0.6em; margin: 0 0.25em; line-height: 1; border-radius: 0.35em;\">\n",
       "    Solución inyectable\n",
       "    <span style=\"font-size: 0.8em; font-weight: bold; line-height: 1; border-radius: 0.35em; vertical-align: middle; margin-left: 0.5rem\">MISC</span>\n",
       "</mark>\n",
       " . \n",
       "<mark class=\"entity\" style=\"background: #ddd; padding: 0.45em 0.6em; margin: 0 0.25em; line-height: 1; border-radius: 0.35em;\">\n",
       "    Bolsa Frasco 250 ml\n",
       "    <span style=\"font-size: 0.8em; font-weight: bold; line-height: 1; border-radius: 0.35em; vertical-align: middle; margin-left: 0.5rem\">MISC</span>\n",
       "</mark>\n",
       " . \n",
       "<mark class=\"entity\" style=\"background: #ddd; padding: 0.45em 0.6em; margin: 0 0.25em; line-height: 1; border-radius: 0.35em;\">\n",
       "    Cotizar Bolsa Frasco\n",
       "    <span style=\"font-size: 0.8em; font-weight: bold; line-height: 1; border-radius: 0.35em; vertical-align: middle; margin-left: 0.5rem\">MISC</span>\n",
       "</mark>\n",
       " .</div></span>"
      ],
      "text/plain": [
       "<IPython.core.display.HTML object>"
      ]
     },
     "metadata": {},
     "output_type": "display_data"
    },
    {
     "data": {
      "text/html": [
       "<span class=\"tex2jax_ignore\"><div class=\"entities\" style=\"line-height: 2.5; direction: ltr\">50% . ( \n",
       "<mark class=\"entity\" style=\"background: #ff9561; padding: 0.45em 0.6em; margin: 0 0.25em; line-height: 1; border-radius: 0.35em;\">\n",
       "    Hipertónica\n",
       "    <span style=\"font-size: 0.8em; font-weight: bold; line-height: 1; border-radius: 0.35em; vertical-align: middle; margin-left: 0.5rem\">LOC</span>\n",
       "</mark>\n",
       " ) . \n",
       "<mark class=\"entity\" style=\"background: #ddd; padding: 0.45em 0.6em; margin: 0 0.25em; line-height: 1; border-radius: 0.35em;\">\n",
       "    Solución inyectable\n",
       "    <span style=\"font-size: 0.8em; font-weight: bold; line-height: 1; border-radius: 0.35em; vertical-align: middle; margin-left: 0.5rem\">MISC</span>\n",
       "</mark>\n",
       " . \n",
       "<mark class=\"entity\" style=\"background: #7aecec; padding: 0.45em 0.6em; margin: 0 0.25em; line-height: 1; border-radius: 0.35em;\">\n",
       "    Bolsa Frasco 500 ml\n",
       "    <span style=\"font-size: 0.8em; font-weight: bold; line-height: 1; border-radius: 0.35em; vertical-align: middle; margin-left: 0.5rem\">ORG</span>\n",
       "</mark>\n",
       " . \n",
       "<mark class=\"entity\" style=\"background: #ddd; padding: 0.45em 0.6em; margin: 0 0.25em; line-height: 1; border-radius: 0.35em;\">\n",
       "    Cotizar Frasco Bolsa\n",
       "    <span style=\"font-size: 0.8em; font-weight: bold; line-height: 1; border-radius: 0.35em; vertical-align: middle; margin-left: 0.5rem\">MISC</span>\n",
       "</mark>\n",
       " .</div></span>"
      ],
      "text/plain": [
       "<IPython.core.display.HTML object>"
      ]
     },
     "metadata": {},
     "output_type": "display_data"
    },
    {
     "data": {
      "text/html": [
       "<span class=\"tex2jax_ignore\"><div class=\"entities\" style=\"line-height: 2.5; direction: ltr\">20 % MCT / \n",
       "<mark class=\"entity\" style=\"background: #ddd; padding: 0.45em 0.6em; margin: 0 0.25em; line-height: 1; border-radius: 0.35em;\">\n",
       "    LCT\n",
       "    <span style=\"font-size: 0.8em; font-weight: bold; line-height: 1; border-radius: 0.35em; vertical-align: middle; margin-left: 0.5rem\">MISC</span>\n",
       "</mark>\n",
       "   \n",
       "<mark class=\"entity\" style=\"background: #ddd; padding: 0.45em 0.6em; margin: 0 0.25em; line-height: 1; border-radius: 0.35em;\">\n",
       "    Emulsión Frasco Bolsa 500 ml\n",
       "    <span style=\"font-size: 0.8em; font-weight: bold; line-height: 1; border-radius: 0.35em; vertical-align: middle; margin-left: 0.5rem\">MISC</span>\n",
       "</mark>\n",
       " . \n",
       "<mark class=\"entity\" style=\"background: #ddd; padding: 0.45em 0.6em; margin: 0 0.25em; line-height: 1; border-radius: 0.35em;\">\n",
       "    Cotizar Frasco Bolsa\n",
       "    <span style=\"font-size: 0.8em; font-weight: bold; line-height: 1; border-radius: 0.35em; vertical-align: middle; margin-left: 0.5rem\">MISC</span>\n",
       "</mark>\n",
       " .</div></span>"
      ],
      "text/plain": [
       "<IPython.core.display.HTML object>"
      ]
     },
     "metadata": {},
     "output_type": "display_data"
    },
    {
     "data": {
      "text/html": [
       "<span class=\"tex2jax_ignore\"><div class=\"entities\" style=\"line-height: 2.5; direction: ltr\">20% mct / \n",
       "<mark class=\"entity\" style=\"background: #ddd; padding: 0.45em 0.6em; margin: 0 0.25em; line-height: 1; border-radius: 0.35em;\">\n",
       "    Ict\n",
       "    <span style=\"font-size: 0.8em; font-weight: bold; line-height: 1; border-radius: 0.35em; vertical-align: middle; margin-left: 0.5rem\">MISC</span>\n",
       "</mark>\n",
       " / omega 3 / aceite oliva . \n",
       "<mark class=\"entity\" style=\"background: #ddd; padding: 0.45em 0.6em; margin: 0 0.25em; line-height: 1; border-radius: 0.35em;\">\n",
       "    Emulsión Frasco\n",
       "    <span style=\"font-size: 0.8em; font-weight: bold; line-height: 1; border-radius: 0.35em; vertical-align: middle; margin-left: 0.5rem\">MISC</span>\n",
       "</mark>\n",
       " 500 ml . \n",
       "<mark class=\"entity\" style=\"background: #ddd; padding: 0.45em 0.6em; margin: 0 0.25em; line-height: 1; border-radius: 0.35em;\">\n",
       "    Cotizar Frasco\n",
       "    <span style=\"font-size: 0.8em; font-weight: bold; line-height: 1; border-radius: 0.35em; vertical-align: middle; margin-left: 0.5rem\">MISC</span>\n",
       "</mark>\n",
       " .</div></span>"
      ],
      "text/plain": [
       "<IPython.core.display.HTML object>"
      ]
     },
     "metadata": {},
     "output_type": "display_data"
    },
    {
     "data": {
      "text/html": [
       "<span class=\"tex2jax_ignore\"><div class=\"entities\" style=\"line-height: 2.5; direction: ltr\">\n",
       "<mark class=\"entity\" style=\"background: #ddd; padding: 0.45em 0.6em; margin: 0 0.25em; line-height: 1; border-radius: 0.35em;\">\n",
       "    OIigoelementos\n",
       "    <span style=\"font-size: 0.8em; font-weight: bold; line-height: 1; border-radius: 0.35em; vertical-align: middle; margin-left: 0.5rem\">MISC</span>\n",
       "</mark>\n",
       " .   \n",
       "<mark class=\"entity\" style=\"background: #ddd; padding: 0.45em 0.6em; margin: 0 0.25em; line-height: 1; border-radius: 0.35em;\">\n",
       "    Solución\n",
       "    <span style=\"font-size: 0.8em; font-weight: bold; line-height: 1; border-radius: 0.35em; vertical-align: middle; margin-left: 0.5rem\">MISC</span>\n",
       "</mark>\n",
       " inyectable \n",
       "<mark class=\"entity\" style=\"background: #ddd; padding: 0.45em 0.6em; margin: 0 0.25em; line-height: 1; border-radius: 0.35em;\">\n",
       "    Cloruro ferroso + Cloruro zinc + Cloruro magnésico + Cloruro cúprico + Cloruro cromo + Dihidrato\n",
       "    <span style=\"font-size: 0.8em; font-weight: bold; line-height: 1; border-radius: 0.35em; vertical-align: middle; margin-left: 0.5rem\">MISC</span>\n",
       "</mark>\n",
       " molibdato sódico + Pentahidrato selenita sódica + Fluoruro sódico + Yoduro potásico .   \n",
       "<mark class=\"entity\" style=\"background: #ddd; padding: 0.45em 0.6em; margin: 0 0.25em; line-height: 1; border-radius: 0.35em;\">\n",
       "    Vial Ampolla\n",
       "    <span style=\"font-size: 0.8em; font-weight: bold; line-height: 1; border-radius: 0.35em; vertical-align: middle; margin-left: 0.5rem\">PER</span>\n",
       "</mark>\n",
       " 10 ml . \n",
       "<mark class=\"entity\" style=\"background: #ddd; padding: 0.45em 0.6em; margin: 0 0.25em; line-height: 1; border-radius: 0.35em;\">\n",
       "    Cotizar Vial Ampolla\n",
       "    <span style=\"font-size: 0.8em; font-weight: bold; line-height: 1; border-radius: 0.35em; vertical-align: middle; margin-left: 0.5rem\">MISC</span>\n",
       "</mark>\n",
       " .</div></span>"
      ],
      "text/plain": [
       "<IPython.core.display.HTML object>"
      ]
     },
     "metadata": {},
     "output_type": "display_data"
    },
    {
     "data": {
      "text/html": [
       "<span class=\"tex2jax_ignore\"><div class=\"entities\" style=\"line-height: 2.5; direction: ltr\">1g-1.5 g. Solución inyectable . \n",
       "<mark class=\"entity\" style=\"background: #ff9561; padding: 0.45em 0.6em; margin: 0 0.25em; line-height: 1; border-radius: 0.35em;\">\n",
       "    Ampolla\n",
       "    <span style=\"font-size: 0.8em; font-weight: bold; line-height: 1; border-radius: 0.35em; vertical-align: middle; margin-left: 0.5rem\">LOC</span>\n",
       "</mark>\n",
       " . \n",
       "<mark class=\"entity\" style=\"background: #ddd; padding: 0.45em 0.6em; margin: 0 0.25em; line-height: 1; border-radius: 0.35em;\">\n",
       "    Cotizar Gramo\n",
       "    <span style=\"font-size: 0.8em; font-weight: bold; line-height: 1; border-radius: 0.35em; vertical-align: middle; margin-left: 0.5rem\">MISC</span>\n",
       "</mark>\n",
       " .</div></span>"
      ],
      "text/plain": [
       "<IPython.core.display.HTML object>"
      ]
     },
     "metadata": {},
     "output_type": "display_data"
    },
    {
     "data": {
      "text/html": [
       "<span class=\"tex2jax_ignore\"><div class=\"entities\" style=\"line-height: 2.5; direction: ltr\">7.50% ( 75 mg / ml ) .   \n",
       "<mark class=\"entity\" style=\"background: #ddd; padding: 0.45em 0.6em; margin: 0 0.25em; line-height: 1; border-radius: 0.35em;\">\n",
       "    Solución inyectable\n",
       "    <span style=\"font-size: 0.8em; font-weight: bold; line-height: 1; border-radius: 0.35em; vertical-align: middle; margin-left: 0.5rem\">MISC</span>\n",
       "</mark>\n",
       " . \n",
       "<mark class=\"entity\" style=\"background: #ddd; padding: 0.45em 0.6em; margin: 0 0.25em; line-height: 1; border-radius: 0.35em;\">\n",
       "    Vial 50 mI. Cotizar\n",
       "    <span style=\"font-size: 0.8em; font-weight: bold; line-height: 1; border-radius: 0.35em; vertical-align: middle; margin-left: 0.5rem\">MISC</span>\n",
       "</mark>\n",
       " vial .</div></span>"
      ],
      "text/plain": [
       "<IPython.core.display.HTML object>"
      ]
     },
     "metadata": {},
     "output_type": "display_data"
    },
    {
     "data": {
      "text/html": [
       "<span class=\"tex2jax_ignore\"><div class=\"entities\" style=\"line-height: 2.5; direction: ltr\">0.9% . \n",
       "<mark class=\"entity\" style=\"background: #ddd; padding: 0.45em 0.6em; margin: 0 0.25em; line-height: 1; border-radius: 0.35em;\">\n",
       "    Solución inyectable\n",
       "    <span style=\"font-size: 0.8em; font-weight: bold; line-height: 1; border-radius: 0.35em; vertical-align: middle; margin-left: 0.5rem\">MISC</span>\n",
       "</mark>\n",
       " . \n",
       "<mark class=\"entity\" style=\"background: #ddd; padding: 0.45em 0.6em; margin: 0 0.25em; line-height: 1; border-radius: 0.35em;\">\n",
       "    Bolsa Frasco 250 ml\n",
       "    <span style=\"font-size: 0.8em; font-weight: bold; line-height: 1; border-radius: 0.35em; vertical-align: middle; margin-left: 0.5rem\">MISC</span>\n",
       "</mark>\n",
       " . \n",
       "<mark class=\"entity\" style=\"background: #ddd; padding: 0.45em 0.6em; margin: 0 0.25em; line-height: 1; border-radius: 0.35em;\">\n",
       "    Cotizar Bolsa Frasco\n",
       "    <span style=\"font-size: 0.8em; font-weight: bold; line-height: 1; border-radius: 0.35em; vertical-align: middle; margin-left: 0.5rem\">MISC</span>\n",
       "</mark>\n",
       " .</div></span>"
      ],
      "text/plain": [
       "<IPython.core.display.HTML object>"
      ]
     },
     "metadata": {},
     "output_type": "display_data"
    },
    {
     "data": {
      "text/html": [
       "<span class=\"tex2jax_ignore\"><div class=\"entities\" style=\"line-height: 2.5; direction: ltr\">0.45% \n",
       "<mark class=\"entity\" style=\"background: #ddd; padding: 0.45em 0.6em; margin: 0 0.25em; line-height: 1; border-radius: 0.35em;\">\n",
       "    Solución\n",
       "    <span style=\"font-size: 0.8em; font-weight: bold; line-height: 1; border-radius: 0.35em; vertical-align: middle; margin-left: 0.5rem\">MISC</span>\n",
       "</mark>\n",
       " inyectable . \n",
       "<mark class=\"entity\" style=\"background: #ddd; padding: 0.45em 0.6em; margin: 0 0.25em; line-height: 1; border-radius: 0.35em;\">\n",
       "    Bolsa frasco 1000 ml\n",
       "    <span style=\"font-size: 0.8em; font-weight: bold; line-height: 1; border-radius: 0.35em; vertical-align: middle; margin-left: 0.5rem\">MISC</span>\n",
       "</mark>\n",
       " . \n",
       "<mark class=\"entity\" style=\"background: #ddd; padding: 0.45em 0.6em; margin: 0 0.25em; line-height: 1; border-radius: 0.35em;\">\n",
       "    Cotizar Bolsa Frasco\n",
       "    <span style=\"font-size: 0.8em; font-weight: bold; line-height: 1; border-radius: 0.35em; vertical-align: middle; margin-left: 0.5rem\">MISC</span>\n",
       "</mark>\n",
       " .</div></span>"
      ],
      "text/plain": [
       "<IPython.core.display.HTML object>"
      ]
     },
     "metadata": {},
     "output_type": "display_data"
    },
    {
     "data": {
      "text/html": [
       "<span class=\"tex2jax_ignore\"><div class=\"entities\" style=\"line-height: 2.5; direction: ltr\">0.9% \n",
       "<mark class=\"entity\" style=\"background: #ddd; padding: 0.45em 0.6em; margin: 0 0.25em; line-height: 1; border-radius: 0.35em;\">\n",
       "    Solución\n",
       "    <span style=\"font-size: 0.8em; font-weight: bold; line-height: 1; border-radius: 0.35em; vertical-align: middle; margin-left: 0.5rem\">MISC</span>\n",
       "</mark>\n",
       " inyectable . \n",
       "<mark class=\"entity\" style=\"background: #ff9561; padding: 0.45em 0.6em; margin: 0 0.25em; line-height: 1; border-radius: 0.35em;\">\n",
       "    Minibag\n",
       "    <span style=\"font-size: 0.8em; font-weight: bold; line-height: 1; border-radius: 0.35em; vertical-align: middle; margin-left: 0.5rem\">LOC</span>\n",
       "</mark>\n",
       " plus 100 ml adaptador \n",
       "<mark class=\"entity\" style=\"background: #ddd; padding: 0.45em 0.6em; margin: 0 0.25em; line-height: 1; border-radius: 0.35em;\">\n",
       "    Vial\n",
       "    <span style=\"font-size: 0.8em; font-weight: bold; line-height: 1; border-radius: 0.35em; vertical-align: middle; margin-left: 0.5rem\">MISC</span>\n",
       "</mark>\n",
       " . \n",
       "<mark class=\"entity\" style=\"background: #ddd; padding: 0.45em 0.6em; margin: 0 0.25em; line-height: 1; border-radius: 0.35em;\">\n",
       "    Cotizar Minibag\n",
       "    <span style=\"font-size: 0.8em; font-weight: bold; line-height: 1; border-radius: 0.35em; vertical-align: middle; margin-left: 0.5rem\">MISC</span>\n",
       "</mark>\n",
       " plus adaptador \n",
       "<mark class=\"entity\" style=\"background: #ddd; padding: 0.45em 0.6em; margin: 0 0.25em; line-height: 1; border-radius: 0.35em;\">\n",
       "    Vial\n",
       "    <span style=\"font-size: 0.8em; font-weight: bold; line-height: 1; border-radius: 0.35em; vertical-align: middle; margin-left: 0.5rem\">MISC</span>\n",
       "</mark>\n",
       " .</div></span>"
      ],
      "text/plain": [
       "<IPython.core.display.HTML object>"
      ]
     },
     "metadata": {},
     "output_type": "display_data"
    },
    {
     "data": {
      "text/html": [
       "<span class=\"tex2jax_ignore\"><div class=\"entities\" style=\"line-height: 2.5; direction: ltr\">3.33 g + 0.3 g/100ml . \n",
       "<mark class=\"entity\" style=\"background: #ddd; padding: 0.45em 0.6em; margin: 0 0.25em; line-height: 1; border-radius: 0.35em;\">\n",
       "    Solución inyectable\n",
       "    <span style=\"font-size: 0.8em; font-weight: bold; line-height: 1; border-radius: 0.35em; vertical-align: middle; margin-left: 0.5rem\">MISC</span>\n",
       "</mark>\n",
       " . \n",
       "<mark class=\"entity\" style=\"background: #ddd; padding: 0.45em 0.6em; margin: 0 0.25em; line-height: 1; border-radius: 0.35em;\">\n",
       "    Bolsa Frasco 250 ml\n",
       "    <span style=\"font-size: 0.8em; font-weight: bold; line-height: 1; border-radius: 0.35em; vertical-align: middle; margin-left: 0.5rem\">MISC</span>\n",
       "</mark>\n",
       " . \n",
       "<mark class=\"entity\" style=\"background: #ddd; padding: 0.45em 0.6em; margin: 0 0.25em; line-height: 1; border-radius: 0.35em;\">\n",
       "    Cotizar Bolsa Frasco\n",
       "    <span style=\"font-size: 0.8em; font-weight: bold; line-height: 1; border-radius: 0.35em; vertical-align: middle; margin-left: 0.5rem\">MISC</span>\n",
       "</mark>\n",
       "</div></span>"
      ],
      "text/plain": [
       "<IPython.core.display.HTML object>"
      ]
     },
     "metadata": {},
     "output_type": "display_data"
    },
    {
     "data": {
      "text/html": [
       "<span class=\"tex2jax_ignore\"><div class=\"entities\" style=\"line-height: 2.5; direction: ltr\">2.5 g + 0.45g/100ml . \n",
       "<mark class=\"entity\" style=\"background: #ddd; padding: 0.45em 0.6em; margin: 0 0.25em; line-height: 1; border-radius: 0.35em;\">\n",
       "    Solución Parenteral\n",
       "    <span style=\"font-size: 0.8em; font-weight: bold; line-height: 1; border-radius: 0.35em; vertical-align: middle; margin-left: 0.5rem\">MISC</span>\n",
       "</mark>\n",
       " . \n",
       "<mark class=\"entity\" style=\"background: #ff9561; padding: 0.45em 0.6em; margin: 0 0.25em; line-height: 1; border-radius: 0.35em;\">\n",
       "    Bolsa Frasco\n",
       "    <span style=\"font-size: 0.8em; font-weight: bold; line-height: 1; border-radius: 0.35em; vertical-align: middle; margin-left: 0.5rem\">LOC</span>\n",
       "</mark>\n",
       " 250 ml . \n",
       "<mark class=\"entity\" style=\"background: #ddd; padding: 0.45em 0.6em; margin: 0 0.25em; line-height: 1; border-radius: 0.35em;\">\n",
       "    Cotizar Bolsa Frasco\n",
       "    <span style=\"font-size: 0.8em; font-weight: bold; line-height: 1; border-radius: 0.35em; vertical-align: middle; margin-left: 0.5rem\">MISC</span>\n",
       "</mark>\n",
       "</div></span>"
      ],
      "text/plain": [
       "<IPython.core.display.HTML object>"
      ]
     },
     "metadata": {},
     "output_type": "display_data"
    },
    {
     "data": {
      "text/html": [
       "<span class=\"tex2jax_ignore\"><div class=\"entities\" style=\"line-height: 2.5; direction: ltr\">2.5 g + 0.45g/100ml . \n",
       "<mark class=\"entity\" style=\"background: #ddd; padding: 0.45em 0.6em; margin: 0 0.25em; line-height: 1; border-radius: 0.35em;\">\n",
       "    Solución inyectable\n",
       "    <span style=\"font-size: 0.8em; font-weight: bold; line-height: 1; border-radius: 0.35em; vertical-align: middle; margin-left: 0.5rem\">MISC</span>\n",
       "</mark>\n",
       " . \n",
       "<mark class=\"entity\" style=\"background: #7aecec; padding: 0.45em 0.6em; margin: 0 0.25em; line-height: 1; border-radius: 0.35em;\">\n",
       "    Bolsa Frasco 500 ml\n",
       "    <span style=\"font-size: 0.8em; font-weight: bold; line-height: 1; border-radius: 0.35em; vertical-align: middle; margin-left: 0.5rem\">ORG</span>\n",
       "</mark>\n",
       " . \n",
       "<mark class=\"entity\" style=\"background: #ddd; padding: 0.45em 0.6em; margin: 0 0.25em; line-height: 1; border-radius: 0.35em;\">\n",
       "    Cotizar Bolsa Frasco\n",
       "    <span style=\"font-size: 0.8em; font-weight: bold; line-height: 1; border-radius: 0.35em; vertical-align: middle; margin-left: 0.5rem\">MISC</span>\n",
       "</mark>\n",
       "</div></span>"
      ],
      "text/plain": [
       "<IPython.core.display.HTML object>"
      ]
     },
     "metadata": {},
     "output_type": "display_data"
    },
    {
     "data": {
      "text/html": [
       "<span class=\"tex2jax_ignore\"><div class=\"entities\" style=\"line-height: 2.5; direction: ltr\">3.3 g + 0.3g/100ml . \n",
       "<mark class=\"entity\" style=\"background: #ddd; padding: 0.45em 0.6em; margin: 0 0.25em; line-height: 1; border-radius: 0.35em;\">\n",
       "    Solución inyectable\n",
       "    <span style=\"font-size: 0.8em; font-weight: bold; line-height: 1; border-radius: 0.35em; vertical-align: middle; margin-left: 0.5rem\">MISC</span>\n",
       "</mark>\n",
       " . \n",
       "<mark class=\"entity\" style=\"background: #7aecec; padding: 0.45em 0.6em; margin: 0 0.25em; line-height: 1; border-radius: 0.35em;\">\n",
       "    Bolsa Frasco 500 ml\n",
       "    <span style=\"font-size: 0.8em; font-weight: bold; line-height: 1; border-radius: 0.35em; vertical-align: middle; margin-left: 0.5rem\">ORG</span>\n",
       "</mark>\n",
       " . \n",
       "<mark class=\"entity\" style=\"background: #ddd; padding: 0.45em 0.6em; margin: 0 0.25em; line-height: 1; border-radius: 0.35em;\">\n",
       "    Cotizar Bolsa Frasco\n",
       "    <span style=\"font-size: 0.8em; font-weight: bold; line-height: 1; border-radius: 0.35em; vertical-align: middle; margin-left: 0.5rem\">MISC</span>\n",
       "</mark>\n",
       "</div></span>"
      ],
      "text/plain": [
       "<IPython.core.display.HTML object>"
      ]
     },
     "metadata": {},
     "output_type": "display_data"
    },
    {
     "data": {
      "text/html": [
       "<span class=\"tex2jax_ignore\"><div class=\"entities\" style=\"line-height: 2.5; direction: ltr\">3.5% . \n",
       "<mark class=\"entity\" style=\"background: #ddd; padding: 0.45em 0.6em; margin: 0 0.25em; line-height: 1; border-radius: 0.35em;\">\n",
       "    Solución\n",
       "    <span style=\"font-size: 0.8em; font-weight: bold; line-height: 1; border-radius: 0.35em; vertical-align: middle; margin-left: 0.5rem\">MISC</span>\n",
       "</mark>\n",
       " inyectable . \n",
       "<mark class=\"entity\" style=\"background: #ddd; padding: 0.45em 0.6em; margin: 0 0.25em; line-height: 1; border-radius: 0.35em;\">\n",
       "    Frasco Bolsa\n",
       "    <span style=\"font-size: 0.8em; font-weight: bold; line-height: 1; border-radius: 0.35em; vertical-align: middle; margin-left: 0.5rem\">MISC</span>\n",
       "</mark>\n",
       " . 500 ml . \n",
       "<mark class=\"entity\" style=\"background: #ddd; padding: 0.45em 0.6em; margin: 0 0.25em; line-height: 1; border-radius: 0.35em;\">\n",
       "    Cotizar Frasco Bolsa\n",
       "    <span style=\"font-size: 0.8em; font-weight: bold; line-height: 1; border-radius: 0.35em; vertical-align: middle; margin-left: 0.5rem\">MISC</span>\n",
       "</mark>\n",
       "</div></span>"
      ],
      "text/plain": [
       "<IPython.core.display.HTML object>"
      ]
     },
     "metadata": {},
     "output_type": "display_data"
    },
    {
     "data": {
      "text/html": [
       "<span class=\"tex2jax_ignore\"><div class=\"entities\" style=\"line-height: 2.5; direction: ltr\">Bolsa 1,000 1,250 ml . \n",
       "<mark class=\"entity\" style=\"background: #ddd; padding: 0.45em 0.6em; margin: 0 0.25em; line-height: 1; border-radius: 0.35em;\">\n",
       "    Emulsión\n",
       "    <span style=\"font-size: 0.8em; font-weight: bold; line-height: 1; border-radius: 0.35em; vertical-align: middle; margin-left: 0.5rem\">MISC</span>\n",
       "</mark>\n",
       " . \n",
       "<mark class=\"entity\" style=\"background: #ddd; padding: 0.45em 0.6em; margin: 0 0.25em; line-height: 1; border-radius: 0.35em;\">\n",
       "    Intravenosa Central\n",
       "    <span style=\"font-size: 0.8em; font-weight: bold; line-height: 1; border-radius: 0.35em; vertical-align: middle; margin-left: 0.5rem\">MISC</span>\n",
       "</mark>\n",
       " . \n",
       "<mark class=\"entity\" style=\"background: #ddd; padding: 0.45em 0.6em; margin: 0 0.25em; line-height: 1; border-radius: 0.35em;\">\n",
       "    Cotizar bolsa\n",
       "    <span style=\"font-size: 0.8em; font-weight: bold; line-height: 1; border-radius: 0.35em; vertical-align: middle; margin-left: 0.5rem\">MISC</span>\n",
       "</mark>\n",
       " .</div></span>"
      ],
      "text/plain": [
       "<IPython.core.display.HTML object>"
      ]
     },
     "metadata": {},
     "output_type": "display_data"
    },
    {
     "data": {
      "text/html": [
       "<span class=\"tex2jax_ignore\"><div class=\"entities\" style=\"line-height: 2.5; direction: ltr\">Bolsa 1,000 1,440 ml . \n",
       "<mark class=\"entity\" style=\"background: #ddd; padding: 0.45em 0.6em; margin: 0 0.25em; line-height: 1; border-radius: 0.35em;\">\n",
       "    Emulsión\n",
       "    <span style=\"font-size: 0.8em; font-weight: bold; line-height: 1; border-radius: 0.35em; vertical-align: middle; margin-left: 0.5rem\">MISC</span>\n",
       "</mark>\n",
       " . \n",
       "<mark class=\"entity\" style=\"background: #ddd; padding: 0.45em 0.6em; margin: 0 0.25em; line-height: 1; border-radius: 0.35em;\">\n",
       "    Intravenosa Central\n",
       "    <span style=\"font-size: 0.8em; font-weight: bold; line-height: 1; border-radius: 0.35em; vertical-align: middle; margin-left: 0.5rem\">MISC</span>\n",
       "</mark>\n",
       " . \n",
       "<mark class=\"entity\" style=\"background: #ddd; padding: 0.45em 0.6em; margin: 0 0.25em; line-height: 1; border-radius: 0.35em;\">\n",
       "    Cotizar bolsa\n",
       "    <span style=\"font-size: 0.8em; font-weight: bold; line-height: 1; border-radius: 0.35em; vertical-align: middle; margin-left: 0.5rem\">MISC</span>\n",
       "</mark>\n",
       " .</div></span>"
      ],
      "text/plain": [
       "<IPython.core.display.HTML object>"
      ]
     },
     "metadata": {},
     "output_type": "display_data"
    },
    {
     "data": {
      "text/html": [
       "<span class=\"tex2jax_ignore\"><div class=\"entities\" style=\"line-height: 2.5; direction: ltr\">20% ( 0.2g / ml ) . \n",
       "<mark class=\"entity\" style=\"background: #ddd; padding: 0.45em 0.6em; margin: 0 0.25em; line-height: 1; border-radius: 0.35em;\">\n",
       "    Solución inyectable\n",
       "    <span style=\"font-size: 0.8em; font-weight: bold; line-height: 1; border-radius: 0.35em; vertical-align: middle; margin-left: 0.5rem\">MISC</span>\n",
       "</mark>\n",
       " . \n",
       "<mark class=\"entity\" style=\"background: #ff9561; padding: 0.45em 0.6em; margin: 0 0.25em; line-height: 1; border-radius: 0.35em;\">\n",
       "    Ampolla\n",
       "    <span style=\"font-size: 0.8em; font-weight: bold; line-height: 1; border-radius: 0.35em; vertical-align: middle; margin-left: 0.5rem\">LOC</span>\n",
       "</mark>\n",
       " 10 ml . \n",
       "<mark class=\"entity\" style=\"background: #ddd; padding: 0.45em 0.6em; margin: 0 0.25em; line-height: 1; border-radius: 0.35em;\">\n",
       "    Cotizar Ampolla\n",
       "    <span style=\"font-size: 0.8em; font-weight: bold; line-height: 1; border-radius: 0.35em; vertical-align: middle; margin-left: 0.5rem\">MISC</span>\n",
       "</mark>\n",
       " .</div></span>"
      ],
      "text/plain": [
       "<IPython.core.display.HTML object>"
      ]
     },
     "metadata": {},
     "output_type": "display_data"
    },
    {
     "data": {
      "text/html": [
       "<span class=\"tex2jax_ignore\"><div class=\"entities\" style=\"line-height: 2.5; direction: ltr\">0.9% + 5% . \n",
       "<mark class=\"entity\" style=\"background: #ddd; padding: 0.45em 0.6em; margin: 0 0.25em; line-height: 1; border-radius: 0.35em;\">\n",
       "    Solución inyectable\n",
       "    <span style=\"font-size: 0.8em; font-weight: bold; line-height: 1; border-radius: 0.35em; vertical-align: middle; margin-left: 0.5rem\">MISC</span>\n",
       "</mark>\n",
       " . \n",
       "<mark class=\"entity\" style=\"background: #7aecec; padding: 0.45em 0.6em; margin: 0 0.25em; line-height: 1; border-radius: 0.35em;\">\n",
       "    Bolsa Frasco\n",
       "    <span style=\"font-size: 0.8em; font-weight: bold; line-height: 1; border-radius: 0.35em; vertical-align: middle; margin-left: 0.5rem\">ORG</span>\n",
       "</mark>\n",
       " 1000ml . \n",
       "<mark class=\"entity\" style=\"background: #ddd; padding: 0.45em 0.6em; margin: 0 0.25em; line-height: 1; border-radius: 0.35em;\">\n",
       "    Cotizar Bolsa Frasco\n",
       "    <span style=\"font-size: 0.8em; font-weight: bold; line-height: 1; border-radius: 0.35em; vertical-align: middle; margin-left: 0.5rem\">MISC</span>\n",
       "</mark>\n",
       "</div></span>"
      ],
      "text/plain": [
       "<IPython.core.display.HTML object>"
      ]
     },
     "metadata": {},
     "output_type": "display_data"
    },
    {
     "data": {
      "text/html": [
       "<span class=\"tex2jax_ignore\"><div class=\"entities\" style=\"line-height: 2.5; direction: ltr\">0.9% + 5% . \n",
       "<mark class=\"entity\" style=\"background: #ddd; padding: 0.45em 0.6em; margin: 0 0.25em; line-height: 1; border-radius: 0.35em;\">\n",
       "    Solución inyectable\n",
       "    <span style=\"font-size: 0.8em; font-weight: bold; line-height: 1; border-radius: 0.35em; vertical-align: middle; margin-left: 0.5rem\">MISC</span>\n",
       "</mark>\n",
       " . \n",
       "<mark class=\"entity\" style=\"background: #7aecec; padding: 0.45em 0.6em; margin: 0 0.25em; line-height: 1; border-radius: 0.35em;\">\n",
       "    Bolsa Frasco\n",
       "    <span style=\"font-size: 0.8em; font-weight: bold; line-height: 1; border-radius: 0.35em; vertical-align: middle; margin-left: 0.5rem\">ORG</span>\n",
       "</mark>\n",
       " 500ml . \n",
       "<mark class=\"entity\" style=\"background: #ddd; padding: 0.45em 0.6em; margin: 0 0.25em; line-height: 1; border-radius: 0.35em;\">\n",
       "    Cotizar Bolsa Frasco\n",
       "    <span style=\"font-size: 0.8em; font-weight: bold; line-height: 1; border-radius: 0.35em; vertical-align: middle; margin-left: 0.5rem\">MISC</span>\n",
       "</mark>\n",
       "</div></span>"
      ],
      "text/plain": [
       "<IPython.core.display.HTML object>"
      ]
     },
     "metadata": {},
     "output_type": "display_data"
    },
    {
     "data": {
      "text/html": [
       "<span class=\"tex2jax_ignore\"><div class=\"entities\" style=\"line-height: 2.5; direction: ltr\">4% \n",
       "<mark class=\"entity\" style=\"background: #ddd; padding: 0.45em 0.6em; margin: 0 0.25em; line-height: 1; border-radius: 0.35em;\">\n",
       "    Solución\n",
       "    <span style=\"font-size: 0.8em; font-weight: bold; line-height: 1; border-radius: 0.35em; vertical-align: middle; margin-left: 0.5rem\">MISC</span>\n",
       "</mark>\n",
       " inyectable . \n",
       "<mark class=\"entity\" style=\"background: #ddd; padding: 0.45em 0.6em; margin: 0 0.25em; line-height: 1; border-radius: 0.35em;\">\n",
       "    Frasco Bolsa 500 ml\n",
       "    <span style=\"font-size: 0.8em; font-weight: bold; line-height: 1; border-radius: 0.35em; vertical-align: middle; margin-left: 0.5rem\">MISC</span>\n",
       "</mark>\n",
       " . \n",
       "<mark class=\"entity\" style=\"background: #ddd; padding: 0.45em 0.6em; margin: 0 0.25em; line-height: 1; border-radius: 0.35em;\">\n",
       "    Cotizador Frasco Bolsa\n",
       "    <span style=\"font-size: 0.8em; font-weight: bold; line-height: 1; border-radius: 0.35em; vertical-align: middle; margin-left: 0.5rem\">MISC</span>\n",
       "</mark>\n",
       " .</div></span>"
      ],
      "text/plain": [
       "<IPython.core.display.HTML object>"
      ]
     },
     "metadata": {},
     "output_type": "display_data"
    },
    {
     "data": {
      "text/html": [
       "<span class=\"tex2jax_ignore\"><div class=\"entities\" style=\"line-height: 2.5; direction: ltr\">6% \n",
       "<mark class=\"entity\" style=\"background: #ddd; padding: 0.45em 0.6em; margin: 0 0.25em; line-height: 1; border-radius: 0.35em;\">\n",
       "    Solución\n",
       "    <span style=\"font-size: 0.8em; font-weight: bold; line-height: 1; border-radius: 0.35em; vertical-align: middle; margin-left: 0.5rem\">MISC</span>\n",
       "</mark>\n",
       " inyectable . \n",
       "<mark class=\"entity\" style=\"background: #ddd; padding: 0.45em 0.6em; margin: 0 0.25em; line-height: 1; border-radius: 0.35em;\">\n",
       "    Frasco Bolsa\n",
       "    <span style=\"font-size: 0.8em; font-weight: bold; line-height: 1; border-radius: 0.35em; vertical-align: middle; margin-left: 0.5rem\">MISC</span>\n",
       "</mark>\n",
       " 500ml . \n",
       "<mark class=\"entity\" style=\"background: #ddd; padding: 0.45em 0.6em; margin: 0 0.25em; line-height: 1; border-radius: 0.35em;\">\n",
       "    Cotizar Frasco Bolsa\n",
       "    <span style=\"font-size: 0.8em; font-weight: bold; line-height: 1; border-radius: 0.35em; vertical-align: middle; margin-left: 0.5rem\">MISC</span>\n",
       "</mark>\n",
       " .</div></span>"
      ],
      "text/plain": [
       "<IPython.core.display.HTML object>"
      ]
     },
     "metadata": {},
     "output_type": "display_data"
    },
    {
     "data": {
      "text/html": [
       "<span class=\"tex2jax_ignore\"><div class=\"entities\" style=\"line-height: 2.5; direction: ltr\">50% \n",
       "<mark class=\"entity\" style=\"background: #ddd; padding: 0.45em 0.6em; margin: 0 0.25em; line-height: 1; border-radius: 0.35em;\">\n",
       "    Solución\n",
       "    <span style=\"font-size: 0.8em; font-weight: bold; line-height: 1; border-radius: 0.35em; vertical-align: middle; margin-left: 0.5rem\">MISC</span>\n",
       "</mark>\n",
       " inyectable . \n",
       "<mark class=\"entity\" style=\"background: #ff9561; padding: 0.45em 0.6em; margin: 0 0.25em; line-height: 1; border-radius: 0.35em;\">\n",
       "    Ampolla\n",
       "    <span style=\"font-size: 0.8em; font-weight: bold; line-height: 1; border-radius: 0.35em; vertical-align: middle; margin-left: 0.5rem\">LOC</span>\n",
       "</mark>\n",
       " 2ml . \n",
       "<mark class=\"entity\" style=\"background: #ddd; padding: 0.45em 0.6em; margin: 0 0.25em; line-height: 1; border-radius: 0.35em;\">\n",
       "    Cotizar Ampolla\n",
       "    <span style=\"font-size: 0.8em; font-weight: bold; line-height: 1; border-radius: 0.35em; vertical-align: middle; margin-left: 0.5rem\">MISC</span>\n",
       "</mark>\n",
       " .</div></span>"
      ],
      "text/plain": [
       "<IPython.core.display.HTML object>"
      ]
     },
     "metadata": {},
     "output_type": "display_data"
    },
    {
     "data": {
      "text/html": [
       "<span class=\"tex2jax_ignore\"><div class=\"entities\" style=\"line-height: 2.5; direction: ltr\">\n",
       "<mark class=\"entity\" style=\"background: #ddd; padding: 0.45em 0.6em; margin: 0 0.25em; line-height: 1; border-radius: 0.35em;\">\n",
       "    3.5 g + 2.9 g + 1.5 g + 20 g. Polvo Solución Oral\n",
       "    <span style=\"font-size: 0.8em; font-weight: bold; line-height: 1; border-radius: 0.35em; vertical-align: middle; margin-left: 0.5rem\">MISC</span>\n",
       "</mark>\n",
       " . reconstituir 1L , \n",
       "<mark class=\"entity\" style=\"background: #ddd; padding: 0.45em 0.6em; margin: 0 0.25em; line-height: 1; border-radius: 0.35em;\">\n",
       "    Cotizar\n",
       "    <span style=\"font-size: 0.8em; font-weight: bold; line-height: 1; border-radius: 0.35em; vertical-align: middle; margin-left: 0.5rem\">MISC</span>\n",
       "</mark>\n",
       " .</div></span>"
      ],
      "text/plain": [
       "<IPython.core.display.HTML object>"
      ]
     },
     "metadata": {},
     "output_type": "display_data"
    },
    {
     "data": {
      "text/html": [
       "<span class=\"tex2jax_ignore\"><div class=\"entities\" style=\"line-height: 2.5; direction: ltr\">4,000 \n",
       "<mark class=\"entity\" style=\"background: #ddd; padding: 0.45em 0.6em; margin: 0 0.25em; line-height: 1; border-radius: 0.35em;\">\n",
       "    UI Solución Inyectable\n",
       "    <span style=\"font-size: 0.8em; font-weight: bold; line-height: 1; border-radius: 0.35em; vertical-align: middle; margin-left: 0.5rem\">MISC</span>\n",
       "</mark>\n",
       " . ( \n",
       "<mark class=\"entity\" style=\"background: #ff9561; padding: 0.45em 0.6em; margin: 0 0.25em; line-height: 1; border-radius: 0.35em;\">\n",
       "    Cadena Frio\n",
       "    <span style=\"font-size: 0.8em; font-weight: bold; line-height: 1; border-radius: 0.35em; vertical-align: middle; margin-left: 0.5rem\">LOC</span>\n",
       "</mark>\n",
       " ) \n",
       "<mark class=\"entity\" style=\"background: #ff9561; padding: 0.45em 0.6em; margin: 0 0.25em; line-height: 1; border-radius: 0.35em;\">\n",
       "    Jeringa Prellenada\n",
       "    <span style=\"font-size: 0.8em; font-weight: bold; line-height: 1; border-radius: 0.35em; vertical-align: middle; margin-left: 0.5rem\">LOC</span>\n",
       "</mark>\n",
       " , \n",
       "<mark class=\"entity\" style=\"background: #ff9561; padding: 0.45em 0.6em; margin: 0 0.25em; line-height: 1; border-radius: 0.35em;\">\n",
       "    Ampolla Frasco Vial\n",
       "    <span style=\"font-size: 0.8em; font-weight: bold; line-height: 1; border-radius: 0.35em; vertical-align: middle; margin-left: 0.5rem\">LOC</span>\n",
       "</mark>\n",
       " . \n",
       "<mark class=\"entity\" style=\"background: #ddd; padding: 0.45em 0.6em; margin: 0 0.25em; line-height: 1; border-radius: 0.35em;\">\n",
       "    Cotizar Jeringa\n",
       "    <span style=\"font-size: 0.8em; font-weight: bold; line-height: 1; border-radius: 0.35em; vertical-align: middle; margin-left: 0.5rem\">MISC</span>\n",
       "</mark>\n",
       " Prellenada \n",
       "<mark class=\"entity\" style=\"background: #ff9561; padding: 0.45em 0.6em; margin: 0 0.25em; line-height: 1; border-radius: 0.35em;\">\n",
       "    Ampolla Frasco Vial\n",
       "    <span style=\"font-size: 0.8em; font-weight: bold; line-height: 1; border-radius: 0.35em; vertical-align: middle; margin-left: 0.5rem\">LOC</span>\n",
       "</mark>\n",
       " .</div></span>"
      ],
      "text/plain": [
       "<IPython.core.display.HTML object>"
      ]
     },
     "metadata": {},
     "output_type": "display_data"
    },
    {
     "data": {
      "text/html": [
       "<span class=\"tex2jax_ignore\"><div class=\"entities\" style=\"line-height: 2.5; direction: ltr\">4,000 \n",
       "<mark class=\"entity\" style=\"background: #ddd; padding: 0.45em 0.6em; margin: 0 0.25em; line-height: 1; border-radius: 0.35em;\">\n",
       "    UI Solución Inyectable\n",
       "    <span style=\"font-size: 0.8em; font-weight: bold; line-height: 1; border-radius: 0.35em; vertical-align: middle; margin-left: 0.5rem\">MISC</span>\n",
       "</mark>\n",
       " . ( \n",
       "<mark class=\"entity\" style=\"background: #ff9561; padding: 0.45em 0.6em; margin: 0 0.25em; line-height: 1; border-radius: 0.35em;\">\n",
       "    Cadena Frio\n",
       "    <span style=\"font-size: 0.8em; font-weight: bold; line-height: 1; border-radius: 0.35em; vertical-align: middle; margin-left: 0.5rem\">LOC</span>\n",
       "</mark>\n",
       " ) \n",
       "<mark class=\"entity\" style=\"background: #ff9561; padding: 0.45em 0.6em; margin: 0 0.25em; line-height: 1; border-radius: 0.35em;\">\n",
       "    Jeringa Prellenada\n",
       "    <span style=\"font-size: 0.8em; font-weight: bold; line-height: 1; border-radius: 0.35em; vertical-align: middle; margin-left: 0.5rem\">LOC</span>\n",
       "</mark>\n",
       " , \n",
       "<mark class=\"entity\" style=\"background: #ff9561; padding: 0.45em 0.6em; margin: 0 0.25em; line-height: 1; border-radius: 0.35em;\">\n",
       "    Ampolla Frasco Vial\n",
       "    <span style=\"font-size: 0.8em; font-weight: bold; line-height: 1; border-radius: 0.35em; vertical-align: middle; margin-left: 0.5rem\">LOC</span>\n",
       "</mark>\n",
       " . \n",
       "<mark class=\"entity\" style=\"background: #ddd; padding: 0.45em 0.6em; margin: 0 0.25em; line-height: 1; border-radius: 0.35em;\">\n",
       "    Cotizar Jeringa\n",
       "    <span style=\"font-size: 0.8em; font-weight: bold; line-height: 1; border-radius: 0.35em; vertical-align: middle; margin-left: 0.5rem\">MISC</span>\n",
       "</mark>\n",
       " Prellenada \n",
       "<mark class=\"entity\" style=\"background: #ff9561; padding: 0.45em 0.6em; margin: 0 0.25em; line-height: 1; border-radius: 0.35em;\">\n",
       "    Ampolla Frasco Vial\n",
       "    <span style=\"font-size: 0.8em; font-weight: bold; line-height: 1; border-radius: 0.35em; vertical-align: middle; margin-left: 0.5rem\">LOC</span>\n",
       "</mark>\n",
       " .</div></span>"
      ],
      "text/plain": [
       "<IPython.core.display.HTML object>"
      ]
     },
     "metadata": {},
     "output_type": "display_data"
    },
    {
     "data": {
      "text/html": [
       "<span class=\"tex2jax_ignore\"><div class=\"entities\" style=\"line-height: 2.5; direction: ltr\">4 mg/5 ml .   \n",
       "<mark class=\"entity\" style=\"background: #ddd; padding: 0.45em 0.6em; margin: 0 0.25em; line-height: 1; border-radius: 0.35em;\">\n",
       "    Solución oral Jarabe\n",
       "    <span style=\"font-size: 0.8em; font-weight: bold; line-height: 1; border-radius: 0.35em; vertical-align: middle; margin-left: 0.5rem\">MISC</span>\n",
       "</mark>\n",
       " .   \n",
       "<mark class=\"entity\" style=\"background: #ff9561; padding: 0.45em 0.6em; margin: 0 0.25em; line-height: 1; border-radius: 0.35em;\">\n",
       "    Frasco\n",
       "    <span style=\"font-size: 0.8em; font-weight: bold; line-height: 1; border-radius: 0.35em; vertical-align: middle; margin-left: 0.5rem\">LOC</span>\n",
       "</mark>\n",
       " 120 ml .   \n",
       "<mark class=\"entity\" style=\"background: #ddd; padding: 0.45em 0.6em; margin: 0 0.25em; line-height: 1; border-radius: 0.35em;\">\n",
       "    Cotizar Frasco\n",
       "    <span style=\"font-size: 0.8em; font-weight: bold; line-height: 1; border-radius: 0.35em; vertical-align: middle; margin-left: 0.5rem\">MISC</span>\n",
       "</mark>\n",
       " .</div></span>"
      ],
      "text/plain": [
       "<IPython.core.display.HTML object>"
      ]
     },
     "metadata": {},
     "output_type": "display_data"
    },
    {
     "data": {
      "text/html": [
       "<span class=\"tex2jax_ignore\"><div class=\"entities\" style=\"line-height: 2.5; direction: ltr\">50 mg/1 ml .   \n",
       "<mark class=\"entity\" style=\"background: #ddd; padding: 0.45em 0.6em; margin: 0 0.25em; line-height: 1; border-radius: 0.35em;\">\n",
       "    Solución Oral\n",
       "    <span style=\"font-size: 0.8em; font-weight: bold; line-height: 1; border-radius: 0.35em; vertical-align: middle; margin-left: 0.5rem\">MISC</span>\n",
       "</mark>\n",
       " .   \n",
       "<mark class=\"entity\" style=\"background: #ff9561; padding: 0.45em 0.6em; margin: 0 0.25em; line-height: 1; border-radius: 0.35em;\">\n",
       "    Frasco\n",
       "    <span style=\"font-size: 0.8em; font-weight: bold; line-height: 1; border-radius: 0.35em; vertical-align: middle; margin-left: 0.5rem\">LOC</span>\n",
       "</mark>\n",
       " 30 ml . \n",
       "<mark class=\"entity\" style=\"background: #ddd; padding: 0.45em 0.6em; margin: 0 0.25em; line-height: 1; border-radius: 0.35em;\">\n",
       "    Cotizar Frasco\n",
       "    <span style=\"font-size: 0.8em; font-weight: bold; line-height: 1; border-radius: 0.35em; vertical-align: middle; margin-left: 0.5rem\">MISC</span>\n",
       "</mark>\n",
       " .</div></span>"
      ],
      "text/plain": [
       "<IPython.core.display.HTML object>"
      ]
     },
     "metadata": {},
     "output_type": "display_data"
    },
    {
     "data": {
      "text/html": [
       "<span class=\"tex2jax_ignore\"><div class=\"entities\" style=\"line-height: 2.5; direction: ltr\">100 mg/5 ml . \n",
       "<mark class=\"entity\" style=\"background: #ddd; padding: 0.45em 0.6em; margin: 0 0.25em; line-height: 1; border-radius: 0.35em;\">\n",
       "    Jarabe\n",
       "    <span style=\"font-size: 0.8em; font-weight: bold; line-height: 1; border-radius: 0.35em; vertical-align: middle; margin-left: 0.5rem\">MISC</span>\n",
       "</mark>\n",
       " . \n",
       "<mark class=\"entity\" style=\"background: #ddd; padding: 0.45em 0.6em; margin: 0 0.25em; line-height: 1; border-radius: 0.35em;\">\n",
       "    Frasco 120 ml\n",
       "    <span style=\"font-size: 0.8em; font-weight: bold; line-height: 1; border-radius: 0.35em; vertical-align: middle; margin-left: 0.5rem\">MISC</span>\n",
       "</mark>\n",
       " . \n",
       "<mark class=\"entity\" style=\"background: #ddd; padding: 0.45em 0.6em; margin: 0 0.25em; line-height: 1; border-radius: 0.35em;\">\n",
       "    Cotizar Frasco\n",
       "    <span style=\"font-size: 0.8em; font-weight: bold; line-height: 1; border-radius: 0.35em; vertical-align: middle; margin-left: 0.5rem\">MISC</span>\n",
       "</mark>\n",
       "</div></span>"
      ],
      "text/plain": [
       "<IPython.core.display.HTML object>"
      ]
     },
     "metadata": {},
     "output_type": "display_data"
    },
    {
     "data": {
      "text/html": [
       "<span class=\"tex2jax_ignore\"><div class=\"entities\" style=\"line-height: 2.5; direction: ltr\">7.5 mg / ml . \n",
       "<mark class=\"entity\" style=\"background: #ddd; padding: 0.45em 0.6em; margin: 0 0.25em; line-height: 1; border-radius: 0.35em;\">\n",
       "    Solución inyectable\n",
       "    <span style=\"font-size: 0.8em; font-weight: bold; line-height: 1; border-radius: 0.35em; vertical-align: middle; margin-left: 0.5rem\">MISC</span>\n",
       "</mark>\n",
       " . \n",
       "<mark class=\"entity\" style=\"background: #ff9561; padding: 0.45em 0.6em; margin: 0 0.25em; line-height: 1; border-radius: 0.35em;\">\n",
       "    Ampolla\n",
       "    <span style=\"font-size: 0.8em; font-weight: bold; line-height: 1; border-radius: 0.35em; vertical-align: middle; margin-left: 0.5rem\">LOC</span>\n",
       "</mark>\n",
       " 2 ml . \n",
       "<mark class=\"entity\" style=\"background: #ddd; padding: 0.45em 0.6em; margin: 0 0.25em; line-height: 1; border-radius: 0.35em;\">\n",
       "    Cotizar ampolla\n",
       "    <span style=\"font-size: 0.8em; font-weight: bold; line-height: 1; border-radius: 0.35em; vertical-align: middle; margin-left: 0.5rem\">MISC</span>\n",
       "</mark>\n",
       "</div></span>"
      ],
      "text/plain": [
       "<IPython.core.display.HTML object>"
      ]
     },
     "metadata": {},
     "output_type": "display_data"
    },
    {
     "data": {
      "text/html": [
       "<span class=\"tex2jax_ignore\"><div class=\"entities\" style=\"line-height: 2.5; direction: ltr\">\n",
       "<mark class=\"entity\" style=\"background: #ddd; padding: 0.45em 0.6em; margin: 0 0.25em; line-height: 1; border-radius: 0.35em;\">\n",
       "    0.2\n",
       "    <span style=\"font-size: 0.8em; font-weight: bold; line-height: 1; border-radius: 0.35em; vertical-align: middle; margin-left: 0.5rem\">MISC</span>\n",
       "</mark>\n",
       " mg / ml . \n",
       "<mark class=\"entity\" style=\"background: #ddd; padding: 0.45em 0.6em; margin: 0 0.25em; line-height: 1; border-radius: 0.35em;\">\n",
       "    Solución inyectable\n",
       "    <span style=\"font-size: 0.8em; font-weight: bold; line-height: 1; border-radius: 0.35em; vertical-align: middle; margin-left: 0.5rem\">MISC</span>\n",
       "</mark>\n",
       " . \n",
       "<mark class=\"entity\" style=\"background: #ff9561; padding: 0.45em 0.6em; margin: 0 0.25em; line-height: 1; border-radius: 0.35em;\">\n",
       "    Ampolla\n",
       "    <span style=\"font-size: 0.8em; font-weight: bold; line-height: 1; border-radius: 0.35em; vertical-align: middle; margin-left: 0.5rem\">LOC</span>\n",
       "</mark>\n",
       " 1 ml . \n",
       "<mark class=\"entity\" style=\"background: #ddd; padding: 0.45em 0.6em; margin: 0 0.25em; line-height: 1; border-radius: 0.35em;\">\n",
       "    Cotizar Ampolla\n",
       "    <span style=\"font-size: 0.8em; font-weight: bold; line-height: 1; border-radius: 0.35em; vertical-align: middle; margin-left: 0.5rem\">MISC</span>\n",
       "</mark>\n",
       " .</div></span>"
      ],
      "text/plain": [
       "<IPython.core.display.HTML object>"
      ]
     },
     "metadata": {},
     "output_type": "display_data"
    },
    {
     "data": {
      "text/html": [
       "<span class=\"tex2jax_ignore\"><div class=\"entities\" style=\"line-height: 2.5; direction: ltr\">5 \n",
       "<mark class=\"entity\" style=\"background: #ddd; padding: 0.45em 0.6em; margin: 0 0.25em; line-height: 1; border-radius: 0.35em;\">\n",
       "    UI\n",
       "    <span style=\"font-size: 0.8em; font-weight: bold; line-height: 1; border-radius: 0.35em; vertical-align: middle; margin-left: 0.5rem\">MISC</span>\n",
       "</mark>\n",
       " / ml . \n",
       "<mark class=\"entity\" style=\"background: #ddd; padding: 0.45em 0.6em; margin: 0 0.25em; line-height: 1; border-radius: 0.35em;\">\n",
       "    Solución inyectable\n",
       "    <span style=\"font-size: 0.8em; font-weight: bold; line-height: 1; border-radius: 0.35em; vertical-align: middle; margin-left: 0.5rem\">MISC</span>\n",
       "</mark>\n",
       " . \n",
       "<mark class=\"entity\" style=\"background: #ff9561; padding: 0.45em 0.6em; margin: 0 0.25em; line-height: 1; border-radius: 0.35em;\">\n",
       "    Ampolla\n",
       "    <span style=\"font-size: 0.8em; font-weight: bold; line-height: 1; border-radius: 0.35em; vertical-align: middle; margin-left: 0.5rem\">LOC</span>\n",
       "</mark>\n",
       " 1 ml . \n",
       "<mark class=\"entity\" style=\"background: #ddd; padding: 0.45em 0.6em; margin: 0 0.25em; line-height: 1; border-radius: 0.35em;\">\n",
       "    Cotizar Ampolla\n",
       "    <span style=\"font-size: 0.8em; font-weight: bold; line-height: 1; border-radius: 0.35em; vertical-align: middle; margin-left: 0.5rem\">MISC</span>\n",
       "</mark>\n",
       " .</div></span>"
      ],
      "text/plain": [
       "<IPython.core.display.HTML object>"
      ]
     },
     "metadata": {},
     "output_type": "display_data"
    },
    {
     "data": {
      "text/html": [
       "<span class=\"tex2jax_ignore\"><div class=\"entities\" style=\"line-height: 2.5; direction: ltr\">100 mcg / ml . \n",
       "<mark class=\"entity\" style=\"background: #ddd; padding: 0.45em 0.6em; margin: 0 0.25em; line-height: 1; border-radius: 0.35em;\">\n",
       "    Solución inyectable\n",
       "    <span style=\"font-size: 0.8em; font-weight: bold; line-height: 1; border-radius: 0.35em; vertical-align: middle; margin-left: 0.5rem\">MISC</span>\n",
       "</mark>\n",
       " . <br> \n",
       "<mark class=\"entity\" style=\"background: #ff9561; padding: 0.45em 0.6em; margin: 0 0.25em; line-height: 1; border-radius: 0.35em;\">\n",
       "    Ampolla\n",
       "    <span style=\"font-size: 0.8em; font-weight: bold; line-height: 1; border-radius: 0.35em; vertical-align: middle; margin-left: 0.5rem\">LOC</span>\n",
       "</mark>\n",
       " 1 ml . \n",
       "<mark class=\"entity\" style=\"background: #ddd; padding: 0.45em 0.6em; margin: 0 0.25em; line-height: 1; border-radius: 0.35em;\">\n",
       "    Cotizar Ampolla\n",
       "    <span style=\"font-size: 0.8em; font-weight: bold; line-height: 1; border-radius: 0.35em; vertical-align: middle; margin-left: 0.5rem\">MISC</span>\n",
       "</mark>\n",
       " .</div></span>"
      ],
      "text/plain": [
       "<IPython.core.display.HTML object>"
      ]
     },
     "metadata": {},
     "output_type": "display_data"
    },
    {
     "data": {
      "text/html": [
       "<span class=\"tex2jax_ignore\"><div class=\"entities\" style=\"line-height: 2.5; direction: ltr\">100 mg . \n",
       "<mark class=\"entity\" style=\"background: #ddd; padding: 0.45em 0.6em; margin: 0 0.25em; line-height: 1; border-radius: 0.35em;\">\n",
       "    Tableta / Comprimido Tableta recubierta\n",
       "    <span style=\"font-size: 0.8em; font-weight: bold; line-height: 1; border-radius: 0.35em; vertical-align: middle; margin-left: 0.5rem\">MISC</span>\n",
       "</mark>\n",
       " / \n",
       "<mark class=\"entity\" style=\"background: #ddd; padding: 0.45em 0.6em; margin: 0 0.25em; line-height: 1; border-radius: 0.35em;\">\n",
       "    Comprimido\n",
       "    <span style=\"font-size: 0.8em; font-weight: bold; line-height: 1; border-radius: 0.35em; vertical-align: middle; margin-left: 0.5rem\">MISC</span>\n",
       "</mark>\n",
       " recubierto . \n",
       "<mark class=\"entity\" style=\"background: #ddd; padding: 0.45em 0.6em; margin: 0 0.25em; line-height: 1; border-radius: 0.35em;\">\n",
       "    Blister\n",
       "    <span style=\"font-size: 0.8em; font-weight: bold; line-height: 1; border-radius: 0.35em; vertical-align: middle; margin-left: 0.5rem\">MISC</span>\n",
       "</mark>\n",
       " . \n",
       "<mark class=\"entity\" style=\"background: #ddd; padding: 0.45em 0.6em; margin: 0 0.25em; line-height: 1; border-radius: 0.35em;\">\n",
       "    Cotizar Tableta / Comprimido Tableta recubierta\n",
       "    <span style=\"font-size: 0.8em; font-weight: bold; line-height: 1; border-radius: 0.35em; vertical-align: middle; margin-left: 0.5rem\">MISC</span>\n",
       "</mark>\n",
       " / \n",
       "<mark class=\"entity\" style=\"background: #ddd; padding: 0.45em 0.6em; margin: 0 0.25em; line-height: 1; border-radius: 0.35em;\">\n",
       "    Comprimido\n",
       "    <span style=\"font-size: 0.8em; font-weight: bold; line-height: 1; border-radius: 0.35em; vertical-align: middle; margin-left: 0.5rem\">MISC</span>\n",
       "</mark>\n",
       " recubierto</div></span>"
      ],
      "text/plain": [
       "<IPython.core.display.HTML object>"
      ]
     },
     "metadata": {},
     "output_type": "display_data"
    },
    {
     "data": {
      "text/html": [
       "<span class=\"tex2jax_ignore\"><div class=\"entities\" style=\"line-height: 2.5; direction: ltr\">5 mg . \n",
       "<mark class=\"entity\" style=\"background: #ddd; padding: 0.45em 0.6em; margin: 0 0.25em; line-height: 1; border-radius: 0.35em;\">\n",
       "    Tableta / Comprimido Tableta recubierta\n",
       "    <span style=\"font-size: 0.8em; font-weight: bold; line-height: 1; border-radius: 0.35em; vertical-align: middle; margin-left: 0.5rem\">MISC</span>\n",
       "</mark>\n",
       " / \n",
       "<mark class=\"entity\" style=\"background: #ddd; padding: 0.45em 0.6em; margin: 0 0.25em; line-height: 1; border-radius: 0.35em;\">\n",
       "    Comprimido\n",
       "    <span style=\"font-size: 0.8em; font-weight: bold; line-height: 1; border-radius: 0.35em; vertical-align: middle; margin-left: 0.5rem\">MISC</span>\n",
       "</mark>\n",
       " recubierto . \n",
       "<mark class=\"entity\" style=\"background: #ddd; padding: 0.45em 0.6em; margin: 0 0.25em; line-height: 1; border-radius: 0.35em;\">\n",
       "    Blister\n",
       "    <span style=\"font-size: 0.8em; font-weight: bold; line-height: 1; border-radius: 0.35em; vertical-align: middle; margin-left: 0.5rem\">MISC</span>\n",
       "</mark>\n",
       " . \n",
       "<mark class=\"entity\" style=\"background: #ddd; padding: 0.45em 0.6em; margin: 0 0.25em; line-height: 1; border-radius: 0.35em;\">\n",
       "    Cotizar Tableta / Comprimido Tableta recubierta\n",
       "    <span style=\"font-size: 0.8em; font-weight: bold; line-height: 1; border-radius: 0.35em; vertical-align: middle; margin-left: 0.5rem\">MISC</span>\n",
       "</mark>\n",
       " / \n",
       "<mark class=\"entity\" style=\"background: #ddd; padding: 0.45em 0.6em; margin: 0 0.25em; line-height: 1; border-radius: 0.35em;\">\n",
       "    Comprimido\n",
       "    <span style=\"font-size: 0.8em; font-weight: bold; line-height: 1; border-radius: 0.35em; vertical-align: middle; margin-left: 0.5rem\">MISC</span>\n",
       "</mark>\n",
       " recubierto .</div></span>"
      ],
      "text/plain": [
       "<IPython.core.display.HTML object>"
      ]
     },
     "metadata": {},
     "output_type": "display_data"
    },
    {
     "data": {
      "text/html": [
       "<span class=\"tex2jax_ignore\"><div class=\"entities\" style=\"line-height: 2.5; direction: ltr\">5 mg / ml . \n",
       "<mark class=\"entity\" style=\"background: #ddd; padding: 0.45em 0.6em; margin: 0 0.25em; line-height: 1; border-radius: 0.35em;\">\n",
       "    Solución Inyectable\n",
       "    <span style=\"font-size: 0.8em; font-weight: bold; line-height: 1; border-radius: 0.35em; vertical-align: middle; margin-left: 0.5rem\">MISC</span>\n",
       "</mark>\n",
       " . \n",
       "<mark class=\"entity\" style=\"background: #ff9561; padding: 0.45em 0.6em; margin: 0 0.25em; line-height: 1; border-radius: 0.35em;\">\n",
       "    Ampolla\n",
       "    <span style=\"font-size: 0.8em; font-weight: bold; line-height: 1; border-radius: 0.35em; vertical-align: middle; margin-left: 0.5rem\">LOC</span>\n",
       "</mark>\n",
       " 1 ml . \n",
       "<mark class=\"entity\" style=\"background: #ddd; padding: 0.45em 0.6em; margin: 0 0.25em; line-height: 1; border-radius: 0.35em;\">\n",
       "    Cotizar Ampolla\n",
       "    <span style=\"font-size: 0.8em; font-weight: bold; line-height: 1; border-radius: 0.35em; vertical-align: middle; margin-left: 0.5rem\">MISC</span>\n",
       "</mark>\n",
       " .</div></span>"
      ],
      "text/plain": [
       "<IPython.core.display.HTML object>"
      ]
     },
     "metadata": {},
     "output_type": "display_data"
    },
    {
     "data": {
      "text/html": [
       "<span class=\"tex2jax_ignore\"><div class=\"entities\" style=\"line-height: 2.5; direction: ltr\">100 mg . \n",
       "<mark class=\"entity\" style=\"background: #ddd; padding: 0.45em 0.6em; margin: 0 0.25em; line-height: 1; border-radius: 0.35em;\">\n",
       "    Tableta / Comprimido\n",
       "    <span style=\"font-size: 0.8em; font-weight: bold; line-height: 1; border-radius: 0.35em; vertical-align: middle; margin-left: 0.5rem\">MISC</span>\n",
       "</mark>\n",
       " . \n",
       "<mark class=\"entity\" style=\"background: #ddd; padding: 0.45em 0.6em; margin: 0 0.25em; line-height: 1; border-radius: 0.35em;\">\n",
       "    Blister\n",
       "    <span style=\"font-size: 0.8em; font-weight: bold; line-height: 1; border-radius: 0.35em; vertical-align: middle; margin-left: 0.5rem\">MISC</span>\n",
       "</mark>\n",
       " . \n",
       "<mark class=\"entity\" style=\"background: #ddd; padding: 0.45em 0.6em; margin: 0 0.25em; line-height: 1; border-radius: 0.35em;\">\n",
       "    Cotizar Tableta / Comprimido\n",
       "    <span style=\"font-size: 0.8em; font-weight: bold; line-height: 1; border-radius: 0.35em; vertical-align: middle; margin-left: 0.5rem\">MISC</span>\n",
       "</mark>\n",
       " .</div></span>"
      ],
      "text/plain": [
       "<IPython.core.display.HTML object>"
      ]
     },
     "metadata": {},
     "output_type": "display_data"
    },
    {
     "data": {
      "text/html": [
       "<span class=\"tex2jax_ignore\"><div class=\"entities\" style=\"line-height: 2.5; direction: ltr\">2 mg . \n",
       "<mark class=\"entity\" style=\"background: #ddd; padding: 0.45em 0.6em; margin: 0 0.25em; line-height: 1; border-radius: 0.35em;\">\n",
       "    Tableta recubierta\n",
       "    <span style=\"font-size: 0.8em; font-weight: bold; line-height: 1; border-radius: 0.35em; vertical-align: middle; margin-left: 0.5rem\">MISC</span>\n",
       "</mark>\n",
       " / \n",
       "<mark class=\"entity\" style=\"background: #ddd; padding: 0.45em 0.6em; margin: 0 0.25em; line-height: 1; border-radius: 0.35em;\">\n",
       "    Comprimido\n",
       "    <span style=\"font-size: 0.8em; font-weight: bold; line-height: 1; border-radius: 0.35em; vertical-align: middle; margin-left: 0.5rem\">MISC</span>\n",
       "</mark>\n",
       " recubierto . \n",
       "<mark class=\"entity\" style=\"background: #ddd; padding: 0.45em 0.6em; margin: 0 0.25em; line-height: 1; border-radius: 0.35em;\">\n",
       "    Blister\n",
       "    <span style=\"font-size: 0.8em; font-weight: bold; line-height: 1; border-radius: 0.35em; vertical-align: middle; margin-left: 0.5rem\">MISC</span>\n",
       "</mark>\n",
       " . \n",
       "<mark class=\"entity\" style=\"background: #ddd; padding: 0.45em 0.6em; margin: 0 0.25em; line-height: 1; border-radius: 0.35em;\">\n",
       "    Cotizar Tableta recubierta\n",
       "    <span style=\"font-size: 0.8em; font-weight: bold; line-height: 1; border-radius: 0.35em; vertical-align: middle; margin-left: 0.5rem\">MISC</span>\n",
       "</mark>\n",
       " / \n",
       "<mark class=\"entity\" style=\"background: #ddd; padding: 0.45em 0.6em; margin: 0 0.25em; line-height: 1; border-radius: 0.35em;\">\n",
       "    Comprimido\n",
       "    <span style=\"font-size: 0.8em; font-weight: bold; line-height: 1; border-radius: 0.35em; vertical-align: middle; margin-left: 0.5rem\">MISC</span>\n",
       "</mark>\n",
       " recubierto .</div></span>"
      ],
      "text/plain": [
       "<IPython.core.display.HTML object>"
      ]
     },
     "metadata": {},
     "output_type": "display_data"
    },
    {
     "data": {
      "text/html": [
       "<span class=\"tex2jax_ignore\"><div class=\"entities\" style=\"line-height: 2.5; direction: ltr\">10 mg . \n",
       "<mark class=\"entity\" style=\"background: #ddd; padding: 0.45em 0.6em; margin: 0 0.25em; line-height: 1; border-radius: 0.35em;\">\n",
       "    Tableta recubierta\n",
       "    <span style=\"font-size: 0.8em; font-weight: bold; line-height: 1; border-radius: 0.35em; vertical-align: middle; margin-left: 0.5rem\">MISC</span>\n",
       "</mark>\n",
       " / \n",
       "<mark class=\"entity\" style=\"background: #ddd; padding: 0.45em 0.6em; margin: 0 0.25em; line-height: 1; border-radius: 0.35em;\">\n",
       "    Comprimido\n",
       "    <span style=\"font-size: 0.8em; font-weight: bold; line-height: 1; border-radius: 0.35em; vertical-align: middle; margin-left: 0.5rem\">MISC</span>\n",
       "</mark>\n",
       " recubierto . \n",
       "<mark class=\"entity\" style=\"background: #ddd; padding: 0.45em 0.6em; margin: 0 0.25em; line-height: 1; border-radius: 0.35em;\">\n",
       "    Blister\n",
       "    <span style=\"font-size: 0.8em; font-weight: bold; line-height: 1; border-radius: 0.35em; vertical-align: middle; margin-left: 0.5rem\">MISC</span>\n",
       "</mark>\n",
       " . \n",
       "<mark class=\"entity\" style=\"background: #ddd; padding: 0.45em 0.6em; margin: 0 0.25em; line-height: 1; border-radius: 0.35em;\">\n",
       "    Cotizar Tableta recubierta\n",
       "    <span style=\"font-size: 0.8em; font-weight: bold; line-height: 1; border-radius: 0.35em; vertical-align: middle; margin-left: 0.5rem\">MISC</span>\n",
       "</mark>\n",
       " / \n",
       "<mark class=\"entity\" style=\"background: #ddd; padding: 0.45em 0.6em; margin: 0 0.25em; line-height: 1; border-radius: 0.35em;\">\n",
       "    Comprimido\n",
       "    <span style=\"font-size: 0.8em; font-weight: bold; line-height: 1; border-radius: 0.35em; vertical-align: middle; margin-left: 0.5rem\">MISC</span>\n",
       "</mark>\n",
       " recubierto .</div></span>"
      ],
      "text/plain": [
       "<IPython.core.display.HTML object>"
      ]
     },
     "metadata": {},
     "output_type": "display_data"
    },
    {
     "data": {
      "text/html": [
       "<span class=\"tex2jax_ignore\"><div class=\"entities\" style=\"line-height: 2.5; direction: ltr\">300 mg . \n",
       "<mark class=\"entity\" style=\"background: #ddd; padding: 0.45em 0.6em; margin: 0 0.25em; line-height: 1; border-radius: 0.35em;\">\n",
       "    Tableta recubierta\n",
       "    <span style=\"font-size: 0.8em; font-weight: bold; line-height: 1; border-radius: 0.35em; vertical-align: middle; margin-left: 0.5rem\">MISC</span>\n",
       "</mark>\n",
       " / \n",
       "<mark class=\"entity\" style=\"background: #ddd; padding: 0.45em 0.6em; margin: 0 0.25em; line-height: 1; border-radius: 0.35em;\">\n",
       "    Comprimido\n",
       "    <span style=\"font-size: 0.8em; font-weight: bold; line-height: 1; border-radius: 0.35em; vertical-align: middle; margin-left: 0.5rem\">MISC</span>\n",
       "</mark>\n",
       " recubierto . \n",
       "<mark class=\"entity\" style=\"background: #ddd; padding: 0.45em 0.6em; margin: 0 0.25em; line-height: 1; border-radius: 0.35em;\">\n",
       "    Blister\n",
       "    <span style=\"font-size: 0.8em; font-weight: bold; line-height: 1; border-radius: 0.35em; vertical-align: middle; margin-left: 0.5rem\">MISC</span>\n",
       "</mark>\n",
       " . \n",
       "<mark class=\"entity\" style=\"background: #ddd; padding: 0.45em 0.6em; margin: 0 0.25em; line-height: 1; border-radius: 0.35em;\">\n",
       "    Cotizar Tableta recubierta\n",
       "    <span style=\"font-size: 0.8em; font-weight: bold; line-height: 1; border-radius: 0.35em; vertical-align: middle; margin-left: 0.5rem\">MISC</span>\n",
       "</mark>\n",
       " / \n",
       "<mark class=\"entity\" style=\"background: #ddd; padding: 0.45em 0.6em; margin: 0 0.25em; line-height: 1; border-radius: 0.35em;\">\n",
       "    Comprimido\n",
       "    <span style=\"font-size: 0.8em; font-weight: bold; line-height: 1; border-radius: 0.35em; vertical-align: middle; margin-left: 0.5rem\">MISC</span>\n",
       "</mark>\n",
       " recubierto .</div></span>"
      ],
      "text/plain": [
       "<IPython.core.display.HTML object>"
      ]
     },
     "metadata": {},
     "output_type": "display_data"
    },
    {
     "data": {
      "text/html": [
       "<span class=\"tex2jax_ignore\"><div class=\"entities\" style=\"line-height: 2.5; direction: ltr\">0.5 mg . \n",
       "<mark class=\"entity\" style=\"background: #ddd; padding: 0.45em 0.6em; margin: 0 0.25em; line-height: 1; border-radius: 0.35em;\">\n",
       "    Tableta / Comprimido\n",
       "    <span style=\"font-size: 0.8em; font-weight: bold; line-height: 1; border-radius: 0.35em; vertical-align: middle; margin-left: 0.5rem\">MISC</span>\n",
       "</mark>\n",
       " . \n",
       "<mark class=\"entity\" style=\"background: #ddd; padding: 0.45em 0.6em; margin: 0 0.25em; line-height: 1; border-radius: 0.35em;\">\n",
       "    Blister\n",
       "    <span style=\"font-size: 0.8em; font-weight: bold; line-height: 1; border-radius: 0.35em; vertical-align: middle; margin-left: 0.5rem\">MISC</span>\n",
       "</mark>\n",
       " . \n",
       "<mark class=\"entity\" style=\"background: #ddd; padding: 0.45em 0.6em; margin: 0 0.25em; line-height: 1; border-radius: 0.35em;\">\n",
       "    Cotizar Tableta / Comprimido\n",
       "    <span style=\"font-size: 0.8em; font-weight: bold; line-height: 1; border-radius: 0.35em; vertical-align: middle; margin-left: 0.5rem\">MISC</span>\n",
       "</mark>\n",
       " .</div></span>"
      ],
      "text/plain": [
       "<IPython.core.display.HTML object>"
      ]
     },
     "metadata": {},
     "output_type": "display_data"
    },
    {
     "data": {
      "text/html": [
       "<span class=\"tex2jax_ignore\"><div class=\"entities\" style=\"line-height: 2.5; direction: ltr\">2 mg . \n",
       "<mark class=\"entity\" style=\"background: #ddd; padding: 0.45em 0.6em; margin: 0 0.25em; line-height: 1; border-radius: 0.35em;\">\n",
       "    Tableta / Comprimido Tableta recubierta\n",
       "    <span style=\"font-size: 0.8em; font-weight: bold; line-height: 1; border-radius: 0.35em; vertical-align: middle; margin-left: 0.5rem\">MISC</span>\n",
       "</mark>\n",
       " / \n",
       "<mark class=\"entity\" style=\"background: #ddd; padding: 0.45em 0.6em; margin: 0 0.25em; line-height: 1; border-radius: 0.35em;\">\n",
       "    Comprimido\n",
       "    <span style=\"font-size: 0.8em; font-weight: bold; line-height: 1; border-radius: 0.35em; vertical-align: middle; margin-left: 0.5rem\">MISC</span>\n",
       "</mark>\n",
       " recubierto . \n",
       "<mark class=\"entity\" style=\"background: #ddd; padding: 0.45em 0.6em; margin: 0 0.25em; line-height: 1; border-radius: 0.35em;\">\n",
       "    Blister\n",
       "    <span style=\"font-size: 0.8em; font-weight: bold; line-height: 1; border-radius: 0.35em; vertical-align: middle; margin-left: 0.5rem\">MISC</span>\n",
       "</mark>\n",
       " . \n",
       "<mark class=\"entity\" style=\"background: #ddd; padding: 0.45em 0.6em; margin: 0 0.25em; line-height: 1; border-radius: 0.35em;\">\n",
       "    Cotizar Tableta / Comprimido Tableta recubierta\n",
       "    <span style=\"font-size: 0.8em; font-weight: bold; line-height: 1; border-radius: 0.35em; vertical-align: middle; margin-left: 0.5rem\">MISC</span>\n",
       "</mark>\n",
       " / \n",
       "<mark class=\"entity\" style=\"background: #ddd; padding: 0.45em 0.6em; margin: 0 0.25em; line-height: 1; border-radius: 0.35em;\">\n",
       "    Comprimido\n",
       "    <span style=\"font-size: 0.8em; font-weight: bold; line-height: 1; border-radius: 0.35em; vertical-align: middle; margin-left: 0.5rem\">MISC</span>\n",
       "</mark>\n",
       " recubierto .</div></span>"
      ],
      "text/plain": [
       "<IPython.core.display.HTML object>"
      ]
     },
     "metadata": {},
     "output_type": "display_data"
    },
    {
     "data": {
      "text/html": [
       "<span class=\"tex2jax_ignore\"><div class=\"entities\" style=\"line-height: 2.5; direction: ltr\">5 mg / ml .   \n",
       "<mark class=\"entity\" style=\"background: #ddd; padding: 0.45em 0.6em; margin: 0 0.25em; line-height: 1; border-radius: 0.35em;\">\n",
       "    Solución\n",
       "    <span style=\"font-size: 0.8em; font-weight: bold; line-height: 1; border-radius: 0.35em; vertical-align: middle; margin-left: 0.5rem\">MISC</span>\n",
       "</mark>\n",
       " inyectable . \n",
       "<mark class=\"entity\" style=\"background: #ff9561; padding: 0.45em 0.6em; margin: 0 0.25em; line-height: 1; border-radius: 0.35em;\">\n",
       "    Ampolla\n",
       "    <span style=\"font-size: 0.8em; font-weight: bold; line-height: 1; border-radius: 0.35em; vertical-align: middle; margin-left: 0.5rem\">LOC</span>\n",
       "</mark>\n",
       " 2 ml . \n",
       "<mark class=\"entity\" style=\"background: #ddd; padding: 0.45em 0.6em; margin: 0 0.25em; line-height: 1; border-radius: 0.35em;\">\n",
       "    Cotizar Ampolla\n",
       "    <span style=\"font-size: 0.8em; font-weight: bold; line-height: 1; border-radius: 0.35em; vertical-align: middle; margin-left: 0.5rem\">MISC</span>\n",
       "</mark>\n",
       " .</div></span>"
      ],
      "text/plain": [
       "<IPython.core.display.HTML object>"
      ]
     },
     "metadata": {},
     "output_type": "display_data"
    },
    {
     "data": {
      "text/html": [
       "<span class=\"tex2jax_ignore\"><div class=\"entities\" style=\"line-height: 2.5; direction: ltr\">2 mg / ml . \n",
       "<mark class=\"entity\" style=\"background: #ddd; padding: 0.45em 0.6em; margin: 0 0.25em; line-height: 1; border-radius: 0.35em;\">\n",
       "    Solución inyectable\n",
       "    <span style=\"font-size: 0.8em; font-weight: bold; line-height: 1; border-radius: 0.35em; vertical-align: middle; margin-left: 0.5rem\">MISC</span>\n",
       "</mark>\n",
       " . \n",
       "<mark class=\"entity\" style=\"background: #ff9561; padding: 0.45em 0.6em; margin: 0 0.25em; line-height: 1; border-radius: 0.35em;\">\n",
       "    Ampolla\n",
       "    <span style=\"font-size: 0.8em; font-weight: bold; line-height: 1; border-radius: 0.35em; vertical-align: middle; margin-left: 0.5rem\">LOC</span>\n",
       "</mark>\n",
       " 2 ml . \n",
       "<mark class=\"entity\" style=\"background: #ddd; padding: 0.45em 0.6em; margin: 0 0.25em; line-height: 1; border-radius: 0.35em;\">\n",
       "    Cotizar Ampolla\n",
       "    <span style=\"font-size: 0.8em; font-weight: bold; line-height: 1; border-radius: 0.35em; vertical-align: middle; margin-left: 0.5rem\">MISC</span>\n",
       "</mark>\n",
       " .</div></span>"
      ],
      "text/plain": [
       "<IPython.core.display.HTML object>"
      ]
     },
     "metadata": {},
     "output_type": "display_data"
    },
    {
     "data": {
      "text/html": [
       "<span class=\"tex2jax_ignore\"><div class=\"entities\" style=\"line-height: 2.5; direction: ltr\">80 mg/1 mL. \n",
       "<mark class=\"entity\" style=\"background: #ddd; padding: 0.45em 0.6em; margin: 0 0.25em; line-height: 1; border-radius: 0.35em;\">\n",
       "    Suspensión\n",
       "    <span style=\"font-size: 0.8em; font-weight: bold; line-height: 1; border-radius: 0.35em; vertical-align: middle; margin-left: 0.5rem\">MISC</span>\n",
       "</mark>\n",
       " estéril endotraqueopulmonar . \n",
       "<mark class=\"entity\" style=\"background: #ddd; padding: 0.45em 0.6em; margin: 0 0.25em; line-height: 1; border-radius: 0.35em;\">\n",
       "    Vial\n",
       "    <span style=\"font-size: 0.8em; font-weight: bold; line-height: 1; border-radius: 0.35em; vertical-align: middle; margin-left: 0.5rem\">PER</span>\n",
       "</mark>\n",
       " . \n",
       "<mark class=\"entity\" style=\"background: #ddd; padding: 0.45em 0.6em; margin: 0 0.25em; line-height: 1; border-radius: 0.35em;\">\n",
       "    Cotizar Vial\n",
       "    <span style=\"font-size: 0.8em; font-weight: bold; line-height: 1; border-radius: 0.35em; vertical-align: middle; margin-left: 0.5rem\">MISC</span>\n",
       "</mark>\n",
       " .</div></span>"
      ],
      "text/plain": [
       "<IPython.core.display.HTML object>"
      ]
     },
     "metadata": {},
     "output_type": "display_data"
    },
    {
     "data": {
      "text/html": [
       "<span class=\"tex2jax_ignore\"><div class=\"entities\" style=\"line-height: 2.5; direction: ltr\">25mg / mL. \n",
       "<mark class=\"entity\" style=\"background: #ddd; padding: 0.45em 0.6em; margin: 0 0.25em; line-height: 1; border-radius: 0.35em;\">\n",
       "    Suspensión\n",
       "    <span style=\"font-size: 0.8em; font-weight: bold; line-height: 1; border-radius: 0.35em; vertical-align: middle; margin-left: 0.5rem\">MISC</span>\n",
       "</mark>\n",
       " estéril endotraqueopulmonar . \n",
       "<mark class=\"entity\" style=\"background: #ddd; padding: 0.45em 0.6em; margin: 0 0.25em; line-height: 1; border-radius: 0.35em;\">\n",
       "    Vial\n",
       "    <span style=\"font-size: 0.8em; font-weight: bold; line-height: 1; border-radius: 0.35em; vertical-align: middle; margin-left: 0.5rem\">PER</span>\n",
       "</mark>\n",
       " . \n",
       "<mark class=\"entity\" style=\"background: #ddd; padding: 0.45em 0.6em; margin: 0 0.25em; line-height: 1; border-radius: 0.35em;\">\n",
       "    Cotizar \n",
       " Vial\n",
       "    <span style=\"font-size: 0.8em; font-weight: bold; line-height: 1; border-radius: 0.35em; vertical-align: middle; margin-left: 0.5rem\">MISC</span>\n",
       "</mark>\n",
       " .</div></span>"
      ],
      "text/plain": [
       "<IPython.core.display.HTML object>"
      ]
     },
     "metadata": {},
     "output_type": "display_data"
    },
    {
     "data": {
      "text/html": [
       "<span class=\"tex2jax_ignore\"><div class=\"entities\" style=\"line-height: 2.5; direction: ltr\">10 mg / ml . \n",
       "<mark class=\"entity\" style=\"background: #ddd; padding: 0.45em 0.6em; margin: 0 0.25em; line-height: 1; border-radius: 0.35em;\">\n",
       "    Solución inyectable\n",
       "    <span style=\"font-size: 0.8em; font-weight: bold; line-height: 1; border-radius: 0.35em; vertical-align: middle; margin-left: 0.5rem\">MISC</span>\n",
       "</mark>\n",
       " .   \n",
       "<mark class=\"entity\" style=\"background: #ff9561; padding: 0.45em 0.6em; margin: 0 0.25em; line-height: 1; border-radius: 0.35em;\">\n",
       "    Ampolla\n",
       "    <span style=\"font-size: 0.8em; font-weight: bold; line-height: 1; border-radius: 0.35em; vertical-align: middle; margin-left: 0.5rem\">LOC</span>\n",
       "</mark>\n",
       " 5 ml . \n",
       "<mark class=\"entity\" style=\"background: #ddd; padding: 0.45em 0.6em; margin: 0 0.25em; line-height: 1; border-radius: 0.35em;\">\n",
       "    Cotizar Ampolla\n",
       "    <span style=\"font-size: 0.8em; font-weight: bold; line-height: 1; border-radius: 0.35em; vertical-align: middle; margin-left: 0.5rem\">MISC</span>\n",
       "</mark>\n",
       " .</div></span>"
      ],
      "text/plain": [
       "<IPython.core.display.HTML object>"
      ]
     },
     "metadata": {},
     "output_type": "display_data"
    }
   ],
   "source": [
    "for corpus in Corp:\n",
    "    displacy.render(corpus, style='ent')"
   ]
  },
  {
   "cell_type": "code",
   "execution_count": 3,
   "metadata": {},
   "outputs": [],
   "source": [
    "nombre_medicamentos = medicamentos[\"NOMBRE\"].tolist()"
   ]
  },
  {
   "cell_type": "code",
   "execution_count": 14,
   "metadata": {},
   "outputs": [
    {
     "data": {
      "text/plain": [
       "['Sevoflurano 100%',\n",
       " 'Isoflurano 100%',\n",
       " 'Desflurano 100%',\n",
       " 'Ketamina 500mg/10ml',\n",
       " 'Propofol 500 mg/ 50 ml',\n",
       " 'Propofol 500 mg/ 50 ml',\n",
       " 'Bupivacaina Clorhidrato sin Epinefrina sin preservantes 0.5%',\n",
       " 'Bupivacaina Pesada (Hiperbárica) 0.5%',\n",
       " 'Lidocaina Clorhidrato Con Epinefrina sin Preservante 2% y 1:100,000 (20mg y 0.01mg/ml)',\n",
       " 'Lidocaina Clorhidrato sin Epinefrina con preservante (simple) 2% ',\n",
       " 'Lidocaina dental sin Epinefrina 2%',\n",
       " 'Lidocaina dental con Epinefrina 2% y 1:100,000',\n",
       " 'Lidocaina Clorhidrato sin Epinefrina, sin preservante (simple) 2%',\n",
       " 'Carbamazepina 200mg',\n",
       " 'Carbamazepina 400mg',\n",
       " 'Fenitoina sódica (Difenilhidantoína sódica) 100mg',\n",
       " 'Fenitoina sódica (Difenilhidantoína sódica)\\n250mg/5ml',\n",
       " 'Ácido Valproico 500mg/5ml',\n",
       " 'Ácido Valproico  (valproato\\nsódico) 250mg/5mI',\n",
       " 'Ácido Valproico  (valproato sódico) 500mg',\n",
       " 'Fenobarbital 200mg/2ml',\n",
       " 'Fenobarbital 100mg',\n",
       " 'Gabapentina 400mg',\n",
       " 'Lamotrigina 100mg',\n",
       " 'Carbonato de Litio 300mg',\n",
       " 'Sertralina Hidrocloruro 50mg',\n",
       " 'Naloxona 0.4 mg/1 ml',\n",
       " 'Flumazenil 0.5/5ml',\n",
       " 'Deferasirox 250 mg',\n",
       " 'Biperideno Clorhidrato 2mg',\n",
       " 'Agua estéril para inyección (agua tridestilada) 10ml',\n",
       " 'Agua estéril para inyección (agua tridestilada) 1000ml',\n",
       " 'Cloruro de Sodio 0.9%, 15ml',\n",
       " 'Cloruro de Sodio 0.9%, 5ml',\n",
       " 'Cloruro de Sodio 0.9%, 50ml',\n",
       " 'Aminoácidos sin Electrolitos Pediátricos 10%',\n",
       " 'Aminoácidos para paciente hepático 10%',\n",
       " 'Aminoácidos con Electrolitos 10%',\n",
       " 'Aminoácidos sin electrolitos, sin ácido glutámico para paciente pediátrico neonato 10%',\n",
       " 'Magnesio Sulfato 50%/10ml',\n",
       " 'Calcio Gluconato 10%',\n",
       " 'Dextrosa 5%, 250 ml',\n",
       " 'Dextrosa 5%, 500 ml',\n",
       " 'Dextrosa 5%, 1000 ml',\n",
       " 'Dextrosa 10%, 500 ml',\n",
       " 'Dextrosa 10%, 1000 ml',\n",
       " 'Dextrosa 10%, 250 ml',\n",
       " 'Dextrosa 30%, 250 ml',\n",
       " 'Dextrosa 50%, 500 ml',\n",
       " 'Lípidos 20%',\n",
       " 'Lipidos mct/Ict/omega 3/aceite de oliva para paciente adulto, niño y prematuro de bajo peso al nacer 20%',\n",
       " 'Oligoelementos',\n",
       " 'Cloruro de Potasio 10%-15%',\n",
       " 'Bicarbonato de Sodio 7.5%',\n",
       " 'Cloruro de Sodio 0.9%, 250 ml',\n",
       " 'Cloruro de Sodio 0.45% 1000 ml',\n",
       " 'Cloruro de Sodio 0.9% 100 ml',\n",
       " 'Solución No. 1 (Dextrosa + Cloruro de Sodio) 250 ml',\n",
       " 'Solución No. 2 (Dextrosa + Cloruro de Sodio) 250ml',\n",
       " 'Solución No. 2 (Dextrosa + Cloruro de Sodio) 500 ml',\n",
       " 'Solución No. 1 (Dextrosa + Cloruro de Sodio) 500 ml',\n",
       " 'Poligelina con Electrolitos (Gelatina, Calcio, Cloro, Potasio y Sodio) 3.5%',\n",
       " 'Emulsión inyectable (para infusión o perfusión), bolsa con 3 compartimientos (glucosa + lipidos + aminoácidos) de 1,000 a 1,250 ml',\n",
       " 'Emulsión inyectable (para infusión o perfusión), bolsa con 3 compartimientos (glucosa + lipidos + aminoácidos) de 1,000 a 1,440 ml',\n",
       " 'Cloruro de Sodio 20%',\n",
       " 'Cloruro de Sodio + Dextrosa (Solución mixta) 0.9% + 5%, 1000 ml',\n",
       " 'Cloruro de Sodio + Dextrosa (Solución mixta) 0.9% + 5%, 500 ml',\n",
       " 'Gelatina Succinilada 4% con electrolitos',\n",
       " 'Hidroxietil Almidón 6%',\n",
       " 'Magnesio Sulfato 50%/2ml',\n",
       " 'Sales de Rehidratación Oral (Cloruro de Sodio, Citrato trisódico, Cloruro de potasio, Glucosa anhidra)',\n",
       " 'Eritropoyetina Humana Recombinante 4,000 UI (Cadena de frio)',\n",
       " 'Eritropoyetina Humana Recombinante 4,000 UI ( sin Cadena de frio)',\n",
       " 'Bromhexina 4mg/5ml',\n",
       " 'Carboximetilcisteina 1500mg/30ml',\n",
       " 'Guayacolato de Glicerilo 100mg/5ml',\n",
       " 'Ambroxol 15mg/2ml',\n",
       " 'Ergonovina Maleato 0.2mg/ml',\n",
       " 'Oxitocina Sintética 5UI/ml.',\n",
       " 'Carbetocina 100mcg/1mI',\n",
       " 'Clorpromazina 100mg',\n",
       " 'Haloperidol 5mg',\n",
       " 'Haloperidol 5mg/1ml',\n",
       " 'Clozapina 100mg',\n",
       " '\\nRisperidona 2 mg',\n",
       " 'Olanzapina 10 mg',\n",
       " 'Quetiapina 300 mg',\n",
       " 'Alprazolam 0.5 mg',\n",
       " 'Clonazepam 2mg\\n',\n",
       " 'Diazepam 10mg/2ml\\n',\n",
       " 'Lorazepam 4mg/2mI',\n",
       " 'Surfactante Pulmonar (natural) 240 mg/3mL',\n",
       " 'Surfactante Pulmonar (natural) 200 mg/8 mL',\n",
       " 'Ritodrina 10 mg/ml']"
      ]
     },
     "execution_count": 14,
     "metadata": {},
     "output_type": "execute_result"
    }
   ],
   "source": [
    "nombre_medicamentos"
   ]
  },
  {
   "cell_type": "code",
   "execution_count": 4,
   "metadata": {},
   "outputs": [],
   "source": [
    "import re\n",
    "\n",
    "def clean_medicamento(nombre):\n",
    "    nombre_limpio = re.sub(r'\\d+', '', nombre)  # Elimina números\n",
    "    nombre_limpio = re.sub(r'\\s+', ' ', nombre_limpio)  # Elimina espacios en exceso\n",
    "    nombre_limpio = re.sub(r'%|/|mg|ml|mI', '', nombre_limpio, flags=re.IGNORECASE)  # Elimina %, /, mg y ml\n",
    "\n",
    "    return nombre_limpio.strip()"
   ]
  },
  {
   "cell_type": "code",
   "execution_count": 5,
   "metadata": {},
   "outputs": [],
   "source": [
    "medicamentos_limpio = [clean_medicamento(med) for med in nombre_medicamentos]\n"
   ]
  },
  {
   "cell_type": "code",
   "execution_count": 6,
   "metadata": {},
   "outputs": [
    {
     "name": "stdout",
     "output_type": "stream",
     "text": [
      "94\n",
      "94\n"
     ]
    }
   ],
   "source": [
    "print(len(medicamentos_limpio))\n",
    "print(len(lista_medicamentos))"
   ]
  },
  {
   "cell_type": "code",
   "execution_count": 7,
   "metadata": {},
   "outputs": [],
   "source": [
    "textos_medicamentos = [f'{elem1} {elem2}' for elem1, elem2 in zip(medicamentos_limpio, lista_medicamentos)]"
   ]
  },
  {
   "cell_type": "code",
   "execution_count": 8,
   "metadata": {},
   "outputs": [
    {
     "data": {
      "text/html": [
       "<div>\n",
       "<style scoped>\n",
       "    .dataframe tbody tr th:only-of-type {\n",
       "        vertical-align: middle;\n",
       "    }\n",
       "\n",
       "    .dataframe tbody tr th {\n",
       "        vertical-align: top;\n",
       "    }\n",
       "\n",
       "    .dataframe thead th {\n",
       "        text-align: right;\n",
       "    }\n",
       "</style>\n",
       "<table border=\"1\" class=\"dataframe\">\n",
       "  <thead>\n",
       "    <tr style=\"text-align: right;\">\n",
       "      <th></th>\n",
       "      <th>Medicamentos</th>\n",
       "      <th>Presentacion</th>\n",
       "      <th>Unidad de Medida</th>\n",
       "    </tr>\n",
       "  </thead>\n",
       "  <tbody>\n",
       "    <tr>\n",
       "      <th>0</th>\n",
       "      <td>Sevoflurano 100%. Solución para inhalación. Fr...</td>\n",
       "      <td>Frasco</td>\n",
       "      <td>Unidad</td>\n",
       "    </tr>\n",
       "    <tr>\n",
       "      <th>1</th>\n",
       "      <td>Isoflurano 100%. Solución para inhalación. Fra...</td>\n",
       "      <td>Frasco</td>\n",
       "      <td>Mililitro</td>\n",
       "    </tr>\n",
       "    <tr>\n",
       "      <th>2</th>\n",
       "      <td>Desflurano 100%. Solución para inhalación. Fra...</td>\n",
       "      <td>Frasco</td>\n",
       "      <td>Unidad</td>\n",
       "    </tr>\n",
       "    <tr>\n",
       "      <th>3</th>\n",
       "      <td>Ketana 50 mg/ml. Solución inyectable. Vial 10 ...</td>\n",
       "      <td>Vial</td>\n",
       "      <td>Unidad</td>\n",
       "    </tr>\n",
       "    <tr>\n",
       "      <th>4</th>\n",
       "      <td>Propofol 10 mg/ml. Emulsión inyectable, Jering...</td>\n",
       "      <td>Jeringa prellenada</td>\n",
       "      <td>Unidad</td>\n",
       "    </tr>\n",
       "    <tr>\n",
       "      <th>...</th>\n",
       "      <td>...</td>\n",
       "      <td>...</td>\n",
       "      <td>...</td>\n",
       "    </tr>\n",
       "    <tr>\n",
       "      <th>89</th>\n",
       "      <td>Diazepam 5 mg/ml.  Solución inyectable. Ampoll...</td>\n",
       "      <td>Ampolla</td>\n",
       "      <td>Unidad</td>\n",
       "    </tr>\n",
       "    <tr>\n",
       "      <th>90</th>\n",
       "      <td>Lorazepam 2 mg/ml. Solución inyectable. Ampoll...</td>\n",
       "      <td>Ampolla</td>\n",
       "      <td>Unidad</td>\n",
       "    </tr>\n",
       "    <tr>\n",
       "      <th>91</th>\n",
       "      <td>Surfactante Pulmonar (natural) 80 mg/1 mL. Sus...</td>\n",
       "      <td>Vial</td>\n",
       "      <td>Unidad</td>\n",
       "    </tr>\n",
       "    <tr>\n",
       "      <th>92</th>\n",
       "      <td>Surfactante Pulmonar (natural) 25mg/mL. Suspen...</td>\n",
       "      <td>Vial</td>\n",
       "      <td>Unidad</td>\n",
       "    </tr>\n",
       "    <tr>\n",
       "      <th>93</th>\n",
       "      <td>Ritodrina 10 mg/ml. Solución inyectable.  Ampo...</td>\n",
       "      <td>Ampolla</td>\n",
       "      <td>Unidad</td>\n",
       "    </tr>\n",
       "  </tbody>\n",
       "</table>\n",
       "<p>94 rows × 3 columns</p>\n",
       "</div>"
      ],
      "text/plain": [
       "                                         Medicamentos        Presentacion   \n",
       "0   Sevoflurano 100%. Solución para inhalación. Fr...              Frasco  \\\n",
       "1   Isoflurano 100%. Solución para inhalación. Fra...              Frasco   \n",
       "2   Desflurano 100%. Solución para inhalación. Fra...              Frasco   \n",
       "3   Ketana 50 mg/ml. Solución inyectable. Vial 10 ...                Vial   \n",
       "4   Propofol 10 mg/ml. Emulsión inyectable, Jering...  Jeringa prellenada   \n",
       "..                                                ...                 ...   \n",
       "89  Diazepam 5 mg/ml.  Solución inyectable. Ampoll...             Ampolla   \n",
       "90  Lorazepam 2 mg/ml. Solución inyectable. Ampoll...             Ampolla   \n",
       "91  Surfactante Pulmonar (natural) 80 mg/1 mL. Sus...                Vial   \n",
       "92  Surfactante Pulmonar (natural) 25mg/mL. Suspen...                Vial   \n",
       "93  Ritodrina 10 mg/ml. Solución inyectable.  Ampo...             Ampolla   \n",
       "\n",
       "   Unidad de Medida  \n",
       "0            Unidad  \n",
       "1         Mililitro  \n",
       "2            Unidad  \n",
       "3            Unidad  \n",
       "4            Unidad  \n",
       "..              ...  \n",
       "89           Unidad  \n",
       "90           Unidad  \n",
       "91           Unidad  \n",
       "92           Unidad  \n",
       "93           Unidad  \n",
       "\n",
       "[94 rows x 3 columns]"
      ]
     },
     "execution_count": 8,
     "metadata": {},
     "output_type": "execute_result"
    }
   ],
   "source": [
    "medicamentos_df = pd.DataFrame(textos_medicamentos)\n",
    "medicamentos_df[[\"Presentacion\",\"UNIDAD DE MEDIDA\"]] = medicamentos[[\"Presentación\",\"UNIDAD DE MEDIDA\"]]\n",
    "medicamentos_df.columns = ['Medicamentos', 'Presentacion','Unidad de Medida']\n",
    "medicamentos_df"
   ]
  },
  {
   "cell_type": "code",
   "execution_count": 9,
   "metadata": {},
   "outputs": [
    {
     "name": "stderr",
     "output_type": "stream",
     "text": [
      "[nltk_data] Downloading package punkt to\n",
      "[nltk_data]     C:\\Users\\paaldana\\AppData\\Roaming\\nltk_data...\n",
      "[nltk_data]   Package punkt is already up-to-date!\n",
      "[nltk_data] Downloading package stopwords to\n",
      "[nltk_data]     C:\\Users\\paaldana\\AppData\\Roaming\\nltk_data...\n",
      "[nltk_data]   Package stopwords is already up-to-date!\n"
     ]
    },
    {
     "name": "stdout",
     "output_type": "stream",
     "text": [
      "                                              Grupo_1   \n",
      "0   Sevoflurano 100%. Solución para inhalación. Fr...  \\\n",
      "1   Ketana 50 mg/ml. Solución inyectable. Vial 10 ...   \n",
      "2   Propofol 10 mg/ml. Emulsión inyectable, Jering...   \n",
      "3   Bupivacaina Pesada (Hiperbárica) . 0.50%. Solu...   \n",
      "4   Lidocaina Clorhidrato Con Epinefrina sin Prese...   \n",
      "5   Lidocaina dental sin Epinefrina 2%. Solución i...   \n",
      "6   Carbamazepina 200 mg. Tableta/Comprimido o Tab...   \n",
      "7   Fenitoina sódica (Difenilhidantoína sódica) 10...   \n",
      "8   Ácido Valproico 100 mg/ml. Solución Inyectable...   \n",
      "9   Ácido Valproico (valproato sódico) 250 mg/5mI....   \n",
      "10  Fenobarbital 100 mg. Tableta/Comprimido. Blist...   \n",
      "11  Carbonato de Litio 300 mg. Tableta/Comprimido ...   \n",
      "12  Flumazenil . 0.1mg/ml. Solución Inyectable. Am...   \n",
      "13  Deferasirox 250 mg.  Tableta dispersable/Compr...   \n",
      "14  Biperideno Clorhidrato 2 mg. Tableta/Comprimid...   \n",
      "15  Agua estéril para inyección (agua tridestilada...   \n",
      "16  Cloruro de Sodio ., 0.9%. Solución para Inhala...   \n",
      "17  Cloruro de Sodio ., 0.9%. Solución inyectable....   \n",
      "18  Anoácidos sin Electrolitos Pediátricos 10%, So...   \n",
      "19  Anoácidos para paciente hepático 10%, Solución...   \n",
      "20  Dextrosa , 5%. (Isotónica). Solución inyectabl...   \n",
      "21  Dextrosa , 10%. (Hipertónica). Solución inyect...   \n",
      "22  Lípidos 20 % MCT/LCT  Emulsión Frasco o Bolsa ...   \n",
      "23  Lipidos mctIctomega aceite de oliva para pacie...   \n",
      "24  Oligoelementos OIigoelementos.  Solución inyec...   \n",
      "25  Bicarbonato de Sodio . 7.50% (75 mg/ml).  Solu...   \n",
      "26  Solución No. (Dextrosa + Cloruro de Sodio) 2.5...   \n",
      "27  Poligelina con Electrolitos (Gelatina, Calcio,...   \n",
      "28  Sales de Rehidratación Oral (Cloruro de Sodio,...   \n",
      "29  Eritropoyetina Humana Recombinante , UI (Caden...   \n",
      "30  Carbetocina mcg 100 mcg/ml. Solución inyectabl...   \n",
      "31  Surfactante Pulmonar (natural) 25mg/mL. Suspen...   \n",
      "\n",
      "                                              Grupo_2   \n",
      "0   Isoflurano 100%. Solución para inhalación. Fra...  \\\n",
      "1   Magnesio Sulfato 50%.  Solución Inyectable.  A...   \n",
      "2   Bupivacaina Clorhidrato sin Epinefrina sin pre...   \n",
      "3   Naloxona . 0.4 mg/ml. Solución inyectable. Amp...   \n",
      "4   Lidocaina Clorhidrato sin Epinefrina con prese...   \n",
      "5   Lidocaina dental con Epinefrina  y :, 2% y 1:1...   \n",
      "6   Carbamazepina 400 mg. Tableta/Comprimido o Tab...   \n",
      "7   Clorpromazina 100 mg. Tableta/Comprimido o Tab...   \n",
      "8   Cloruro de Sodio . 0.9% Solución inyectable. M...   \n",
      "9   Ácido Valproico (valproato sódico) 500 mg. Tab...   \n",
      "10  Clozapina 100 mg. Tableta/Comprimido. Blister....   \n",
      "11  Quetiapina 300 mg. Tableta recubierta/Comprimi...   \n",
      "12  Cloruro de Potasio - 1g-1.5g. Solución inyecta...   \n",
      "13  Haloperidol 5 mg. Tableta/Comprimido o Tableta...   \n",
      "14  Clonazepam 2 mg. Tableta/Comprimido o Tableta ...   \n",
      "15  Agua estéril para inyección (agua tridestilada...   \n",
      "16  Cloruro de Sodio ., 0.9%. Solución para Inhala...   \n",
      "17  Cloruro de Sodio ., 0.9%. Solución inyectable....   \n",
      "18  Anoácidos sin electrolitos, sin ácido glutáco ...   \n",
      "19  Dextrosa , 10%. (Hipertónica). Solución inyect...   \n",
      "20  Dextrosa , 5%. (Isotónica).  Solución inyectab...   \n",
      "21  Dextrosa , 30%. (Hipertónica). Solución inyect...   \n",
      "22  Solución No. (Dextrosa + Cloruro de Sodio) 2.5...   \n",
      "23  Emulsión inyectable (para infusión o perfusión...   \n",
      "24  Ergonovina Maleato . 0.2 mg/ml. Solución inyec...   \n",
      "25  Magnesio Sulfato 50% Solución inyectable. Ampo...   \n",
      "26  Cloruro de Sodio + Dextrosa (Solución xta) . +...   \n",
      "27  Gelatina Succinilada  con electrolitos 4% Solu...   \n",
      "28  Carboximetilcisteina 50 mg/1 ml.  Solución Ora...   \n",
      "29  Eritropoyetina Humana Recombinante , UI ( sin ...   \n",
      "30  Diazepam 5 mg/ml.  Solución inyectable. Ampoll...   \n",
      "31                                               None   \n",
      "\n",
      "                                              Grupo_3  \n",
      "0   Desflurano 100%. Solución para inhalación. Fra...  \n",
      "1   Propofol 10 mg/ml. Emulsión inyectable, Jering...  \n",
      "2   Fenitoina sódica (Difenilhidantoína sódica) 50...  \n",
      "3   Ambroxol 7.5 mg/ml. Solución inyectable. Ampol...  \n",
      "4   Lidocaina Clorhidrato sin Epinefrina, sin pres...  \n",
      "5   Lorazepam 2 mg/ml. Solución inyectable. Ampoll...  \n",
      "6   Lamotrigina 100 mg. Tableta/Comprimido o Table...  \n",
      "7   Gabapentina 400 mg. Tableta/Comprimido o Table...  \n",
      "8   Fenobarbital 100 mg/ml. Solución inyectable. A...  \n",
      "9   Guayacolato de Glicerilo 100 mg/5 ml. Jarabe. ...  \n",
      "10  Alprazolam . 0.5 mg. Tableta/Comprimido. Blist...  \n",
      "11  Sertralina Hidrocloruro 50 mg. Tableta/Comprim...  \n",
      "12  Calcio Gluconato 10%. Solución inyectable.  Am...  \n",
      "13  Risperidona 2 mg. Tableta recubierta/Comprimid...  \n",
      "14  Olanzapina 10 mg. Tableta recubierta/Comprimid...  \n",
      "15  Ritodrina 10 mg/ml. Solución inyectable.  Ampo...  \n",
      "16  Cloruro de Sodio 20% (0.2g/ml). Solución inyec...  \n",
      "17  Cloruro de Sodio . 0.45% Solución inyectable. ...  \n",
      "18  Anoácidos con Electrolitos Aminoácidos con Ele...  \n",
      "19  Dextrosa , 5%. (Isotónica).  Solución inyectab...  \n",
      "20  Dextrosa , 10%. (Hipertónica). Solución inyect...  \n",
      "21  Dextrosa , 50%. (Hipertónica). Solución inyect...  \n",
      "22  Solución No. (Dextrosa + Cloruro de Sodio) 3.3...  \n",
      "23  Emulsión inyectable (para infusión o perfusión...  \n",
      "24  Haloperidol 5 mg/ml. Solución Inyectable. Ampo...  \n",
      "25  Solución No. (Dextrosa + Cloruro de Sodio) 3.3...  \n",
      "26  Cloruro de Sodio + Dextrosa (Solución xta) . +...  \n",
      "27  Hidroxietil Aldón 6% Solución inyectable. Fras...  \n",
      "28  Bromhexina 4 mg/5 ml.  Solución oral o Jarabe....  \n",
      "29  Oxitocina Sintética UI. 5 UI/ml. Solución inye...  \n",
      "30  Surfactante Pulmonar (natural) 80 mg/1 mL. Sus...  \n",
      "31                                               None  \n"
     ]
    }
   ],
   "source": [
    "import nltk\n",
    "from nltk.tokenize import word_tokenize\n",
    "from nltk.corpus import stopwords\n",
    "from nltk.stem import PorterStemmer\n",
    "from nltk.metrics import jaccard_distance\n",
    "from itertools import combinations\n",
    "from collections import defaultdict\n",
    "\n",
    "nltk.download('punkt')\n",
    "nltk.download('stopwords')\n",
    "\n",
    "# Lista de párrafos de ejemplo\n",
    "#lista_medicamentos\n",
    "\n",
    "# Preparación de texto: tokenización, eliminación de stopwords y stemming\n",
    "def preparacion_texto(text):\n",
    "    tokens = word_tokenize(text)\n",
    "    tokens = [token.lower() for token in tokens if token.isalnum()]\n",
    "    stopwords_set = set(stopwords.words(\"spanish\"))\n",
    "    tokens = [token for token in tokens if token not in stopwords_set]\n",
    "    stemmer = PorterStemmer()\n",
    "    tokens = [stemmer.stem(token) for token in tokens]\n",
    "    return tokens\n",
    "\n",
    "# Calcula la distancia de Jaccard entre dos listas de tokens\n",
    "def jaccard_similarity(tokens1, tokens2):\n",
    "    set1 = set(tokens1)\n",
    "    set2 = set(tokens2)\n",
    "    return 1 - jaccard_distance(set1, set2)\n",
    "\n",
    "# Calcula las similitudes entre todos los pares de párrafos\n",
    "similitudes = defaultdict(list)\n",
    "\n",
    "textos_medicamentos = medicamentos_df[\"Medicamentos\"]\n",
    "\n",
    "for i, j in combinations(range(len(textos_medicamentos)), 2):\n",
    "    tokens_i = preparacion_texto(textos_medicamentos[i])\n",
    "    tokens_j = preparacion_texto(textos_medicamentos[j])\n",
    "    similares = jaccard_similarity(tokens_i, tokens_j)\n",
    "    similitudes[i].append((j, similares))\n",
    "    similitudes[j].append((i, similares))\n",
    "\n",
    "# Agrupa los párrafos basados en similitud\n",
    "grupos = []\n",
    "visitados = set()\n",
    "for i in range(len(textos_medicamentos)):\n",
    "    if i not in visitados:\n",
    "        grupo = [i]\n",
    "        visitados.add(i)\n",
    "        for j, similares in sorted(similitudes[i], key=lambda x: x[1], reverse=True):\n",
    "            if j not in visitados:\n",
    "                grupo.append(j)\n",
    "                visitados.add(j)\n",
    "            if len(grupo) == 3:\n",
    "                break\n",
    "        grupos.append(grupo)\n",
    "\n",
    "\n",
    "salida_data = []\n",
    "\n",
    "# Imprime los grupos resultantes\n",
    "for grupo in grupos:\n",
    "    grupo_texto = [textos_medicamentos[idx] for idx in grupo]\n",
    "    salida_data.append(grupo_texto)\n",
    "    \n",
    "\n",
    "columnas_salida = [\"Grupo_\" + str(i+1) for i in range(3)]\n",
    "salida_df = pd.DataFrame(salida_data, columns=columnas_salida)    \n",
    "\n",
    "# Imprimir el DataFrame de salida\n",
    "print(salida_df)"
   ]
  },
  {
   "cell_type": "code",
   "execution_count": 10,
   "metadata": {},
   "outputs": [
    {
     "data": {
      "text/html": [
       "<div>\n",
       "<style scoped>\n",
       "    .dataframe tbody tr th:only-of-type {\n",
       "        vertical-align: middle;\n",
       "    }\n",
       "\n",
       "    .dataframe tbody tr th {\n",
       "        vertical-align: top;\n",
       "    }\n",
       "\n",
       "    .dataframe thead th {\n",
       "        text-align: right;\n",
       "    }\n",
       "</style>\n",
       "<table border=\"1\" class=\"dataframe\">\n",
       "  <thead>\n",
       "    <tr style=\"text-align: right;\">\n",
       "      <th></th>\n",
       "      <th>Grupo_1</th>\n",
       "      <th>Grupo_2</th>\n",
       "      <th>Grupo_3</th>\n",
       "    </tr>\n",
       "  </thead>\n",
       "  <tbody>\n",
       "    <tr>\n",
       "      <th>0</th>\n",
       "      <td>Sevoflurano 100%. Solución para inhalación. Fr...</td>\n",
       "      <td>Isoflurano 100%. Solución para inhalación. Fra...</td>\n",
       "      <td>Desflurano 100%. Solución para inhalación. Fra...</td>\n",
       "    </tr>\n",
       "    <tr>\n",
       "      <th>1</th>\n",
       "      <td>Ketana 50 mg/ml. Solución inyectable. Vial 10 ...</td>\n",
       "      <td>Magnesio Sulfato 50%.  Solución Inyectable.  A...</td>\n",
       "      <td>Propofol 10 mg/ml. Emulsión inyectable, Jering...</td>\n",
       "    </tr>\n",
       "    <tr>\n",
       "      <th>2</th>\n",
       "      <td>Propofol 10 mg/ml. Emulsión inyectable, Jering...</td>\n",
       "      <td>Bupivacaina Clorhidrato sin Epinefrina sin pre...</td>\n",
       "      <td>Fenitoina sódica (Difenilhidantoína sódica) 50...</td>\n",
       "    </tr>\n",
       "    <tr>\n",
       "      <th>3</th>\n",
       "      <td>Bupivacaina Pesada (Hiperbárica) . 0.50%. Solu...</td>\n",
       "      <td>Naloxona . 0.4 mg/ml. Solución inyectable. Amp...</td>\n",
       "      <td>Ambroxol 7.5 mg/ml. Solución inyectable. Ampol...</td>\n",
       "    </tr>\n",
       "    <tr>\n",
       "      <th>4</th>\n",
       "      <td>Lidocaina Clorhidrato Con Epinefrina sin Prese...</td>\n",
       "      <td>Lidocaina Clorhidrato sin Epinefrina con prese...</td>\n",
       "      <td>Lidocaina Clorhidrato sin Epinefrina, sin pres...</td>\n",
       "    </tr>\n",
       "    <tr>\n",
       "      <th>5</th>\n",
       "      <td>Lidocaina dental sin Epinefrina 2%. Solución i...</td>\n",
       "      <td>Lidocaina dental con Epinefrina  y :, 2% y 1:1...</td>\n",
       "      <td>Lorazepam 2 mg/ml. Solución inyectable. Ampoll...</td>\n",
       "    </tr>\n",
       "    <tr>\n",
       "      <th>6</th>\n",
       "      <td>Carbamazepina 200 mg. Tableta/Comprimido o Tab...</td>\n",
       "      <td>Carbamazepina 400 mg. Tableta/Comprimido o Tab...</td>\n",
       "      <td>Lamotrigina 100 mg. Tableta/Comprimido o Table...</td>\n",
       "    </tr>\n",
       "    <tr>\n",
       "      <th>7</th>\n",
       "      <td>Fenitoina sódica (Difenilhidantoína sódica) 10...</td>\n",
       "      <td>Clorpromazina 100 mg. Tableta/Comprimido o Tab...</td>\n",
       "      <td>Gabapentina 400 mg. Tableta/Comprimido o Table...</td>\n",
       "    </tr>\n",
       "    <tr>\n",
       "      <th>8</th>\n",
       "      <td>Ácido Valproico 100 mg/ml. Solución Inyectable...</td>\n",
       "      <td>Cloruro de Sodio . 0.9% Solución inyectable. M...</td>\n",
       "      <td>Fenobarbital 100 mg/ml. Solución inyectable. A...</td>\n",
       "    </tr>\n",
       "    <tr>\n",
       "      <th>9</th>\n",
       "      <td>Ácido Valproico (valproato sódico) 250 mg/5mI....</td>\n",
       "      <td>Ácido Valproico (valproato sódico) 500 mg. Tab...</td>\n",
       "      <td>Guayacolato de Glicerilo 100 mg/5 ml. Jarabe. ...</td>\n",
       "    </tr>\n",
       "    <tr>\n",
       "      <th>10</th>\n",
       "      <td>Fenobarbital 100 mg. Tableta/Comprimido. Blist...</td>\n",
       "      <td>Clozapina 100 mg. Tableta/Comprimido. Blister....</td>\n",
       "      <td>Alprazolam . 0.5 mg. Tableta/Comprimido. Blist...</td>\n",
       "    </tr>\n",
       "    <tr>\n",
       "      <th>11</th>\n",
       "      <td>Carbonato de Litio 300 mg. Tableta/Comprimido ...</td>\n",
       "      <td>Quetiapina 300 mg. Tableta recubierta/Comprimi...</td>\n",
       "      <td>Sertralina Hidrocloruro 50 mg. Tableta/Comprim...</td>\n",
       "    </tr>\n",
       "    <tr>\n",
       "      <th>12</th>\n",
       "      <td>Flumazenil . 0.1mg/ml. Solución Inyectable. Am...</td>\n",
       "      <td>Cloruro de Potasio - 1g-1.5g. Solución inyecta...</td>\n",
       "      <td>Calcio Gluconato 10%. Solución inyectable.  Am...</td>\n",
       "    </tr>\n",
       "    <tr>\n",
       "      <th>13</th>\n",
       "      <td>Deferasirox 250 mg.  Tableta dispersable/Compr...</td>\n",
       "      <td>Haloperidol 5 mg. Tableta/Comprimido o Tableta...</td>\n",
       "      <td>Risperidona 2 mg. Tableta recubierta/Comprimid...</td>\n",
       "    </tr>\n",
       "    <tr>\n",
       "      <th>14</th>\n",
       "      <td>Biperideno Clorhidrato 2 mg. Tableta/Comprimid...</td>\n",
       "      <td>Clonazepam 2 mg. Tableta/Comprimido o Tableta ...</td>\n",
       "      <td>Olanzapina 10 mg. Tableta recubierta/Comprimid...</td>\n",
       "    </tr>\n",
       "    <tr>\n",
       "      <th>15</th>\n",
       "      <td>Agua estéril para inyección (agua tridestilada...</td>\n",
       "      <td>Agua estéril para inyección (agua tridestilada...</td>\n",
       "      <td>Ritodrina 10 mg/ml. Solución inyectable.  Ampo...</td>\n",
       "    </tr>\n",
       "    <tr>\n",
       "      <th>16</th>\n",
       "      <td>Cloruro de Sodio ., 0.9%. Solución para Inhala...</td>\n",
       "      <td>Cloruro de Sodio ., 0.9%. Solución para Inhala...</td>\n",
       "      <td>Cloruro de Sodio 20% (0.2g/ml). Solución inyec...</td>\n",
       "    </tr>\n",
       "    <tr>\n",
       "      <th>17</th>\n",
       "      <td>Cloruro de Sodio ., 0.9%. Solución inyectable....</td>\n",
       "      <td>Cloruro de Sodio ., 0.9%. Solución inyectable....</td>\n",
       "      <td>Cloruro de Sodio . 0.45% Solución inyectable. ...</td>\n",
       "    </tr>\n",
       "    <tr>\n",
       "      <th>18</th>\n",
       "      <td>Anoácidos sin Electrolitos Pediátricos 10%, So...</td>\n",
       "      <td>Anoácidos sin electrolitos, sin ácido glutáco ...</td>\n",
       "      <td>Anoácidos con Electrolitos Aminoácidos con Ele...</td>\n",
       "    </tr>\n",
       "    <tr>\n",
       "      <th>19</th>\n",
       "      <td>Anoácidos para paciente hepático 10%, Solución...</td>\n",
       "      <td>Dextrosa , 10%. (Hipertónica). Solución inyect...</td>\n",
       "      <td>Dextrosa , 5%. (Isotónica).  Solución inyectab...</td>\n",
       "    </tr>\n",
       "    <tr>\n",
       "      <th>20</th>\n",
       "      <td>Dextrosa , 5%. (Isotónica). Solución inyectabl...</td>\n",
       "      <td>Dextrosa , 5%. (Isotónica).  Solución inyectab...</td>\n",
       "      <td>Dextrosa , 10%. (Hipertónica). Solución inyect...</td>\n",
       "    </tr>\n",
       "    <tr>\n",
       "      <th>21</th>\n",
       "      <td>Dextrosa , 10%. (Hipertónica). Solución inyect...</td>\n",
       "      <td>Dextrosa , 30%. (Hipertónica). Solución inyect...</td>\n",
       "      <td>Dextrosa , 50%. (Hipertónica). Solución inyect...</td>\n",
       "    </tr>\n",
       "    <tr>\n",
       "      <th>22</th>\n",
       "      <td>Lípidos 20 % MCT/LCT  Emulsión Frasco o Bolsa ...</td>\n",
       "      <td>Solución No. (Dextrosa + Cloruro de Sodio) 2.5...</td>\n",
       "      <td>Solución No. (Dextrosa + Cloruro de Sodio) 3.3...</td>\n",
       "    </tr>\n",
       "    <tr>\n",
       "      <th>23</th>\n",
       "      <td>Lipidos mctIctomega aceite de oliva para pacie...</td>\n",
       "      <td>Emulsión inyectable (para infusión o perfusión...</td>\n",
       "      <td>Emulsión inyectable (para infusión o perfusión...</td>\n",
       "    </tr>\n",
       "    <tr>\n",
       "      <th>24</th>\n",
       "      <td>Oligoelementos OIigoelementos.  Solución inyec...</td>\n",
       "      <td>Ergonovina Maleato . 0.2 mg/ml. Solución inyec...</td>\n",
       "      <td>Haloperidol 5 mg/ml. Solución Inyectable. Ampo...</td>\n",
       "    </tr>\n",
       "    <tr>\n",
       "      <th>25</th>\n",
       "      <td>Bicarbonato de Sodio . 7.50% (75 mg/ml).  Solu...</td>\n",
       "      <td>Magnesio Sulfato 50% Solución inyectable. Ampo...</td>\n",
       "      <td>Solución No. (Dextrosa + Cloruro de Sodio) 3.3...</td>\n",
       "    </tr>\n",
       "    <tr>\n",
       "      <th>26</th>\n",
       "      <td>Solución No. (Dextrosa + Cloruro de Sodio) 2.5...</td>\n",
       "      <td>Cloruro de Sodio + Dextrosa (Solución xta) . +...</td>\n",
       "      <td>Cloruro de Sodio + Dextrosa (Solución xta) . +...</td>\n",
       "    </tr>\n",
       "    <tr>\n",
       "      <th>27</th>\n",
       "      <td>Poligelina con Electrolitos (Gelatina, Calcio,...</td>\n",
       "      <td>Gelatina Succinilada  con electrolitos 4% Solu...</td>\n",
       "      <td>Hidroxietil Aldón 6% Solución inyectable. Fras...</td>\n",
       "    </tr>\n",
       "    <tr>\n",
       "      <th>28</th>\n",
       "      <td>Sales de Rehidratación Oral (Cloruro de Sodio,...</td>\n",
       "      <td>Carboximetilcisteina 50 mg/1 ml.  Solución Ora...</td>\n",
       "      <td>Bromhexina 4 mg/5 ml.  Solución oral o Jarabe....</td>\n",
       "    </tr>\n",
       "    <tr>\n",
       "      <th>29</th>\n",
       "      <td>Eritropoyetina Humana Recombinante , UI (Caden...</td>\n",
       "      <td>Eritropoyetina Humana Recombinante , UI ( sin ...</td>\n",
       "      <td>Oxitocina Sintética UI. 5 UI/ml. Solución inye...</td>\n",
       "    </tr>\n",
       "    <tr>\n",
       "      <th>30</th>\n",
       "      <td>Carbetocina mcg 100 mcg/ml. Solución inyectabl...</td>\n",
       "      <td>Diazepam 5 mg/ml.  Solución inyectable. Ampoll...</td>\n",
       "      <td>Surfactante Pulmonar (natural) 80 mg/1 mL. Sus...</td>\n",
       "    </tr>\n",
       "    <tr>\n",
       "      <th>31</th>\n",
       "      <td>Surfactante Pulmonar (natural) 25mg/mL. Suspen...</td>\n",
       "      <td>None</td>\n",
       "      <td>None</td>\n",
       "    </tr>\n",
       "  </tbody>\n",
       "</table>\n",
       "</div>"
      ],
      "text/plain": [
       "                                              Grupo_1   \n",
       "0   Sevoflurano 100%. Solución para inhalación. Fr...  \\\n",
       "1   Ketana 50 mg/ml. Solución inyectable. Vial 10 ...   \n",
       "2   Propofol 10 mg/ml. Emulsión inyectable, Jering...   \n",
       "3   Bupivacaina Pesada (Hiperbárica) . 0.50%. Solu...   \n",
       "4   Lidocaina Clorhidrato Con Epinefrina sin Prese...   \n",
       "5   Lidocaina dental sin Epinefrina 2%. Solución i...   \n",
       "6   Carbamazepina 200 mg. Tableta/Comprimido o Tab...   \n",
       "7   Fenitoina sódica (Difenilhidantoína sódica) 10...   \n",
       "8   Ácido Valproico 100 mg/ml. Solución Inyectable...   \n",
       "9   Ácido Valproico (valproato sódico) 250 mg/5mI....   \n",
       "10  Fenobarbital 100 mg. Tableta/Comprimido. Blist...   \n",
       "11  Carbonato de Litio 300 mg. Tableta/Comprimido ...   \n",
       "12  Flumazenil . 0.1mg/ml. Solución Inyectable. Am...   \n",
       "13  Deferasirox 250 mg.  Tableta dispersable/Compr...   \n",
       "14  Biperideno Clorhidrato 2 mg. Tableta/Comprimid...   \n",
       "15  Agua estéril para inyección (agua tridestilada...   \n",
       "16  Cloruro de Sodio ., 0.9%. Solución para Inhala...   \n",
       "17  Cloruro de Sodio ., 0.9%. Solución inyectable....   \n",
       "18  Anoácidos sin Electrolitos Pediátricos 10%, So...   \n",
       "19  Anoácidos para paciente hepático 10%, Solución...   \n",
       "20  Dextrosa , 5%. (Isotónica). Solución inyectabl...   \n",
       "21  Dextrosa , 10%. (Hipertónica). Solución inyect...   \n",
       "22  Lípidos 20 % MCT/LCT  Emulsión Frasco o Bolsa ...   \n",
       "23  Lipidos mctIctomega aceite de oliva para pacie...   \n",
       "24  Oligoelementos OIigoelementos.  Solución inyec...   \n",
       "25  Bicarbonato de Sodio . 7.50% (75 mg/ml).  Solu...   \n",
       "26  Solución No. (Dextrosa + Cloruro de Sodio) 2.5...   \n",
       "27  Poligelina con Electrolitos (Gelatina, Calcio,...   \n",
       "28  Sales de Rehidratación Oral (Cloruro de Sodio,...   \n",
       "29  Eritropoyetina Humana Recombinante , UI (Caden...   \n",
       "30  Carbetocina mcg 100 mcg/ml. Solución inyectabl...   \n",
       "31  Surfactante Pulmonar (natural) 25mg/mL. Suspen...   \n",
       "\n",
       "                                              Grupo_2   \n",
       "0   Isoflurano 100%. Solución para inhalación. Fra...  \\\n",
       "1   Magnesio Sulfato 50%.  Solución Inyectable.  A...   \n",
       "2   Bupivacaina Clorhidrato sin Epinefrina sin pre...   \n",
       "3   Naloxona . 0.4 mg/ml. Solución inyectable. Amp...   \n",
       "4   Lidocaina Clorhidrato sin Epinefrina con prese...   \n",
       "5   Lidocaina dental con Epinefrina  y :, 2% y 1:1...   \n",
       "6   Carbamazepina 400 mg. Tableta/Comprimido o Tab...   \n",
       "7   Clorpromazina 100 mg. Tableta/Comprimido o Tab...   \n",
       "8   Cloruro de Sodio . 0.9% Solución inyectable. M...   \n",
       "9   Ácido Valproico (valproato sódico) 500 mg. Tab...   \n",
       "10  Clozapina 100 mg. Tableta/Comprimido. Blister....   \n",
       "11  Quetiapina 300 mg. Tableta recubierta/Comprimi...   \n",
       "12  Cloruro de Potasio - 1g-1.5g. Solución inyecta...   \n",
       "13  Haloperidol 5 mg. Tableta/Comprimido o Tableta...   \n",
       "14  Clonazepam 2 mg. Tableta/Comprimido o Tableta ...   \n",
       "15  Agua estéril para inyección (agua tridestilada...   \n",
       "16  Cloruro de Sodio ., 0.9%. Solución para Inhala...   \n",
       "17  Cloruro de Sodio ., 0.9%. Solución inyectable....   \n",
       "18  Anoácidos sin electrolitos, sin ácido glutáco ...   \n",
       "19  Dextrosa , 10%. (Hipertónica). Solución inyect...   \n",
       "20  Dextrosa , 5%. (Isotónica).  Solución inyectab...   \n",
       "21  Dextrosa , 30%. (Hipertónica). Solución inyect...   \n",
       "22  Solución No. (Dextrosa + Cloruro de Sodio) 2.5...   \n",
       "23  Emulsión inyectable (para infusión o perfusión...   \n",
       "24  Ergonovina Maleato . 0.2 mg/ml. Solución inyec...   \n",
       "25  Magnesio Sulfato 50% Solución inyectable. Ampo...   \n",
       "26  Cloruro de Sodio + Dextrosa (Solución xta) . +...   \n",
       "27  Gelatina Succinilada  con electrolitos 4% Solu...   \n",
       "28  Carboximetilcisteina 50 mg/1 ml.  Solución Ora...   \n",
       "29  Eritropoyetina Humana Recombinante , UI ( sin ...   \n",
       "30  Diazepam 5 mg/ml.  Solución inyectable. Ampoll...   \n",
       "31                                               None   \n",
       "\n",
       "                                              Grupo_3  \n",
       "0   Desflurano 100%. Solución para inhalación. Fra...  \n",
       "1   Propofol 10 mg/ml. Emulsión inyectable, Jering...  \n",
       "2   Fenitoina sódica (Difenilhidantoína sódica) 50...  \n",
       "3   Ambroxol 7.5 mg/ml. Solución inyectable. Ampol...  \n",
       "4   Lidocaina Clorhidrato sin Epinefrina, sin pres...  \n",
       "5   Lorazepam 2 mg/ml. Solución inyectable. Ampoll...  \n",
       "6   Lamotrigina 100 mg. Tableta/Comprimido o Table...  \n",
       "7   Gabapentina 400 mg. Tableta/Comprimido o Table...  \n",
       "8   Fenobarbital 100 mg/ml. Solución inyectable. A...  \n",
       "9   Guayacolato de Glicerilo 100 mg/5 ml. Jarabe. ...  \n",
       "10  Alprazolam . 0.5 mg. Tableta/Comprimido. Blist...  \n",
       "11  Sertralina Hidrocloruro 50 mg. Tableta/Comprim...  \n",
       "12  Calcio Gluconato 10%. Solución inyectable.  Am...  \n",
       "13  Risperidona 2 mg. Tableta recubierta/Comprimid...  \n",
       "14  Olanzapina 10 mg. Tableta recubierta/Comprimid...  \n",
       "15  Ritodrina 10 mg/ml. Solución inyectable.  Ampo...  \n",
       "16  Cloruro de Sodio 20% (0.2g/ml). Solución inyec...  \n",
       "17  Cloruro de Sodio . 0.45% Solución inyectable. ...  \n",
       "18  Anoácidos con Electrolitos Aminoácidos con Ele...  \n",
       "19  Dextrosa , 5%. (Isotónica).  Solución inyectab...  \n",
       "20  Dextrosa , 10%. (Hipertónica). Solución inyect...  \n",
       "21  Dextrosa , 50%. (Hipertónica). Solución inyect...  \n",
       "22  Solución No. (Dextrosa + Cloruro de Sodio) 3.3...  \n",
       "23  Emulsión inyectable (para infusión o perfusión...  \n",
       "24  Haloperidol 5 mg/ml. Solución Inyectable. Ampo...  \n",
       "25  Solución No. (Dextrosa + Cloruro de Sodio) 3.3...  \n",
       "26  Cloruro de Sodio + Dextrosa (Solución xta) . +...  \n",
       "27  Hidroxietil Aldón 6% Solución inyectable. Fras...  \n",
       "28  Bromhexina 4 mg/5 ml.  Solución oral o Jarabe....  \n",
       "29  Oxitocina Sintética UI. 5 UI/ml. Solución inye...  \n",
       "30  Surfactante Pulmonar (natural) 80 mg/1 mL. Sus...  \n",
       "31                                               None  "
      ]
     },
     "execution_count": 10,
     "metadata": {},
     "output_type": "execute_result"
    }
   ],
   "source": [
    "salida_df"
   ]
  },
  {
   "cell_type": "code",
   "execution_count": 11,
   "metadata": {},
   "outputs": [],
   "source": [
    "salida_df.to_excel(\"archivo_salida.xlsx\", sheet_name=\"Hoja1\", index=False)\n"
   ]
  },
  {
   "cell_type": "code",
   "execution_count": 12,
   "metadata": {},
   "outputs": [
    {
     "data": {
      "image/png": "[encoded data removed]",
      "text/plain": [
       "<Figure size 800x800 with 1 Axes>"
      ]
     },
     "metadata": {},
     "output_type": "display_data"
    }
   ],
   "source": [
    "from wordcloud import WordCloud, STOPWORDS\n",
    "import pandas as pd\n",
    "from wordcloud import WordCloud\n",
    "import matplotlib.pyplot as plt\n",
    "\n",
    "texto = ' '.join([str(row) for row in salida_df['Grupo_1']]) + ' ' + \\\n",
    "        ' '.join([str(row) for row in salida_df['Grupo_2']]) + ' ' + \\\n",
    "        ' '.join([str(row) for row in salida_df['Grupo_3']])\n",
    "\n",
    "stopwords = set(STOPWORDS)\n",
    "stopwords.update(['cotizar', 'por', 'cotizar por'])\n",
    "\n",
    "wordcloud = WordCloud(width=800, height=800,\n",
    "                      background_color='white',\n",
    "                      stopwords=stopwords,\n",
    "                      min_font_size=10).generate(texto)\n",
    "\n",
    "plt.figure(figsize=(8, 8), facecolor=None)\n",
    "plt.imshow(wordcloud)\n",
    "plt.axis(\"off\")\n",
    "plt.tight_layout(pad=0)\n",
    "plt.show()\n"
   ]
  }
 ],
 "metadata": {
  "kernelspec": {
   "display_name": "Python 3",
   "language": "python",
   "name": "python3"
  },
  "language_info": {
   "codemirror_mode": {
    "name": "ipython",
    "version": 3
   },
   "file_extension": ".py",
   "mimetype": "text/x-python",
   "name": "python",
   "nbconvert_exporter": "python",
   "pygments_lexer": "ipython3",
   "version": "3.10.11"
  },
  "orig_nbformat": 4
 },
 "nbformat": 4,
 "nbformat_minor": 2
}
