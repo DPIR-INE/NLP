{
 "cells": [
  {
   "cell_type": "code",
   "execution_count": 100,
   "metadata": {},
   "outputs": [
    {
     "data": {
      "text/html": [
       "<div>\n",
       "<style scoped>\n",
       "    .dataframe tbody tr th:only-of-type {\n",
       "        vertical-align: middle;\n",
       "    }\n",
       "\n",
       "    .dataframe tbody tr th {\n",
       "        vertical-align: top;\n",
       "    }\n",
       "\n",
       "    .dataframe thead th {\n",
       "        text-align: right;\n",
       "    }\n",
       "</style>\n",
       "<table border=\"1\" class=\"dataframe\">\n",
       "  <thead>\n",
       "    <tr style=\"text-align: right;\">\n",
       "      <th></th>\n",
       "      <th>Responsable</th>\n",
       "      <th>Renglón</th>\n",
       "      <th>Cód-INE</th>\n",
       "      <th>NOMBRE</th>\n",
       "      <th>CARACTERÍSTICAS SOLICITADAS</th>\n",
       "      <th>Presentación</th>\n",
       "      <th>CANTIDAD ESTIMADA 24 MESES MSPAS</th>\n",
       "      <th>VIA DE ADMINISTRACIÓN</th>\n",
       "      <th>UNIDAD DE MEDIDA</th>\n",
       "      <th>RENGLÓN</th>\n",
       "      <th>AREA</th>\n",
       "      <th>CORRELATIVO</th>\n",
       "      <th>RUBRO</th>\n",
       "      <th>REQUIERE REGISTRA SANITARIO</th>\n",
       "      <th>Observaciones</th>\n",
       "    </tr>\n",
       "  </thead>\n",
       "  <tbody>\n",
       "    <tr>\n",
       "      <th>0</th>\n",
       "      <td>dANY</td>\n",
       "      <td>1</td>\n",
       "      <td>475-016</td>\n",
       "      <td>Sevoflurano 100%</td>\n",
       "      <td>100%. Solución para inhalación. Frasco 250 ml....</td>\n",
       "      <td>Frasco</td>\n",
       "      <td>13400</td>\n",
       "      <td>INHALATORIA</td>\n",
       "      <td>Unidad</td>\n",
       "      <td>266</td>\n",
       "      <td>4</td>\n",
       "      <td>41</td>\n",
       "      <td>ANESTESICOS GENERALES Y/O INDUCTORES</td>\n",
       "      <td>SI</td>\n",
       "      <td>NaN</td>\n",
       "    </tr>\n",
       "    <tr>\n",
       "      <th>1</th>\n",
       "      <td>dANY</td>\n",
       "      <td>2</td>\n",
       "      <td>476-028</td>\n",
       "      <td>Isoflurano 100%</td>\n",
       "      <td>100%. Solución para inhalación. Frasco 100-250...</td>\n",
       "      <td>Frasco</td>\n",
       "      <td>700000</td>\n",
       "      <td>INHALATORIA</td>\n",
       "      <td>Mililitro</td>\n",
       "      <td>266</td>\n",
       "      <td>4</td>\n",
       "      <td>81</td>\n",
       "      <td>ANESTESICOS GENERALES Y/O INDUCTORES</td>\n",
       "      <td>SI</td>\n",
       "      <td>NaN</td>\n",
       "    </tr>\n",
       "    <tr>\n",
       "      <th>2</th>\n",
       "      <td>dANY</td>\n",
       "      <td>3</td>\n",
       "      <td>477-016</td>\n",
       "      <td>Desflurano 100%</td>\n",
       "      <td>100%. Solución para inhalación. Frasco 240 ml....</td>\n",
       "      <td>Frasco</td>\n",
       "      <td>1100</td>\n",
       "      <td>INHALATORIA</td>\n",
       "      <td>Unidad</td>\n",
       "      <td>266</td>\n",
       "      <td>4</td>\n",
       "      <td>221</td>\n",
       "      <td>ANESTESICOS GENERALES Y/O INDUCTORES</td>\n",
       "      <td>SI</td>\n",
       "      <td>NaN</td>\n",
       "    </tr>\n",
       "  </tbody>\n",
       "</table>\n",
       "</div>"
      ],
      "text/plain": [
       "  Responsable  Renglón  Cód-INE            NOMBRE   \n",
       "0        dANY        1  475-016  Sevoflurano 100%  \\\n",
       "1        dANY        2  476-028   Isoflurano 100%   \n",
       "2        dANY        3  477-016   Desflurano 100%   \n",
       "\n",
       "                         CARACTERÍSTICAS SOLICITADAS Presentación   \n",
       "0  100%. Solución para inhalación. Frasco 250 ml....       Frasco  \\\n",
       "1  100%. Solución para inhalación. Frasco 100-250...       Frasco   \n",
       "2  100%. Solución para inhalación. Frasco 240 ml....       Frasco   \n",
       "\n",
       "  CANTIDAD ESTIMADA 24 MESES MSPAS VIA DE ADMINISTRACIÓN UNIDAD DE MEDIDA   \n",
       "0                            13400           INHALATORIA           Unidad  \\\n",
       "1                           700000           INHALATORIA        Mililitro   \n",
       "2                             1100           INHALATORIA           Unidad   \n",
       "\n",
       "   RENGLÓN  AREA  CORRELATIVO                                 RUBRO   \n",
       "0      266     4           41  ANESTESICOS GENERALES Y/O INDUCTORES  \\\n",
       "1      266     4           81  ANESTESICOS GENERALES Y/O INDUCTORES   \n",
       "2      266     4          221  ANESTESICOS GENERALES Y/O INDUCTORES   \n",
       "\n",
       "  REQUIERE REGISTRA SANITARIO Observaciones  \n",
       "0                          SI           NaN  \n",
       "1                          SI           NaN  \n",
       "2                          SI           NaN  "
      ]
     },
     "execution_count": 100,
     "metadata": {},
     "output_type": "execute_result"
    }
   ],
   "source": [
    "import numpy as np\n",
    "import pandas as pd\n",
    "import spacy\n",
    "from spacy.tokens import Doc, Span\n",
    "\n",
    "archivo = pd.read_excel(\"listado de especificaciones para proyecto.xlsx\", sheet_name= \"Especificaciones sin código ine\")\n",
    "medicamentos = archivo\n",
    "medicamentos.head(3)\n"
   ]
  },
  {
   "cell_type": "code",
   "execution_count": 101,
   "metadata": {},
   "outputs": [],
   "source": [
    "lista_medicamentos = medicamentos[\"CARACTERÍSTICAS SOLICITADAS\"].tolist()"
   ]
  },
  {
   "cell_type": "code",
   "execution_count": 102,
   "metadata": {},
   "outputs": [],
   "source": [
    "nombre_medicamentos = medicamentos[\"NOMBRE\"].tolist()"
   ]
  },
  {
   "cell_type": "code",
   "execution_count": 103,
   "metadata": {},
   "outputs": [
    {
     "name": "stdout",
     "output_type": "stream",
     "text": [
      "<class 'list'>\n"
     ]
    }
   ],
   "source": [
    "print(type(nombre_medicamentos))"
   ]
  },
  {
   "cell_type": "code",
   "execution_count": null,
   "metadata": {},
   "outputs": [],
   "source": [
    "pip install unidecode"
   ]
  },
  {
   "cell_type": "code",
   "execution_count": 104,
   "metadata": {},
   "outputs": [],
   "source": [
    "import re\n",
    "from unidecode import unidecode  # Importa la función unidecode\n",
    "\n",
    "\n",
    "def clean_medicamento(nombre):\n",
    "    nombre = unidecode(nombre)  # Elimina las tildes\n",
    "    nombre_limpio = re.sub(r'\\d+', '', nombre)  # Elimina números\n",
    "    nombre_limpio = re.sub(r'\\s+', ' ', nombre_limpio)  # Elimina espacios en exceso\n",
    "    nombre_limpio = re.sub(r'%|/|mg|ml|mL|\\:|\\(|\\)|\\.|,|\\.\\s|,\\s|\\s\\+|\\s*,|\\s+mI', '', nombre_limpio, flags=re.IGNORECASE)# Elimina %, /, mg y ml\n",
    "\n",
    "    return nombre_limpio.strip().lower()"
   ]
  },
  {
   "cell_type": "code",
   "execution_count": 105,
   "metadata": {},
   "outputs": [],
   "source": [
    "medicamentos_limpio = [clean_medicamento(med) for med in nombre_medicamentos]"
   ]
  },
  {
   "cell_type": "code",
   "execution_count": 106,
   "metadata": {},
   "outputs": [
    {
     "data": {
      "text/plain": [
       "94"
      ]
     },
     "execution_count": 106,
     "metadata": {},
     "output_type": "execute_result"
    }
   ],
   "source": [
    "len(medicamentos_limpio)"
   ]
  },
  {
   "cell_type": "code",
   "execution_count": 107,
   "metadata": {},
   "outputs": [
    {
     "data": {
      "text/plain": [
       "['sevoflurano',\n",
       " 'isoflurano',\n",
       " 'desflurano',\n",
       " 'ketamina',\n",
       " 'propofol',\n",
       " 'propofol',\n",
       " 'bupivacaina clorhidrato sin epinefrina sin preservantes',\n",
       " 'bupivacaina pesada hiperbarica',\n",
       " 'lidocaina clorhidrato con epinefrina sin preservante  y   y',\n",
       " 'lidocaina clorhidrato sin epinefrina con preservante simple',\n",
       " 'lidocaina dental sin epinefrina',\n",
       " 'lidocaina dental con epinefrina  y',\n",
       " 'lidocaina clorhidrato sin epinefrina sin preservante simple',\n",
       " 'carbamazepina',\n",
       " 'carbamazepina',\n",
       " 'fenitoina sodica difenilhidantoina sodica',\n",
       " 'fenitoina sodica difenilhidantoina sodica',\n",
       " 'acido valproico',\n",
       " 'acido valproico valproato sodico mi',\n",
       " 'acido valproico valproato sodico',\n",
       " 'fenobarbital',\n",
       " 'fenobarbital',\n",
       " 'gabapentina',\n",
       " 'lamotrigina',\n",
       " 'carbonato de litio',\n",
       " 'sertralina hidrocloruro',\n",
       " 'naloxona',\n",
       " 'flumazenil',\n",
       " 'deferasirox',\n",
       " 'biperideno clorhidrato',\n",
       " 'agua esteril para inyeccion agua tridestilada',\n",
       " 'agua esteril para inyeccion agua tridestilada',\n",
       " 'cloruro de sodio',\n",
       " 'cloruro de sodio',\n",
       " 'cloruro de sodio',\n",
       " 'aminoacidos sin electrolitos pediatricos',\n",
       " 'aminoacidos para paciente hepatico',\n",
       " 'aminoacidos con electrolitos',\n",
       " 'aminoacidos sin electrolitos sin acido glutamico para paciente pediatrico neonato',\n",
       " 'magnesio sulfato',\n",
       " 'calcio gluconato',\n",
       " 'dextrosa',\n",
       " 'dextrosa',\n",
       " 'dextrosa',\n",
       " 'dextrosa',\n",
       " 'dextrosa',\n",
       " 'dextrosa',\n",
       " 'dextrosa',\n",
       " 'dextrosa',\n",
       " 'lipidos',\n",
       " 'lipidos mctictomega aceite de oliva para paciente adulto nino y prematuro de bajo peso al nacer',\n",
       " 'oligoelementos',\n",
       " 'cloruro de potasio -',\n",
       " 'bicarbonato de sodio',\n",
       " 'cloruro de sodio',\n",
       " 'cloruro de sodio',\n",
       " 'cloruro de sodio',\n",
       " 'solucion no dextrosa cloruro de sodio',\n",
       " 'solucion no dextrosa cloruro de sodio',\n",
       " 'solucion no dextrosa cloruro de sodio',\n",
       " 'solucion no dextrosa cloruro de sodio',\n",
       " 'poligelina con electrolitos gelatina calcio cloro potasio y sodio',\n",
       " 'emulsion inyectable para infusion o perfusion bolsa con compartimientos glucosa lipidos aminoacidos de a',\n",
       " 'emulsion inyectable para infusion o perfusion bolsa con compartimientos glucosa lipidos aminoacidos de a',\n",
       " 'cloruro de sodio',\n",
       " 'cloruro de sodio dextrosa solucionxta',\n",
       " 'cloruro de sodio dextrosa solucionxta',\n",
       " 'gelatina succinilada  con electrolitos',\n",
       " 'hidroxietil almidon',\n",
       " 'magnesio sulfato',\n",
       " 'sales de rehidratacion oral cloruro de sodio citrato trisodico cloruro de potasio glucosa anhidra',\n",
       " 'eritropoyetina humana recombinante ui cadena de frio',\n",
       " 'eritropoyetina humana recombinante ui  sin cadena de frio',\n",
       " 'bromhexina',\n",
       " 'carboximetilcisteina',\n",
       " 'guayacolato de glicerilo',\n",
       " 'ambroxol',\n",
       " 'ergonovina maleato',\n",
       " 'oxitocina sintetica ui',\n",
       " 'carbetocina mcgmi',\n",
       " 'clorpromazina',\n",
       " 'haloperidol',\n",
       " 'haloperidol',\n",
       " 'clozapina',\n",
       " 'risperidona',\n",
       " 'olanzapina',\n",
       " 'quetiapina',\n",
       " 'alprazolam',\n",
       " 'clonazepam',\n",
       " 'diazepam',\n",
       " 'lorazepam mi',\n",
       " 'surfactante pulmonar natural',\n",
       " 'surfactante pulmonar natural',\n",
       " 'ritodrina']"
      ]
     },
     "execution_count": 107,
     "metadata": {},
     "output_type": "execute_result"
    }
   ],
   "source": [
    "medicamentos_limpio"
   ]
  },
  {
   "cell_type": "code",
   "execution_count": 108,
   "metadata": {},
   "outputs": [],
   "source": [
    "nlp = spacy.load(\"es_core_news_lg\")"
   ]
  },
  {
   "cell_type": "code",
   "execution_count": null,
   "metadata": {},
   "outputs": [],
   "source": [
    "#medicamento_patterns =  [{\"label\": \"MEDICAMENTO\", \"pattern\": [{\"lower\": {\"in\": medicamentos_limpio}}]}]\n",
    "#medicamento_patterns = [{\"label\": \"MEDICAMENTO\", \"pattern\": [{\"lower\": {\"in\": [med.lower() for med in medicamentos_limpio]}}]}]\n",
    "medicamento_patterns = [{'label': 'MEDICAMENTO', 'pattern': [{'lower': medicamento.lower()}]} for medicamento in medicamentos_limpio]"
   ]
  },
  {
   "cell_type": "code",
   "execution_count": 109,
   "metadata": {},
   "outputs": [],
   "source": [
    "medicamento_patterns = []\n",
    "for medicamento in medicamentos_limpio:\n",
    "    medicamento_patterns.append({\"label\": \"MEDICAMENTO\", \"pattern\": [{\"lower\": medicamento.lower()}]})\n",
    "    \n",
    "ruler = nlp.add_pipe(\"entity_ruler\")\n",
    "ruler.add_patterns(medicamento_patterns)"
   ]
  },
  {
   "cell_type": "code",
   "execution_count": 110,
   "metadata": {},
   "outputs": [
    {
     "data": {
      "text/plain": [
       "94"
      ]
     },
     "execution_count": 110,
     "metadata": {},
     "output_type": "execute_result"
    }
   ],
   "source": [
    "len(medicamentos_patterns)"
   ]
  },
  {
   "cell_type": "code",
   "execution_count": 111,
   "metadata": {},
   "outputs": [
    {
     "data": {
      "text/plain": [
       "[{'label': 'MEDICAMENTO', 'pattern': [{'lower': 'sevoflurano'}]},\n",
       " {'label': 'MEDICAMENTO', 'pattern': [{'lower': 'isoflurano'}]},\n",
       " {'label': 'MEDICAMENTO', 'pattern': [{'lower': 'desflurano'}]},\n",
       " {'label': 'MEDICAMENTO', 'pattern': [{'lower': 'ketamina'}]},\n",
       " {'label': 'MEDICAMENTO', 'pattern': [{'lower': 'propofol'}]},\n",
       " {'label': 'MEDICAMENTO', 'pattern': [{'lower': 'propofol'}]},\n",
       " {'label': 'MEDICAMENTO',\n",
       "  'pattern': [{'lower': 'bupivacaina clorhidrato sin epinefrina sin preservantes'}]},\n",
       " {'label': 'MEDICAMENTO',\n",
       "  'pattern': [{'lower': 'bupivacaina pesada hiperbarica'}]},\n",
       " {'label': 'MEDICAMENTO',\n",
       "  'pattern': [{'lower': 'lidocaina clorhidrato con epinefrina sin preservante  y   y'}]},\n",
       " {'label': 'MEDICAMENTO',\n",
       "  'pattern': [{'lower': 'lidocaina clorhidrato sin epinefrina con preservante simple'}]},\n",
       " {'label': 'MEDICAMENTO',\n",
       "  'pattern': [{'lower': 'lidocaina dental sin epinefrina'}]},\n",
       " {'label': 'MEDICAMENTO',\n",
       "  'pattern': [{'lower': 'lidocaina dental con epinefrina  y'}]},\n",
       " {'label': 'MEDICAMENTO',\n",
       "  'pattern': [{'lower': 'lidocaina clorhidrato sin epinefrina sin preservante simple'}]},\n",
       " {'label': 'MEDICAMENTO', 'pattern': [{'lower': 'carbamazepina'}]},\n",
       " {'label': 'MEDICAMENTO', 'pattern': [{'lower': 'carbamazepina'}]},\n",
       " {'label': 'MEDICAMENTO',\n",
       "  'pattern': [{'lower': 'fenitoina sodica difenilhidantoina sodica'}]},\n",
       " {'label': 'MEDICAMENTO',\n",
       "  'pattern': [{'lower': 'fenitoina sodica difenilhidantoina sodica'}]},\n",
       " {'label': 'MEDICAMENTO', 'pattern': [{'lower': 'acido valproico'}]},\n",
       " {'label': 'MEDICAMENTO',\n",
       "  'pattern': [{'lower': 'acido valproico valproato sodico mi'}]},\n",
       " {'label': 'MEDICAMENTO',\n",
       "  'pattern': [{'lower': 'acido valproico valproato sodico'}]},\n",
       " {'label': 'MEDICAMENTO', 'pattern': [{'lower': 'fenobarbital'}]},\n",
       " {'label': 'MEDICAMENTO', 'pattern': [{'lower': 'fenobarbital'}]},\n",
       " {'label': 'MEDICAMENTO', 'pattern': [{'lower': 'gabapentina'}]},\n",
       " {'label': 'MEDICAMENTO', 'pattern': [{'lower': 'lamotrigina'}]},\n",
       " {'label': 'MEDICAMENTO', 'pattern': [{'lower': 'carbonato de litio'}]},\n",
       " {'label': 'MEDICAMENTO', 'pattern': [{'lower': 'sertralina hidrocloruro'}]},\n",
       " {'label': 'MEDICAMENTO', 'pattern': [{'lower': 'naloxona'}]},\n",
       " {'label': 'MEDICAMENTO', 'pattern': [{'lower': 'flumazenil'}]},\n",
       " {'label': 'MEDICAMENTO', 'pattern': [{'lower': 'deferasirox'}]},\n",
       " {'label': 'MEDICAMENTO', 'pattern': [{'lower': 'biperideno clorhidrato'}]},\n",
       " {'label': 'MEDICAMENTO',\n",
       "  'pattern': [{'lower': 'agua esteril para inyeccion agua tridestilada'}]},\n",
       " {'label': 'MEDICAMENTO',\n",
       "  'pattern': [{'lower': 'agua esteril para inyeccion agua tridestilada'}]},\n",
       " {'label': 'MEDICAMENTO', 'pattern': [{'lower': 'cloruro de sodio'}]},\n",
       " {'label': 'MEDICAMENTO', 'pattern': [{'lower': 'cloruro de sodio'}]},\n",
       " {'label': 'MEDICAMENTO', 'pattern': [{'lower': 'cloruro de sodio'}]},\n",
       " {'label': 'MEDICAMENTO',\n",
       "  'pattern': [{'lower': 'aminoacidos sin electrolitos pediatricos'}]},\n",
       " {'label': 'MEDICAMENTO',\n",
       "  'pattern': [{'lower': 'aminoacidos para paciente hepatico'}]},\n",
       " {'label': 'MEDICAMENTO',\n",
       "  'pattern': [{'lower': 'aminoacidos con electrolitos'}]},\n",
       " {'label': 'MEDICAMENTO',\n",
       "  'pattern': [{'lower': 'aminoacidos sin electrolitos sin acido glutamico para paciente pediatrico neonato'}]},\n",
       " {'label': 'MEDICAMENTO', 'pattern': [{'lower': 'magnesio sulfato'}]},\n",
       " {'label': 'MEDICAMENTO', 'pattern': [{'lower': 'calcio gluconato'}]},\n",
       " {'label': 'MEDICAMENTO', 'pattern': [{'lower': 'dextrosa'}]},\n",
       " {'label': 'MEDICAMENTO', 'pattern': [{'lower': 'dextrosa'}]},\n",
       " {'label': 'MEDICAMENTO', 'pattern': [{'lower': 'dextrosa'}]},\n",
       " {'label': 'MEDICAMENTO', 'pattern': [{'lower': 'dextrosa'}]},\n",
       " {'label': 'MEDICAMENTO', 'pattern': [{'lower': 'dextrosa'}]},\n",
       " {'label': 'MEDICAMENTO', 'pattern': [{'lower': 'dextrosa'}]},\n",
       " {'label': 'MEDICAMENTO', 'pattern': [{'lower': 'dextrosa'}]},\n",
       " {'label': 'MEDICAMENTO', 'pattern': [{'lower': 'dextrosa'}]},\n",
       " {'label': 'MEDICAMENTO', 'pattern': [{'lower': 'lipidos'}]},\n",
       " {'label': 'MEDICAMENTO',\n",
       "  'pattern': [{'lower': 'lipidos mctictomega aceite de oliva para paciente adulto nino y prematuro de bajo peso al nacer'}]},\n",
       " {'label': 'MEDICAMENTO', 'pattern': [{'lower': 'oligoelementos'}]},\n",
       " {'label': 'MEDICAMENTO', 'pattern': [{'lower': 'cloruro de potasio -'}]},\n",
       " {'label': 'MEDICAMENTO', 'pattern': [{'lower': 'bicarbonato de sodio'}]},\n",
       " {'label': 'MEDICAMENTO', 'pattern': [{'lower': 'cloruro de sodio'}]},\n",
       " {'label': 'MEDICAMENTO', 'pattern': [{'lower': 'cloruro de sodio'}]},\n",
       " {'label': 'MEDICAMENTO', 'pattern': [{'lower': 'cloruro de sodio'}]},\n",
       " {'label': 'MEDICAMENTO',\n",
       "  'pattern': [{'lower': 'solucion no dextrosa cloruro de sodio'}]},\n",
       " {'label': 'MEDICAMENTO',\n",
       "  'pattern': [{'lower': 'solucion no dextrosa cloruro de sodio'}]},\n",
       " {'label': 'MEDICAMENTO',\n",
       "  'pattern': [{'lower': 'solucion no dextrosa cloruro de sodio'}]},\n",
       " {'label': 'MEDICAMENTO',\n",
       "  'pattern': [{'lower': 'solucion no dextrosa cloruro de sodio'}]},\n",
       " {'label': 'MEDICAMENTO',\n",
       "  'pattern': [{'lower': 'poligelina con electrolitos gelatina calcio cloro potasio y sodio'}]},\n",
       " {'label': 'MEDICAMENTO',\n",
       "  'pattern': [{'lower': 'emulsion inyectable para infusion o perfusion bolsa con compartimientos glucosa lipidos aminoacidos de a'}]},\n",
       " {'label': 'MEDICAMENTO',\n",
       "  'pattern': [{'lower': 'emulsion inyectable para infusion o perfusion bolsa con compartimientos glucosa lipidos aminoacidos de a'}]},\n",
       " {'label': 'MEDICAMENTO', 'pattern': [{'lower': 'cloruro de sodio'}]},\n",
       " {'label': 'MEDICAMENTO',\n",
       "  'pattern': [{'lower': 'cloruro de sodio dextrosa solucionxta'}]},\n",
       " {'label': 'MEDICAMENTO',\n",
       "  'pattern': [{'lower': 'cloruro de sodio dextrosa solucionxta'}]},\n",
       " {'label': 'MEDICAMENTO',\n",
       "  'pattern': [{'lower': 'gelatina succinilada  con electrolitos'}]},\n",
       " {'label': 'MEDICAMENTO', 'pattern': [{'lower': 'hidroxietil almidon'}]},\n",
       " {'label': 'MEDICAMENTO', 'pattern': [{'lower': 'magnesio sulfato'}]},\n",
       " {'label': 'MEDICAMENTO',\n",
       "  'pattern': [{'lower': 'sales de rehidratacion oral cloruro de sodio citrato trisodico cloruro de potasio glucosa anhidra'}]},\n",
       " {'label': 'MEDICAMENTO',\n",
       "  'pattern': [{'lower': 'eritropoyetina humana recombinante ui cadena de frio'}]},\n",
       " {'label': 'MEDICAMENTO',\n",
       "  'pattern': [{'lower': 'eritropoyetina humana recombinante ui  sin cadena de frio'}]},\n",
       " {'label': 'MEDICAMENTO', 'pattern': [{'lower': 'bromhexina'}]},\n",
       " {'label': 'MEDICAMENTO', 'pattern': [{'lower': 'carboximetilcisteina'}]},\n",
       " {'label': 'MEDICAMENTO', 'pattern': [{'lower': 'guayacolato de glicerilo'}]},\n",
       " {'label': 'MEDICAMENTO', 'pattern': [{'lower': 'ambroxol'}]},\n",
       " {'label': 'MEDICAMENTO', 'pattern': [{'lower': 'ergonovina maleato'}]},\n",
       " {'label': 'MEDICAMENTO', 'pattern': [{'lower': 'oxitocina sintetica ui'}]},\n",
       " {'label': 'MEDICAMENTO', 'pattern': [{'lower': 'carbetocina mcgmi'}]},\n",
       " {'label': 'MEDICAMENTO', 'pattern': [{'lower': 'clorpromazina'}]},\n",
       " {'label': 'MEDICAMENTO', 'pattern': [{'lower': 'haloperidol'}]},\n",
       " {'label': 'MEDICAMENTO', 'pattern': [{'lower': 'haloperidol'}]},\n",
       " {'label': 'MEDICAMENTO', 'pattern': [{'lower': 'clozapina'}]},\n",
       " {'label': 'MEDICAMENTO', 'pattern': [{'lower': 'risperidona'}]},\n",
       " {'label': 'MEDICAMENTO', 'pattern': [{'lower': 'olanzapina'}]},\n",
       " {'label': 'MEDICAMENTO', 'pattern': [{'lower': 'quetiapina'}]},\n",
       " {'label': 'MEDICAMENTO', 'pattern': [{'lower': 'alprazolam'}]},\n",
       " {'label': 'MEDICAMENTO', 'pattern': [{'lower': 'clonazepam'}]},\n",
       " {'label': 'MEDICAMENTO', 'pattern': [{'lower': 'diazepam'}]},\n",
       " {'label': 'MEDICAMENTO', 'pattern': [{'lower': 'lorazepam mi'}]},\n",
       " {'label': 'MEDICAMENTO',\n",
       "  'pattern': [{'lower': 'surfactante pulmonar natural'}]},\n",
       " {'label': 'MEDICAMENTO',\n",
       "  'pattern': [{'lower': 'surfactante pulmonar natural'}]},\n",
       " {'label': 'MEDICAMENTO', 'pattern': [{'lower': 'ritodrina'}]}]"
      ]
     },
     "execution_count": 111,
     "metadata": {},
     "output_type": "execute_result"
    }
   ],
   "source": [
    "medicamentos_patterns"
   ]
  },
  {
   "cell_type": "code",
   "execution_count": null,
   "metadata": {},
   "outputs": [],
   "source": [
    "#ruler = nlp.add_pipe(\"entity_ruler\")"
   ]
  },
  {
   "cell_type": "code",
   "execution_count": 113,
   "metadata": {},
   "outputs": [],
   "source": [
    "#ruler = nlp.get_pipe(\"entity_ruler\")\n",
    "#ruler = nlp.add_pipe(\"entity_ruler\")\n",
    "#ruler.add_patterns(medicamento_patterns)"
   ]
  },
  {
   "cell_type": "code",
   "execution_count": 114,
   "metadata": {},
   "outputs": [],
   "source": [
    "texto = \" \".join(medicamentos_limpio)"
   ]
  },
  {
   "cell_type": "code",
   "execution_count": 115,
   "metadata": {},
   "outputs": [
    {
     "data": {
      "text/plain": [
       "'sevoflurano isoflurano desflurano ketamina propofol propofol bupivacaina clorhidrato sin epinefrina sin preservantes bupivacaina pesada hiperbarica lidocaina clorhidrato con epinefrina sin preservante  y   y lidocaina clorhidrato sin epinefrina con preservante simple lidocaina dental sin epinefrina lidocaina dental con epinefrina  y lidocaina clorhidrato sin epinefrina sin preservante simple carbamazepina carbamazepina fenitoina sodica difenilhidantoina sodica fenitoina sodica difenilhidantoina sodica acido valproico acido valproico valproato sodico mi acido valproico valproato sodico fenobarbital fenobarbital gabapentina lamotrigina carbonato de litio sertralina hidrocloruro naloxona flumazenil deferasirox biperideno clorhidrato agua esteril para inyeccion agua tridestilada agua esteril para inyeccion agua tridestilada cloruro de sodio cloruro de sodio cloruro de sodio aminoacidos sin electrolitos pediatricos aminoacidos para paciente hepatico aminoacidos con electrolitos aminoacidos sin electrolitos sin acido glutamico para paciente pediatrico neonato magnesio sulfato calcio gluconato dextrosa dextrosa dextrosa dextrosa dextrosa dextrosa dextrosa dextrosa lipidos lipidos mctictomega aceite de oliva para paciente adulto nino y prematuro de bajo peso al nacer oligoelementos cloruro de potasio - bicarbonato de sodio cloruro de sodio cloruro de sodio cloruro de sodio solucion no dextrosa cloruro de sodio solucion no dextrosa cloruro de sodio solucion no dextrosa cloruro de sodio solucion no dextrosa cloruro de sodio poligelina con electrolitos gelatina calcio cloro potasio y sodio emulsion inyectable para infusion o perfusion bolsa con compartimientos glucosa lipidos aminoacidos de a emulsion inyectable para infusion o perfusion bolsa con compartimientos glucosa lipidos aminoacidos de a cloruro de sodio cloruro de sodio dextrosa solucionxta cloruro de sodio dextrosa solucionxta gelatina succinilada  con electrolitos hidroxietil almidon magnesio sulfato sales de rehidratacion oral cloruro de sodio citrato trisodico cloruro de potasio glucosa anhidra eritropoyetina humana recombinante ui cadena de frio eritropoyetina humana recombinante ui  sin cadena de frio bromhexina carboximetilcisteina guayacolato de glicerilo ambroxol ergonovina maleato oxitocina sintetica ui carbetocina mcgmi clorpromazina haloperidol haloperidol clozapina risperidona olanzapina quetiapina alprazolam clonazepam diazepam lorazepam mi surfactante pulmonar natural surfactante pulmonar natural ritodrina'"
      ]
     },
     "execution_count": 115,
     "metadata": {},
     "output_type": "execute_result"
    }
   ],
   "source": [
    "texto"
   ]
  },
  {
   "cell_type": "code",
   "execution_count": null,
   "metadata": {},
   "outputs": [],
   "source": [
    "#texto = \"acido valproico\"\n",
    "#tokens = texto.split()"
   ]
  },
  {
   "cell_type": "code",
   "execution_count": 116,
   "metadata": {},
   "outputs": [],
   "source": [
    "for medicamento in medicamentos_limpio:\n",
    "    doc = nlp(medicamento)"
   ]
  },
  {
   "cell_type": "code",
   "execution_count": 117,
   "metadata": {},
   "outputs": [
    {
     "data": {
      "text/plain": [
       "ritodrina"
      ]
     },
     "execution_count": 117,
     "metadata": {},
     "output_type": "execute_result"
    }
   ],
   "source": [
    "doc"
   ]
  },
  {
   "cell_type": "code",
   "execution_count": 118,
   "metadata": {},
   "outputs": [
    {
     "name": "stdout",
     "output_type": "stream",
     "text": [
      "ritodrina ---> MEDICAMENTO\n"
     ]
    }
   ],
   "source": [
    "for ent in doc.ents:\n",
    "    print(ent.text, \"--->\", ent.label_)"
   ]
  },
  {
   "cell_type": "code",
   "execution_count": null,
   "metadata": {},
   "outputs": [],
   "source": [
    "print(texto)"
   ]
  },
  {
   "cell_type": "code",
   "execution_count": null,
   "metadata": {},
   "outputs": [],
   "source": [
    "#doc = nlp(texto)\n",
    "doc = nlp(\" \".join(tokens))"
   ]
  },
  {
   "cell_type": "code",
   "execution_count": null,
   "metadata": {},
   "outputs": [],
   "source": [
    "#acido valproico"
   ]
  },
  {
   "cell_type": "code",
   "execution_count": null,
   "metadata": {},
   "outputs": [],
   "source": [
    "doc"
   ]
  },
  {
   "cell_type": "code",
   "execution_count": null,
   "metadata": {},
   "outputs": [],
   "source": [
    "len(doc)"
   ]
  },
  {
   "cell_type": "code",
   "execution_count": null,
   "metadata": {},
   "outputs": [],
   "source": [
    "print(type(medicamento_patterns))\n",
    "print(len(medicamento_patterns))\n",
    "print(\"***********\")\n",
    "print(type(medicamentos_limpio))\n",
    "print(len(medicamentos_limpio))"
   ]
  },
  {
   "cell_type": "code",
   "execution_count": null,
   "metadata": {},
   "outputs": [],
   "source": [
    "cantidad_palabras = 0\n",
    "for token in doc:\n",
    "    if not token.is_space:  # Ignora los espacios en blanco\n",
    "        cantidad_palabras += 1\n",
    "print(\"La cantidad de palabras en el texto es:\", cantidad_palabras)\n"
   ]
  },
  {
   "cell_type": "code",
   "execution_count": null,
   "metadata": {},
   "outputs": [],
   "source": [
    "for token in doc:\n",
    "    if not token.is_space:  # Ignora los espacios en blanco\n",
    "        print(token.text)"
   ]
  },
  {
   "cell_type": "code",
   "execution_count": null,
   "metadata": {},
   "outputs": [],
   "source": [
    "for ent in doc.ents:\n",
    "    print(ent.text ,\"--->\", ent.label_)"
   ]
  },
  {
   "cell_type": "code",
   "execution_count": null,
   "metadata": {},
   "outputs": [],
   "source": [
    "palabra_objetivo = \"acido valproico\"\n",
    "# Recorre las entidades en el documento\n",
    "for ent in doc.ents:\n",
    "    if palabra_objetivo in ent.text:\n",
    "        print(f\"La entidad de '{palabra_objetivo}' es: {ent.label_}\")\n",
    "        break  # Termina el bucle si se encuentra la entidad deseada\n",
    "\n",
    "# Si no se encuentra la palabra en ninguna entidad\n",
    "else:\n",
    "    print(f\"'{palabra_objetivo}' no se encuentra en ninguna entidad nombrada.\")"
   ]
  }
 ],
 "metadata": {
  "kernelspec": {
   "display_name": "Python 3",
   "language": "python",
   "name": "python3"
  },
  "language_info": {
   "codemirror_mode": {
    "name": "ipython",
    "version": 3
   },
   "file_extension": ".py",
   "mimetype": "text/x-python",
   "name": "python",
   "nbconvert_exporter": "python",
   "pygments_lexer": "ipython3",
   "version": "3.11.3"
  },
  "orig_nbformat": 4
 },
 "nbformat": 4,
 "nbformat_minor": 2
}
